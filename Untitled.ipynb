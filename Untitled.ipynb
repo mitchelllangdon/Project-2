{
 "cells": [
  {
   "cell_type": "markdown",
   "id": "6061a594",
   "metadata": {},
   "source": [
    "### LTSM Stock Predictor File"
   ]
  },
  {
   "cell_type": "code",
   "execution_count": 125,
   "id": "271a5d3d",
   "metadata": {},
   "outputs": [
    {
     "data": {
      "application/javascript": [
       "\n",
       "            setTimeout(function() {\n",
       "                var nbb_cell_id = 125;\n",
       "                var nbb_unformatted_code = \"import numpy as np\\nimport pandas as pd\\nimport hvplot.pandas\\nfrom sklearn.preprocessing import MinMaxScaler\\nimport matplotlib.pyplot as plt\\nimport yfinance as yf\\nfrom tensorflow.keras.models import Sequential\\nfrom tensorflow.keras.layers import LSTM, Dense, Dropout\\n\\n# Magic commands\\n%reload_ext nb_black\\n%matplotlib inline\\nplt.style.use(\\\"seaborn\\\")\";\n",
       "                var nbb_formatted_code = \"import numpy as np\\nimport pandas as pd\\nimport hvplot.pandas\\nfrom sklearn.preprocessing import MinMaxScaler\\nimport matplotlib.pyplot as plt\\nimport yfinance as yf\\nfrom tensorflow.keras.models import Sequential\\nfrom tensorflow.keras.layers import LSTM, Dense, Dropout\\n\\n# Magic commands\\n%reload_ext nb_black\\n%matplotlib inline\\nplt.style.use(\\\"seaborn\\\")\";\n",
       "                var nbb_cells = Jupyter.notebook.get_cells();\n",
       "                for (var i = 0; i < nbb_cells.length; ++i) {\n",
       "                    if (nbb_cells[i].input_prompt_number == nbb_cell_id) {\n",
       "                        if (nbb_cells[i].get_text() == nbb_unformatted_code) {\n",
       "                             nbb_cells[i].set_text(nbb_formatted_code);\n",
       "                        }\n",
       "                        break;\n",
       "                    }\n",
       "                }\n",
       "            }, 500);\n",
       "            "
      ],
      "text/plain": [
       "<IPython.core.display.Javascript object>"
      ]
     },
     "metadata": {},
     "output_type": "display_data"
    },
    {
     "data": {
      "application/javascript": [
       "\n",
       "            setTimeout(function() {\n",
       "                var nbb_cell_id = 125;\n",
       "                var nbb_unformatted_code = \"import numpy as np\\nimport pandas as pd\\nimport hvplot.pandas\\nfrom sklearn.preprocessing import MinMaxScaler\\nimport matplotlib.pyplot as plt\\nimport yfinance as yf\\nfrom tensorflow.keras.models import Sequential\\nfrom tensorflow.keras.layers import LSTM, Dense, Dropout\\n\\n# Magic commands\\n%reload_ext nb_black\\n%matplotlib inline\\nplt.style.use(\\\"seaborn\\\")\";\n",
       "                var nbb_formatted_code = \"import numpy as np\\nimport pandas as pd\\nimport hvplot.pandas\\nfrom sklearn.preprocessing import MinMaxScaler\\nimport matplotlib.pyplot as plt\\nimport yfinance as yf\\nfrom tensorflow.keras.models import Sequential\\nfrom tensorflow.keras.layers import LSTM, Dense, Dropout\\n\\n# Magic commands\\n%reload_ext nb_black\\n%matplotlib inline\\nplt.style.use(\\\"seaborn\\\")\";\n",
       "                var nbb_cells = Jupyter.notebook.get_cells();\n",
       "                for (var i = 0; i < nbb_cells.length; ++i) {\n",
       "                    if (nbb_cells[i].input_prompt_number == nbb_cell_id) {\n",
       "                        if (nbb_cells[i].get_text() == nbb_unformatted_code) {\n",
       "                             nbb_cells[i].set_text(nbb_formatted_code);\n",
       "                        }\n",
       "                        break;\n",
       "                    }\n",
       "                }\n",
       "            }, 500);\n",
       "            "
      ],
      "text/plain": [
       "<IPython.core.display.Javascript object>"
      ]
     },
     "metadata": {},
     "output_type": "display_data"
    },
    {
     "data": {
      "application/javascript": [
       "\n",
       "            setTimeout(function() {\n",
       "                var nbb_cell_id = 125;\n",
       "                var nbb_unformatted_code = \"import numpy as np\\nimport pandas as pd\\nimport hvplot.pandas\\nfrom sklearn.preprocessing import MinMaxScaler\\nimport matplotlib.pyplot as plt\\nimport yfinance as yf\\nfrom tensorflow.keras.models import Sequential\\nfrom tensorflow.keras.layers import LSTM, Dense, Dropout\\n\\n# Magic commands\\n%reload_ext nb_black\\n%matplotlib inline\\nplt.style.use(\\\"seaborn\\\")\";\n",
       "                var nbb_formatted_code = \"import numpy as np\\nimport pandas as pd\\nimport hvplot.pandas\\nfrom sklearn.preprocessing import MinMaxScaler\\nimport matplotlib.pyplot as plt\\nimport yfinance as yf\\nfrom tensorflow.keras.models import Sequential\\nfrom tensorflow.keras.layers import LSTM, Dense, Dropout\\n\\n# Magic commands\\n%reload_ext nb_black\\n%matplotlib inline\\nplt.style.use(\\\"seaborn\\\")\";\n",
       "                var nbb_cells = Jupyter.notebook.get_cells();\n",
       "                for (var i = 0; i < nbb_cells.length; ++i) {\n",
       "                    if (nbb_cells[i].input_prompt_number == nbb_cell_id) {\n",
       "                        if (nbb_cells[i].get_text() == nbb_unformatted_code) {\n",
       "                             nbb_cells[i].set_text(nbb_formatted_code);\n",
       "                        }\n",
       "                        break;\n",
       "                    }\n",
       "                }\n",
       "            }, 500);\n",
       "            "
      ],
      "text/plain": [
       "<IPython.core.display.Javascript object>"
      ]
     },
     "metadata": {},
     "output_type": "display_data"
    },
    {
     "data": {
      "application/javascript": [
       "\n",
       "            setTimeout(function() {\n",
       "                var nbb_cell_id = 125;\n",
       "                var nbb_unformatted_code = \"import numpy as np\\nimport pandas as pd\\nimport hvplot.pandas\\nfrom sklearn.preprocessing import MinMaxScaler\\nimport matplotlib.pyplot as plt\\nimport yfinance as yf\\nfrom tensorflow.keras.models import Sequential\\nfrom tensorflow.keras.layers import LSTM, Dense, Dropout\\n\\n# Magic commands\\n%reload_ext nb_black\\n%matplotlib inline\\nplt.style.use(\\\"seaborn\\\")\";\n",
       "                var nbb_formatted_code = \"import numpy as np\\nimport pandas as pd\\nimport hvplot.pandas\\nfrom sklearn.preprocessing import MinMaxScaler\\nimport matplotlib.pyplot as plt\\nimport yfinance as yf\\nfrom tensorflow.keras.models import Sequential\\nfrom tensorflow.keras.layers import LSTM, Dense, Dropout\\n\\n# Magic commands\\n%reload_ext nb_black\\n%matplotlib inline\\nplt.style.use(\\\"seaborn\\\")\";\n",
       "                var nbb_cells = Jupyter.notebook.get_cells();\n",
       "                for (var i = 0; i < nbb_cells.length; ++i) {\n",
       "                    if (nbb_cells[i].input_prompt_number == nbb_cell_id) {\n",
       "                        if (nbb_cells[i].get_text() == nbb_unformatted_code) {\n",
       "                             nbb_cells[i].set_text(nbb_formatted_code);\n",
       "                        }\n",
       "                        break;\n",
       "                    }\n",
       "                }\n",
       "            }, 500);\n",
       "            "
      ],
      "text/plain": [
       "<IPython.core.display.Javascript object>"
      ]
     },
     "metadata": {},
     "output_type": "display_data"
    },
    {
     "data": {
      "application/javascript": [
       "\n",
       "            setTimeout(function() {\n",
       "                var nbb_cell_id = 125;\n",
       "                var nbb_unformatted_code = \"import numpy as np\\nimport pandas as pd\\nimport hvplot.pandas\\nfrom sklearn.preprocessing import MinMaxScaler\\nimport matplotlib.pyplot as plt\\nimport yfinance as yf\\nfrom tensorflow.keras.models import Sequential\\nfrom tensorflow.keras.layers import LSTM, Dense, Dropout\\n\\n# Magic commands\\n%reload_ext nb_black\\n%matplotlib inline\\nplt.style.use(\\\"seaborn\\\")\";\n",
       "                var nbb_formatted_code = \"import numpy as np\\nimport pandas as pd\\nimport hvplot.pandas\\nfrom sklearn.preprocessing import MinMaxScaler\\nimport matplotlib.pyplot as plt\\nimport yfinance as yf\\nfrom tensorflow.keras.models import Sequential\\nfrom tensorflow.keras.layers import LSTM, Dense, Dropout\\n\\n# Magic commands\\n%reload_ext nb_black\\n%matplotlib inline\\nplt.style.use(\\\"seaborn\\\")\";\n",
       "                var nbb_cells = Jupyter.notebook.get_cells();\n",
       "                for (var i = 0; i < nbb_cells.length; ++i) {\n",
       "                    if (nbb_cells[i].input_prompt_number == nbb_cell_id) {\n",
       "                        if (nbb_cells[i].get_text() == nbb_unformatted_code) {\n",
       "                             nbb_cells[i].set_text(nbb_formatted_code);\n",
       "                        }\n",
       "                        break;\n",
       "                    }\n",
       "                }\n",
       "            }, 500);\n",
       "            "
      ],
      "text/plain": [
       "<IPython.core.display.Javascript object>"
      ]
     },
     "metadata": {},
     "output_type": "display_data"
    },
    {
     "data": {
      "application/javascript": [
       "\n",
       "            setTimeout(function() {\n",
       "                var nbb_cell_id = 125;\n",
       "                var nbb_unformatted_code = \"import numpy as np\\nimport pandas as pd\\nimport hvplot.pandas\\nfrom sklearn.preprocessing import MinMaxScaler\\nimport matplotlib.pyplot as plt\\nimport yfinance as yf\\nfrom tensorflow.keras.models import Sequential\\nfrom tensorflow.keras.layers import LSTM, Dense, Dropout\\n\\n# Magic commands\\n%reload_ext nb_black\\n%matplotlib inline\\nplt.style.use(\\\"seaborn\\\")\";\n",
       "                var nbb_formatted_code = \"import numpy as np\\nimport pandas as pd\\nimport hvplot.pandas\\nfrom sklearn.preprocessing import MinMaxScaler\\nimport matplotlib.pyplot as plt\\nimport yfinance as yf\\nfrom tensorflow.keras.models import Sequential\\nfrom tensorflow.keras.layers import LSTM, Dense, Dropout\\n\\n# Magic commands\\n%reload_ext nb_black\\n%matplotlib inline\\nplt.style.use(\\\"seaborn\\\")\";\n",
       "                var nbb_cells = Jupyter.notebook.get_cells();\n",
       "                for (var i = 0; i < nbb_cells.length; ++i) {\n",
       "                    if (nbb_cells[i].input_prompt_number == nbb_cell_id) {\n",
       "                        if (nbb_cells[i].get_text() == nbb_unformatted_code) {\n",
       "                             nbb_cells[i].set_text(nbb_formatted_code);\n",
       "                        }\n",
       "                        break;\n",
       "                    }\n",
       "                }\n",
       "            }, 500);\n",
       "            "
      ],
      "text/plain": [
       "<IPython.core.display.Javascript object>"
      ]
     },
     "metadata": {},
     "output_type": "display_data"
    },
    {
     "data": {
      "application/javascript": [
       "\n",
       "            setTimeout(function() {\n",
       "                var nbb_cell_id = 125;\n",
       "                var nbb_unformatted_code = \"import numpy as np\\nimport pandas as pd\\nimport hvplot.pandas\\nfrom sklearn.preprocessing import MinMaxScaler\\nimport matplotlib.pyplot as plt\\nimport yfinance as yf\\nfrom tensorflow.keras.models import Sequential\\nfrom tensorflow.keras.layers import LSTM, Dense, Dropout\\n\\n# Magic commands\\n%reload_ext nb_black\\n%matplotlib inline\\nplt.style.use(\\\"seaborn\\\")\";\n",
       "                var nbb_formatted_code = \"import numpy as np\\nimport pandas as pd\\nimport hvplot.pandas\\nfrom sklearn.preprocessing import MinMaxScaler\\nimport matplotlib.pyplot as plt\\nimport yfinance as yf\\nfrom tensorflow.keras.models import Sequential\\nfrom tensorflow.keras.layers import LSTM, Dense, Dropout\\n\\n# Magic commands\\n%reload_ext nb_black\\n%matplotlib inline\\nplt.style.use(\\\"seaborn\\\")\";\n",
       "                var nbb_cells = Jupyter.notebook.get_cells();\n",
       "                for (var i = 0; i < nbb_cells.length; ++i) {\n",
       "                    if (nbb_cells[i].input_prompt_number == nbb_cell_id) {\n",
       "                        if (nbb_cells[i].get_text() == nbb_unformatted_code) {\n",
       "                             nbb_cells[i].set_text(nbb_formatted_code);\n",
       "                        }\n",
       "                        break;\n",
       "                    }\n",
       "                }\n",
       "            }, 500);\n",
       "            "
      ],
      "text/plain": [
       "<IPython.core.display.Javascript object>"
      ]
     },
     "metadata": {},
     "output_type": "display_data"
    },
    {
     "data": {
      "application/javascript": [
       "\n",
       "            setTimeout(function() {\n",
       "                var nbb_cell_id = 125;\n",
       "                var nbb_unformatted_code = \"import numpy as np\\nimport pandas as pd\\nimport hvplot.pandas\\nfrom sklearn.preprocessing import MinMaxScaler\\nimport matplotlib.pyplot as plt\\nimport yfinance as yf\\nfrom tensorflow.keras.models import Sequential\\nfrom tensorflow.keras.layers import LSTM, Dense, Dropout\\n\\n# Magic commands\\n%reload_ext nb_black\\n%matplotlib inline\\nplt.style.use(\\\"seaborn\\\")\";\n",
       "                var nbb_formatted_code = \"import numpy as np\\nimport pandas as pd\\nimport hvplot.pandas\\nfrom sklearn.preprocessing import MinMaxScaler\\nimport matplotlib.pyplot as plt\\nimport yfinance as yf\\nfrom tensorflow.keras.models import Sequential\\nfrom tensorflow.keras.layers import LSTM, Dense, Dropout\\n\\n# Magic commands\\n%reload_ext nb_black\\n%matplotlib inline\\nplt.style.use(\\\"seaborn\\\")\";\n",
       "                var nbb_cells = Jupyter.notebook.get_cells();\n",
       "                for (var i = 0; i < nbb_cells.length; ++i) {\n",
       "                    if (nbb_cells[i].input_prompt_number == nbb_cell_id) {\n",
       "                        if (nbb_cells[i].get_text() == nbb_unformatted_code) {\n",
       "                             nbb_cells[i].set_text(nbb_formatted_code);\n",
       "                        }\n",
       "                        break;\n",
       "                    }\n",
       "                }\n",
       "            }, 500);\n",
       "            "
      ],
      "text/plain": [
       "<IPython.core.display.Javascript object>"
      ]
     },
     "metadata": {},
     "output_type": "display_data"
    },
    {
     "data": {
      "application/javascript": [
       "\n",
       "            setTimeout(function() {\n",
       "                var nbb_cell_id = 125;\n",
       "                var nbb_unformatted_code = \"import numpy as np\\nimport pandas as pd\\nimport hvplot.pandas\\nfrom sklearn.preprocessing import MinMaxScaler\\nimport matplotlib.pyplot as plt\\nimport yfinance as yf\\nfrom tensorflow.keras.models import Sequential\\nfrom tensorflow.keras.layers import LSTM, Dense, Dropout\\n\\n# Magic commands\\n%reload_ext nb_black\\n%matplotlib inline\\nplt.style.use(\\\"seaborn\\\")\";\n",
       "                var nbb_formatted_code = \"import numpy as np\\nimport pandas as pd\\nimport hvplot.pandas\\nfrom sklearn.preprocessing import MinMaxScaler\\nimport matplotlib.pyplot as plt\\nimport yfinance as yf\\nfrom tensorflow.keras.models import Sequential\\nfrom tensorflow.keras.layers import LSTM, Dense, Dropout\\n\\n# Magic commands\\n%reload_ext nb_black\\n%matplotlib inline\\nplt.style.use(\\\"seaborn\\\")\";\n",
       "                var nbb_cells = Jupyter.notebook.get_cells();\n",
       "                for (var i = 0; i < nbb_cells.length; ++i) {\n",
       "                    if (nbb_cells[i].input_prompt_number == nbb_cell_id) {\n",
       "                        if (nbb_cells[i].get_text() == nbb_unformatted_code) {\n",
       "                             nbb_cells[i].set_text(nbb_formatted_code);\n",
       "                        }\n",
       "                        break;\n",
       "                    }\n",
       "                }\n",
       "            }, 500);\n",
       "            "
      ],
      "text/plain": [
       "<IPython.core.display.Javascript object>"
      ]
     },
     "metadata": {},
     "output_type": "display_data"
    },
    {
     "data": {
      "application/javascript": [
       "\n",
       "            setTimeout(function() {\n",
       "                var nbb_cell_id = 125;\n",
       "                var nbb_unformatted_code = \"import numpy as np\\nimport pandas as pd\\nimport hvplot.pandas\\nfrom sklearn.preprocessing import MinMaxScaler\\nimport matplotlib.pyplot as plt\\nimport yfinance as yf\\nfrom tensorflow.keras.models import Sequential\\nfrom tensorflow.keras.layers import LSTM, Dense, Dropout\\n\\n# Magic commands\\n%reload_ext nb_black\\n%matplotlib inline\\nplt.style.use(\\\"seaborn\\\")\";\n",
       "                var nbb_formatted_code = \"import numpy as np\\nimport pandas as pd\\nimport hvplot.pandas\\nfrom sklearn.preprocessing import MinMaxScaler\\nimport matplotlib.pyplot as plt\\nimport yfinance as yf\\nfrom tensorflow.keras.models import Sequential\\nfrom tensorflow.keras.layers import LSTM, Dense, Dropout\\n\\n# Magic commands\\n%reload_ext nb_black\\n%matplotlib inline\\nplt.style.use(\\\"seaborn\\\")\";\n",
       "                var nbb_cells = Jupyter.notebook.get_cells();\n",
       "                for (var i = 0; i < nbb_cells.length; ++i) {\n",
       "                    if (nbb_cells[i].input_prompt_number == nbb_cell_id) {\n",
       "                        if (nbb_cells[i].get_text() == nbb_unformatted_code) {\n",
       "                             nbb_cells[i].set_text(nbb_formatted_code);\n",
       "                        }\n",
       "                        break;\n",
       "                    }\n",
       "                }\n",
       "            }, 500);\n",
       "            "
      ],
      "text/plain": [
       "<IPython.core.display.Javascript object>"
      ]
     },
     "metadata": {},
     "output_type": "display_data"
    }
   ],
   "source": [
    "import numpy as np\n",
    "import pandas as pd\n",
    "import hvplot.pandas\n",
    "from sklearn.preprocessing import MinMaxScaler\n",
    "import matplotlib.pyplot as plt\n",
    "import yfinance as yf\n",
    "from tensorflow.keras.models import Sequential\n",
    "from tensorflow.keras.layers import LSTM, Dense, Dropout\n",
    "\n",
    "# Magic commands\n",
    "%reload_ext nb_black\n",
    "%matplotlib inline\n",
    "plt.style.use(\"seaborn\")"
   ]
  },
  {
   "cell_type": "code",
   "execution_count": 126,
   "id": "c3e63f82",
   "metadata": {},
   "outputs": [
    {
     "data": {
      "application/javascript": [
       "\n",
       "            setTimeout(function() {\n",
       "                var nbb_cell_id = 126;\n",
       "                var nbb_unformatted_code = \"# Set the random seed for reproducibility\\n# Note: This is for the homework solution, but it is good practice to comment this out and run multiple experiments to evaluate your model\\nfrom numpy.random import seed\\n\\nseed(1)\\nfrom tensorflow import random\\n\\nrandom.set_seed(2)\";\n",
       "                var nbb_formatted_code = \"# Set the random seed for reproducibility\\n# Note: This is for the homework solution, but it is good practice to comment this out and run multiple experiments to evaluate your model\\nfrom numpy.random import seed\\n\\nseed(1)\\nfrom tensorflow import random\\n\\nrandom.set_seed(2)\";\n",
       "                var nbb_cells = Jupyter.notebook.get_cells();\n",
       "                for (var i = 0; i < nbb_cells.length; ++i) {\n",
       "                    if (nbb_cells[i].input_prompt_number == nbb_cell_id) {\n",
       "                        if (nbb_cells[i].get_text() == nbb_unformatted_code) {\n",
       "                             nbb_cells[i].set_text(nbb_formatted_code);\n",
       "                        }\n",
       "                        break;\n",
       "                    }\n",
       "                }\n",
       "            }, 500);\n",
       "            "
      ],
      "text/plain": [
       "<IPython.core.display.Javascript object>"
      ]
     },
     "metadata": {},
     "output_type": "display_data"
    },
    {
     "data": {
      "application/javascript": [
       "\n",
       "            setTimeout(function() {\n",
       "                var nbb_cell_id = 126;\n",
       "                var nbb_unformatted_code = \"# Set the random seed for reproducibility\\n# Note: This is for the homework solution, but it is good practice to comment this out and run multiple experiments to evaluate your model\\nfrom numpy.random import seed\\n\\nseed(1)\\nfrom tensorflow import random\\n\\nrandom.set_seed(2)\";\n",
       "                var nbb_formatted_code = \"# Set the random seed for reproducibility\\n# Note: This is for the homework solution, but it is good practice to comment this out and run multiple experiments to evaluate your model\\nfrom numpy.random import seed\\n\\nseed(1)\\nfrom tensorflow import random\\n\\nrandom.set_seed(2)\";\n",
       "                var nbb_cells = Jupyter.notebook.get_cells();\n",
       "                for (var i = 0; i < nbb_cells.length; ++i) {\n",
       "                    if (nbb_cells[i].input_prompt_number == nbb_cell_id) {\n",
       "                        if (nbb_cells[i].get_text() == nbb_unformatted_code) {\n",
       "                             nbb_cells[i].set_text(nbb_formatted_code);\n",
       "                        }\n",
       "                        break;\n",
       "                    }\n",
       "                }\n",
       "            }, 500);\n",
       "            "
      ],
      "text/plain": [
       "<IPython.core.display.Javascript object>"
      ]
     },
     "metadata": {},
     "output_type": "display_data"
    },
    {
     "data": {
      "application/javascript": [
       "\n",
       "            setTimeout(function() {\n",
       "                var nbb_cell_id = 126;\n",
       "                var nbb_unformatted_code = \"# Set the random seed for reproducibility\\n# Note: This is for the homework solution, but it is good practice to comment this out and run multiple experiments to evaluate your model\\nfrom numpy.random import seed\\n\\nseed(1)\\nfrom tensorflow import random\\n\\nrandom.set_seed(2)\";\n",
       "                var nbb_formatted_code = \"# Set the random seed for reproducibility\\n# Note: This is for the homework solution, but it is good practice to comment this out and run multiple experiments to evaluate your model\\nfrom numpy.random import seed\\n\\nseed(1)\\nfrom tensorflow import random\\n\\nrandom.set_seed(2)\";\n",
       "                var nbb_cells = Jupyter.notebook.get_cells();\n",
       "                for (var i = 0; i < nbb_cells.length; ++i) {\n",
       "                    if (nbb_cells[i].input_prompt_number == nbb_cell_id) {\n",
       "                        if (nbb_cells[i].get_text() == nbb_unformatted_code) {\n",
       "                             nbb_cells[i].set_text(nbb_formatted_code);\n",
       "                        }\n",
       "                        break;\n",
       "                    }\n",
       "                }\n",
       "            }, 500);\n",
       "            "
      ],
      "text/plain": [
       "<IPython.core.display.Javascript object>"
      ]
     },
     "metadata": {},
     "output_type": "display_data"
    },
    {
     "data": {
      "application/javascript": [
       "\n",
       "            setTimeout(function() {\n",
       "                var nbb_cell_id = 126;\n",
       "                var nbb_unformatted_code = \"# Set the random seed for reproducibility\\n# Note: This is for the homework solution, but it is good practice to comment this out and run multiple experiments to evaluate your model\\nfrom numpy.random import seed\\n\\nseed(1)\\nfrom tensorflow import random\\n\\nrandom.set_seed(2)\";\n",
       "                var nbb_formatted_code = \"# Set the random seed for reproducibility\\n# Note: This is for the homework solution, but it is good practice to comment this out and run multiple experiments to evaluate your model\\nfrom numpy.random import seed\\n\\nseed(1)\\nfrom tensorflow import random\\n\\nrandom.set_seed(2)\";\n",
       "                var nbb_cells = Jupyter.notebook.get_cells();\n",
       "                for (var i = 0; i < nbb_cells.length; ++i) {\n",
       "                    if (nbb_cells[i].input_prompt_number == nbb_cell_id) {\n",
       "                        if (nbb_cells[i].get_text() == nbb_unformatted_code) {\n",
       "                             nbb_cells[i].set_text(nbb_formatted_code);\n",
       "                        }\n",
       "                        break;\n",
       "                    }\n",
       "                }\n",
       "            }, 500);\n",
       "            "
      ],
      "text/plain": [
       "<IPython.core.display.Javascript object>"
      ]
     },
     "metadata": {},
     "output_type": "display_data"
    },
    {
     "data": {
      "application/javascript": [
       "\n",
       "            setTimeout(function() {\n",
       "                var nbb_cell_id = 126;\n",
       "                var nbb_unformatted_code = \"# Set the random seed for reproducibility\\n# Note: This is for the homework solution, but it is good practice to comment this out and run multiple experiments to evaluate your model\\nfrom numpy.random import seed\\n\\nseed(1)\\nfrom tensorflow import random\\n\\nrandom.set_seed(2)\";\n",
       "                var nbb_formatted_code = \"# Set the random seed for reproducibility\\n# Note: This is for the homework solution, but it is good practice to comment this out and run multiple experiments to evaluate your model\\nfrom numpy.random import seed\\n\\nseed(1)\\nfrom tensorflow import random\\n\\nrandom.set_seed(2)\";\n",
       "                var nbb_cells = Jupyter.notebook.get_cells();\n",
       "                for (var i = 0; i < nbb_cells.length; ++i) {\n",
       "                    if (nbb_cells[i].input_prompt_number == nbb_cell_id) {\n",
       "                        if (nbb_cells[i].get_text() == nbb_unformatted_code) {\n",
       "                             nbb_cells[i].set_text(nbb_formatted_code);\n",
       "                        }\n",
       "                        break;\n",
       "                    }\n",
       "                }\n",
       "            }, 500);\n",
       "            "
      ],
      "text/plain": [
       "<IPython.core.display.Javascript object>"
      ]
     },
     "metadata": {},
     "output_type": "display_data"
    },
    {
     "data": {
      "application/javascript": [
       "\n",
       "            setTimeout(function() {\n",
       "                var nbb_cell_id = 126;\n",
       "                var nbb_unformatted_code = \"# Set the random seed for reproducibility\\n# Note: This is for the homework solution, but it is good practice to comment this out and run multiple experiments to evaluate your model\\nfrom numpy.random import seed\\n\\nseed(1)\\nfrom tensorflow import random\\n\\nrandom.set_seed(2)\";\n",
       "                var nbb_formatted_code = \"# Set the random seed for reproducibility\\n# Note: This is for the homework solution, but it is good practice to comment this out and run multiple experiments to evaluate your model\\nfrom numpy.random import seed\\n\\nseed(1)\\nfrom tensorflow import random\\n\\nrandom.set_seed(2)\";\n",
       "                var nbb_cells = Jupyter.notebook.get_cells();\n",
       "                for (var i = 0; i < nbb_cells.length; ++i) {\n",
       "                    if (nbb_cells[i].input_prompt_number == nbb_cell_id) {\n",
       "                        if (nbb_cells[i].get_text() == nbb_unformatted_code) {\n",
       "                             nbb_cells[i].set_text(nbb_formatted_code);\n",
       "                        }\n",
       "                        break;\n",
       "                    }\n",
       "                }\n",
       "            }, 500);\n",
       "            "
      ],
      "text/plain": [
       "<IPython.core.display.Javascript object>"
      ]
     },
     "metadata": {},
     "output_type": "display_data"
    },
    {
     "data": {
      "application/javascript": [
       "\n",
       "            setTimeout(function() {\n",
       "                var nbb_cell_id = 126;\n",
       "                var nbb_unformatted_code = \"# Set the random seed for reproducibility\\n# Note: This is for the homework solution, but it is good practice to comment this out and run multiple experiments to evaluate your model\\nfrom numpy.random import seed\\n\\nseed(1)\\nfrom tensorflow import random\\n\\nrandom.set_seed(2)\";\n",
       "                var nbb_formatted_code = \"# Set the random seed for reproducibility\\n# Note: This is for the homework solution, but it is good practice to comment this out and run multiple experiments to evaluate your model\\nfrom numpy.random import seed\\n\\nseed(1)\\nfrom tensorflow import random\\n\\nrandom.set_seed(2)\";\n",
       "                var nbb_cells = Jupyter.notebook.get_cells();\n",
       "                for (var i = 0; i < nbb_cells.length; ++i) {\n",
       "                    if (nbb_cells[i].input_prompt_number == nbb_cell_id) {\n",
       "                        if (nbb_cells[i].get_text() == nbb_unformatted_code) {\n",
       "                             nbb_cells[i].set_text(nbb_formatted_code);\n",
       "                        }\n",
       "                        break;\n",
       "                    }\n",
       "                }\n",
       "            }, 500);\n",
       "            "
      ],
      "text/plain": [
       "<IPython.core.display.Javascript object>"
      ]
     },
     "metadata": {},
     "output_type": "display_data"
    },
    {
     "data": {
      "application/javascript": [
       "\n",
       "            setTimeout(function() {\n",
       "                var nbb_cell_id = 126;\n",
       "                var nbb_unformatted_code = \"# Set the random seed for reproducibility\\n# Note: This is for the homework solution, but it is good practice to comment this out and run multiple experiments to evaluate your model\\nfrom numpy.random import seed\\n\\nseed(1)\\nfrom tensorflow import random\\n\\nrandom.set_seed(2)\";\n",
       "                var nbb_formatted_code = \"# Set the random seed for reproducibility\\n# Note: This is for the homework solution, but it is good practice to comment this out and run multiple experiments to evaluate your model\\nfrom numpy.random import seed\\n\\nseed(1)\\nfrom tensorflow import random\\n\\nrandom.set_seed(2)\";\n",
       "                var nbb_cells = Jupyter.notebook.get_cells();\n",
       "                for (var i = 0; i < nbb_cells.length; ++i) {\n",
       "                    if (nbb_cells[i].input_prompt_number == nbb_cell_id) {\n",
       "                        if (nbb_cells[i].get_text() == nbb_unformatted_code) {\n",
       "                             nbb_cells[i].set_text(nbb_formatted_code);\n",
       "                        }\n",
       "                        break;\n",
       "                    }\n",
       "                }\n",
       "            }, 500);\n",
       "            "
      ],
      "text/plain": [
       "<IPython.core.display.Javascript object>"
      ]
     },
     "metadata": {},
     "output_type": "display_data"
    },
    {
     "data": {
      "application/javascript": [
       "\n",
       "            setTimeout(function() {\n",
       "                var nbb_cell_id = 126;\n",
       "                var nbb_unformatted_code = \"# Set the random seed for reproducibility\\n# Note: This is for the homework solution, but it is good practice to comment this out and run multiple experiments to evaluate your model\\nfrom numpy.random import seed\\n\\nseed(1)\\nfrom tensorflow import random\\n\\nrandom.set_seed(2)\";\n",
       "                var nbb_formatted_code = \"# Set the random seed for reproducibility\\n# Note: This is for the homework solution, but it is good practice to comment this out and run multiple experiments to evaluate your model\\nfrom numpy.random import seed\\n\\nseed(1)\\nfrom tensorflow import random\\n\\nrandom.set_seed(2)\";\n",
       "                var nbb_cells = Jupyter.notebook.get_cells();\n",
       "                for (var i = 0; i < nbb_cells.length; ++i) {\n",
       "                    if (nbb_cells[i].input_prompt_number == nbb_cell_id) {\n",
       "                        if (nbb_cells[i].get_text() == nbb_unformatted_code) {\n",
       "                             nbb_cells[i].set_text(nbb_formatted_code);\n",
       "                        }\n",
       "                        break;\n",
       "                    }\n",
       "                }\n",
       "            }, 500);\n",
       "            "
      ],
      "text/plain": [
       "<IPython.core.display.Javascript object>"
      ]
     },
     "metadata": {},
     "output_type": "display_data"
    },
    {
     "data": {
      "application/javascript": [
       "\n",
       "            setTimeout(function() {\n",
       "                var nbb_cell_id = 126;\n",
       "                var nbb_unformatted_code = \"# Set the random seed for reproducibility\\n# Note: This is for the homework solution, but it is good practice to comment this out and run multiple experiments to evaluate your model\\nfrom numpy.random import seed\\n\\nseed(1)\\nfrom tensorflow import random\\n\\nrandom.set_seed(2)\";\n",
       "                var nbb_formatted_code = \"# Set the random seed for reproducibility\\n# Note: This is for the homework solution, but it is good practice to comment this out and run multiple experiments to evaluate your model\\nfrom numpy.random import seed\\n\\nseed(1)\\nfrom tensorflow import random\\n\\nrandom.set_seed(2)\";\n",
       "                var nbb_cells = Jupyter.notebook.get_cells();\n",
       "                for (var i = 0; i < nbb_cells.length; ++i) {\n",
       "                    if (nbb_cells[i].input_prompt_number == nbb_cell_id) {\n",
       "                        if (nbb_cells[i].get_text() == nbb_unformatted_code) {\n",
       "                             nbb_cells[i].set_text(nbb_formatted_code);\n",
       "                        }\n",
       "                        break;\n",
       "                    }\n",
       "                }\n",
       "            }, 500);\n",
       "            "
      ],
      "text/plain": [
       "<IPython.core.display.Javascript object>"
      ]
     },
     "metadata": {},
     "output_type": "display_data"
    }
   ],
   "source": [
    "# Set the random seed for reproducibility\n",
    "# Note: This is for the homework solution, but it is good practice to comment this out and run multiple experiments to evaluate your model\n",
    "from numpy.random import seed\n",
    "\n",
    "seed(1)\n",
    "from tensorflow import random\n",
    "\n",
    "random.set_seed(2)"
   ]
  },
  {
   "cell_type": "code",
   "execution_count": 127,
   "id": "a3a22124",
   "metadata": {},
   "outputs": [
    {
     "name": "stdout",
     "output_type": "stream",
     "text": [
      "[*********************100%***********************]  1 of 1 completed\n"
     ]
    },
    {
     "data": {
      "text/html": [
       "<div><div id=9492a0d3-e570-4007-bddb-af49135d3be5 style=\"display:none; background-color:#9D6CFF; color:white; width:200px; height:30px; padding-left:5px; border-radius:4px; flex-direction:row; justify-content:space-around; align-items:center;\" onmouseover=\"this.style.backgroundColor='#BA9BF8'\" onmouseout=\"this.style.backgroundColor='#9D6CFF'\" onclick=\"window.commands?.execute('create-mitosheet-from-dataframe-output');\">See Full Dataframe in Mito</div> <script> if (window.commands.hasCommand('create-mitosheet-from-dataframe-output')) document.getElementById('9492a0d3-e570-4007-bddb-af49135d3be5').style.display = 'flex' </script> <table border=\"1\" class=\"dataframe\">\n",
       "  <thead>\n",
       "    <tr style=\"text-align: right;\">\n",
       "      <th></th>\n",
       "      <th>Open</th>\n",
       "      <th>High</th>\n",
       "      <th>Low</th>\n",
       "      <th>Close</th>\n",
       "      <th>Adj Close</th>\n",
       "      <th>Volume</th>\n",
       "    </tr>\n",
       "    <tr>\n",
       "      <th>Date</th>\n",
       "      <th></th>\n",
       "      <th></th>\n",
       "      <th></th>\n",
       "      <th></th>\n",
       "      <th></th>\n",
       "      <th></th>\n",
       "    </tr>\n",
       "  </thead>\n",
       "  <tbody>\n",
       "    <tr>\n",
       "      <th>2019-04-01</th>\n",
       "      <td>20.540001</td>\n",
       "      <td>20.915001</td>\n",
       "      <td>20.040001</td>\n",
       "      <td>20.590000</td>\n",
       "      <td>20.590000</td>\n",
       "      <td>547600</td>\n",
       "    </tr>\n",
       "    <tr>\n",
       "      <th>2019-04-02</th>\n",
       "      <td>20.680000</td>\n",
       "      <td>20.680000</td>\n",
       "      <td>19.540001</td>\n",
       "      <td>19.700001</td>\n",
       "      <td>19.700001</td>\n",
       "      <td>546400</td>\n",
       "    </tr>\n",
       "    <tr>\n",
       "      <th>2019-04-03</th>\n",
       "      <td>19.920000</td>\n",
       "      <td>21.670000</td>\n",
       "      <td>19.809999</td>\n",
       "      <td>21.330000</td>\n",
       "      <td>21.330000</td>\n",
       "      <td>909300</td>\n",
       "    </tr>\n",
       "    <tr>\n",
       "      <th>2019-04-04</th>\n",
       "      <td>21.120001</td>\n",
       "      <td>23.180000</td>\n",
       "      <td>21.040001</td>\n",
       "      <td>23.080000</td>\n",
       "      <td>23.080000</td>\n",
       "      <td>1705900</td>\n",
       "    </tr>\n",
       "    <tr>\n",
       "      <th>2019-04-05</th>\n",
       "      <td>23.799999</td>\n",
       "      <td>26.230000</td>\n",
       "      <td>22.665001</td>\n",
       "      <td>25.959999</td>\n",
       "      <td>25.959999</td>\n",
       "      <td>1978100</td>\n",
       "    </tr>\n",
       "    <tr>\n",
       "      <th>...</th>\n",
       "      <td>...</td>\n",
       "      <td>...</td>\n",
       "      <td>...</td>\n",
       "      <td>...</td>\n",
       "      <td>...</td>\n",
       "      <td>...</td>\n",
       "    </tr>\n",
       "    <tr>\n",
       "      <th>2022-03-07</th>\n",
       "      <td>135.119995</td>\n",
       "      <td>138.399994</td>\n",
       "      <td>126.279999</td>\n",
       "      <td>126.459999</td>\n",
       "      <td>126.459999</td>\n",
       "      <td>6177200</td>\n",
       "    </tr>\n",
       "    <tr>\n",
       "      <th>2022-03-08</th>\n",
       "      <td>125.000000</td>\n",
       "      <td>136.960007</td>\n",
       "      <td>122.010002</td>\n",
       "      <td>129.279999</td>\n",
       "      <td>129.279999</td>\n",
       "      <td>6675700</td>\n",
       "    </tr>\n",
       "    <tr>\n",
       "      <th>2022-03-09</th>\n",
       "      <td>132.074997</td>\n",
       "      <td>145.279999</td>\n",
       "      <td>132.050003</td>\n",
       "      <td>142.490005</td>\n",
       "      <td>142.490005</td>\n",
       "      <td>9533900</td>\n",
       "    </tr>\n",
       "    <tr>\n",
       "      <th>2022-03-10</th>\n",
       "      <td>139.509995</td>\n",
       "      <td>140.830002</td>\n",
       "      <td>135.850006</td>\n",
       "      <td>139.520004</td>\n",
       "      <td>139.520004</td>\n",
       "      <td>5557100</td>\n",
       "    </tr>\n",
       "    <tr>\n",
       "      <th>2022-03-11</th>\n",
       "      <td>140.750000</td>\n",
       "      <td>145.800003</td>\n",
       "      <td>138.000000</td>\n",
       "      <td>138.199997</td>\n",
       "      <td>138.199997</td>\n",
       "      <td>5354000</td>\n",
       "    </tr>\n",
       "  </tbody>\n",
       "</table></div>"
      ],
      "text/plain": [
       "                  Open        High         Low       Close   Adj Close  \\\n",
       "Date                                                                     \n",
       "2019-04-01   20.540001   20.915001   20.040001   20.590000   20.590000   \n",
       "2019-04-02   20.680000   20.680000   19.540001   19.700001   19.700001   \n",
       "2019-04-03   19.920000   21.670000   19.809999   21.330000   21.330000   \n",
       "2019-04-04   21.120001   23.180000   21.040001   23.080000   23.080000   \n",
       "2019-04-05   23.799999   26.230000   22.665001   25.959999   25.959999   \n",
       "...                ...         ...         ...         ...         ...   \n",
       "2022-03-07  135.119995  138.399994  126.279999  126.459999  126.459999   \n",
       "2022-03-08  125.000000  136.960007  122.010002  129.279999  129.279999   \n",
       "2022-03-09  132.074997  145.279999  132.050003  142.490005  142.490005   \n",
       "2022-03-10  139.509995  140.830002  135.850006  139.520004  139.520004   \n",
       "2022-03-11  140.750000  145.800003  138.000000  138.199997  138.199997   \n",
       "\n",
       "             Volume  \n",
       "Date                 \n",
       "2019-04-01   547600  \n",
       "2019-04-02   546400  \n",
       "2019-04-03   909300  \n",
       "2019-04-04  1705900  \n",
       "2019-04-05  1978100  \n",
       "...             ...  \n",
       "2022-03-07  6177200  \n",
       "2022-03-08  6675700  \n",
       "2022-03-09  9533900  \n",
       "2022-03-10  5557100  \n",
       "2022-03-11  5354000  \n",
       "\n",
       "[744 rows x 6 columns]"
      ]
     },
     "execution_count": 127,
     "metadata": {},
     "output_type": "execute_result"
    },
    {
     "data": {
      "application/javascript": [
       "\n",
       "            setTimeout(function() {\n",
       "                var nbb_cell_id = 127;\n",
       "                var nbb_unformatted_code = \"# Read in stock data\\nasset_data = yf.download(\\\"MRNA\\\", start=\\\"2019-03-31\\\")\\n\\nasset_data\";\n",
       "                var nbb_formatted_code = \"# Read in stock data\\nasset_data = yf.download(\\\"MRNA\\\", start=\\\"2019-03-31\\\")\\n\\nasset_data\";\n",
       "                var nbb_cells = Jupyter.notebook.get_cells();\n",
       "                for (var i = 0; i < nbb_cells.length; ++i) {\n",
       "                    if (nbb_cells[i].input_prompt_number == nbb_cell_id) {\n",
       "                        if (nbb_cells[i].get_text() == nbb_unformatted_code) {\n",
       "                             nbb_cells[i].set_text(nbb_formatted_code);\n",
       "                        }\n",
       "                        break;\n",
       "                    }\n",
       "                }\n",
       "            }, 500);\n",
       "            "
      ],
      "text/plain": [
       "<IPython.core.display.Javascript object>"
      ]
     },
     "metadata": {},
     "output_type": "display_data"
    },
    {
     "data": {
      "application/javascript": [
       "\n",
       "            setTimeout(function() {\n",
       "                var nbb_cell_id = 127;\n",
       "                var nbb_unformatted_code = \"# Read in stock data\\nasset_data = yf.download(\\\"MRNA\\\", start=\\\"2019-03-31\\\")\\n\\nasset_data\";\n",
       "                var nbb_formatted_code = \"# Read in stock data\\nasset_data = yf.download(\\\"MRNA\\\", start=\\\"2019-03-31\\\")\\n\\nasset_data\";\n",
       "                var nbb_cells = Jupyter.notebook.get_cells();\n",
       "                for (var i = 0; i < nbb_cells.length; ++i) {\n",
       "                    if (nbb_cells[i].input_prompt_number == nbb_cell_id) {\n",
       "                        if (nbb_cells[i].get_text() == nbb_unformatted_code) {\n",
       "                             nbb_cells[i].set_text(nbb_formatted_code);\n",
       "                        }\n",
       "                        break;\n",
       "                    }\n",
       "                }\n",
       "            }, 500);\n",
       "            "
      ],
      "text/plain": [
       "<IPython.core.display.Javascript object>"
      ]
     },
     "metadata": {},
     "output_type": "display_data"
    },
    {
     "data": {
      "application/javascript": [
       "\n",
       "            setTimeout(function() {\n",
       "                var nbb_cell_id = 127;\n",
       "                var nbb_unformatted_code = \"# Read in stock data\\nasset_data = yf.download(\\\"MRNA\\\", start=\\\"2019-03-31\\\")\\n\\nasset_data\";\n",
       "                var nbb_formatted_code = \"# Read in stock data\\nasset_data = yf.download(\\\"MRNA\\\", start=\\\"2019-03-31\\\")\\n\\nasset_data\";\n",
       "                var nbb_cells = Jupyter.notebook.get_cells();\n",
       "                for (var i = 0; i < nbb_cells.length; ++i) {\n",
       "                    if (nbb_cells[i].input_prompt_number == nbb_cell_id) {\n",
       "                        if (nbb_cells[i].get_text() == nbb_unformatted_code) {\n",
       "                             nbb_cells[i].set_text(nbb_formatted_code);\n",
       "                        }\n",
       "                        break;\n",
       "                    }\n",
       "                }\n",
       "            }, 500);\n",
       "            "
      ],
      "text/plain": [
       "<IPython.core.display.Javascript object>"
      ]
     },
     "metadata": {},
     "output_type": "display_data"
    },
    {
     "data": {
      "application/javascript": [
       "\n",
       "            setTimeout(function() {\n",
       "                var nbb_cell_id = 127;\n",
       "                var nbb_unformatted_code = \"# Read in stock data\\nasset_data = yf.download(\\\"MRNA\\\", start=\\\"2019-03-31\\\")\\n\\nasset_data\";\n",
       "                var nbb_formatted_code = \"# Read in stock data\\nasset_data = yf.download(\\\"MRNA\\\", start=\\\"2019-03-31\\\")\\n\\nasset_data\";\n",
       "                var nbb_cells = Jupyter.notebook.get_cells();\n",
       "                for (var i = 0; i < nbb_cells.length; ++i) {\n",
       "                    if (nbb_cells[i].input_prompt_number == nbb_cell_id) {\n",
       "                        if (nbb_cells[i].get_text() == nbb_unformatted_code) {\n",
       "                             nbb_cells[i].set_text(nbb_formatted_code);\n",
       "                        }\n",
       "                        break;\n",
       "                    }\n",
       "                }\n",
       "            }, 500);\n",
       "            "
      ],
      "text/plain": [
       "<IPython.core.display.Javascript object>"
      ]
     },
     "metadata": {},
     "output_type": "display_data"
    },
    {
     "data": {
      "application/javascript": [
       "\n",
       "            setTimeout(function() {\n",
       "                var nbb_cell_id = 127;\n",
       "                var nbb_unformatted_code = \"# Read in stock data\\nasset_data = yf.download(\\\"MRNA\\\", start=\\\"2019-03-31\\\")\\n\\nasset_data\";\n",
       "                var nbb_formatted_code = \"# Read in stock data\\nasset_data = yf.download(\\\"MRNA\\\", start=\\\"2019-03-31\\\")\\n\\nasset_data\";\n",
       "                var nbb_cells = Jupyter.notebook.get_cells();\n",
       "                for (var i = 0; i < nbb_cells.length; ++i) {\n",
       "                    if (nbb_cells[i].input_prompt_number == nbb_cell_id) {\n",
       "                        if (nbb_cells[i].get_text() == nbb_unformatted_code) {\n",
       "                             nbb_cells[i].set_text(nbb_formatted_code);\n",
       "                        }\n",
       "                        break;\n",
       "                    }\n",
       "                }\n",
       "            }, 500);\n",
       "            "
      ],
      "text/plain": [
       "<IPython.core.display.Javascript object>"
      ]
     },
     "metadata": {},
     "output_type": "display_data"
    },
    {
     "data": {
      "application/javascript": [
       "\n",
       "            setTimeout(function() {\n",
       "                var nbb_cell_id = 127;\n",
       "                var nbb_unformatted_code = \"# Read in stock data\\nasset_data = yf.download(\\\"MRNA\\\", start=\\\"2019-03-31\\\")\\n\\nasset_data\";\n",
       "                var nbb_formatted_code = \"# Read in stock data\\nasset_data = yf.download(\\\"MRNA\\\", start=\\\"2019-03-31\\\")\\n\\nasset_data\";\n",
       "                var nbb_cells = Jupyter.notebook.get_cells();\n",
       "                for (var i = 0; i < nbb_cells.length; ++i) {\n",
       "                    if (nbb_cells[i].input_prompt_number == nbb_cell_id) {\n",
       "                        if (nbb_cells[i].get_text() == nbb_unformatted_code) {\n",
       "                             nbb_cells[i].set_text(nbb_formatted_code);\n",
       "                        }\n",
       "                        break;\n",
       "                    }\n",
       "                }\n",
       "            }, 500);\n",
       "            "
      ],
      "text/plain": [
       "<IPython.core.display.Javascript object>"
      ]
     },
     "metadata": {},
     "output_type": "display_data"
    },
    {
     "data": {
      "application/javascript": [
       "\n",
       "            setTimeout(function() {\n",
       "                var nbb_cell_id = 127;\n",
       "                var nbb_unformatted_code = \"# Read in stock data\\nasset_data = yf.download(\\\"MRNA\\\", start=\\\"2019-03-31\\\")\\n\\nasset_data\";\n",
       "                var nbb_formatted_code = \"# Read in stock data\\nasset_data = yf.download(\\\"MRNA\\\", start=\\\"2019-03-31\\\")\\n\\nasset_data\";\n",
       "                var nbb_cells = Jupyter.notebook.get_cells();\n",
       "                for (var i = 0; i < nbb_cells.length; ++i) {\n",
       "                    if (nbb_cells[i].input_prompt_number == nbb_cell_id) {\n",
       "                        if (nbb_cells[i].get_text() == nbb_unformatted_code) {\n",
       "                             nbb_cells[i].set_text(nbb_formatted_code);\n",
       "                        }\n",
       "                        break;\n",
       "                    }\n",
       "                }\n",
       "            }, 500);\n",
       "            "
      ],
      "text/plain": [
       "<IPython.core.display.Javascript object>"
      ]
     },
     "metadata": {},
     "output_type": "display_data"
    },
    {
     "data": {
      "application/javascript": [
       "\n",
       "            setTimeout(function() {\n",
       "                var nbb_cell_id = 127;\n",
       "                var nbb_unformatted_code = \"# Read in stock data\\nasset_data = yf.download(\\\"MRNA\\\", start=\\\"2019-03-31\\\")\\n\\nasset_data\";\n",
       "                var nbb_formatted_code = \"# Read in stock data\\nasset_data = yf.download(\\\"MRNA\\\", start=\\\"2019-03-31\\\")\\n\\nasset_data\";\n",
       "                var nbb_cells = Jupyter.notebook.get_cells();\n",
       "                for (var i = 0; i < nbb_cells.length; ++i) {\n",
       "                    if (nbb_cells[i].input_prompt_number == nbb_cell_id) {\n",
       "                        if (nbb_cells[i].get_text() == nbb_unformatted_code) {\n",
       "                             nbb_cells[i].set_text(nbb_formatted_code);\n",
       "                        }\n",
       "                        break;\n",
       "                    }\n",
       "                }\n",
       "            }, 500);\n",
       "            "
      ],
      "text/plain": [
       "<IPython.core.display.Javascript object>"
      ]
     },
     "metadata": {},
     "output_type": "display_data"
    },
    {
     "data": {
      "application/javascript": [
       "\n",
       "            setTimeout(function() {\n",
       "                var nbb_cell_id = 127;\n",
       "                var nbb_unformatted_code = \"# Read in stock data\\nasset_data = yf.download(\\\"MRNA\\\", start=\\\"2019-03-31\\\")\\n\\nasset_data\";\n",
       "                var nbb_formatted_code = \"# Read in stock data\\nasset_data = yf.download(\\\"MRNA\\\", start=\\\"2019-03-31\\\")\\n\\nasset_data\";\n",
       "                var nbb_cells = Jupyter.notebook.get_cells();\n",
       "                for (var i = 0; i < nbb_cells.length; ++i) {\n",
       "                    if (nbb_cells[i].input_prompt_number == nbb_cell_id) {\n",
       "                        if (nbb_cells[i].get_text() == nbb_unformatted_code) {\n",
       "                             nbb_cells[i].set_text(nbb_formatted_code);\n",
       "                        }\n",
       "                        break;\n",
       "                    }\n",
       "                }\n",
       "            }, 500);\n",
       "            "
      ],
      "text/plain": [
       "<IPython.core.display.Javascript object>"
      ]
     },
     "metadata": {},
     "output_type": "display_data"
    },
    {
     "data": {
      "application/javascript": [
       "\n",
       "            setTimeout(function() {\n",
       "                var nbb_cell_id = 127;\n",
       "                var nbb_unformatted_code = \"# Read in stock data\\nasset_data = yf.download(\\\"MRNA\\\", start=\\\"2019-03-31\\\")\\n\\nasset_data\";\n",
       "                var nbb_formatted_code = \"# Read in stock data\\nasset_data = yf.download(\\\"MRNA\\\", start=\\\"2019-03-31\\\")\\n\\nasset_data\";\n",
       "                var nbb_cells = Jupyter.notebook.get_cells();\n",
       "                for (var i = 0; i < nbb_cells.length; ++i) {\n",
       "                    if (nbb_cells[i].input_prompt_number == nbb_cell_id) {\n",
       "                        if (nbb_cells[i].get_text() == nbb_unformatted_code) {\n",
       "                             nbb_cells[i].set_text(nbb_formatted_code);\n",
       "                        }\n",
       "                        break;\n",
       "                    }\n",
       "                }\n",
       "            }, 500);\n",
       "            "
      ],
      "text/plain": [
       "<IPython.core.display.Javascript object>"
      ]
     },
     "metadata": {},
     "output_type": "display_data"
    }
   ],
   "source": [
    "# Read in stock data\n",
    "asset_data = yf.download(\"MRNA\", start=\"2019-03-31\")\n",
    "\n",
    "asset_data"
   ]
  },
  {
   "cell_type": "code",
   "execution_count": 128,
   "id": "3d968058",
   "metadata": {},
   "outputs": [
    {
     "data": {
      "application/javascript": [
       "\n",
       "            setTimeout(function() {\n",
       "                var nbb_cell_id = 128;\n",
       "                var nbb_unformatted_code = \"asset_data = asset_data[\\\"Close\\\"].to_frame()\\n\\n\\ndef window_data(asset_data, window, feature_col_number, target_col_number):\\n    X = []\\n    y = []\\n    for i in range(len(asset_data) - window - 1):\\n        features = asset_data.iloc[i : (i + window), feature_col_number]\\n        target = asset_data.iloc[(i + window), target_col_number]\\n        X.append(features)\\n        y.append(target)\\n    return np.array(X), np.array(y).reshape(-1, 1)\\n\\n\\n# Then, experiment with window sizes anywhere from 1 to 10 and see how the model performance changes\\nwindow_size = 10\\n\\n# Column index 0 is the 'fng_value' column\\n# Column index 1 is the `Close` column\\nfeature_column = 0\\ntarget_column = 0\\nX, y = window_data(asset_data, window_size, feature_column, target_column)\";\n",
       "                var nbb_formatted_code = \"asset_data = asset_data[\\\"Close\\\"].to_frame()\\n\\n\\ndef window_data(asset_data, window, feature_col_number, target_col_number):\\n    X = []\\n    y = []\\n    for i in range(len(asset_data) - window - 1):\\n        features = asset_data.iloc[i : (i + window), feature_col_number]\\n        target = asset_data.iloc[(i + window), target_col_number]\\n        X.append(features)\\n        y.append(target)\\n    return np.array(X), np.array(y).reshape(-1, 1)\\n\\n\\n# Then, experiment with window sizes anywhere from 1 to 10 and see how the model performance changes\\nwindow_size = 10\\n\\n# Column index 0 is the 'fng_value' column\\n# Column index 1 is the `Close` column\\nfeature_column = 0\\ntarget_column = 0\\nX, y = window_data(asset_data, window_size, feature_column, target_column)\";\n",
       "                var nbb_cells = Jupyter.notebook.get_cells();\n",
       "                for (var i = 0; i < nbb_cells.length; ++i) {\n",
       "                    if (nbb_cells[i].input_prompt_number == nbb_cell_id) {\n",
       "                        if (nbb_cells[i].get_text() == nbb_unformatted_code) {\n",
       "                             nbb_cells[i].set_text(nbb_formatted_code);\n",
       "                        }\n",
       "                        break;\n",
       "                    }\n",
       "                }\n",
       "            }, 500);\n",
       "            "
      ],
      "text/plain": [
       "<IPython.core.display.Javascript object>"
      ]
     },
     "metadata": {},
     "output_type": "display_data"
    },
    {
     "data": {
      "application/javascript": [
       "\n",
       "            setTimeout(function() {\n",
       "                var nbb_cell_id = 128;\n",
       "                var nbb_unformatted_code = \"asset_data = asset_data[\\\"Close\\\"].to_frame()\\n\\n\\ndef window_data(asset_data, window, feature_col_number, target_col_number):\\n    X = []\\n    y = []\\n    for i in range(len(asset_data) - window - 1):\\n        features = asset_data.iloc[i : (i + window), feature_col_number]\\n        target = asset_data.iloc[(i + window), target_col_number]\\n        X.append(features)\\n        y.append(target)\\n    return np.array(X), np.array(y).reshape(-1, 1)\\n\\n\\n# Then, experiment with window sizes anywhere from 1 to 10 and see how the model performance changes\\nwindow_size = 10\\n\\n# Column index 0 is the 'fng_value' column\\n# Column index 1 is the `Close` column\\nfeature_column = 0\\ntarget_column = 0\\nX, y = window_data(asset_data, window_size, feature_column, target_column)\";\n",
       "                var nbb_formatted_code = \"asset_data = asset_data[\\\"Close\\\"].to_frame()\\n\\n\\ndef window_data(asset_data, window, feature_col_number, target_col_number):\\n    X = []\\n    y = []\\n    for i in range(len(asset_data) - window - 1):\\n        features = asset_data.iloc[i : (i + window), feature_col_number]\\n        target = asset_data.iloc[(i + window), target_col_number]\\n        X.append(features)\\n        y.append(target)\\n    return np.array(X), np.array(y).reshape(-1, 1)\\n\\n\\n# Then, experiment with window sizes anywhere from 1 to 10 and see how the model performance changes\\nwindow_size = 10\\n\\n# Column index 0 is the 'fng_value' column\\n# Column index 1 is the `Close` column\\nfeature_column = 0\\ntarget_column = 0\\nX, y = window_data(asset_data, window_size, feature_column, target_column)\";\n",
       "                var nbb_cells = Jupyter.notebook.get_cells();\n",
       "                for (var i = 0; i < nbb_cells.length; ++i) {\n",
       "                    if (nbb_cells[i].input_prompt_number == nbb_cell_id) {\n",
       "                        if (nbb_cells[i].get_text() == nbb_unformatted_code) {\n",
       "                             nbb_cells[i].set_text(nbb_formatted_code);\n",
       "                        }\n",
       "                        break;\n",
       "                    }\n",
       "                }\n",
       "            }, 500);\n",
       "            "
      ],
      "text/plain": [
       "<IPython.core.display.Javascript object>"
      ]
     },
     "metadata": {},
     "output_type": "display_data"
    },
    {
     "data": {
      "application/javascript": [
       "\n",
       "            setTimeout(function() {\n",
       "                var nbb_cell_id = 128;\n",
       "                var nbb_unformatted_code = \"asset_data = asset_data[\\\"Close\\\"].to_frame()\\n\\n\\ndef window_data(asset_data, window, feature_col_number, target_col_number):\\n    X = []\\n    y = []\\n    for i in range(len(asset_data) - window - 1):\\n        features = asset_data.iloc[i : (i + window), feature_col_number]\\n        target = asset_data.iloc[(i + window), target_col_number]\\n        X.append(features)\\n        y.append(target)\\n    return np.array(X), np.array(y).reshape(-1, 1)\\n\\n\\n# Then, experiment with window sizes anywhere from 1 to 10 and see how the model performance changes\\nwindow_size = 10\\n\\n# Column index 0 is the 'fng_value' column\\n# Column index 1 is the `Close` column\\nfeature_column = 0\\ntarget_column = 0\\nX, y = window_data(asset_data, window_size, feature_column, target_column)\";\n",
       "                var nbb_formatted_code = \"asset_data = asset_data[\\\"Close\\\"].to_frame()\\n\\n\\ndef window_data(asset_data, window, feature_col_number, target_col_number):\\n    X = []\\n    y = []\\n    for i in range(len(asset_data) - window - 1):\\n        features = asset_data.iloc[i : (i + window), feature_col_number]\\n        target = asset_data.iloc[(i + window), target_col_number]\\n        X.append(features)\\n        y.append(target)\\n    return np.array(X), np.array(y).reshape(-1, 1)\\n\\n\\n# Then, experiment with window sizes anywhere from 1 to 10 and see how the model performance changes\\nwindow_size = 10\\n\\n# Column index 0 is the 'fng_value' column\\n# Column index 1 is the `Close` column\\nfeature_column = 0\\ntarget_column = 0\\nX, y = window_data(asset_data, window_size, feature_column, target_column)\";\n",
       "                var nbb_cells = Jupyter.notebook.get_cells();\n",
       "                for (var i = 0; i < nbb_cells.length; ++i) {\n",
       "                    if (nbb_cells[i].input_prompt_number == nbb_cell_id) {\n",
       "                        if (nbb_cells[i].get_text() == nbb_unformatted_code) {\n",
       "                             nbb_cells[i].set_text(nbb_formatted_code);\n",
       "                        }\n",
       "                        break;\n",
       "                    }\n",
       "                }\n",
       "            }, 500);\n",
       "            "
      ],
      "text/plain": [
       "<IPython.core.display.Javascript object>"
      ]
     },
     "metadata": {},
     "output_type": "display_data"
    },
    {
     "data": {
      "application/javascript": [
       "\n",
       "            setTimeout(function() {\n",
       "                var nbb_cell_id = 128;\n",
       "                var nbb_unformatted_code = \"asset_data = asset_data[\\\"Close\\\"].to_frame()\\n\\n\\ndef window_data(asset_data, window, feature_col_number, target_col_number):\\n    X = []\\n    y = []\\n    for i in range(len(asset_data) - window - 1):\\n        features = asset_data.iloc[i : (i + window), feature_col_number]\\n        target = asset_data.iloc[(i + window), target_col_number]\\n        X.append(features)\\n        y.append(target)\\n    return np.array(X), np.array(y).reshape(-1, 1)\\n\\n\\n# Then, experiment with window sizes anywhere from 1 to 10 and see how the model performance changes\\nwindow_size = 10\\n\\n# Column index 0 is the 'fng_value' column\\n# Column index 1 is the `Close` column\\nfeature_column = 0\\ntarget_column = 0\\nX, y = window_data(asset_data, window_size, feature_column, target_column)\";\n",
       "                var nbb_formatted_code = \"asset_data = asset_data[\\\"Close\\\"].to_frame()\\n\\n\\ndef window_data(asset_data, window, feature_col_number, target_col_number):\\n    X = []\\n    y = []\\n    for i in range(len(asset_data) - window - 1):\\n        features = asset_data.iloc[i : (i + window), feature_col_number]\\n        target = asset_data.iloc[(i + window), target_col_number]\\n        X.append(features)\\n        y.append(target)\\n    return np.array(X), np.array(y).reshape(-1, 1)\\n\\n\\n# Then, experiment with window sizes anywhere from 1 to 10 and see how the model performance changes\\nwindow_size = 10\\n\\n# Column index 0 is the 'fng_value' column\\n# Column index 1 is the `Close` column\\nfeature_column = 0\\ntarget_column = 0\\nX, y = window_data(asset_data, window_size, feature_column, target_column)\";\n",
       "                var nbb_cells = Jupyter.notebook.get_cells();\n",
       "                for (var i = 0; i < nbb_cells.length; ++i) {\n",
       "                    if (nbb_cells[i].input_prompt_number == nbb_cell_id) {\n",
       "                        if (nbb_cells[i].get_text() == nbb_unformatted_code) {\n",
       "                             nbb_cells[i].set_text(nbb_formatted_code);\n",
       "                        }\n",
       "                        break;\n",
       "                    }\n",
       "                }\n",
       "            }, 500);\n",
       "            "
      ],
      "text/plain": [
       "<IPython.core.display.Javascript object>"
      ]
     },
     "metadata": {},
     "output_type": "display_data"
    },
    {
     "data": {
      "application/javascript": [
       "\n",
       "            setTimeout(function() {\n",
       "                var nbb_cell_id = 128;\n",
       "                var nbb_unformatted_code = \"asset_data = asset_data[\\\"Close\\\"].to_frame()\\n\\n\\ndef window_data(asset_data, window, feature_col_number, target_col_number):\\n    X = []\\n    y = []\\n    for i in range(len(asset_data) - window - 1):\\n        features = asset_data.iloc[i : (i + window), feature_col_number]\\n        target = asset_data.iloc[(i + window), target_col_number]\\n        X.append(features)\\n        y.append(target)\\n    return np.array(X), np.array(y).reshape(-1, 1)\\n\\n\\n# Then, experiment with window sizes anywhere from 1 to 10 and see how the model performance changes\\nwindow_size = 10\\n\\n# Column index 0 is the 'fng_value' column\\n# Column index 1 is the `Close` column\\nfeature_column = 0\\ntarget_column = 0\\nX, y = window_data(asset_data, window_size, feature_column, target_column)\";\n",
       "                var nbb_formatted_code = \"asset_data = asset_data[\\\"Close\\\"].to_frame()\\n\\n\\ndef window_data(asset_data, window, feature_col_number, target_col_number):\\n    X = []\\n    y = []\\n    for i in range(len(asset_data) - window - 1):\\n        features = asset_data.iloc[i : (i + window), feature_col_number]\\n        target = asset_data.iloc[(i + window), target_col_number]\\n        X.append(features)\\n        y.append(target)\\n    return np.array(X), np.array(y).reshape(-1, 1)\\n\\n\\n# Then, experiment with window sizes anywhere from 1 to 10 and see how the model performance changes\\nwindow_size = 10\\n\\n# Column index 0 is the 'fng_value' column\\n# Column index 1 is the `Close` column\\nfeature_column = 0\\ntarget_column = 0\\nX, y = window_data(asset_data, window_size, feature_column, target_column)\";\n",
       "                var nbb_cells = Jupyter.notebook.get_cells();\n",
       "                for (var i = 0; i < nbb_cells.length; ++i) {\n",
       "                    if (nbb_cells[i].input_prompt_number == nbb_cell_id) {\n",
       "                        if (nbb_cells[i].get_text() == nbb_unformatted_code) {\n",
       "                             nbb_cells[i].set_text(nbb_formatted_code);\n",
       "                        }\n",
       "                        break;\n",
       "                    }\n",
       "                }\n",
       "            }, 500);\n",
       "            "
      ],
      "text/plain": [
       "<IPython.core.display.Javascript object>"
      ]
     },
     "metadata": {},
     "output_type": "display_data"
    },
    {
     "data": {
      "application/javascript": [
       "\n",
       "            setTimeout(function() {\n",
       "                var nbb_cell_id = 128;\n",
       "                var nbb_unformatted_code = \"asset_data = asset_data[\\\"Close\\\"].to_frame()\\n\\n\\ndef window_data(asset_data, window, feature_col_number, target_col_number):\\n    X = []\\n    y = []\\n    for i in range(len(asset_data) - window - 1):\\n        features = asset_data.iloc[i : (i + window), feature_col_number]\\n        target = asset_data.iloc[(i + window), target_col_number]\\n        X.append(features)\\n        y.append(target)\\n    return np.array(X), np.array(y).reshape(-1, 1)\\n\\n\\n# Then, experiment with window sizes anywhere from 1 to 10 and see how the model performance changes\\nwindow_size = 10\\n\\n# Column index 0 is the 'fng_value' column\\n# Column index 1 is the `Close` column\\nfeature_column = 0\\ntarget_column = 0\\nX, y = window_data(asset_data, window_size, feature_column, target_column)\";\n",
       "                var nbb_formatted_code = \"asset_data = asset_data[\\\"Close\\\"].to_frame()\\n\\n\\ndef window_data(asset_data, window, feature_col_number, target_col_number):\\n    X = []\\n    y = []\\n    for i in range(len(asset_data) - window - 1):\\n        features = asset_data.iloc[i : (i + window), feature_col_number]\\n        target = asset_data.iloc[(i + window), target_col_number]\\n        X.append(features)\\n        y.append(target)\\n    return np.array(X), np.array(y).reshape(-1, 1)\\n\\n\\n# Then, experiment with window sizes anywhere from 1 to 10 and see how the model performance changes\\nwindow_size = 10\\n\\n# Column index 0 is the 'fng_value' column\\n# Column index 1 is the `Close` column\\nfeature_column = 0\\ntarget_column = 0\\nX, y = window_data(asset_data, window_size, feature_column, target_column)\";\n",
       "                var nbb_cells = Jupyter.notebook.get_cells();\n",
       "                for (var i = 0; i < nbb_cells.length; ++i) {\n",
       "                    if (nbb_cells[i].input_prompt_number == nbb_cell_id) {\n",
       "                        if (nbb_cells[i].get_text() == nbb_unformatted_code) {\n",
       "                             nbb_cells[i].set_text(nbb_formatted_code);\n",
       "                        }\n",
       "                        break;\n",
       "                    }\n",
       "                }\n",
       "            }, 500);\n",
       "            "
      ],
      "text/plain": [
       "<IPython.core.display.Javascript object>"
      ]
     },
     "metadata": {},
     "output_type": "display_data"
    },
    {
     "data": {
      "application/javascript": [
       "\n",
       "            setTimeout(function() {\n",
       "                var nbb_cell_id = 128;\n",
       "                var nbb_unformatted_code = \"asset_data = asset_data[\\\"Close\\\"].to_frame()\\n\\n\\ndef window_data(asset_data, window, feature_col_number, target_col_number):\\n    X = []\\n    y = []\\n    for i in range(len(asset_data) - window - 1):\\n        features = asset_data.iloc[i : (i + window), feature_col_number]\\n        target = asset_data.iloc[(i + window), target_col_number]\\n        X.append(features)\\n        y.append(target)\\n    return np.array(X), np.array(y).reshape(-1, 1)\\n\\n\\n# Then, experiment with window sizes anywhere from 1 to 10 and see how the model performance changes\\nwindow_size = 10\\n\\n# Column index 0 is the 'fng_value' column\\n# Column index 1 is the `Close` column\\nfeature_column = 0\\ntarget_column = 0\\nX, y = window_data(asset_data, window_size, feature_column, target_column)\";\n",
       "                var nbb_formatted_code = \"asset_data = asset_data[\\\"Close\\\"].to_frame()\\n\\n\\ndef window_data(asset_data, window, feature_col_number, target_col_number):\\n    X = []\\n    y = []\\n    for i in range(len(asset_data) - window - 1):\\n        features = asset_data.iloc[i : (i + window), feature_col_number]\\n        target = asset_data.iloc[(i + window), target_col_number]\\n        X.append(features)\\n        y.append(target)\\n    return np.array(X), np.array(y).reshape(-1, 1)\\n\\n\\n# Then, experiment with window sizes anywhere from 1 to 10 and see how the model performance changes\\nwindow_size = 10\\n\\n# Column index 0 is the 'fng_value' column\\n# Column index 1 is the `Close` column\\nfeature_column = 0\\ntarget_column = 0\\nX, y = window_data(asset_data, window_size, feature_column, target_column)\";\n",
       "                var nbb_cells = Jupyter.notebook.get_cells();\n",
       "                for (var i = 0; i < nbb_cells.length; ++i) {\n",
       "                    if (nbb_cells[i].input_prompt_number == nbb_cell_id) {\n",
       "                        if (nbb_cells[i].get_text() == nbb_unformatted_code) {\n",
       "                             nbb_cells[i].set_text(nbb_formatted_code);\n",
       "                        }\n",
       "                        break;\n",
       "                    }\n",
       "                }\n",
       "            }, 500);\n",
       "            "
      ],
      "text/plain": [
       "<IPython.core.display.Javascript object>"
      ]
     },
     "metadata": {},
     "output_type": "display_data"
    },
    {
     "data": {
      "application/javascript": [
       "\n",
       "            setTimeout(function() {\n",
       "                var nbb_cell_id = 128;\n",
       "                var nbb_unformatted_code = \"asset_data = asset_data[\\\"Close\\\"].to_frame()\\n\\n\\ndef window_data(asset_data, window, feature_col_number, target_col_number):\\n    X = []\\n    y = []\\n    for i in range(len(asset_data) - window - 1):\\n        features = asset_data.iloc[i : (i + window), feature_col_number]\\n        target = asset_data.iloc[(i + window), target_col_number]\\n        X.append(features)\\n        y.append(target)\\n    return np.array(X), np.array(y).reshape(-1, 1)\\n\\n\\n# Then, experiment with window sizes anywhere from 1 to 10 and see how the model performance changes\\nwindow_size = 10\\n\\n# Column index 0 is the 'fng_value' column\\n# Column index 1 is the `Close` column\\nfeature_column = 0\\ntarget_column = 0\\nX, y = window_data(asset_data, window_size, feature_column, target_column)\";\n",
       "                var nbb_formatted_code = \"asset_data = asset_data[\\\"Close\\\"].to_frame()\\n\\n\\ndef window_data(asset_data, window, feature_col_number, target_col_number):\\n    X = []\\n    y = []\\n    for i in range(len(asset_data) - window - 1):\\n        features = asset_data.iloc[i : (i + window), feature_col_number]\\n        target = asset_data.iloc[(i + window), target_col_number]\\n        X.append(features)\\n        y.append(target)\\n    return np.array(X), np.array(y).reshape(-1, 1)\\n\\n\\n# Then, experiment with window sizes anywhere from 1 to 10 and see how the model performance changes\\nwindow_size = 10\\n\\n# Column index 0 is the 'fng_value' column\\n# Column index 1 is the `Close` column\\nfeature_column = 0\\ntarget_column = 0\\nX, y = window_data(asset_data, window_size, feature_column, target_column)\";\n",
       "                var nbb_cells = Jupyter.notebook.get_cells();\n",
       "                for (var i = 0; i < nbb_cells.length; ++i) {\n",
       "                    if (nbb_cells[i].input_prompt_number == nbb_cell_id) {\n",
       "                        if (nbb_cells[i].get_text() == nbb_unformatted_code) {\n",
       "                             nbb_cells[i].set_text(nbb_formatted_code);\n",
       "                        }\n",
       "                        break;\n",
       "                    }\n",
       "                }\n",
       "            }, 500);\n",
       "            "
      ],
      "text/plain": [
       "<IPython.core.display.Javascript object>"
      ]
     },
     "metadata": {},
     "output_type": "display_data"
    },
    {
     "data": {
      "application/javascript": [
       "\n",
       "            setTimeout(function() {\n",
       "                var nbb_cell_id = 128;\n",
       "                var nbb_unformatted_code = \"asset_data = asset_data[\\\"Close\\\"].to_frame()\\n\\n\\ndef window_data(asset_data, window, feature_col_number, target_col_number):\\n    X = []\\n    y = []\\n    for i in range(len(asset_data) - window - 1):\\n        features = asset_data.iloc[i : (i + window), feature_col_number]\\n        target = asset_data.iloc[(i + window), target_col_number]\\n        X.append(features)\\n        y.append(target)\\n    return np.array(X), np.array(y).reshape(-1, 1)\\n\\n\\n# Then, experiment with window sizes anywhere from 1 to 10 and see how the model performance changes\\nwindow_size = 10\\n\\n# Column index 0 is the 'fng_value' column\\n# Column index 1 is the `Close` column\\nfeature_column = 0\\ntarget_column = 0\\nX, y = window_data(asset_data, window_size, feature_column, target_column)\";\n",
       "                var nbb_formatted_code = \"asset_data = asset_data[\\\"Close\\\"].to_frame()\\n\\n\\ndef window_data(asset_data, window, feature_col_number, target_col_number):\\n    X = []\\n    y = []\\n    for i in range(len(asset_data) - window - 1):\\n        features = asset_data.iloc[i : (i + window), feature_col_number]\\n        target = asset_data.iloc[(i + window), target_col_number]\\n        X.append(features)\\n        y.append(target)\\n    return np.array(X), np.array(y).reshape(-1, 1)\\n\\n\\n# Then, experiment with window sizes anywhere from 1 to 10 and see how the model performance changes\\nwindow_size = 10\\n\\n# Column index 0 is the 'fng_value' column\\n# Column index 1 is the `Close` column\\nfeature_column = 0\\ntarget_column = 0\\nX, y = window_data(asset_data, window_size, feature_column, target_column)\";\n",
       "                var nbb_cells = Jupyter.notebook.get_cells();\n",
       "                for (var i = 0; i < nbb_cells.length; ++i) {\n",
       "                    if (nbb_cells[i].input_prompt_number == nbb_cell_id) {\n",
       "                        if (nbb_cells[i].get_text() == nbb_unformatted_code) {\n",
       "                             nbb_cells[i].set_text(nbb_formatted_code);\n",
       "                        }\n",
       "                        break;\n",
       "                    }\n",
       "                }\n",
       "            }, 500);\n",
       "            "
      ],
      "text/plain": [
       "<IPython.core.display.Javascript object>"
      ]
     },
     "metadata": {},
     "output_type": "display_data"
    },
    {
     "data": {
      "application/javascript": [
       "\n",
       "            setTimeout(function() {\n",
       "                var nbb_cell_id = 128;\n",
       "                var nbb_unformatted_code = \"asset_data = asset_data[\\\"Close\\\"].to_frame()\\n\\n\\ndef window_data(asset_data, window, feature_col_number, target_col_number):\\n    X = []\\n    y = []\\n    for i in range(len(asset_data) - window - 1):\\n        features = asset_data.iloc[i : (i + window), feature_col_number]\\n        target = asset_data.iloc[(i + window), target_col_number]\\n        X.append(features)\\n        y.append(target)\\n    return np.array(X), np.array(y).reshape(-1, 1)\\n\\n\\n# Then, experiment with window sizes anywhere from 1 to 10 and see how the model performance changes\\nwindow_size = 10\\n\\n# Column index 0 is the 'fng_value' column\\n# Column index 1 is the `Close` column\\nfeature_column = 0\\ntarget_column = 0\\nX, y = window_data(asset_data, window_size, feature_column, target_column)\";\n",
       "                var nbb_formatted_code = \"asset_data = asset_data[\\\"Close\\\"].to_frame()\\n\\n\\ndef window_data(asset_data, window, feature_col_number, target_col_number):\\n    X = []\\n    y = []\\n    for i in range(len(asset_data) - window - 1):\\n        features = asset_data.iloc[i : (i + window), feature_col_number]\\n        target = asset_data.iloc[(i + window), target_col_number]\\n        X.append(features)\\n        y.append(target)\\n    return np.array(X), np.array(y).reshape(-1, 1)\\n\\n\\n# Then, experiment with window sizes anywhere from 1 to 10 and see how the model performance changes\\nwindow_size = 10\\n\\n# Column index 0 is the 'fng_value' column\\n# Column index 1 is the `Close` column\\nfeature_column = 0\\ntarget_column = 0\\nX, y = window_data(asset_data, window_size, feature_column, target_column)\";\n",
       "                var nbb_cells = Jupyter.notebook.get_cells();\n",
       "                for (var i = 0; i < nbb_cells.length; ++i) {\n",
       "                    if (nbb_cells[i].input_prompt_number == nbb_cell_id) {\n",
       "                        if (nbb_cells[i].get_text() == nbb_unformatted_code) {\n",
       "                             nbb_cells[i].set_text(nbb_formatted_code);\n",
       "                        }\n",
       "                        break;\n",
       "                    }\n",
       "                }\n",
       "            }, 500);\n",
       "            "
      ],
      "text/plain": [
       "<IPython.core.display.Javascript object>"
      ]
     },
     "metadata": {},
     "output_type": "display_data"
    }
   ],
   "source": [
    "asset_data = asset_data[\"Close\"].to_frame()\n",
    "\n",
    "\n",
    "def window_data(asset_data, window, feature_col_number, target_col_number):\n",
    "    X = []\n",
    "    y = []\n",
    "    for i in range(len(asset_data) - window - 1):\n",
    "        features = asset_data.iloc[i : (i + window), feature_col_number]\n",
    "        target = asset_data.iloc[(i + window), target_col_number]\n",
    "        X.append(features)\n",
    "        y.append(target)\n",
    "    return np.array(X), np.array(y).reshape(-1, 1)\n",
    "\n",
    "\n",
    "# Then, experiment with window sizes anywhere from 1 to 10 and see how the model performance changes\n",
    "window_size = 10\n",
    "\n",
    "# Column index 0 is the 'fng_value' column\n",
    "# Column index 1 is the `Close` column\n",
    "feature_column = 0\n",
    "target_column = 0\n",
    "X, y = window_data(asset_data, window_size, feature_column, target_column)"
   ]
  },
  {
   "cell_type": "code",
   "execution_count": 129,
   "id": "1939ff6b",
   "metadata": {},
   "outputs": [
    {
     "data": {
      "application/javascript": [
       "\n",
       "            setTimeout(function() {\n",
       "                var nbb_cell_id = 129;\n",
       "                var nbb_unformatted_code = \"split = int(0.7 * len(X))\\nX_train = X[:split]\\nX_test = X[split:]\\ny_train = y[:split]\\ny_test = y[split:]\";\n",
       "                var nbb_formatted_code = \"split = int(0.7 * len(X))\\nX_train = X[:split]\\nX_test = X[split:]\\ny_train = y[:split]\\ny_test = y[split:]\";\n",
       "                var nbb_cells = Jupyter.notebook.get_cells();\n",
       "                for (var i = 0; i < nbb_cells.length; ++i) {\n",
       "                    if (nbb_cells[i].input_prompt_number == nbb_cell_id) {\n",
       "                        if (nbb_cells[i].get_text() == nbb_unformatted_code) {\n",
       "                             nbb_cells[i].set_text(nbb_formatted_code);\n",
       "                        }\n",
       "                        break;\n",
       "                    }\n",
       "                }\n",
       "            }, 500);\n",
       "            "
      ],
      "text/plain": [
       "<IPython.core.display.Javascript object>"
      ]
     },
     "metadata": {},
     "output_type": "display_data"
    },
    {
     "data": {
      "application/javascript": [
       "\n",
       "            setTimeout(function() {\n",
       "                var nbb_cell_id = 129;\n",
       "                var nbb_unformatted_code = \"split = int(0.7 * len(X))\\nX_train = X[:split]\\nX_test = X[split:]\\ny_train = y[:split]\\ny_test = y[split:]\";\n",
       "                var nbb_formatted_code = \"split = int(0.7 * len(X))\\nX_train = X[:split]\\nX_test = X[split:]\\ny_train = y[:split]\\ny_test = y[split:]\";\n",
       "                var nbb_cells = Jupyter.notebook.get_cells();\n",
       "                for (var i = 0; i < nbb_cells.length; ++i) {\n",
       "                    if (nbb_cells[i].input_prompt_number == nbb_cell_id) {\n",
       "                        if (nbb_cells[i].get_text() == nbb_unformatted_code) {\n",
       "                             nbb_cells[i].set_text(nbb_formatted_code);\n",
       "                        }\n",
       "                        break;\n",
       "                    }\n",
       "                }\n",
       "            }, 500);\n",
       "            "
      ],
      "text/plain": [
       "<IPython.core.display.Javascript object>"
      ]
     },
     "metadata": {},
     "output_type": "display_data"
    },
    {
     "data": {
      "application/javascript": [
       "\n",
       "            setTimeout(function() {\n",
       "                var nbb_cell_id = 129;\n",
       "                var nbb_unformatted_code = \"split = int(0.7 * len(X))\\nX_train = X[:split]\\nX_test = X[split:]\\ny_train = y[:split]\\ny_test = y[split:]\";\n",
       "                var nbb_formatted_code = \"split = int(0.7 * len(X))\\nX_train = X[:split]\\nX_test = X[split:]\\ny_train = y[:split]\\ny_test = y[split:]\";\n",
       "                var nbb_cells = Jupyter.notebook.get_cells();\n",
       "                for (var i = 0; i < nbb_cells.length; ++i) {\n",
       "                    if (nbb_cells[i].input_prompt_number == nbb_cell_id) {\n",
       "                        if (nbb_cells[i].get_text() == nbb_unformatted_code) {\n",
       "                             nbb_cells[i].set_text(nbb_formatted_code);\n",
       "                        }\n",
       "                        break;\n",
       "                    }\n",
       "                }\n",
       "            }, 500);\n",
       "            "
      ],
      "text/plain": [
       "<IPython.core.display.Javascript object>"
      ]
     },
     "metadata": {},
     "output_type": "display_data"
    },
    {
     "data": {
      "application/javascript": [
       "\n",
       "            setTimeout(function() {\n",
       "                var nbb_cell_id = 129;\n",
       "                var nbb_unformatted_code = \"split = int(0.7 * len(X))\\nX_train = X[:split]\\nX_test = X[split:]\\ny_train = y[:split]\\ny_test = y[split:]\";\n",
       "                var nbb_formatted_code = \"split = int(0.7 * len(X))\\nX_train = X[:split]\\nX_test = X[split:]\\ny_train = y[:split]\\ny_test = y[split:]\";\n",
       "                var nbb_cells = Jupyter.notebook.get_cells();\n",
       "                for (var i = 0; i < nbb_cells.length; ++i) {\n",
       "                    if (nbb_cells[i].input_prompt_number == nbb_cell_id) {\n",
       "                        if (nbb_cells[i].get_text() == nbb_unformatted_code) {\n",
       "                             nbb_cells[i].set_text(nbb_formatted_code);\n",
       "                        }\n",
       "                        break;\n",
       "                    }\n",
       "                }\n",
       "            }, 500);\n",
       "            "
      ],
      "text/plain": [
       "<IPython.core.display.Javascript object>"
      ]
     },
     "metadata": {},
     "output_type": "display_data"
    },
    {
     "data": {
      "application/javascript": [
       "\n",
       "            setTimeout(function() {\n",
       "                var nbb_cell_id = 129;\n",
       "                var nbb_unformatted_code = \"split = int(0.7 * len(X))\\nX_train = X[:split]\\nX_test = X[split:]\\ny_train = y[:split]\\ny_test = y[split:]\";\n",
       "                var nbb_formatted_code = \"split = int(0.7 * len(X))\\nX_train = X[:split]\\nX_test = X[split:]\\ny_train = y[:split]\\ny_test = y[split:]\";\n",
       "                var nbb_cells = Jupyter.notebook.get_cells();\n",
       "                for (var i = 0; i < nbb_cells.length; ++i) {\n",
       "                    if (nbb_cells[i].input_prompt_number == nbb_cell_id) {\n",
       "                        if (nbb_cells[i].get_text() == nbb_unformatted_code) {\n",
       "                             nbb_cells[i].set_text(nbb_formatted_code);\n",
       "                        }\n",
       "                        break;\n",
       "                    }\n",
       "                }\n",
       "            }, 500);\n",
       "            "
      ],
      "text/plain": [
       "<IPython.core.display.Javascript object>"
      ]
     },
     "metadata": {},
     "output_type": "display_data"
    },
    {
     "data": {
      "application/javascript": [
       "\n",
       "            setTimeout(function() {\n",
       "                var nbb_cell_id = 129;\n",
       "                var nbb_unformatted_code = \"split = int(0.7 * len(X))\\nX_train = X[:split]\\nX_test = X[split:]\\ny_train = y[:split]\\ny_test = y[split:]\";\n",
       "                var nbb_formatted_code = \"split = int(0.7 * len(X))\\nX_train = X[:split]\\nX_test = X[split:]\\ny_train = y[:split]\\ny_test = y[split:]\";\n",
       "                var nbb_cells = Jupyter.notebook.get_cells();\n",
       "                for (var i = 0; i < nbb_cells.length; ++i) {\n",
       "                    if (nbb_cells[i].input_prompt_number == nbb_cell_id) {\n",
       "                        if (nbb_cells[i].get_text() == nbb_unformatted_code) {\n",
       "                             nbb_cells[i].set_text(nbb_formatted_code);\n",
       "                        }\n",
       "                        break;\n",
       "                    }\n",
       "                }\n",
       "            }, 500);\n",
       "            "
      ],
      "text/plain": [
       "<IPython.core.display.Javascript object>"
      ]
     },
     "metadata": {},
     "output_type": "display_data"
    },
    {
     "data": {
      "application/javascript": [
       "\n",
       "            setTimeout(function() {\n",
       "                var nbb_cell_id = 129;\n",
       "                var nbb_unformatted_code = \"split = int(0.7 * len(X))\\nX_train = X[:split]\\nX_test = X[split:]\\ny_train = y[:split]\\ny_test = y[split:]\";\n",
       "                var nbb_formatted_code = \"split = int(0.7 * len(X))\\nX_train = X[:split]\\nX_test = X[split:]\\ny_train = y[:split]\\ny_test = y[split:]\";\n",
       "                var nbb_cells = Jupyter.notebook.get_cells();\n",
       "                for (var i = 0; i < nbb_cells.length; ++i) {\n",
       "                    if (nbb_cells[i].input_prompt_number == nbb_cell_id) {\n",
       "                        if (nbb_cells[i].get_text() == nbb_unformatted_code) {\n",
       "                             nbb_cells[i].set_text(nbb_formatted_code);\n",
       "                        }\n",
       "                        break;\n",
       "                    }\n",
       "                }\n",
       "            }, 500);\n",
       "            "
      ],
      "text/plain": [
       "<IPython.core.display.Javascript object>"
      ]
     },
     "metadata": {},
     "output_type": "display_data"
    },
    {
     "data": {
      "application/javascript": [
       "\n",
       "            setTimeout(function() {\n",
       "                var nbb_cell_id = 129;\n",
       "                var nbb_unformatted_code = \"split = int(0.7 * len(X))\\nX_train = X[:split]\\nX_test = X[split:]\\ny_train = y[:split]\\ny_test = y[split:]\";\n",
       "                var nbb_formatted_code = \"split = int(0.7 * len(X))\\nX_train = X[:split]\\nX_test = X[split:]\\ny_train = y[:split]\\ny_test = y[split:]\";\n",
       "                var nbb_cells = Jupyter.notebook.get_cells();\n",
       "                for (var i = 0; i < nbb_cells.length; ++i) {\n",
       "                    if (nbb_cells[i].input_prompt_number == nbb_cell_id) {\n",
       "                        if (nbb_cells[i].get_text() == nbb_unformatted_code) {\n",
       "                             nbb_cells[i].set_text(nbb_formatted_code);\n",
       "                        }\n",
       "                        break;\n",
       "                    }\n",
       "                }\n",
       "            }, 500);\n",
       "            "
      ],
      "text/plain": [
       "<IPython.core.display.Javascript object>"
      ]
     },
     "metadata": {},
     "output_type": "display_data"
    },
    {
     "data": {
      "application/javascript": [
       "\n",
       "            setTimeout(function() {\n",
       "                var nbb_cell_id = 129;\n",
       "                var nbb_unformatted_code = \"split = int(0.7 * len(X))\\nX_train = X[:split]\\nX_test = X[split:]\\ny_train = y[:split]\\ny_test = y[split:]\";\n",
       "                var nbb_formatted_code = \"split = int(0.7 * len(X))\\nX_train = X[:split]\\nX_test = X[split:]\\ny_train = y[:split]\\ny_test = y[split:]\";\n",
       "                var nbb_cells = Jupyter.notebook.get_cells();\n",
       "                for (var i = 0; i < nbb_cells.length; ++i) {\n",
       "                    if (nbb_cells[i].input_prompt_number == nbb_cell_id) {\n",
       "                        if (nbb_cells[i].get_text() == nbb_unformatted_code) {\n",
       "                             nbb_cells[i].set_text(nbb_formatted_code);\n",
       "                        }\n",
       "                        break;\n",
       "                    }\n",
       "                }\n",
       "            }, 500);\n",
       "            "
      ],
      "text/plain": [
       "<IPython.core.display.Javascript object>"
      ]
     },
     "metadata": {},
     "output_type": "display_data"
    },
    {
     "data": {
      "application/javascript": [
       "\n",
       "            setTimeout(function() {\n",
       "                var nbb_cell_id = 129;\n",
       "                var nbb_unformatted_code = \"split = int(0.7 * len(X))\\nX_train = X[:split]\\nX_test = X[split:]\\ny_train = y[:split]\\ny_test = y[split:]\";\n",
       "                var nbb_formatted_code = \"split = int(0.7 * len(X))\\nX_train = X[:split]\\nX_test = X[split:]\\ny_train = y[:split]\\ny_test = y[split:]\";\n",
       "                var nbb_cells = Jupyter.notebook.get_cells();\n",
       "                for (var i = 0; i < nbb_cells.length; ++i) {\n",
       "                    if (nbb_cells[i].input_prompt_number == nbb_cell_id) {\n",
       "                        if (nbb_cells[i].get_text() == nbb_unformatted_code) {\n",
       "                             nbb_cells[i].set_text(nbb_formatted_code);\n",
       "                        }\n",
       "                        break;\n",
       "                    }\n",
       "                }\n",
       "            }, 500);\n",
       "            "
      ],
      "text/plain": [
       "<IPython.core.display.Javascript object>"
      ]
     },
     "metadata": {},
     "output_type": "display_data"
    }
   ],
   "source": [
    "split = int(0.7 * len(X))\n",
    "X_train = X[:split]\n",
    "X_test = X[split:]\n",
    "y_train = y[:split]\n",
    "y_test = y[split:]"
   ]
  },
  {
   "cell_type": "code",
   "execution_count": 130,
   "id": "193d1908",
   "metadata": {},
   "outputs": [
    {
     "data": {
      "application/javascript": [
       "\n",
       "            setTimeout(function() {\n",
       "                var nbb_cell_id = 130;\n",
       "                var nbb_unformatted_code = \"# Use the MinMaxScaler to scale data between 0 and 1.\\nscaler = MinMaxScaler()\\n\\n# Fit the scaler object with the training feature data\\nscaler.fit(X_train)\\n\\n# Scale the feature training and test data\\nX_train = scaler.transform(X_train)\\nX_test = scaler.transform(X_test)\\n\\n# Fit the minmaxscaler\\nscaler.fit(y_train)\\n\\n# Scale the target training and testing sets\\ny_train = scaler.transform(y_train)\\ny_test = scaler.transform(y_test)\";\n",
       "                var nbb_formatted_code = \"# Use the MinMaxScaler to scale data between 0 and 1.\\nscaler = MinMaxScaler()\\n\\n# Fit the scaler object with the training feature data\\nscaler.fit(X_train)\\n\\n# Scale the feature training and test data\\nX_train = scaler.transform(X_train)\\nX_test = scaler.transform(X_test)\\n\\n# Fit the minmaxscaler\\nscaler.fit(y_train)\\n\\n# Scale the target training and testing sets\\ny_train = scaler.transform(y_train)\\ny_test = scaler.transform(y_test)\";\n",
       "                var nbb_cells = Jupyter.notebook.get_cells();\n",
       "                for (var i = 0; i < nbb_cells.length; ++i) {\n",
       "                    if (nbb_cells[i].input_prompt_number == nbb_cell_id) {\n",
       "                        if (nbb_cells[i].get_text() == nbb_unformatted_code) {\n",
       "                             nbb_cells[i].set_text(nbb_formatted_code);\n",
       "                        }\n",
       "                        break;\n",
       "                    }\n",
       "                }\n",
       "            }, 500);\n",
       "            "
      ],
      "text/plain": [
       "<IPython.core.display.Javascript object>"
      ]
     },
     "metadata": {},
     "output_type": "display_data"
    },
    {
     "data": {
      "application/javascript": [
       "\n",
       "            setTimeout(function() {\n",
       "                var nbb_cell_id = 130;\n",
       "                var nbb_unformatted_code = \"# Use the MinMaxScaler to scale data between 0 and 1.\\nscaler = MinMaxScaler()\\n\\n# Fit the scaler object with the training feature data\\nscaler.fit(X_train)\\n\\n# Scale the feature training and test data\\nX_train = scaler.transform(X_train)\\nX_test = scaler.transform(X_test)\\n\\n# Fit the minmaxscaler\\nscaler.fit(y_train)\\n\\n# Scale the target training and testing sets\\ny_train = scaler.transform(y_train)\\ny_test = scaler.transform(y_test)\";\n",
       "                var nbb_formatted_code = \"# Use the MinMaxScaler to scale data between 0 and 1.\\nscaler = MinMaxScaler()\\n\\n# Fit the scaler object with the training feature data\\nscaler.fit(X_train)\\n\\n# Scale the feature training and test data\\nX_train = scaler.transform(X_train)\\nX_test = scaler.transform(X_test)\\n\\n# Fit the minmaxscaler\\nscaler.fit(y_train)\\n\\n# Scale the target training and testing sets\\ny_train = scaler.transform(y_train)\\ny_test = scaler.transform(y_test)\";\n",
       "                var nbb_cells = Jupyter.notebook.get_cells();\n",
       "                for (var i = 0; i < nbb_cells.length; ++i) {\n",
       "                    if (nbb_cells[i].input_prompt_number == nbb_cell_id) {\n",
       "                        if (nbb_cells[i].get_text() == nbb_unformatted_code) {\n",
       "                             nbb_cells[i].set_text(nbb_formatted_code);\n",
       "                        }\n",
       "                        break;\n",
       "                    }\n",
       "                }\n",
       "            }, 500);\n",
       "            "
      ],
      "text/plain": [
       "<IPython.core.display.Javascript object>"
      ]
     },
     "metadata": {},
     "output_type": "display_data"
    },
    {
     "data": {
      "application/javascript": [
       "\n",
       "            setTimeout(function() {\n",
       "                var nbb_cell_id = 130;\n",
       "                var nbb_unformatted_code = \"# Use the MinMaxScaler to scale data between 0 and 1.\\nscaler = MinMaxScaler()\\n\\n# Fit the scaler object with the training feature data\\nscaler.fit(X_train)\\n\\n# Scale the feature training and test data\\nX_train = scaler.transform(X_train)\\nX_test = scaler.transform(X_test)\\n\\n# Fit the minmaxscaler\\nscaler.fit(y_train)\\n\\n# Scale the target training and testing sets\\ny_train = scaler.transform(y_train)\\ny_test = scaler.transform(y_test)\";\n",
       "                var nbb_formatted_code = \"# Use the MinMaxScaler to scale data between 0 and 1.\\nscaler = MinMaxScaler()\\n\\n# Fit the scaler object with the training feature data\\nscaler.fit(X_train)\\n\\n# Scale the feature training and test data\\nX_train = scaler.transform(X_train)\\nX_test = scaler.transform(X_test)\\n\\n# Fit the minmaxscaler\\nscaler.fit(y_train)\\n\\n# Scale the target training and testing sets\\ny_train = scaler.transform(y_train)\\ny_test = scaler.transform(y_test)\";\n",
       "                var nbb_cells = Jupyter.notebook.get_cells();\n",
       "                for (var i = 0; i < nbb_cells.length; ++i) {\n",
       "                    if (nbb_cells[i].input_prompt_number == nbb_cell_id) {\n",
       "                        if (nbb_cells[i].get_text() == nbb_unformatted_code) {\n",
       "                             nbb_cells[i].set_text(nbb_formatted_code);\n",
       "                        }\n",
       "                        break;\n",
       "                    }\n",
       "                }\n",
       "            }, 500);\n",
       "            "
      ],
      "text/plain": [
       "<IPython.core.display.Javascript object>"
      ]
     },
     "metadata": {},
     "output_type": "display_data"
    },
    {
     "data": {
      "application/javascript": [
       "\n",
       "            setTimeout(function() {\n",
       "                var nbb_cell_id = 130;\n",
       "                var nbb_unformatted_code = \"# Use the MinMaxScaler to scale data between 0 and 1.\\nscaler = MinMaxScaler()\\n\\n# Fit the scaler object with the training feature data\\nscaler.fit(X_train)\\n\\n# Scale the feature training and test data\\nX_train = scaler.transform(X_train)\\nX_test = scaler.transform(X_test)\\n\\n# Fit the minmaxscaler\\nscaler.fit(y_train)\\n\\n# Scale the target training and testing sets\\ny_train = scaler.transform(y_train)\\ny_test = scaler.transform(y_test)\";\n",
       "                var nbb_formatted_code = \"# Use the MinMaxScaler to scale data between 0 and 1.\\nscaler = MinMaxScaler()\\n\\n# Fit the scaler object with the training feature data\\nscaler.fit(X_train)\\n\\n# Scale the feature training and test data\\nX_train = scaler.transform(X_train)\\nX_test = scaler.transform(X_test)\\n\\n# Fit the minmaxscaler\\nscaler.fit(y_train)\\n\\n# Scale the target training and testing sets\\ny_train = scaler.transform(y_train)\\ny_test = scaler.transform(y_test)\";\n",
       "                var nbb_cells = Jupyter.notebook.get_cells();\n",
       "                for (var i = 0; i < nbb_cells.length; ++i) {\n",
       "                    if (nbb_cells[i].input_prompt_number == nbb_cell_id) {\n",
       "                        if (nbb_cells[i].get_text() == nbb_unformatted_code) {\n",
       "                             nbb_cells[i].set_text(nbb_formatted_code);\n",
       "                        }\n",
       "                        break;\n",
       "                    }\n",
       "                }\n",
       "            }, 500);\n",
       "            "
      ],
      "text/plain": [
       "<IPython.core.display.Javascript object>"
      ]
     },
     "metadata": {},
     "output_type": "display_data"
    },
    {
     "data": {
      "application/javascript": [
       "\n",
       "            setTimeout(function() {\n",
       "                var nbb_cell_id = 130;\n",
       "                var nbb_unformatted_code = \"# Use the MinMaxScaler to scale data between 0 and 1.\\nscaler = MinMaxScaler()\\n\\n# Fit the scaler object with the training feature data\\nscaler.fit(X_train)\\n\\n# Scale the feature training and test data\\nX_train = scaler.transform(X_train)\\nX_test = scaler.transform(X_test)\\n\\n# Fit the minmaxscaler\\nscaler.fit(y_train)\\n\\n# Scale the target training and testing sets\\ny_train = scaler.transform(y_train)\\ny_test = scaler.transform(y_test)\";\n",
       "                var nbb_formatted_code = \"# Use the MinMaxScaler to scale data between 0 and 1.\\nscaler = MinMaxScaler()\\n\\n# Fit the scaler object with the training feature data\\nscaler.fit(X_train)\\n\\n# Scale the feature training and test data\\nX_train = scaler.transform(X_train)\\nX_test = scaler.transform(X_test)\\n\\n# Fit the minmaxscaler\\nscaler.fit(y_train)\\n\\n# Scale the target training and testing sets\\ny_train = scaler.transform(y_train)\\ny_test = scaler.transform(y_test)\";\n",
       "                var nbb_cells = Jupyter.notebook.get_cells();\n",
       "                for (var i = 0; i < nbb_cells.length; ++i) {\n",
       "                    if (nbb_cells[i].input_prompt_number == nbb_cell_id) {\n",
       "                        if (nbb_cells[i].get_text() == nbb_unformatted_code) {\n",
       "                             nbb_cells[i].set_text(nbb_formatted_code);\n",
       "                        }\n",
       "                        break;\n",
       "                    }\n",
       "                }\n",
       "            }, 500);\n",
       "            "
      ],
      "text/plain": [
       "<IPython.core.display.Javascript object>"
      ]
     },
     "metadata": {},
     "output_type": "display_data"
    },
    {
     "data": {
      "application/javascript": [
       "\n",
       "            setTimeout(function() {\n",
       "                var nbb_cell_id = 130;\n",
       "                var nbb_unformatted_code = \"# Use the MinMaxScaler to scale data between 0 and 1.\\nscaler = MinMaxScaler()\\n\\n# Fit the scaler object with the training feature data\\nscaler.fit(X_train)\\n\\n# Scale the feature training and test data\\nX_train = scaler.transform(X_train)\\nX_test = scaler.transform(X_test)\\n\\n# Fit the minmaxscaler\\nscaler.fit(y_train)\\n\\n# Scale the target training and testing sets\\ny_train = scaler.transform(y_train)\\ny_test = scaler.transform(y_test)\";\n",
       "                var nbb_formatted_code = \"# Use the MinMaxScaler to scale data between 0 and 1.\\nscaler = MinMaxScaler()\\n\\n# Fit the scaler object with the training feature data\\nscaler.fit(X_train)\\n\\n# Scale the feature training and test data\\nX_train = scaler.transform(X_train)\\nX_test = scaler.transform(X_test)\\n\\n# Fit the minmaxscaler\\nscaler.fit(y_train)\\n\\n# Scale the target training and testing sets\\ny_train = scaler.transform(y_train)\\ny_test = scaler.transform(y_test)\";\n",
       "                var nbb_cells = Jupyter.notebook.get_cells();\n",
       "                for (var i = 0; i < nbb_cells.length; ++i) {\n",
       "                    if (nbb_cells[i].input_prompt_number == nbb_cell_id) {\n",
       "                        if (nbb_cells[i].get_text() == nbb_unformatted_code) {\n",
       "                             nbb_cells[i].set_text(nbb_formatted_code);\n",
       "                        }\n",
       "                        break;\n",
       "                    }\n",
       "                }\n",
       "            }, 500);\n",
       "            "
      ],
      "text/plain": [
       "<IPython.core.display.Javascript object>"
      ]
     },
     "metadata": {},
     "output_type": "display_data"
    },
    {
     "data": {
      "application/javascript": [
       "\n",
       "            setTimeout(function() {\n",
       "                var nbb_cell_id = 130;\n",
       "                var nbb_unformatted_code = \"# Use the MinMaxScaler to scale data between 0 and 1.\\nscaler = MinMaxScaler()\\n\\n# Fit the scaler object with the training feature data\\nscaler.fit(X_train)\\n\\n# Scale the feature training and test data\\nX_train = scaler.transform(X_train)\\nX_test = scaler.transform(X_test)\\n\\n# Fit the minmaxscaler\\nscaler.fit(y_train)\\n\\n# Scale the target training and testing sets\\ny_train = scaler.transform(y_train)\\ny_test = scaler.transform(y_test)\";\n",
       "                var nbb_formatted_code = \"# Use the MinMaxScaler to scale data between 0 and 1.\\nscaler = MinMaxScaler()\\n\\n# Fit the scaler object with the training feature data\\nscaler.fit(X_train)\\n\\n# Scale the feature training and test data\\nX_train = scaler.transform(X_train)\\nX_test = scaler.transform(X_test)\\n\\n# Fit the minmaxscaler\\nscaler.fit(y_train)\\n\\n# Scale the target training and testing sets\\ny_train = scaler.transform(y_train)\\ny_test = scaler.transform(y_test)\";\n",
       "                var nbb_cells = Jupyter.notebook.get_cells();\n",
       "                for (var i = 0; i < nbb_cells.length; ++i) {\n",
       "                    if (nbb_cells[i].input_prompt_number == nbb_cell_id) {\n",
       "                        if (nbb_cells[i].get_text() == nbb_unformatted_code) {\n",
       "                             nbb_cells[i].set_text(nbb_formatted_code);\n",
       "                        }\n",
       "                        break;\n",
       "                    }\n",
       "                }\n",
       "            }, 500);\n",
       "            "
      ],
      "text/plain": [
       "<IPython.core.display.Javascript object>"
      ]
     },
     "metadata": {},
     "output_type": "display_data"
    },
    {
     "data": {
      "application/javascript": [
       "\n",
       "            setTimeout(function() {\n",
       "                var nbb_cell_id = 130;\n",
       "                var nbb_unformatted_code = \"# Use the MinMaxScaler to scale data between 0 and 1.\\nscaler = MinMaxScaler()\\n\\n# Fit the scaler object with the training feature data\\nscaler.fit(X_train)\\n\\n# Scale the feature training and test data\\nX_train = scaler.transform(X_train)\\nX_test = scaler.transform(X_test)\\n\\n# Fit the minmaxscaler\\nscaler.fit(y_train)\\n\\n# Scale the target training and testing sets\\ny_train = scaler.transform(y_train)\\ny_test = scaler.transform(y_test)\";\n",
       "                var nbb_formatted_code = \"# Use the MinMaxScaler to scale data between 0 and 1.\\nscaler = MinMaxScaler()\\n\\n# Fit the scaler object with the training feature data\\nscaler.fit(X_train)\\n\\n# Scale the feature training and test data\\nX_train = scaler.transform(X_train)\\nX_test = scaler.transform(X_test)\\n\\n# Fit the minmaxscaler\\nscaler.fit(y_train)\\n\\n# Scale the target training and testing sets\\ny_train = scaler.transform(y_train)\\ny_test = scaler.transform(y_test)\";\n",
       "                var nbb_cells = Jupyter.notebook.get_cells();\n",
       "                for (var i = 0; i < nbb_cells.length; ++i) {\n",
       "                    if (nbb_cells[i].input_prompt_number == nbb_cell_id) {\n",
       "                        if (nbb_cells[i].get_text() == nbb_unformatted_code) {\n",
       "                             nbb_cells[i].set_text(nbb_formatted_code);\n",
       "                        }\n",
       "                        break;\n",
       "                    }\n",
       "                }\n",
       "            }, 500);\n",
       "            "
      ],
      "text/plain": [
       "<IPython.core.display.Javascript object>"
      ]
     },
     "metadata": {},
     "output_type": "display_data"
    },
    {
     "data": {
      "application/javascript": [
       "\n",
       "            setTimeout(function() {\n",
       "                var nbb_cell_id = 130;\n",
       "                var nbb_unformatted_code = \"# Use the MinMaxScaler to scale data between 0 and 1.\\nscaler = MinMaxScaler()\\n\\n# Fit the scaler object with the training feature data\\nscaler.fit(X_train)\\n\\n# Scale the feature training and test data\\nX_train = scaler.transform(X_train)\\nX_test = scaler.transform(X_test)\\n\\n# Fit the minmaxscaler\\nscaler.fit(y_train)\\n\\n# Scale the target training and testing sets\\ny_train = scaler.transform(y_train)\\ny_test = scaler.transform(y_test)\";\n",
       "                var nbb_formatted_code = \"# Use the MinMaxScaler to scale data between 0 and 1.\\nscaler = MinMaxScaler()\\n\\n# Fit the scaler object with the training feature data\\nscaler.fit(X_train)\\n\\n# Scale the feature training and test data\\nX_train = scaler.transform(X_train)\\nX_test = scaler.transform(X_test)\\n\\n# Fit the minmaxscaler\\nscaler.fit(y_train)\\n\\n# Scale the target training and testing sets\\ny_train = scaler.transform(y_train)\\ny_test = scaler.transform(y_test)\";\n",
       "                var nbb_cells = Jupyter.notebook.get_cells();\n",
       "                for (var i = 0; i < nbb_cells.length; ++i) {\n",
       "                    if (nbb_cells[i].input_prompt_number == nbb_cell_id) {\n",
       "                        if (nbb_cells[i].get_text() == nbb_unformatted_code) {\n",
       "                             nbb_cells[i].set_text(nbb_formatted_code);\n",
       "                        }\n",
       "                        break;\n",
       "                    }\n",
       "                }\n",
       "            }, 500);\n",
       "            "
      ],
      "text/plain": [
       "<IPython.core.display.Javascript object>"
      ]
     },
     "metadata": {},
     "output_type": "display_data"
    },
    {
     "data": {
      "application/javascript": [
       "\n",
       "            setTimeout(function() {\n",
       "                var nbb_cell_id = 130;\n",
       "                var nbb_unformatted_code = \"# Use the MinMaxScaler to scale data between 0 and 1.\\nscaler = MinMaxScaler()\\n\\n# Fit the scaler object with the training feature data\\nscaler.fit(X_train)\\n\\n# Scale the feature training and test data\\nX_train = scaler.transform(X_train)\\nX_test = scaler.transform(X_test)\\n\\n# Fit the minmaxscaler\\nscaler.fit(y_train)\\n\\n# Scale the target training and testing sets\\ny_train = scaler.transform(y_train)\\ny_test = scaler.transform(y_test)\";\n",
       "                var nbb_formatted_code = \"# Use the MinMaxScaler to scale data between 0 and 1.\\nscaler = MinMaxScaler()\\n\\n# Fit the scaler object with the training feature data\\nscaler.fit(X_train)\\n\\n# Scale the feature training and test data\\nX_train = scaler.transform(X_train)\\nX_test = scaler.transform(X_test)\\n\\n# Fit the minmaxscaler\\nscaler.fit(y_train)\\n\\n# Scale the target training and testing sets\\ny_train = scaler.transform(y_train)\\ny_test = scaler.transform(y_test)\";\n",
       "                var nbb_cells = Jupyter.notebook.get_cells();\n",
       "                for (var i = 0; i < nbb_cells.length; ++i) {\n",
       "                    if (nbb_cells[i].input_prompt_number == nbb_cell_id) {\n",
       "                        if (nbb_cells[i].get_text() == nbb_unformatted_code) {\n",
       "                             nbb_cells[i].set_text(nbb_formatted_code);\n",
       "                        }\n",
       "                        break;\n",
       "                    }\n",
       "                }\n",
       "            }, 500);\n",
       "            "
      ],
      "text/plain": [
       "<IPython.core.display.Javascript object>"
      ]
     },
     "metadata": {},
     "output_type": "display_data"
    }
   ],
   "source": [
    "# Use the MinMaxScaler to scale data between 0 and 1.\n",
    "scaler = MinMaxScaler()\n",
    "\n",
    "# Fit the scaler object with the training feature data\n",
    "scaler.fit(X_train)\n",
    "\n",
    "# Scale the feature training and test data\n",
    "X_train = scaler.transform(X_train)\n",
    "X_test = scaler.transform(X_test)\n",
    "\n",
    "# Fit the minmaxscaler\n",
    "scaler.fit(y_train)\n",
    "\n",
    "# Scale the target training and testing sets\n",
    "y_train = scaler.transform(y_train)\n",
    "y_test = scaler.transform(y_test)"
   ]
  },
  {
   "cell_type": "code",
   "execution_count": 131,
   "id": "5bdff857",
   "metadata": {},
   "outputs": [
    {
     "data": {
      "application/javascript": [
       "\n",
       "            setTimeout(function() {\n",
       "                var nbb_cell_id = 131;\n",
       "                var nbb_unformatted_code = \"# Reshape the features for the model\\nX_train = X_train.reshape((X_train.shape[0], X_train.shape[1], 1))\\nX_test = X_test.reshape((X_test.shape[0], X_test.shape[1], 1))\\n\\n# Define the LSTM RNN model.\\nmodel = Sequential()\\n\\nnumber_units = 5\\ndropout_fraction = 0.2\\n\\n# Layer 1\\nmodel.add(\\n    LSTM(units=number_units, return_sequences=True, input_shape=(X_train.shape[1], 1),)\\n)\\nmodel.add(Dropout(dropout_fraction))\\n# Layer 2\\nmodel.add(LSTM(units=number_units, return_sequences=True))\\nmodel.add(Dropout(dropout_fraction))\\n# Layer 3\\nmodel.add(LSTM(units=number_units))\\nmodel.add(Dropout(dropout_fraction))\\n# Output layer\\nmodel.add(Dense(1))\";\n",
       "                var nbb_formatted_code = \"# Reshape the features for the model\\nX_train = X_train.reshape((X_train.shape[0], X_train.shape[1], 1))\\nX_test = X_test.reshape((X_test.shape[0], X_test.shape[1], 1))\\n\\n# Define the LSTM RNN model.\\nmodel = Sequential()\\n\\nnumber_units = 5\\ndropout_fraction = 0.2\\n\\n# Layer 1\\nmodel.add(\\n    LSTM(units=number_units, return_sequences=True, input_shape=(X_train.shape[1], 1),)\\n)\\nmodel.add(Dropout(dropout_fraction))\\n# Layer 2\\nmodel.add(LSTM(units=number_units, return_sequences=True))\\nmodel.add(Dropout(dropout_fraction))\\n# Layer 3\\nmodel.add(LSTM(units=number_units))\\nmodel.add(Dropout(dropout_fraction))\\n# Output layer\\nmodel.add(Dense(1))\";\n",
       "                var nbb_cells = Jupyter.notebook.get_cells();\n",
       "                for (var i = 0; i < nbb_cells.length; ++i) {\n",
       "                    if (nbb_cells[i].input_prompt_number == nbb_cell_id) {\n",
       "                        if (nbb_cells[i].get_text() == nbb_unformatted_code) {\n",
       "                             nbb_cells[i].set_text(nbb_formatted_code);\n",
       "                        }\n",
       "                        break;\n",
       "                    }\n",
       "                }\n",
       "            }, 500);\n",
       "            "
      ],
      "text/plain": [
       "<IPython.core.display.Javascript object>"
      ]
     },
     "metadata": {},
     "output_type": "display_data"
    },
    {
     "data": {
      "application/javascript": [
       "\n",
       "            setTimeout(function() {\n",
       "                var nbb_cell_id = 131;\n",
       "                var nbb_unformatted_code = \"# Reshape the features for the model\\nX_train = X_train.reshape((X_train.shape[0], X_train.shape[1], 1))\\nX_test = X_test.reshape((X_test.shape[0], X_test.shape[1], 1))\\n\\n# Define the LSTM RNN model.\\nmodel = Sequential()\\n\\nnumber_units = 5\\ndropout_fraction = 0.2\\n\\n# Layer 1\\nmodel.add(\\n    LSTM(units=number_units, return_sequences=True, input_shape=(X_train.shape[1], 1),)\\n)\\nmodel.add(Dropout(dropout_fraction))\\n# Layer 2\\nmodel.add(LSTM(units=number_units, return_sequences=True))\\nmodel.add(Dropout(dropout_fraction))\\n# Layer 3\\nmodel.add(LSTM(units=number_units))\\nmodel.add(Dropout(dropout_fraction))\\n# Output layer\\nmodel.add(Dense(1))\";\n",
       "                var nbb_formatted_code = \"# Reshape the features for the model\\nX_train = X_train.reshape((X_train.shape[0], X_train.shape[1], 1))\\nX_test = X_test.reshape((X_test.shape[0], X_test.shape[1], 1))\\n\\n# Define the LSTM RNN model.\\nmodel = Sequential()\\n\\nnumber_units = 5\\ndropout_fraction = 0.2\\n\\n# Layer 1\\nmodel.add(\\n    LSTM(units=number_units, return_sequences=True, input_shape=(X_train.shape[1], 1),)\\n)\\nmodel.add(Dropout(dropout_fraction))\\n# Layer 2\\nmodel.add(LSTM(units=number_units, return_sequences=True))\\nmodel.add(Dropout(dropout_fraction))\\n# Layer 3\\nmodel.add(LSTM(units=number_units))\\nmodel.add(Dropout(dropout_fraction))\\n# Output layer\\nmodel.add(Dense(1))\";\n",
       "                var nbb_cells = Jupyter.notebook.get_cells();\n",
       "                for (var i = 0; i < nbb_cells.length; ++i) {\n",
       "                    if (nbb_cells[i].input_prompt_number == nbb_cell_id) {\n",
       "                        if (nbb_cells[i].get_text() == nbb_unformatted_code) {\n",
       "                             nbb_cells[i].set_text(nbb_formatted_code);\n",
       "                        }\n",
       "                        break;\n",
       "                    }\n",
       "                }\n",
       "            }, 500);\n",
       "            "
      ],
      "text/plain": [
       "<IPython.core.display.Javascript object>"
      ]
     },
     "metadata": {},
     "output_type": "display_data"
    },
    {
     "data": {
      "application/javascript": [
       "\n",
       "            setTimeout(function() {\n",
       "                var nbb_cell_id = 131;\n",
       "                var nbb_unformatted_code = \"# Reshape the features for the model\\nX_train = X_train.reshape((X_train.shape[0], X_train.shape[1], 1))\\nX_test = X_test.reshape((X_test.shape[0], X_test.shape[1], 1))\\n\\n# Define the LSTM RNN model.\\nmodel = Sequential()\\n\\nnumber_units = 5\\ndropout_fraction = 0.2\\n\\n# Layer 1\\nmodel.add(\\n    LSTM(units=number_units, return_sequences=True, input_shape=(X_train.shape[1], 1),)\\n)\\nmodel.add(Dropout(dropout_fraction))\\n# Layer 2\\nmodel.add(LSTM(units=number_units, return_sequences=True))\\nmodel.add(Dropout(dropout_fraction))\\n# Layer 3\\nmodel.add(LSTM(units=number_units))\\nmodel.add(Dropout(dropout_fraction))\\n# Output layer\\nmodel.add(Dense(1))\";\n",
       "                var nbb_formatted_code = \"# Reshape the features for the model\\nX_train = X_train.reshape((X_train.shape[0], X_train.shape[1], 1))\\nX_test = X_test.reshape((X_test.shape[0], X_test.shape[1], 1))\\n\\n# Define the LSTM RNN model.\\nmodel = Sequential()\\n\\nnumber_units = 5\\ndropout_fraction = 0.2\\n\\n# Layer 1\\nmodel.add(\\n    LSTM(units=number_units, return_sequences=True, input_shape=(X_train.shape[1], 1),)\\n)\\nmodel.add(Dropout(dropout_fraction))\\n# Layer 2\\nmodel.add(LSTM(units=number_units, return_sequences=True))\\nmodel.add(Dropout(dropout_fraction))\\n# Layer 3\\nmodel.add(LSTM(units=number_units))\\nmodel.add(Dropout(dropout_fraction))\\n# Output layer\\nmodel.add(Dense(1))\";\n",
       "                var nbb_cells = Jupyter.notebook.get_cells();\n",
       "                for (var i = 0; i < nbb_cells.length; ++i) {\n",
       "                    if (nbb_cells[i].input_prompt_number == nbb_cell_id) {\n",
       "                        if (nbb_cells[i].get_text() == nbb_unformatted_code) {\n",
       "                             nbb_cells[i].set_text(nbb_formatted_code);\n",
       "                        }\n",
       "                        break;\n",
       "                    }\n",
       "                }\n",
       "            }, 500);\n",
       "            "
      ],
      "text/plain": [
       "<IPython.core.display.Javascript object>"
      ]
     },
     "metadata": {},
     "output_type": "display_data"
    },
    {
     "data": {
      "application/javascript": [
       "\n",
       "            setTimeout(function() {\n",
       "                var nbb_cell_id = 131;\n",
       "                var nbb_unformatted_code = \"# Reshape the features for the model\\nX_train = X_train.reshape((X_train.shape[0], X_train.shape[1], 1))\\nX_test = X_test.reshape((X_test.shape[0], X_test.shape[1], 1))\\n\\n# Define the LSTM RNN model.\\nmodel = Sequential()\\n\\nnumber_units = 5\\ndropout_fraction = 0.2\\n\\n# Layer 1\\nmodel.add(\\n    LSTM(units=number_units, return_sequences=True, input_shape=(X_train.shape[1], 1),)\\n)\\nmodel.add(Dropout(dropout_fraction))\\n# Layer 2\\nmodel.add(LSTM(units=number_units, return_sequences=True))\\nmodel.add(Dropout(dropout_fraction))\\n# Layer 3\\nmodel.add(LSTM(units=number_units))\\nmodel.add(Dropout(dropout_fraction))\\n# Output layer\\nmodel.add(Dense(1))\";\n",
       "                var nbb_formatted_code = \"# Reshape the features for the model\\nX_train = X_train.reshape((X_train.shape[0], X_train.shape[1], 1))\\nX_test = X_test.reshape((X_test.shape[0], X_test.shape[1], 1))\\n\\n# Define the LSTM RNN model.\\nmodel = Sequential()\\n\\nnumber_units = 5\\ndropout_fraction = 0.2\\n\\n# Layer 1\\nmodel.add(\\n    LSTM(units=number_units, return_sequences=True, input_shape=(X_train.shape[1], 1),)\\n)\\nmodel.add(Dropout(dropout_fraction))\\n# Layer 2\\nmodel.add(LSTM(units=number_units, return_sequences=True))\\nmodel.add(Dropout(dropout_fraction))\\n# Layer 3\\nmodel.add(LSTM(units=number_units))\\nmodel.add(Dropout(dropout_fraction))\\n# Output layer\\nmodel.add(Dense(1))\";\n",
       "                var nbb_cells = Jupyter.notebook.get_cells();\n",
       "                for (var i = 0; i < nbb_cells.length; ++i) {\n",
       "                    if (nbb_cells[i].input_prompt_number == nbb_cell_id) {\n",
       "                        if (nbb_cells[i].get_text() == nbb_unformatted_code) {\n",
       "                             nbb_cells[i].set_text(nbb_formatted_code);\n",
       "                        }\n",
       "                        break;\n",
       "                    }\n",
       "                }\n",
       "            }, 500);\n",
       "            "
      ],
      "text/plain": [
       "<IPython.core.display.Javascript object>"
      ]
     },
     "metadata": {},
     "output_type": "display_data"
    },
    {
     "data": {
      "application/javascript": [
       "\n",
       "            setTimeout(function() {\n",
       "                var nbb_cell_id = 131;\n",
       "                var nbb_unformatted_code = \"# Reshape the features for the model\\nX_train = X_train.reshape((X_train.shape[0], X_train.shape[1], 1))\\nX_test = X_test.reshape((X_test.shape[0], X_test.shape[1], 1))\\n\\n# Define the LSTM RNN model.\\nmodel = Sequential()\\n\\nnumber_units = 5\\ndropout_fraction = 0.2\\n\\n# Layer 1\\nmodel.add(\\n    LSTM(units=number_units, return_sequences=True, input_shape=(X_train.shape[1], 1),)\\n)\\nmodel.add(Dropout(dropout_fraction))\\n# Layer 2\\nmodel.add(LSTM(units=number_units, return_sequences=True))\\nmodel.add(Dropout(dropout_fraction))\\n# Layer 3\\nmodel.add(LSTM(units=number_units))\\nmodel.add(Dropout(dropout_fraction))\\n# Output layer\\nmodel.add(Dense(1))\";\n",
       "                var nbb_formatted_code = \"# Reshape the features for the model\\nX_train = X_train.reshape((X_train.shape[0], X_train.shape[1], 1))\\nX_test = X_test.reshape((X_test.shape[0], X_test.shape[1], 1))\\n\\n# Define the LSTM RNN model.\\nmodel = Sequential()\\n\\nnumber_units = 5\\ndropout_fraction = 0.2\\n\\n# Layer 1\\nmodel.add(\\n    LSTM(units=number_units, return_sequences=True, input_shape=(X_train.shape[1], 1),)\\n)\\nmodel.add(Dropout(dropout_fraction))\\n# Layer 2\\nmodel.add(LSTM(units=number_units, return_sequences=True))\\nmodel.add(Dropout(dropout_fraction))\\n# Layer 3\\nmodel.add(LSTM(units=number_units))\\nmodel.add(Dropout(dropout_fraction))\\n# Output layer\\nmodel.add(Dense(1))\";\n",
       "                var nbb_cells = Jupyter.notebook.get_cells();\n",
       "                for (var i = 0; i < nbb_cells.length; ++i) {\n",
       "                    if (nbb_cells[i].input_prompt_number == nbb_cell_id) {\n",
       "                        if (nbb_cells[i].get_text() == nbb_unformatted_code) {\n",
       "                             nbb_cells[i].set_text(nbb_formatted_code);\n",
       "                        }\n",
       "                        break;\n",
       "                    }\n",
       "                }\n",
       "            }, 500);\n",
       "            "
      ],
      "text/plain": [
       "<IPython.core.display.Javascript object>"
      ]
     },
     "metadata": {},
     "output_type": "display_data"
    },
    {
     "data": {
      "application/javascript": [
       "\n",
       "            setTimeout(function() {\n",
       "                var nbb_cell_id = 131;\n",
       "                var nbb_unformatted_code = \"# Reshape the features for the model\\nX_train = X_train.reshape((X_train.shape[0], X_train.shape[1], 1))\\nX_test = X_test.reshape((X_test.shape[0], X_test.shape[1], 1))\\n\\n# Define the LSTM RNN model.\\nmodel = Sequential()\\n\\nnumber_units = 5\\ndropout_fraction = 0.2\\n\\n# Layer 1\\nmodel.add(\\n    LSTM(units=number_units, return_sequences=True, input_shape=(X_train.shape[1], 1),)\\n)\\nmodel.add(Dropout(dropout_fraction))\\n# Layer 2\\nmodel.add(LSTM(units=number_units, return_sequences=True))\\nmodel.add(Dropout(dropout_fraction))\\n# Layer 3\\nmodel.add(LSTM(units=number_units))\\nmodel.add(Dropout(dropout_fraction))\\n# Output layer\\nmodel.add(Dense(1))\";\n",
       "                var nbb_formatted_code = \"# Reshape the features for the model\\nX_train = X_train.reshape((X_train.shape[0], X_train.shape[1], 1))\\nX_test = X_test.reshape((X_test.shape[0], X_test.shape[1], 1))\\n\\n# Define the LSTM RNN model.\\nmodel = Sequential()\\n\\nnumber_units = 5\\ndropout_fraction = 0.2\\n\\n# Layer 1\\nmodel.add(\\n    LSTM(units=number_units, return_sequences=True, input_shape=(X_train.shape[1], 1),)\\n)\\nmodel.add(Dropout(dropout_fraction))\\n# Layer 2\\nmodel.add(LSTM(units=number_units, return_sequences=True))\\nmodel.add(Dropout(dropout_fraction))\\n# Layer 3\\nmodel.add(LSTM(units=number_units))\\nmodel.add(Dropout(dropout_fraction))\\n# Output layer\\nmodel.add(Dense(1))\";\n",
       "                var nbb_cells = Jupyter.notebook.get_cells();\n",
       "                for (var i = 0; i < nbb_cells.length; ++i) {\n",
       "                    if (nbb_cells[i].input_prompt_number == nbb_cell_id) {\n",
       "                        if (nbb_cells[i].get_text() == nbb_unformatted_code) {\n",
       "                             nbb_cells[i].set_text(nbb_formatted_code);\n",
       "                        }\n",
       "                        break;\n",
       "                    }\n",
       "                }\n",
       "            }, 500);\n",
       "            "
      ],
      "text/plain": [
       "<IPython.core.display.Javascript object>"
      ]
     },
     "metadata": {},
     "output_type": "display_data"
    },
    {
     "data": {
      "application/javascript": [
       "\n",
       "            setTimeout(function() {\n",
       "                var nbb_cell_id = 131;\n",
       "                var nbb_unformatted_code = \"# Reshape the features for the model\\nX_train = X_train.reshape((X_train.shape[0], X_train.shape[1], 1))\\nX_test = X_test.reshape((X_test.shape[0], X_test.shape[1], 1))\\n\\n# Define the LSTM RNN model.\\nmodel = Sequential()\\n\\nnumber_units = 5\\ndropout_fraction = 0.2\\n\\n# Layer 1\\nmodel.add(\\n    LSTM(units=number_units, return_sequences=True, input_shape=(X_train.shape[1], 1),)\\n)\\nmodel.add(Dropout(dropout_fraction))\\n# Layer 2\\nmodel.add(LSTM(units=number_units, return_sequences=True))\\nmodel.add(Dropout(dropout_fraction))\\n# Layer 3\\nmodel.add(LSTM(units=number_units))\\nmodel.add(Dropout(dropout_fraction))\\n# Output layer\\nmodel.add(Dense(1))\";\n",
       "                var nbb_formatted_code = \"# Reshape the features for the model\\nX_train = X_train.reshape((X_train.shape[0], X_train.shape[1], 1))\\nX_test = X_test.reshape((X_test.shape[0], X_test.shape[1], 1))\\n\\n# Define the LSTM RNN model.\\nmodel = Sequential()\\n\\nnumber_units = 5\\ndropout_fraction = 0.2\\n\\n# Layer 1\\nmodel.add(\\n    LSTM(units=number_units, return_sequences=True, input_shape=(X_train.shape[1], 1),)\\n)\\nmodel.add(Dropout(dropout_fraction))\\n# Layer 2\\nmodel.add(LSTM(units=number_units, return_sequences=True))\\nmodel.add(Dropout(dropout_fraction))\\n# Layer 3\\nmodel.add(LSTM(units=number_units))\\nmodel.add(Dropout(dropout_fraction))\\n# Output layer\\nmodel.add(Dense(1))\";\n",
       "                var nbb_cells = Jupyter.notebook.get_cells();\n",
       "                for (var i = 0; i < nbb_cells.length; ++i) {\n",
       "                    if (nbb_cells[i].input_prompt_number == nbb_cell_id) {\n",
       "                        if (nbb_cells[i].get_text() == nbb_unformatted_code) {\n",
       "                             nbb_cells[i].set_text(nbb_formatted_code);\n",
       "                        }\n",
       "                        break;\n",
       "                    }\n",
       "                }\n",
       "            }, 500);\n",
       "            "
      ],
      "text/plain": [
       "<IPython.core.display.Javascript object>"
      ]
     },
     "metadata": {},
     "output_type": "display_data"
    },
    {
     "data": {
      "application/javascript": [
       "\n",
       "            setTimeout(function() {\n",
       "                var nbb_cell_id = 131;\n",
       "                var nbb_unformatted_code = \"# Reshape the features for the model\\nX_train = X_train.reshape((X_train.shape[0], X_train.shape[1], 1))\\nX_test = X_test.reshape((X_test.shape[0], X_test.shape[1], 1))\\n\\n# Define the LSTM RNN model.\\nmodel = Sequential()\\n\\nnumber_units = 5\\ndropout_fraction = 0.2\\n\\n# Layer 1\\nmodel.add(\\n    LSTM(units=number_units, return_sequences=True, input_shape=(X_train.shape[1], 1),)\\n)\\nmodel.add(Dropout(dropout_fraction))\\n# Layer 2\\nmodel.add(LSTM(units=number_units, return_sequences=True))\\nmodel.add(Dropout(dropout_fraction))\\n# Layer 3\\nmodel.add(LSTM(units=number_units))\\nmodel.add(Dropout(dropout_fraction))\\n# Output layer\\nmodel.add(Dense(1))\";\n",
       "                var nbb_formatted_code = \"# Reshape the features for the model\\nX_train = X_train.reshape((X_train.shape[0], X_train.shape[1], 1))\\nX_test = X_test.reshape((X_test.shape[0], X_test.shape[1], 1))\\n\\n# Define the LSTM RNN model.\\nmodel = Sequential()\\n\\nnumber_units = 5\\ndropout_fraction = 0.2\\n\\n# Layer 1\\nmodel.add(\\n    LSTM(units=number_units, return_sequences=True, input_shape=(X_train.shape[1], 1),)\\n)\\nmodel.add(Dropout(dropout_fraction))\\n# Layer 2\\nmodel.add(LSTM(units=number_units, return_sequences=True))\\nmodel.add(Dropout(dropout_fraction))\\n# Layer 3\\nmodel.add(LSTM(units=number_units))\\nmodel.add(Dropout(dropout_fraction))\\n# Output layer\\nmodel.add(Dense(1))\";\n",
       "                var nbb_cells = Jupyter.notebook.get_cells();\n",
       "                for (var i = 0; i < nbb_cells.length; ++i) {\n",
       "                    if (nbb_cells[i].input_prompt_number == nbb_cell_id) {\n",
       "                        if (nbb_cells[i].get_text() == nbb_unformatted_code) {\n",
       "                             nbb_cells[i].set_text(nbb_formatted_code);\n",
       "                        }\n",
       "                        break;\n",
       "                    }\n",
       "                }\n",
       "            }, 500);\n",
       "            "
      ],
      "text/plain": [
       "<IPython.core.display.Javascript object>"
      ]
     },
     "metadata": {},
     "output_type": "display_data"
    },
    {
     "data": {
      "application/javascript": [
       "\n",
       "            setTimeout(function() {\n",
       "                var nbb_cell_id = 131;\n",
       "                var nbb_unformatted_code = \"# Reshape the features for the model\\nX_train = X_train.reshape((X_train.shape[0], X_train.shape[1], 1))\\nX_test = X_test.reshape((X_test.shape[0], X_test.shape[1], 1))\\n\\n# Define the LSTM RNN model.\\nmodel = Sequential()\\n\\nnumber_units = 5\\ndropout_fraction = 0.2\\n\\n# Layer 1\\nmodel.add(\\n    LSTM(units=number_units, return_sequences=True, input_shape=(X_train.shape[1], 1),)\\n)\\nmodel.add(Dropout(dropout_fraction))\\n# Layer 2\\nmodel.add(LSTM(units=number_units, return_sequences=True))\\nmodel.add(Dropout(dropout_fraction))\\n# Layer 3\\nmodel.add(LSTM(units=number_units))\\nmodel.add(Dropout(dropout_fraction))\\n# Output layer\\nmodel.add(Dense(1))\";\n",
       "                var nbb_formatted_code = \"# Reshape the features for the model\\nX_train = X_train.reshape((X_train.shape[0], X_train.shape[1], 1))\\nX_test = X_test.reshape((X_test.shape[0], X_test.shape[1], 1))\\n\\n# Define the LSTM RNN model.\\nmodel = Sequential()\\n\\nnumber_units = 5\\ndropout_fraction = 0.2\\n\\n# Layer 1\\nmodel.add(\\n    LSTM(units=number_units, return_sequences=True, input_shape=(X_train.shape[1], 1),)\\n)\\nmodel.add(Dropout(dropout_fraction))\\n# Layer 2\\nmodel.add(LSTM(units=number_units, return_sequences=True))\\nmodel.add(Dropout(dropout_fraction))\\n# Layer 3\\nmodel.add(LSTM(units=number_units))\\nmodel.add(Dropout(dropout_fraction))\\n# Output layer\\nmodel.add(Dense(1))\";\n",
       "                var nbb_cells = Jupyter.notebook.get_cells();\n",
       "                for (var i = 0; i < nbb_cells.length; ++i) {\n",
       "                    if (nbb_cells[i].input_prompt_number == nbb_cell_id) {\n",
       "                        if (nbb_cells[i].get_text() == nbb_unformatted_code) {\n",
       "                             nbb_cells[i].set_text(nbb_formatted_code);\n",
       "                        }\n",
       "                        break;\n",
       "                    }\n",
       "                }\n",
       "            }, 500);\n",
       "            "
      ],
      "text/plain": [
       "<IPython.core.display.Javascript object>"
      ]
     },
     "metadata": {},
     "output_type": "display_data"
    },
    {
     "data": {
      "application/javascript": [
       "\n",
       "            setTimeout(function() {\n",
       "                var nbb_cell_id = 131;\n",
       "                var nbb_unformatted_code = \"# Reshape the features for the model\\nX_train = X_train.reshape((X_train.shape[0], X_train.shape[1], 1))\\nX_test = X_test.reshape((X_test.shape[0], X_test.shape[1], 1))\\n\\n# Define the LSTM RNN model.\\nmodel = Sequential()\\n\\nnumber_units = 5\\ndropout_fraction = 0.2\\n\\n# Layer 1\\nmodel.add(\\n    LSTM(units=number_units, return_sequences=True, input_shape=(X_train.shape[1], 1),)\\n)\\nmodel.add(Dropout(dropout_fraction))\\n# Layer 2\\nmodel.add(LSTM(units=number_units, return_sequences=True))\\nmodel.add(Dropout(dropout_fraction))\\n# Layer 3\\nmodel.add(LSTM(units=number_units))\\nmodel.add(Dropout(dropout_fraction))\\n# Output layer\\nmodel.add(Dense(1))\";\n",
       "                var nbb_formatted_code = \"# Reshape the features for the model\\nX_train = X_train.reshape((X_train.shape[0], X_train.shape[1], 1))\\nX_test = X_test.reshape((X_test.shape[0], X_test.shape[1], 1))\\n\\n# Define the LSTM RNN model.\\nmodel = Sequential()\\n\\nnumber_units = 5\\ndropout_fraction = 0.2\\n\\n# Layer 1\\nmodel.add(\\n    LSTM(units=number_units, return_sequences=True, input_shape=(X_train.shape[1], 1),)\\n)\\nmodel.add(Dropout(dropout_fraction))\\n# Layer 2\\nmodel.add(LSTM(units=number_units, return_sequences=True))\\nmodel.add(Dropout(dropout_fraction))\\n# Layer 3\\nmodel.add(LSTM(units=number_units))\\nmodel.add(Dropout(dropout_fraction))\\n# Output layer\\nmodel.add(Dense(1))\";\n",
       "                var nbb_cells = Jupyter.notebook.get_cells();\n",
       "                for (var i = 0; i < nbb_cells.length; ++i) {\n",
       "                    if (nbb_cells[i].input_prompt_number == nbb_cell_id) {\n",
       "                        if (nbb_cells[i].get_text() == nbb_unformatted_code) {\n",
       "                             nbb_cells[i].set_text(nbb_formatted_code);\n",
       "                        }\n",
       "                        break;\n",
       "                    }\n",
       "                }\n",
       "            }, 500);\n",
       "            "
      ],
      "text/plain": [
       "<IPython.core.display.Javascript object>"
      ]
     },
     "metadata": {},
     "output_type": "display_data"
    }
   ],
   "source": [
    "# Reshape the features for the model\n",
    "X_train = X_train.reshape((X_train.shape[0], X_train.shape[1], 1))\n",
    "X_test = X_test.reshape((X_test.shape[0], X_test.shape[1], 1))\n",
    "\n",
    "# Define the LSTM RNN model.\n",
    "model = Sequential()\n",
    "\n",
    "number_units = 5\n",
    "dropout_fraction = 0.2\n",
    "\n",
    "# Layer 1\n",
    "model.add(\n",
    "    LSTM(units=number_units, return_sequences=True, input_shape=(X_train.shape[1], 1),)\n",
    ")\n",
    "model.add(Dropout(dropout_fraction))\n",
    "# Layer 2\n",
    "model.add(LSTM(units=number_units, return_sequences=True))\n",
    "model.add(Dropout(dropout_fraction))\n",
    "# Layer 3\n",
    "model.add(LSTM(units=number_units))\n",
    "model.add(Dropout(dropout_fraction))\n",
    "# Output layer\n",
    "model.add(Dense(1))"
   ]
  },
  {
   "cell_type": "code",
   "execution_count": 132,
   "id": "fb058bf9",
   "metadata": {},
   "outputs": [
    {
     "name": "stdout",
     "output_type": "stream",
     "text": [
      "Model: \"sequential_10\"\n",
      "_________________________________________________________________\n",
      " Layer (type)                Output Shape              Param #   \n",
      "=================================================================\n",
      " lstm_30 (LSTM)              (None, 10, 5)             140       \n",
      "                                                                 \n",
      " dropout_30 (Dropout)        (None, 10, 5)             0         \n",
      "                                                                 \n",
      " lstm_31 (LSTM)              (None, 10, 5)             220       \n",
      "                                                                 \n",
      " dropout_31 (Dropout)        (None, 10, 5)             0         \n",
      "                                                                 \n",
      " lstm_32 (LSTM)              (None, 5)                 220       \n",
      "                                                                 \n",
      " dropout_32 (Dropout)        (None, 5)                 0         \n",
      "                                                                 \n",
      " dense_10 (Dense)            (None, 1)                 6         \n",
      "                                                                 \n",
      "=================================================================\n",
      "Total params: 586\n",
      "Trainable params: 586\n",
      "Non-trainable params: 0\n",
      "_________________________________________________________________\n"
     ]
    },
    {
     "data": {
      "application/javascript": [
       "\n",
       "            setTimeout(function() {\n",
       "                var nbb_cell_id = 132;\n",
       "                var nbb_unformatted_code = \"# Compile the model\\nmodel.compile(optimizer=\\\"adam\\\", loss=\\\"mean_squared_error\\\")\\n\\n# Summarize the model\\nmodel.summary()\";\n",
       "                var nbb_formatted_code = \"# Compile the model\\nmodel.compile(optimizer=\\\"adam\\\", loss=\\\"mean_squared_error\\\")\\n\\n# Summarize the model\\nmodel.summary()\";\n",
       "                var nbb_cells = Jupyter.notebook.get_cells();\n",
       "                for (var i = 0; i < nbb_cells.length; ++i) {\n",
       "                    if (nbb_cells[i].input_prompt_number == nbb_cell_id) {\n",
       "                        if (nbb_cells[i].get_text() == nbb_unformatted_code) {\n",
       "                             nbb_cells[i].set_text(nbb_formatted_code);\n",
       "                        }\n",
       "                        break;\n",
       "                    }\n",
       "                }\n",
       "            }, 500);\n",
       "            "
      ],
      "text/plain": [
       "<IPython.core.display.Javascript object>"
      ]
     },
     "metadata": {},
     "output_type": "display_data"
    },
    {
     "data": {
      "application/javascript": [
       "\n",
       "            setTimeout(function() {\n",
       "                var nbb_cell_id = 132;\n",
       "                var nbb_unformatted_code = \"# Compile the model\\nmodel.compile(optimizer=\\\"adam\\\", loss=\\\"mean_squared_error\\\")\\n\\n# Summarize the model\\nmodel.summary()\";\n",
       "                var nbb_formatted_code = \"# Compile the model\\nmodel.compile(optimizer=\\\"adam\\\", loss=\\\"mean_squared_error\\\")\\n\\n# Summarize the model\\nmodel.summary()\";\n",
       "                var nbb_cells = Jupyter.notebook.get_cells();\n",
       "                for (var i = 0; i < nbb_cells.length; ++i) {\n",
       "                    if (nbb_cells[i].input_prompt_number == nbb_cell_id) {\n",
       "                        if (nbb_cells[i].get_text() == nbb_unformatted_code) {\n",
       "                             nbb_cells[i].set_text(nbb_formatted_code);\n",
       "                        }\n",
       "                        break;\n",
       "                    }\n",
       "                }\n",
       "            }, 500);\n",
       "            "
      ],
      "text/plain": [
       "<IPython.core.display.Javascript object>"
      ]
     },
     "metadata": {},
     "output_type": "display_data"
    },
    {
     "data": {
      "application/javascript": [
       "\n",
       "            setTimeout(function() {\n",
       "                var nbb_cell_id = 132;\n",
       "                var nbb_unformatted_code = \"# Compile the model\\nmodel.compile(optimizer=\\\"adam\\\", loss=\\\"mean_squared_error\\\")\\n\\n# Summarize the model\\nmodel.summary()\";\n",
       "                var nbb_formatted_code = \"# Compile the model\\nmodel.compile(optimizer=\\\"adam\\\", loss=\\\"mean_squared_error\\\")\\n\\n# Summarize the model\\nmodel.summary()\";\n",
       "                var nbb_cells = Jupyter.notebook.get_cells();\n",
       "                for (var i = 0; i < nbb_cells.length; ++i) {\n",
       "                    if (nbb_cells[i].input_prompt_number == nbb_cell_id) {\n",
       "                        if (nbb_cells[i].get_text() == nbb_unformatted_code) {\n",
       "                             nbb_cells[i].set_text(nbb_formatted_code);\n",
       "                        }\n",
       "                        break;\n",
       "                    }\n",
       "                }\n",
       "            }, 500);\n",
       "            "
      ],
      "text/plain": [
       "<IPython.core.display.Javascript object>"
      ]
     },
     "metadata": {},
     "output_type": "display_data"
    },
    {
     "data": {
      "application/javascript": [
       "\n",
       "            setTimeout(function() {\n",
       "                var nbb_cell_id = 132;\n",
       "                var nbb_unformatted_code = \"# Compile the model\\nmodel.compile(optimizer=\\\"adam\\\", loss=\\\"mean_squared_error\\\")\\n\\n# Summarize the model\\nmodel.summary()\";\n",
       "                var nbb_formatted_code = \"# Compile the model\\nmodel.compile(optimizer=\\\"adam\\\", loss=\\\"mean_squared_error\\\")\\n\\n# Summarize the model\\nmodel.summary()\";\n",
       "                var nbb_cells = Jupyter.notebook.get_cells();\n",
       "                for (var i = 0; i < nbb_cells.length; ++i) {\n",
       "                    if (nbb_cells[i].input_prompt_number == nbb_cell_id) {\n",
       "                        if (nbb_cells[i].get_text() == nbb_unformatted_code) {\n",
       "                             nbb_cells[i].set_text(nbb_formatted_code);\n",
       "                        }\n",
       "                        break;\n",
       "                    }\n",
       "                }\n",
       "            }, 500);\n",
       "            "
      ],
      "text/plain": [
       "<IPython.core.display.Javascript object>"
      ]
     },
     "metadata": {},
     "output_type": "display_data"
    },
    {
     "data": {
      "application/javascript": [
       "\n",
       "            setTimeout(function() {\n",
       "                var nbb_cell_id = 132;\n",
       "                var nbb_unformatted_code = \"# Compile the model\\nmodel.compile(optimizer=\\\"adam\\\", loss=\\\"mean_squared_error\\\")\\n\\n# Summarize the model\\nmodel.summary()\";\n",
       "                var nbb_formatted_code = \"# Compile the model\\nmodel.compile(optimizer=\\\"adam\\\", loss=\\\"mean_squared_error\\\")\\n\\n# Summarize the model\\nmodel.summary()\";\n",
       "                var nbb_cells = Jupyter.notebook.get_cells();\n",
       "                for (var i = 0; i < nbb_cells.length; ++i) {\n",
       "                    if (nbb_cells[i].input_prompt_number == nbb_cell_id) {\n",
       "                        if (nbb_cells[i].get_text() == nbb_unformatted_code) {\n",
       "                             nbb_cells[i].set_text(nbb_formatted_code);\n",
       "                        }\n",
       "                        break;\n",
       "                    }\n",
       "                }\n",
       "            }, 500);\n",
       "            "
      ],
      "text/plain": [
       "<IPython.core.display.Javascript object>"
      ]
     },
     "metadata": {},
     "output_type": "display_data"
    },
    {
     "data": {
      "application/javascript": [
       "\n",
       "            setTimeout(function() {\n",
       "                var nbb_cell_id = 132;\n",
       "                var nbb_unformatted_code = \"# Compile the model\\nmodel.compile(optimizer=\\\"adam\\\", loss=\\\"mean_squared_error\\\")\\n\\n# Summarize the model\\nmodel.summary()\";\n",
       "                var nbb_formatted_code = \"# Compile the model\\nmodel.compile(optimizer=\\\"adam\\\", loss=\\\"mean_squared_error\\\")\\n\\n# Summarize the model\\nmodel.summary()\";\n",
       "                var nbb_cells = Jupyter.notebook.get_cells();\n",
       "                for (var i = 0; i < nbb_cells.length; ++i) {\n",
       "                    if (nbb_cells[i].input_prompt_number == nbb_cell_id) {\n",
       "                        if (nbb_cells[i].get_text() == nbb_unformatted_code) {\n",
       "                             nbb_cells[i].set_text(nbb_formatted_code);\n",
       "                        }\n",
       "                        break;\n",
       "                    }\n",
       "                }\n",
       "            }, 500);\n",
       "            "
      ],
      "text/plain": [
       "<IPython.core.display.Javascript object>"
      ]
     },
     "metadata": {},
     "output_type": "display_data"
    },
    {
     "data": {
      "application/javascript": [
       "\n",
       "            setTimeout(function() {\n",
       "                var nbb_cell_id = 132;\n",
       "                var nbb_unformatted_code = \"# Compile the model\\nmodel.compile(optimizer=\\\"adam\\\", loss=\\\"mean_squared_error\\\")\\n\\n# Summarize the model\\nmodel.summary()\";\n",
       "                var nbb_formatted_code = \"# Compile the model\\nmodel.compile(optimizer=\\\"adam\\\", loss=\\\"mean_squared_error\\\")\\n\\n# Summarize the model\\nmodel.summary()\";\n",
       "                var nbb_cells = Jupyter.notebook.get_cells();\n",
       "                for (var i = 0; i < nbb_cells.length; ++i) {\n",
       "                    if (nbb_cells[i].input_prompt_number == nbb_cell_id) {\n",
       "                        if (nbb_cells[i].get_text() == nbb_unformatted_code) {\n",
       "                             nbb_cells[i].set_text(nbb_formatted_code);\n",
       "                        }\n",
       "                        break;\n",
       "                    }\n",
       "                }\n",
       "            }, 500);\n",
       "            "
      ],
      "text/plain": [
       "<IPython.core.display.Javascript object>"
      ]
     },
     "metadata": {},
     "output_type": "display_data"
    },
    {
     "data": {
      "application/javascript": [
       "\n",
       "            setTimeout(function() {\n",
       "                var nbb_cell_id = 132;\n",
       "                var nbb_unformatted_code = \"# Compile the model\\nmodel.compile(optimizer=\\\"adam\\\", loss=\\\"mean_squared_error\\\")\\n\\n# Summarize the model\\nmodel.summary()\";\n",
       "                var nbb_formatted_code = \"# Compile the model\\nmodel.compile(optimizer=\\\"adam\\\", loss=\\\"mean_squared_error\\\")\\n\\n# Summarize the model\\nmodel.summary()\";\n",
       "                var nbb_cells = Jupyter.notebook.get_cells();\n",
       "                for (var i = 0; i < nbb_cells.length; ++i) {\n",
       "                    if (nbb_cells[i].input_prompt_number == nbb_cell_id) {\n",
       "                        if (nbb_cells[i].get_text() == nbb_unformatted_code) {\n",
       "                             nbb_cells[i].set_text(nbb_formatted_code);\n",
       "                        }\n",
       "                        break;\n",
       "                    }\n",
       "                }\n",
       "            }, 500);\n",
       "            "
      ],
      "text/plain": [
       "<IPython.core.display.Javascript object>"
      ]
     },
     "metadata": {},
     "output_type": "display_data"
    },
    {
     "data": {
      "application/javascript": [
       "\n",
       "            setTimeout(function() {\n",
       "                var nbb_cell_id = 132;\n",
       "                var nbb_unformatted_code = \"# Compile the model\\nmodel.compile(optimizer=\\\"adam\\\", loss=\\\"mean_squared_error\\\")\\n\\n# Summarize the model\\nmodel.summary()\";\n",
       "                var nbb_formatted_code = \"# Compile the model\\nmodel.compile(optimizer=\\\"adam\\\", loss=\\\"mean_squared_error\\\")\\n\\n# Summarize the model\\nmodel.summary()\";\n",
       "                var nbb_cells = Jupyter.notebook.get_cells();\n",
       "                for (var i = 0; i < nbb_cells.length; ++i) {\n",
       "                    if (nbb_cells[i].input_prompt_number == nbb_cell_id) {\n",
       "                        if (nbb_cells[i].get_text() == nbb_unformatted_code) {\n",
       "                             nbb_cells[i].set_text(nbb_formatted_code);\n",
       "                        }\n",
       "                        break;\n",
       "                    }\n",
       "                }\n",
       "            }, 500);\n",
       "            "
      ],
      "text/plain": [
       "<IPython.core.display.Javascript object>"
      ]
     },
     "metadata": {},
     "output_type": "display_data"
    },
    {
     "data": {
      "application/javascript": [
       "\n",
       "            setTimeout(function() {\n",
       "                var nbb_cell_id = 132;\n",
       "                var nbb_unformatted_code = \"# Compile the model\\nmodel.compile(optimizer=\\\"adam\\\", loss=\\\"mean_squared_error\\\")\\n\\n# Summarize the model\\nmodel.summary()\";\n",
       "                var nbb_formatted_code = \"# Compile the model\\nmodel.compile(optimizer=\\\"adam\\\", loss=\\\"mean_squared_error\\\")\\n\\n# Summarize the model\\nmodel.summary()\";\n",
       "                var nbb_cells = Jupyter.notebook.get_cells();\n",
       "                for (var i = 0; i < nbb_cells.length; ++i) {\n",
       "                    if (nbb_cells[i].input_prompt_number == nbb_cell_id) {\n",
       "                        if (nbb_cells[i].get_text() == nbb_unformatted_code) {\n",
       "                             nbb_cells[i].set_text(nbb_formatted_code);\n",
       "                        }\n",
       "                        break;\n",
       "                    }\n",
       "                }\n",
       "            }, 500);\n",
       "            "
      ],
      "text/plain": [
       "<IPython.core.display.Javascript object>"
      ]
     },
     "metadata": {},
     "output_type": "display_data"
    }
   ],
   "source": [
    "# Compile the model\n",
    "model.compile(optimizer=\"adam\", loss=\"mean_squared_error\")\n",
    "\n",
    "# Summarize the model\n",
    "model.summary()"
   ]
  },
  {
   "cell_type": "code",
   "execution_count": 135,
   "id": "a304e887",
   "metadata": {},
   "outputs": [
    {
     "name": "stdout",
     "output_type": "stream",
     "text": [
      "Epoch 1/150\n",
      "26/26 [==============================] - 0s 11ms/step - loss: 0.0127\n",
      "Epoch 2/150\n",
      "26/26 [==============================] - 0s 10ms/step - loss: 0.0128\n",
      "Epoch 3/150\n",
      "26/26 [==============================] - 0s 9ms/step - loss: 0.0093\n",
      "Epoch 4/150\n",
      "26/26 [==============================] - 0s 10ms/step - loss: 0.0122\n",
      "Epoch 5/150\n",
      "26/26 [==============================] - 0s 10ms/step - loss: 0.0104\n",
      "Epoch 6/150\n",
      "26/26 [==============================] - 0s 10ms/step - loss: 0.0094\n",
      "Epoch 7/150\n",
      "26/26 [==============================] - 0s 10ms/step - loss: 0.0099\n",
      "Epoch 8/150\n",
      "26/26 [==============================] - 0s 10ms/step - loss: 0.0123\n",
      "Epoch 9/150\n",
      "26/26 [==============================] - 0s 9ms/step - loss: 0.0108\n",
      "Epoch 10/150\n",
      "26/26 [==============================] - 0s 10ms/step - loss: 0.0100\n",
      "Epoch 11/150\n",
      "26/26 [==============================] - 0s 10ms/step - loss: 0.0114\n",
      "Epoch 12/150\n",
      "26/26 [==============================] - 0s 10ms/step - loss: 0.0115\n",
      "Epoch 13/150\n",
      "26/26 [==============================] - 0s 10ms/step - loss: 0.0118\n",
      "Epoch 14/150\n",
      "26/26 [==============================] - 0s 9ms/step - loss: 0.0069\n",
      "Epoch 15/150\n",
      "26/26 [==============================] - 0s 10ms/step - loss: 0.0100\n",
      "Epoch 16/150\n",
      "26/26 [==============================] - 0s 10ms/step - loss: 0.0090\n",
      "Epoch 17/150\n",
      "26/26 [==============================] - 0s 10ms/step - loss: 0.0121\n",
      "Epoch 18/150\n",
      "26/26 [==============================] - 0s 10ms/step - loss: 0.0102\n",
      "Epoch 19/150\n",
      "26/26 [==============================] - 0s 9ms/step - loss: 0.0095\n",
      "Epoch 20/150\n",
      "26/26 [==============================] - 0s 9ms/step - loss: 0.0108\n",
      "Epoch 21/150\n",
      "26/26 [==============================] - 0s 10ms/step - loss: 0.0100\n",
      "Epoch 22/150\n",
      "26/26 [==============================] - 0s 10ms/step - loss: 0.0098\n",
      "Epoch 23/150\n",
      "26/26 [==============================] - 0s 11ms/step - loss: 0.0079\n",
      "Epoch 24/150\n",
      "26/26 [==============================] - 0s 10ms/step - loss: 0.0099\n",
      "Epoch 25/150\n",
      "26/26 [==============================] - 0s 9ms/step - loss: 0.0090\n",
      "Epoch 26/150\n",
      "26/26 [==============================] - 0s 9ms/step - loss: 0.0109\n",
      "Epoch 27/150\n",
      "26/26 [==============================] - 0s 10ms/step - loss: 0.0099\n",
      "Epoch 28/150\n",
      "26/26 [==============================] - 0s 10ms/step - loss: 0.0087\n",
      "Epoch 29/150\n",
      "26/26 [==============================] - 0s 10ms/step - loss: 0.0096\n",
      "Epoch 30/150\n",
      "26/26 [==============================] - 0s 10ms/step - loss: 0.0109\n",
      "Epoch 31/150\n",
      "26/26 [==============================] - 0s 9ms/step - loss: 0.0087\n",
      "Epoch 32/150\n",
      "26/26 [==============================] - 0s 9ms/step - loss: 0.0119\n",
      "Epoch 33/150\n",
      "26/26 [==============================] - 0s 10ms/step - loss: 0.0115\n",
      "Epoch 34/150\n",
      "26/26 [==============================] - 0s 10ms/step - loss: 0.0103\n",
      "Epoch 35/150\n",
      "26/26 [==============================] - 0s 10ms/step - loss: 0.0089\n",
      "Epoch 36/150\n",
      "26/26 [==============================] - 0s 9ms/step - loss: 0.0087\n",
      "Epoch 37/150\n",
      "26/26 [==============================] - 0s 9ms/step - loss: 0.0097\n",
      "Epoch 38/150\n",
      "26/26 [==============================] - 0s 10ms/step - loss: 0.0085\n",
      "Epoch 39/150\n",
      "26/26 [==============================] - 0s 10ms/step - loss: 0.0090\n",
      "Epoch 40/150\n",
      "26/26 [==============================] - 0s 10ms/step - loss: 0.0085\n",
      "Epoch 41/150\n",
      "26/26 [==============================] - 0s 10ms/step - loss: 0.0082\n",
      "Epoch 42/150\n",
      "26/26 [==============================] - 0s 9ms/step - loss: 0.0105\n",
      "Epoch 43/150\n",
      "26/26 [==============================] - 0s 9ms/step - loss: 0.0092\n",
      "Epoch 44/150\n",
      "26/26 [==============================] - 0s 10ms/step - loss: 0.0095\n",
      "Epoch 45/150\n",
      "26/26 [==============================] - 0s 10ms/step - loss: 0.0085\n",
      "Epoch 46/150\n",
      "26/26 [==============================] - 0s 10ms/step - loss: 0.0085\n",
      "Epoch 47/150\n",
      "26/26 [==============================] - 0s 9ms/step - loss: 0.0088\n",
      "Epoch 48/150\n",
      "26/26 [==============================] - 0s 9ms/step - loss: 0.0085\n",
      "Epoch 49/150\n",
      "26/26 [==============================] - 0s 10ms/step - loss: 0.0082\n",
      "Epoch 50/150\n",
      "26/26 [==============================] - 0s 10ms/step - loss: 0.0089\n",
      "Epoch 51/150\n",
      "26/26 [==============================] - 0s 10ms/step - loss: 0.0070\n",
      "Epoch 52/150\n",
      "26/26 [==============================] - 0s 10ms/step - loss: 0.0077\n",
      "Epoch 53/150\n",
      "26/26 [==============================] - 0s 9ms/step - loss: 0.0091\n",
      "Epoch 54/150\n",
      "26/26 [==============================] - 0s 9ms/step - loss: 0.0085\n",
      "Epoch 55/150\n",
      "26/26 [==============================] - 0s 10ms/step - loss: 0.0088\n",
      "Epoch 56/150\n",
      "26/26 [==============================] - 0s 10ms/step - loss: 0.0102\n",
      "Epoch 57/150\n",
      "26/26 [==============================] - 0s 10ms/step - loss: 0.0083\n",
      "Epoch 58/150\n",
      "26/26 [==============================] - 0s 10ms/step - loss: 0.0069\n",
      "Epoch 59/150\n",
      "26/26 [==============================] - 0s 9ms/step - loss: 0.0086\n",
      "Epoch 60/150\n",
      "26/26 [==============================] - 0s 10ms/step - loss: 0.0104\n",
      "Epoch 61/150\n",
      "26/26 [==============================] - 0s 10ms/step - loss: 0.0086\n",
      "Epoch 62/150\n",
      "26/26 [==============================] - 0s 10ms/step - loss: 0.0094\n",
      "Epoch 63/150\n",
      "26/26 [==============================] - 0s 10ms/step - loss: 0.0086\n",
      "Epoch 64/150\n",
      "26/26 [==============================] - 0s 9ms/step - loss: 0.0091\n",
      "Epoch 65/150\n",
      "26/26 [==============================] - 0s 9ms/step - loss: 0.0078\n",
      "Epoch 66/150\n",
      "26/26 [==============================] - 0s 10ms/step - loss: 0.0090\n",
      "Epoch 67/150\n",
      "26/26 [==============================] - 0s 10ms/step - loss: 0.0074\n",
      "Epoch 68/150\n",
      "26/26 [==============================] - 0s 10ms/step - loss: 0.0082\n",
      "Epoch 69/150\n",
      "26/26 [==============================] - 0s 9ms/step - loss: 0.0088\n",
      "Epoch 70/150\n",
      "26/26 [==============================] - 0s 9ms/step - loss: 0.0074\n",
      "Epoch 71/150\n",
      "26/26 [==============================] - 0s 10ms/step - loss: 0.0082\n",
      "Epoch 72/150\n",
      "26/26 [==============================] - 0s 10ms/step - loss: 0.0074\n",
      "Epoch 73/150\n",
      "26/26 [==============================] - 0s 10ms/step - loss: 0.0093\n",
      "Epoch 74/150\n",
      "26/26 [==============================] - 0s 10ms/step - loss: 0.0080\n",
      "Epoch 75/150\n",
      "26/26 [==============================] - 0s 9ms/step - loss: 0.0076\n",
      "Epoch 76/150\n",
      "26/26 [==============================] - 0s 9ms/step - loss: 0.0073\n",
      "Epoch 77/150\n",
      "26/26 [==============================] - 0s 9ms/step - loss: 0.0074\n",
      "Epoch 78/150\n",
      "26/26 [==============================] - 0s 9ms/step - loss: 0.0088\n",
      "Epoch 79/150\n",
      "26/26 [==============================] - 0s 10ms/step - loss: 0.0082\n",
      "Epoch 80/150\n",
      "26/26 [==============================] - 0s 10ms/step - loss: 0.0082\n",
      "Epoch 81/150\n",
      "26/26 [==============================] - 0s 8ms/step - loss: 0.0076\n",
      "Epoch 82/150\n",
      "26/26 [==============================] - 0s 9ms/step - loss: 0.0092\n",
      "Epoch 83/150\n",
      "26/26 [==============================] - 0s 10ms/step - loss: 0.0065\n",
      "Epoch 84/150\n",
      "26/26 [==============================] - 0s 10ms/step - loss: 0.0087\n",
      "Epoch 85/150\n",
      "26/26 [==============================] - 0s 9ms/step - loss: 0.0101\n",
      "Epoch 86/150\n",
      "26/26 [==============================] - 0s 9ms/step - loss: 0.0075\n",
      "Epoch 87/150\n",
      "26/26 [==============================] - 0s 9ms/step - loss: 0.0082\n",
      "Epoch 88/150\n",
      "26/26 [==============================] - 0s 10ms/step - loss: 0.0074\n",
      "Epoch 89/150\n",
      "26/26 [==============================] - 0s 10ms/step - loss: 0.0069\n",
      "Epoch 90/150\n",
      "26/26 [==============================] - 0s 9ms/step - loss: 0.0074\n",
      "Epoch 91/150\n",
      "26/26 [==============================] - 0s 10ms/step - loss: 0.0085\n",
      "Epoch 92/150\n",
      "26/26 [==============================] - 0s 9ms/step - loss: 0.0072\n",
      "Epoch 93/150\n",
      "26/26 [==============================] - 0s 9ms/step - loss: 0.0086\n",
      "Epoch 94/150\n",
      "26/26 [==============================] - 0s 10ms/step - loss: 0.0085\n",
      "Epoch 95/150\n",
      "26/26 [==============================] - 0s 10ms/step - loss: 0.0096\n",
      "Epoch 96/150\n",
      "26/26 [==============================] - 0s 10ms/step - loss: 0.0079\n",
      "Epoch 97/150\n",
      "26/26 [==============================] - 0s 9ms/step - loss: 0.0083\n",
      "Epoch 98/150\n",
      "26/26 [==============================] - 0s 8ms/step - loss: 0.0072\n",
      "Epoch 99/150\n",
      "26/26 [==============================] - 0s 9ms/step - loss: 0.0070\n",
      "Epoch 100/150\n",
      "26/26 [==============================] - 0s 10ms/step - loss: 0.0085\n",
      "Epoch 101/150\n"
     ]
    },
    {
     "name": "stdout",
     "output_type": "stream",
     "text": [
      "26/26 [==============================] - 0s 10ms/step - loss: 0.0076\n",
      "Epoch 102/150\n",
      "26/26 [==============================] - 0s 10ms/step - loss: 0.0071\n",
      "Epoch 103/150\n",
      "26/26 [==============================] - 0s 10ms/step - loss: 0.0077\n",
      "Epoch 104/150\n",
      "26/26 [==============================] - 0s 9ms/step - loss: 0.0081\n",
      "Epoch 105/150\n",
      "26/26 [==============================] - 0s 9ms/step - loss: 0.0065\n",
      "Epoch 106/150\n",
      "26/26 [==============================] - 0s 9ms/step - loss: 0.0078\n",
      "Epoch 107/150\n",
      "26/26 [==============================] - 0s 10ms/step - loss: 0.0066\n",
      "Epoch 108/150\n",
      "26/26 [==============================] - 0s 10ms/step - loss: 0.0078\n",
      "Epoch 109/150\n",
      "26/26 [==============================] - 0s 9ms/step - loss: 0.0089\n",
      "Epoch 110/150\n",
      "26/26 [==============================] - 0s 8ms/step - loss: 0.0072\n",
      "Epoch 111/150\n",
      "26/26 [==============================] - 0s 10ms/step - loss: 0.0069\n",
      "Epoch 112/150\n",
      "26/26 [==============================] - 0s 10ms/step - loss: 0.0065\n",
      "Epoch 113/150\n",
      "26/26 [==============================] - 0s 10ms/step - loss: 0.0077\n",
      "Epoch 114/150\n",
      "26/26 [==============================] - 0s 9ms/step - loss: 0.0073\n",
      "Epoch 115/150\n",
      "26/26 [==============================] - 0s 9ms/step - loss: 0.0082\n",
      "Epoch 116/150\n",
      "26/26 [==============================] - 0s 9ms/step - loss: 0.0073\n",
      "Epoch 117/150\n",
      "26/26 [==============================] - 0s 9ms/step - loss: 0.0072\n",
      "Epoch 118/150\n",
      "26/26 [==============================] - 0s 9ms/step - loss: 0.0075\n",
      "Epoch 119/150\n",
      "26/26 [==============================] - 0s 10ms/step - loss: 0.0083\n",
      "Epoch 120/150\n",
      "26/26 [==============================] - 0s 10ms/step - loss: 0.0075\n",
      "Epoch 121/150\n",
      "26/26 [==============================] - 0s 8ms/step - loss: 0.0077\n",
      "Epoch 122/150\n",
      "26/26 [==============================] - 0s 9ms/step - loss: 0.0081\n",
      "Epoch 123/150\n",
      "26/26 [==============================] - 0s 10ms/step - loss: 0.0070\n",
      "Epoch 124/150\n",
      "26/26 [==============================] - 0s 10ms/step - loss: 0.0086\n",
      "Epoch 125/150\n",
      "26/26 [==============================] - 0s 10ms/step - loss: 0.0061\n",
      "Epoch 126/150\n",
      "26/26 [==============================] - 0s 9ms/step - loss: 0.0075\n",
      "Epoch 127/150\n",
      "26/26 [==============================] - 0s 9ms/step - loss: 0.0074\n",
      "Epoch 128/150\n",
      "26/26 [==============================] - 0s 11ms/step - loss: 0.0063\n",
      "Epoch 129/150\n",
      "26/26 [==============================] - 0s 10ms/step - loss: 0.0100\n",
      "Epoch 130/150\n",
      "26/26 [==============================] - 0s 10ms/step - loss: 0.0068\n",
      "Epoch 131/150\n",
      "26/26 [==============================] - 0s 9ms/step - loss: 0.0082\n",
      "Epoch 132/150\n",
      "26/26 [==============================] - 0s 9ms/step - loss: 0.0087\n",
      "Epoch 133/150\n",
      "26/26 [==============================] - 0s 10ms/step - loss: 0.0089\n",
      "Epoch 134/150\n",
      "26/26 [==============================] - 0s 9ms/step - loss: 0.0087\n",
      "Epoch 135/150\n",
      "26/26 [==============================] - 0s 10ms/step - loss: 0.0097\n",
      "Epoch 136/150\n",
      "26/26 [==============================] - 0s 10ms/step - loss: 0.0083\n",
      "Epoch 137/150\n",
      "26/26 [==============================] - 0s 8ms/step - loss: 0.0078\n",
      "Epoch 138/150\n",
      "26/26 [==============================] - 0s 9ms/step - loss: 0.0070\n",
      "Epoch 139/150\n",
      "26/26 [==============================] - 0s 10ms/step - loss: 0.0077\n",
      "Epoch 140/150\n",
      "26/26 [==============================] - 0s 10ms/step - loss: 0.0071\n",
      "Epoch 141/150\n",
      "26/26 [==============================] - 0s 10ms/step - loss: 0.0080\n",
      "Epoch 142/150\n",
      "26/26 [==============================] - 0s 9ms/step - loss: 0.0069\n",
      "Epoch 143/150\n",
      "26/26 [==============================] - 0s 9ms/step - loss: 0.0069\n",
      "Epoch 144/150\n",
      "26/26 [==============================] - 0s 10ms/step - loss: 0.0065\n",
      "Epoch 145/150\n",
      "26/26 [==============================] - 0s 10ms/step - loss: 0.0068\n",
      "Epoch 146/150\n",
      "26/26 [==============================] - 0s 9ms/step - loss: 0.0078\n",
      "Epoch 147/150\n",
      "26/26 [==============================] - 0s 10ms/step - loss: 0.0065\n",
      "Epoch 148/150\n",
      "26/26 [==============================] - 0s 9ms/step - loss: 0.0074\n",
      "Epoch 149/150\n",
      "26/26 [==============================] - 0s 10ms/step - loss: 0.0076\n",
      "Epoch 150/150\n",
      "26/26 [==============================] - 0s 9ms/step - loss: 0.0077\n"
     ]
    },
    {
     "data": {
      "text/plain": [
       "<keras.callbacks.History at 0x176c81d9a48>"
      ]
     },
     "execution_count": 135,
     "metadata": {},
     "output_type": "execute_result"
    },
    {
     "data": {
      "application/javascript": [
       "\n",
       "            setTimeout(function() {\n",
       "                var nbb_cell_id = 135;\n",
       "                var nbb_unformatted_code = \"model.fit(X_train, y_train, epochs=150, shuffle=False, batch_size=20, verbose=1)\";\n",
       "                var nbb_formatted_code = \"model.fit(X_train, y_train, epochs=150, shuffle=False, batch_size=20, verbose=1)\";\n",
       "                var nbb_cells = Jupyter.notebook.get_cells();\n",
       "                for (var i = 0; i < nbb_cells.length; ++i) {\n",
       "                    if (nbb_cells[i].input_prompt_number == nbb_cell_id) {\n",
       "                        if (nbb_cells[i].get_text() == nbb_unformatted_code) {\n",
       "                             nbb_cells[i].set_text(nbb_formatted_code);\n",
       "                        }\n",
       "                        break;\n",
       "                    }\n",
       "                }\n",
       "            }, 500);\n",
       "            "
      ],
      "text/plain": [
       "<IPython.core.display.Javascript object>"
      ]
     },
     "metadata": {},
     "output_type": "display_data"
    },
    {
     "data": {
      "application/javascript": [
       "\n",
       "            setTimeout(function() {\n",
       "                var nbb_cell_id = 135;\n",
       "                var nbb_unformatted_code = \"model.fit(X_train, y_train, epochs=150, shuffle=False, batch_size=20, verbose=1)\";\n",
       "                var nbb_formatted_code = \"model.fit(X_train, y_train, epochs=150, shuffle=False, batch_size=20, verbose=1)\";\n",
       "                var nbb_cells = Jupyter.notebook.get_cells();\n",
       "                for (var i = 0; i < nbb_cells.length; ++i) {\n",
       "                    if (nbb_cells[i].input_prompt_number == nbb_cell_id) {\n",
       "                        if (nbb_cells[i].get_text() == nbb_unformatted_code) {\n",
       "                             nbb_cells[i].set_text(nbb_formatted_code);\n",
       "                        }\n",
       "                        break;\n",
       "                    }\n",
       "                }\n",
       "            }, 500);\n",
       "            "
      ],
      "text/plain": [
       "<IPython.core.display.Javascript object>"
      ]
     },
     "metadata": {},
     "output_type": "display_data"
    },
    {
     "data": {
      "application/javascript": [
       "\n",
       "            setTimeout(function() {\n",
       "                var nbb_cell_id = 135;\n",
       "                var nbb_unformatted_code = \"model.fit(X_train, y_train, epochs=150, shuffle=False, batch_size=20, verbose=1)\";\n",
       "                var nbb_formatted_code = \"model.fit(X_train, y_train, epochs=150, shuffle=False, batch_size=20, verbose=1)\";\n",
       "                var nbb_cells = Jupyter.notebook.get_cells();\n",
       "                for (var i = 0; i < nbb_cells.length; ++i) {\n",
       "                    if (nbb_cells[i].input_prompt_number == nbb_cell_id) {\n",
       "                        if (nbb_cells[i].get_text() == nbb_unformatted_code) {\n",
       "                             nbb_cells[i].set_text(nbb_formatted_code);\n",
       "                        }\n",
       "                        break;\n",
       "                    }\n",
       "                }\n",
       "            }, 500);\n",
       "            "
      ],
      "text/plain": [
       "<IPython.core.display.Javascript object>"
      ]
     },
     "metadata": {},
     "output_type": "display_data"
    },
    {
     "data": {
      "application/javascript": [
       "\n",
       "            setTimeout(function() {\n",
       "                var nbb_cell_id = 135;\n",
       "                var nbb_unformatted_code = \"model.fit(X_train, y_train, epochs=150, shuffle=False, batch_size=20, verbose=1)\";\n",
       "                var nbb_formatted_code = \"model.fit(X_train, y_train, epochs=150, shuffle=False, batch_size=20, verbose=1)\";\n",
       "                var nbb_cells = Jupyter.notebook.get_cells();\n",
       "                for (var i = 0; i < nbb_cells.length; ++i) {\n",
       "                    if (nbb_cells[i].input_prompt_number == nbb_cell_id) {\n",
       "                        if (nbb_cells[i].get_text() == nbb_unformatted_code) {\n",
       "                             nbb_cells[i].set_text(nbb_formatted_code);\n",
       "                        }\n",
       "                        break;\n",
       "                    }\n",
       "                }\n",
       "            }, 500);\n",
       "            "
      ],
      "text/plain": [
       "<IPython.core.display.Javascript object>"
      ]
     },
     "metadata": {},
     "output_type": "display_data"
    },
    {
     "data": {
      "application/javascript": [
       "\n",
       "            setTimeout(function() {\n",
       "                var nbb_cell_id = 135;\n",
       "                var nbb_unformatted_code = \"model.fit(X_train, y_train, epochs=150, shuffle=False, batch_size=20, verbose=1)\";\n",
       "                var nbb_formatted_code = \"model.fit(X_train, y_train, epochs=150, shuffle=False, batch_size=20, verbose=1)\";\n",
       "                var nbb_cells = Jupyter.notebook.get_cells();\n",
       "                for (var i = 0; i < nbb_cells.length; ++i) {\n",
       "                    if (nbb_cells[i].input_prompt_number == nbb_cell_id) {\n",
       "                        if (nbb_cells[i].get_text() == nbb_unformatted_code) {\n",
       "                             nbb_cells[i].set_text(nbb_formatted_code);\n",
       "                        }\n",
       "                        break;\n",
       "                    }\n",
       "                }\n",
       "            }, 500);\n",
       "            "
      ],
      "text/plain": [
       "<IPython.core.display.Javascript object>"
      ]
     },
     "metadata": {},
     "output_type": "display_data"
    },
    {
     "data": {
      "application/javascript": [
       "\n",
       "            setTimeout(function() {\n",
       "                var nbb_cell_id = 135;\n",
       "                var nbb_unformatted_code = \"model.fit(X_train, y_train, epochs=150, shuffle=False, batch_size=20, verbose=1)\";\n",
       "                var nbb_formatted_code = \"model.fit(X_train, y_train, epochs=150, shuffle=False, batch_size=20, verbose=1)\";\n",
       "                var nbb_cells = Jupyter.notebook.get_cells();\n",
       "                for (var i = 0; i < nbb_cells.length; ++i) {\n",
       "                    if (nbb_cells[i].input_prompt_number == nbb_cell_id) {\n",
       "                        if (nbb_cells[i].get_text() == nbb_unformatted_code) {\n",
       "                             nbb_cells[i].set_text(nbb_formatted_code);\n",
       "                        }\n",
       "                        break;\n",
       "                    }\n",
       "                }\n",
       "            }, 500);\n",
       "            "
      ],
      "text/plain": [
       "<IPython.core.display.Javascript object>"
      ]
     },
     "metadata": {},
     "output_type": "display_data"
    },
    {
     "data": {
      "application/javascript": [
       "\n",
       "            setTimeout(function() {\n",
       "                var nbb_cell_id = 135;\n",
       "                var nbb_unformatted_code = \"model.fit(X_train, y_train, epochs=150, shuffle=False, batch_size=20, verbose=1)\";\n",
       "                var nbb_formatted_code = \"model.fit(X_train, y_train, epochs=150, shuffle=False, batch_size=20, verbose=1)\";\n",
       "                var nbb_cells = Jupyter.notebook.get_cells();\n",
       "                for (var i = 0; i < nbb_cells.length; ++i) {\n",
       "                    if (nbb_cells[i].input_prompt_number == nbb_cell_id) {\n",
       "                        if (nbb_cells[i].get_text() == nbb_unformatted_code) {\n",
       "                             nbb_cells[i].set_text(nbb_formatted_code);\n",
       "                        }\n",
       "                        break;\n",
       "                    }\n",
       "                }\n",
       "            }, 500);\n",
       "            "
      ],
      "text/plain": [
       "<IPython.core.display.Javascript object>"
      ]
     },
     "metadata": {},
     "output_type": "display_data"
    },
    {
     "data": {
      "application/javascript": [
       "\n",
       "            setTimeout(function() {\n",
       "                var nbb_cell_id = 135;\n",
       "                var nbb_unformatted_code = \"model.fit(X_train, y_train, epochs=150, shuffle=False, batch_size=20, verbose=1)\";\n",
       "                var nbb_formatted_code = \"model.fit(X_train, y_train, epochs=150, shuffle=False, batch_size=20, verbose=1)\";\n",
       "                var nbb_cells = Jupyter.notebook.get_cells();\n",
       "                for (var i = 0; i < nbb_cells.length; ++i) {\n",
       "                    if (nbb_cells[i].input_prompt_number == nbb_cell_id) {\n",
       "                        if (nbb_cells[i].get_text() == nbb_unformatted_code) {\n",
       "                             nbb_cells[i].set_text(nbb_formatted_code);\n",
       "                        }\n",
       "                        break;\n",
       "                    }\n",
       "                }\n",
       "            }, 500);\n",
       "            "
      ],
      "text/plain": [
       "<IPython.core.display.Javascript object>"
      ]
     },
     "metadata": {},
     "output_type": "display_data"
    },
    {
     "data": {
      "application/javascript": [
       "\n",
       "            setTimeout(function() {\n",
       "                var nbb_cell_id = 135;\n",
       "                var nbb_unformatted_code = \"model.fit(X_train, y_train, epochs=150, shuffle=False, batch_size=20, verbose=1)\";\n",
       "                var nbb_formatted_code = \"model.fit(X_train, y_train, epochs=150, shuffle=False, batch_size=20, verbose=1)\";\n",
       "                var nbb_cells = Jupyter.notebook.get_cells();\n",
       "                for (var i = 0; i < nbb_cells.length; ++i) {\n",
       "                    if (nbb_cells[i].input_prompt_number == nbb_cell_id) {\n",
       "                        if (nbb_cells[i].get_text() == nbb_unformatted_code) {\n",
       "                             nbb_cells[i].set_text(nbb_formatted_code);\n",
       "                        }\n",
       "                        break;\n",
       "                    }\n",
       "                }\n",
       "            }, 500);\n",
       "            "
      ],
      "text/plain": [
       "<IPython.core.display.Javascript object>"
      ]
     },
     "metadata": {},
     "output_type": "display_data"
    },
    {
     "data": {
      "application/javascript": [
       "\n",
       "            setTimeout(function() {\n",
       "                var nbb_cell_id = 135;\n",
       "                var nbb_unformatted_code = \"model.fit(X_train, y_train, epochs=150, shuffle=False, batch_size=20, verbose=1)\";\n",
       "                var nbb_formatted_code = \"model.fit(X_train, y_train, epochs=150, shuffle=False, batch_size=20, verbose=1)\";\n",
       "                var nbb_cells = Jupyter.notebook.get_cells();\n",
       "                for (var i = 0; i < nbb_cells.length; ++i) {\n",
       "                    if (nbb_cells[i].input_prompt_number == nbb_cell_id) {\n",
       "                        if (nbb_cells[i].get_text() == nbb_unformatted_code) {\n",
       "                             nbb_cells[i].set_text(nbb_formatted_code);\n",
       "                        }\n",
       "                        break;\n",
       "                    }\n",
       "                }\n",
       "            }, 500);\n",
       "            "
      ],
      "text/plain": [
       "<IPython.core.display.Javascript object>"
      ]
     },
     "metadata": {},
     "output_type": "display_data"
    }
   ],
   "source": [
    "model.fit(X_train, y_train, epochs=150, shuffle=False, batch_size=20, verbose=1)"
   ]
  },
  {
   "cell_type": "code",
   "execution_count": 136,
   "id": "9836ee0b",
   "metadata": {},
   "outputs": [
    {
     "data": {
      "text/plain": [
       "<AxesSubplot:title={'center':'Real vs Predicted Prices'}, xlabel='Date'>"
      ]
     },
     "execution_count": 136,
     "metadata": {},
     "output_type": "execute_result"
    },
    {
     "data": {
      "image/png": "[encoded data removed]",
      "text/plain": [
       "<Figure size 576x396 with 1 Axes>"
      ]
     },
     "metadata": {},
     "output_type": "display_data"
    },
    {
     "data": {
      "application/javascript": [
       "\n",
       "            setTimeout(function() {\n",
       "                var nbb_cell_id = 136;\n",
       "                var nbb_unformatted_code = \"# Make some predictions\\npredicted = model.predict(X_test)\\n\\n# Recover the original prices instead of the scaled version\\npredicted_prices = scaler.inverse_transform(predicted)\\nreal_prices = scaler.inverse_transform(y_test.reshape(-1, 1))\\n\\n# Create a DataFrame of Real and Predicted values\\nstocks = pd.DataFrame(\\n    {\\\"Real\\\": real_prices.ravel(), \\\"Predicted\\\": predicted_prices.ravel()},\\n    index=asset_data.index[-len(real_prices) :],\\n)\\nstocks.head()\\n\\n# Plot the real vs predicted values as a line chart\\nstocks.plot(title=\\\"Real vs Predicted Prices\\\")\";\n",
       "                var nbb_formatted_code = \"# Make some predictions\\npredicted = model.predict(X_test)\\n\\n# Recover the original prices instead of the scaled version\\npredicted_prices = scaler.inverse_transform(predicted)\\nreal_prices = scaler.inverse_transform(y_test.reshape(-1, 1))\\n\\n# Create a DataFrame of Real and Predicted values\\nstocks = pd.DataFrame(\\n    {\\\"Real\\\": real_prices.ravel(), \\\"Predicted\\\": predicted_prices.ravel()},\\n    index=asset_data.index[-len(real_prices) :],\\n)\\nstocks.head()\\n\\n# Plot the real vs predicted values as a line chart\\nstocks.plot(title=\\\"Real vs Predicted Prices\\\")\";\n",
       "                var nbb_cells = Jupyter.notebook.get_cells();\n",
       "                for (var i = 0; i < nbb_cells.length; ++i) {\n",
       "                    if (nbb_cells[i].input_prompt_number == nbb_cell_id) {\n",
       "                        if (nbb_cells[i].get_text() == nbb_unformatted_code) {\n",
       "                             nbb_cells[i].set_text(nbb_formatted_code);\n",
       "                        }\n",
       "                        break;\n",
       "                    }\n",
       "                }\n",
       "            }, 500);\n",
       "            "
      ],
      "text/plain": [
       "<IPython.core.display.Javascript object>"
      ]
     },
     "metadata": {},
     "output_type": "display_data"
    },
    {
     "data": {
      "application/javascript": [
       "\n",
       "            setTimeout(function() {\n",
       "                var nbb_cell_id = 136;\n",
       "                var nbb_unformatted_code = \"# Make some predictions\\npredicted = model.predict(X_test)\\n\\n# Recover the original prices instead of the scaled version\\npredicted_prices = scaler.inverse_transform(predicted)\\nreal_prices = scaler.inverse_transform(y_test.reshape(-1, 1))\\n\\n# Create a DataFrame of Real and Predicted values\\nstocks = pd.DataFrame(\\n    {\\\"Real\\\": real_prices.ravel(), \\\"Predicted\\\": predicted_prices.ravel()},\\n    index=asset_data.index[-len(real_prices) :],\\n)\\nstocks.head()\\n\\n# Plot the real vs predicted values as a line chart\\nstocks.plot(title=\\\"Real vs Predicted Prices\\\")\";\n",
       "                var nbb_formatted_code = \"# Make some predictions\\npredicted = model.predict(X_test)\\n\\n# Recover the original prices instead of the scaled version\\npredicted_prices = scaler.inverse_transform(predicted)\\nreal_prices = scaler.inverse_transform(y_test.reshape(-1, 1))\\n\\n# Create a DataFrame of Real and Predicted values\\nstocks = pd.DataFrame(\\n    {\\\"Real\\\": real_prices.ravel(), \\\"Predicted\\\": predicted_prices.ravel()},\\n    index=asset_data.index[-len(real_prices) :],\\n)\\nstocks.head()\\n\\n# Plot the real vs predicted values as a line chart\\nstocks.plot(title=\\\"Real vs Predicted Prices\\\")\";\n",
       "                var nbb_cells = Jupyter.notebook.get_cells();\n",
       "                for (var i = 0; i < nbb_cells.length; ++i) {\n",
       "                    if (nbb_cells[i].input_prompt_number == nbb_cell_id) {\n",
       "                        if (nbb_cells[i].get_text() == nbb_unformatted_code) {\n",
       "                             nbb_cells[i].set_text(nbb_formatted_code);\n",
       "                        }\n",
       "                        break;\n",
       "                    }\n",
       "                }\n",
       "            }, 500);\n",
       "            "
      ],
      "text/plain": [
       "<IPython.core.display.Javascript object>"
      ]
     },
     "metadata": {},
     "output_type": "display_data"
    },
    {
     "data": {
      "application/javascript": [
       "\n",
       "            setTimeout(function() {\n",
       "                var nbb_cell_id = 136;\n",
       "                var nbb_unformatted_code = \"# Make some predictions\\npredicted = model.predict(X_test)\\n\\n# Recover the original prices instead of the scaled version\\npredicted_prices = scaler.inverse_transform(predicted)\\nreal_prices = scaler.inverse_transform(y_test.reshape(-1, 1))\\n\\n# Create a DataFrame of Real and Predicted values\\nstocks = pd.DataFrame(\\n    {\\\"Real\\\": real_prices.ravel(), \\\"Predicted\\\": predicted_prices.ravel()},\\n    index=asset_data.index[-len(real_prices) :],\\n)\\nstocks.head()\\n\\n# Plot the real vs predicted values as a line chart\\nstocks.plot(title=\\\"Real vs Predicted Prices\\\")\";\n",
       "                var nbb_formatted_code = \"# Make some predictions\\npredicted = model.predict(X_test)\\n\\n# Recover the original prices instead of the scaled version\\npredicted_prices = scaler.inverse_transform(predicted)\\nreal_prices = scaler.inverse_transform(y_test.reshape(-1, 1))\\n\\n# Create a DataFrame of Real and Predicted values\\nstocks = pd.DataFrame(\\n    {\\\"Real\\\": real_prices.ravel(), \\\"Predicted\\\": predicted_prices.ravel()},\\n    index=asset_data.index[-len(real_prices) :],\\n)\\nstocks.head()\\n\\n# Plot the real vs predicted values as a line chart\\nstocks.plot(title=\\\"Real vs Predicted Prices\\\")\";\n",
       "                var nbb_cells = Jupyter.notebook.get_cells();\n",
       "                for (var i = 0; i < nbb_cells.length; ++i) {\n",
       "                    if (nbb_cells[i].input_prompt_number == nbb_cell_id) {\n",
       "                        if (nbb_cells[i].get_text() == nbb_unformatted_code) {\n",
       "                             nbb_cells[i].set_text(nbb_formatted_code);\n",
       "                        }\n",
       "                        break;\n",
       "                    }\n",
       "                }\n",
       "            }, 500);\n",
       "            "
      ],
      "text/plain": [
       "<IPython.core.display.Javascript object>"
      ]
     },
     "metadata": {},
     "output_type": "display_data"
    },
    {
     "data": {
      "application/javascript": [
       "\n",
       "            setTimeout(function() {\n",
       "                var nbb_cell_id = 136;\n",
       "                var nbb_unformatted_code = \"# Make some predictions\\npredicted = model.predict(X_test)\\n\\n# Recover the original prices instead of the scaled version\\npredicted_prices = scaler.inverse_transform(predicted)\\nreal_prices = scaler.inverse_transform(y_test.reshape(-1, 1))\\n\\n# Create a DataFrame of Real and Predicted values\\nstocks = pd.DataFrame(\\n    {\\\"Real\\\": real_prices.ravel(), \\\"Predicted\\\": predicted_prices.ravel()},\\n    index=asset_data.index[-len(real_prices) :],\\n)\\nstocks.head()\\n\\n# Plot the real vs predicted values as a line chart\\nstocks.plot(title=\\\"Real vs Predicted Prices\\\")\";\n",
       "                var nbb_formatted_code = \"# Make some predictions\\npredicted = model.predict(X_test)\\n\\n# Recover the original prices instead of the scaled version\\npredicted_prices = scaler.inverse_transform(predicted)\\nreal_prices = scaler.inverse_transform(y_test.reshape(-1, 1))\\n\\n# Create a DataFrame of Real and Predicted values\\nstocks = pd.DataFrame(\\n    {\\\"Real\\\": real_prices.ravel(), \\\"Predicted\\\": predicted_prices.ravel()},\\n    index=asset_data.index[-len(real_prices) :],\\n)\\nstocks.head()\\n\\n# Plot the real vs predicted values as a line chart\\nstocks.plot(title=\\\"Real vs Predicted Prices\\\")\";\n",
       "                var nbb_cells = Jupyter.notebook.get_cells();\n",
       "                for (var i = 0; i < nbb_cells.length; ++i) {\n",
       "                    if (nbb_cells[i].input_prompt_number == nbb_cell_id) {\n",
       "                        if (nbb_cells[i].get_text() == nbb_unformatted_code) {\n",
       "                             nbb_cells[i].set_text(nbb_formatted_code);\n",
       "                        }\n",
       "                        break;\n",
       "                    }\n",
       "                }\n",
       "            }, 500);\n",
       "            "
      ],
      "text/plain": [
       "<IPython.core.display.Javascript object>"
      ]
     },
     "metadata": {},
     "output_type": "display_data"
    },
    {
     "data": {
      "application/javascript": [
       "\n",
       "            setTimeout(function() {\n",
       "                var nbb_cell_id = 136;\n",
       "                var nbb_unformatted_code = \"# Make some predictions\\npredicted = model.predict(X_test)\\n\\n# Recover the original prices instead of the scaled version\\npredicted_prices = scaler.inverse_transform(predicted)\\nreal_prices = scaler.inverse_transform(y_test.reshape(-1, 1))\\n\\n# Create a DataFrame of Real and Predicted values\\nstocks = pd.DataFrame(\\n    {\\\"Real\\\": real_prices.ravel(), \\\"Predicted\\\": predicted_prices.ravel()},\\n    index=asset_data.index[-len(real_prices) :],\\n)\\nstocks.head()\\n\\n# Plot the real vs predicted values as a line chart\\nstocks.plot(title=\\\"Real vs Predicted Prices\\\")\";\n",
       "                var nbb_formatted_code = \"# Make some predictions\\npredicted = model.predict(X_test)\\n\\n# Recover the original prices instead of the scaled version\\npredicted_prices = scaler.inverse_transform(predicted)\\nreal_prices = scaler.inverse_transform(y_test.reshape(-1, 1))\\n\\n# Create a DataFrame of Real and Predicted values\\nstocks = pd.DataFrame(\\n    {\\\"Real\\\": real_prices.ravel(), \\\"Predicted\\\": predicted_prices.ravel()},\\n    index=asset_data.index[-len(real_prices) :],\\n)\\nstocks.head()\\n\\n# Plot the real vs predicted values as a line chart\\nstocks.plot(title=\\\"Real vs Predicted Prices\\\")\";\n",
       "                var nbb_cells = Jupyter.notebook.get_cells();\n",
       "                for (var i = 0; i < nbb_cells.length; ++i) {\n",
       "                    if (nbb_cells[i].input_prompt_number == nbb_cell_id) {\n",
       "                        if (nbb_cells[i].get_text() == nbb_unformatted_code) {\n",
       "                             nbb_cells[i].set_text(nbb_formatted_code);\n",
       "                        }\n",
       "                        break;\n",
       "                    }\n",
       "                }\n",
       "            }, 500);\n",
       "            "
      ],
      "text/plain": [
       "<IPython.core.display.Javascript object>"
      ]
     },
     "metadata": {},
     "output_type": "display_data"
    },
    {
     "data": {
      "application/javascript": [
       "\n",
       "            setTimeout(function() {\n",
       "                var nbb_cell_id = 136;\n",
       "                var nbb_unformatted_code = \"# Make some predictions\\npredicted = model.predict(X_test)\\n\\n# Recover the original prices instead of the scaled version\\npredicted_prices = scaler.inverse_transform(predicted)\\nreal_prices = scaler.inverse_transform(y_test.reshape(-1, 1))\\n\\n# Create a DataFrame of Real and Predicted values\\nstocks = pd.DataFrame(\\n    {\\\"Real\\\": real_prices.ravel(), \\\"Predicted\\\": predicted_prices.ravel()},\\n    index=asset_data.index[-len(real_prices) :],\\n)\\nstocks.head()\\n\\n# Plot the real vs predicted values as a line chart\\nstocks.plot(title=\\\"Real vs Predicted Prices\\\")\";\n",
       "                var nbb_formatted_code = \"# Make some predictions\\npredicted = model.predict(X_test)\\n\\n# Recover the original prices instead of the scaled version\\npredicted_prices = scaler.inverse_transform(predicted)\\nreal_prices = scaler.inverse_transform(y_test.reshape(-1, 1))\\n\\n# Create a DataFrame of Real and Predicted values\\nstocks = pd.DataFrame(\\n    {\\\"Real\\\": real_prices.ravel(), \\\"Predicted\\\": predicted_prices.ravel()},\\n    index=asset_data.index[-len(real_prices) :],\\n)\\nstocks.head()\\n\\n# Plot the real vs predicted values as a line chart\\nstocks.plot(title=\\\"Real vs Predicted Prices\\\")\";\n",
       "                var nbb_cells = Jupyter.notebook.get_cells();\n",
       "                for (var i = 0; i < nbb_cells.length; ++i) {\n",
       "                    if (nbb_cells[i].input_prompt_number == nbb_cell_id) {\n",
       "                        if (nbb_cells[i].get_text() == nbb_unformatted_code) {\n",
       "                             nbb_cells[i].set_text(nbb_formatted_code);\n",
       "                        }\n",
       "                        break;\n",
       "                    }\n",
       "                }\n",
       "            }, 500);\n",
       "            "
      ],
      "text/plain": [
       "<IPython.core.display.Javascript object>"
      ]
     },
     "metadata": {},
     "output_type": "display_data"
    },
    {
     "data": {
      "application/javascript": [
       "\n",
       "            setTimeout(function() {\n",
       "                var nbb_cell_id = 136;\n",
       "                var nbb_unformatted_code = \"# Make some predictions\\npredicted = model.predict(X_test)\\n\\n# Recover the original prices instead of the scaled version\\npredicted_prices = scaler.inverse_transform(predicted)\\nreal_prices = scaler.inverse_transform(y_test.reshape(-1, 1))\\n\\n# Create a DataFrame of Real and Predicted values\\nstocks = pd.DataFrame(\\n    {\\\"Real\\\": real_prices.ravel(), \\\"Predicted\\\": predicted_prices.ravel()},\\n    index=asset_data.index[-len(real_prices) :],\\n)\\nstocks.head()\\n\\n# Plot the real vs predicted values as a line chart\\nstocks.plot(title=\\\"Real vs Predicted Prices\\\")\";\n",
       "                var nbb_formatted_code = \"# Make some predictions\\npredicted = model.predict(X_test)\\n\\n# Recover the original prices instead of the scaled version\\npredicted_prices = scaler.inverse_transform(predicted)\\nreal_prices = scaler.inverse_transform(y_test.reshape(-1, 1))\\n\\n# Create a DataFrame of Real and Predicted values\\nstocks = pd.DataFrame(\\n    {\\\"Real\\\": real_prices.ravel(), \\\"Predicted\\\": predicted_prices.ravel()},\\n    index=asset_data.index[-len(real_prices) :],\\n)\\nstocks.head()\\n\\n# Plot the real vs predicted values as a line chart\\nstocks.plot(title=\\\"Real vs Predicted Prices\\\")\";\n",
       "                var nbb_cells = Jupyter.notebook.get_cells();\n",
       "                for (var i = 0; i < nbb_cells.length; ++i) {\n",
       "                    if (nbb_cells[i].input_prompt_number == nbb_cell_id) {\n",
       "                        if (nbb_cells[i].get_text() == nbb_unformatted_code) {\n",
       "                             nbb_cells[i].set_text(nbb_formatted_code);\n",
       "                        }\n",
       "                        break;\n",
       "                    }\n",
       "                }\n",
       "            }, 500);\n",
       "            "
      ],
      "text/plain": [
       "<IPython.core.display.Javascript object>"
      ]
     },
     "metadata": {},
     "output_type": "display_data"
    },
    {
     "data": {
      "application/javascript": [
       "\n",
       "            setTimeout(function() {\n",
       "                var nbb_cell_id = 136;\n",
       "                var nbb_unformatted_code = \"# Make some predictions\\npredicted = model.predict(X_test)\\n\\n# Recover the original prices instead of the scaled version\\npredicted_prices = scaler.inverse_transform(predicted)\\nreal_prices = scaler.inverse_transform(y_test.reshape(-1, 1))\\n\\n# Create a DataFrame of Real and Predicted values\\nstocks = pd.DataFrame(\\n    {\\\"Real\\\": real_prices.ravel(), \\\"Predicted\\\": predicted_prices.ravel()},\\n    index=asset_data.index[-len(real_prices) :],\\n)\\nstocks.head()\\n\\n# Plot the real vs predicted values as a line chart\\nstocks.plot(title=\\\"Real vs Predicted Prices\\\")\";\n",
       "                var nbb_formatted_code = \"# Make some predictions\\npredicted = model.predict(X_test)\\n\\n# Recover the original prices instead of the scaled version\\npredicted_prices = scaler.inverse_transform(predicted)\\nreal_prices = scaler.inverse_transform(y_test.reshape(-1, 1))\\n\\n# Create a DataFrame of Real and Predicted values\\nstocks = pd.DataFrame(\\n    {\\\"Real\\\": real_prices.ravel(), \\\"Predicted\\\": predicted_prices.ravel()},\\n    index=asset_data.index[-len(real_prices) :],\\n)\\nstocks.head()\\n\\n# Plot the real vs predicted values as a line chart\\nstocks.plot(title=\\\"Real vs Predicted Prices\\\")\";\n",
       "                var nbb_cells = Jupyter.notebook.get_cells();\n",
       "                for (var i = 0; i < nbb_cells.length; ++i) {\n",
       "                    if (nbb_cells[i].input_prompt_number == nbb_cell_id) {\n",
       "                        if (nbb_cells[i].get_text() == nbb_unformatted_code) {\n",
       "                             nbb_cells[i].set_text(nbb_formatted_code);\n",
       "                        }\n",
       "                        break;\n",
       "                    }\n",
       "                }\n",
       "            }, 500);\n",
       "            "
      ],
      "text/plain": [
       "<IPython.core.display.Javascript object>"
      ]
     },
     "metadata": {},
     "output_type": "display_data"
    },
    {
     "data": {
      "application/javascript": [
       "\n",
       "            setTimeout(function() {\n",
       "                var nbb_cell_id = 136;\n",
       "                var nbb_unformatted_code = \"# Make some predictions\\npredicted = model.predict(X_test)\\n\\n# Recover the original prices instead of the scaled version\\npredicted_prices = scaler.inverse_transform(predicted)\\nreal_prices = scaler.inverse_transform(y_test.reshape(-1, 1))\\n\\n# Create a DataFrame of Real and Predicted values\\nstocks = pd.DataFrame(\\n    {\\\"Real\\\": real_prices.ravel(), \\\"Predicted\\\": predicted_prices.ravel()},\\n    index=asset_data.index[-len(real_prices) :],\\n)\\nstocks.head()\\n\\n# Plot the real vs predicted values as a line chart\\nstocks.plot(title=\\\"Real vs Predicted Prices\\\")\";\n",
       "                var nbb_formatted_code = \"# Make some predictions\\npredicted = model.predict(X_test)\\n\\n# Recover the original prices instead of the scaled version\\npredicted_prices = scaler.inverse_transform(predicted)\\nreal_prices = scaler.inverse_transform(y_test.reshape(-1, 1))\\n\\n# Create a DataFrame of Real and Predicted values\\nstocks = pd.DataFrame(\\n    {\\\"Real\\\": real_prices.ravel(), \\\"Predicted\\\": predicted_prices.ravel()},\\n    index=asset_data.index[-len(real_prices) :],\\n)\\nstocks.head()\\n\\n# Plot the real vs predicted values as a line chart\\nstocks.plot(title=\\\"Real vs Predicted Prices\\\")\";\n",
       "                var nbb_cells = Jupyter.notebook.get_cells();\n",
       "                for (var i = 0; i < nbb_cells.length; ++i) {\n",
       "                    if (nbb_cells[i].input_prompt_number == nbb_cell_id) {\n",
       "                        if (nbb_cells[i].get_text() == nbb_unformatted_code) {\n",
       "                             nbb_cells[i].set_text(nbb_formatted_code);\n",
       "                        }\n",
       "                        break;\n",
       "                    }\n",
       "                }\n",
       "            }, 500);\n",
       "            "
      ],
      "text/plain": [
       "<IPython.core.display.Javascript object>"
      ]
     },
     "metadata": {},
     "output_type": "display_data"
    },
    {
     "data": {
      "application/javascript": [
       "\n",
       "            setTimeout(function() {\n",
       "                var nbb_cell_id = 136;\n",
       "                var nbb_unformatted_code = \"# Make some predictions\\npredicted = model.predict(X_test)\\n\\n# Recover the original prices instead of the scaled version\\npredicted_prices = scaler.inverse_transform(predicted)\\nreal_prices = scaler.inverse_transform(y_test.reshape(-1, 1))\\n\\n# Create a DataFrame of Real and Predicted values\\nstocks = pd.DataFrame(\\n    {\\\"Real\\\": real_prices.ravel(), \\\"Predicted\\\": predicted_prices.ravel()},\\n    index=asset_data.index[-len(real_prices) :],\\n)\\nstocks.head()\\n\\n# Plot the real vs predicted values as a line chart\\nstocks.plot(title=\\\"Real vs Predicted Prices\\\")\";\n",
       "                var nbb_formatted_code = \"# Make some predictions\\npredicted = model.predict(X_test)\\n\\n# Recover the original prices instead of the scaled version\\npredicted_prices = scaler.inverse_transform(predicted)\\nreal_prices = scaler.inverse_transform(y_test.reshape(-1, 1))\\n\\n# Create a DataFrame of Real and Predicted values\\nstocks = pd.DataFrame(\\n    {\\\"Real\\\": real_prices.ravel(), \\\"Predicted\\\": predicted_prices.ravel()},\\n    index=asset_data.index[-len(real_prices) :],\\n)\\nstocks.head()\\n\\n# Plot the real vs predicted values as a line chart\\nstocks.plot(title=\\\"Real vs Predicted Prices\\\")\";\n",
       "                var nbb_cells = Jupyter.notebook.get_cells();\n",
       "                for (var i = 0; i < nbb_cells.length; ++i) {\n",
       "                    if (nbb_cells[i].input_prompt_number == nbb_cell_id) {\n",
       "                        if (nbb_cells[i].get_text() == nbb_unformatted_code) {\n",
       "                             nbb_cells[i].set_text(nbb_formatted_code);\n",
       "                        }\n",
       "                        break;\n",
       "                    }\n",
       "                }\n",
       "            }, 500);\n",
       "            "
      ],
      "text/plain": [
       "<IPython.core.display.Javascript object>"
      ]
     },
     "metadata": {},
     "output_type": "display_data"
    }
   ],
   "source": [
    "# Make some predictions\n",
    "predicted = model.predict(X_test)\n",
    "\n",
    "# Recover the original prices instead of the scaled version\n",
    "predicted_prices = scaler.inverse_transform(predicted)\n",
    "real_prices = scaler.inverse_transform(y_test.reshape(-1, 1))\n",
    "\n",
    "# Create a DataFrame of Real and Predicted values\n",
    "stocks = pd.DataFrame(\n",
    "    {\"Real\": real_prices.ravel(), \"Predicted\": predicted_prices.ravel()},\n",
    "    index=asset_data.index[-len(real_prices) :],\n",
    ")\n",
    "stocks.head()\n",
    "\n",
    "# Plot the real vs predicted values as a line chart\n",
    "stocks.plot(title=\"Real vs Predicted Prices\")"
   ]
  },
  {
   "cell_type": "code",
   "execution_count": 142,
   "id": "aabea290",
   "metadata": {},
   "outputs": [
    {
     "data": {
      "application/javascript": [
       "\n",
       "            setTimeout(function() {\n",
       "                var nbb_cell_id = 142;\n",
       "                var nbb_unformatted_code = \"asset_data.reset_index(inplace = True)\";\n",
       "                var nbb_formatted_code = \"asset_data.reset_index(inplace=True)\";\n",
       "                var nbb_cells = Jupyter.notebook.get_cells();\n",
       "                for (var i = 0; i < nbb_cells.length; ++i) {\n",
       "                    if (nbb_cells[i].input_prompt_number == nbb_cell_id) {\n",
       "                        if (nbb_cells[i].get_text() == nbb_unformatted_code) {\n",
       "                             nbb_cells[i].set_text(nbb_formatted_code);\n",
       "                        }\n",
       "                        break;\n",
       "                    }\n",
       "                }\n",
       "            }, 500);\n",
       "            "
      ],
      "text/plain": [
       "<IPython.core.display.Javascript object>"
      ]
     },
     "metadata": {},
     "output_type": "display_data"
    },
    {
     "data": {
      "application/javascript": [
       "\n",
       "            setTimeout(function() {\n",
       "                var nbb_cell_id = 142;\n",
       "                var nbb_unformatted_code = \"asset_data.reset_index(inplace = True)\";\n",
       "                var nbb_formatted_code = \"asset_data.reset_index(inplace=True)\";\n",
       "                var nbb_cells = Jupyter.notebook.get_cells();\n",
       "                for (var i = 0; i < nbb_cells.length; ++i) {\n",
       "                    if (nbb_cells[i].input_prompt_number == nbb_cell_id) {\n",
       "                        if (nbb_cells[i].get_text() == nbb_unformatted_code) {\n",
       "                             nbb_cells[i].set_text(nbb_formatted_code);\n",
       "                        }\n",
       "                        break;\n",
       "                    }\n",
       "                }\n",
       "            }, 500);\n",
       "            "
      ],
      "text/plain": [
       "<IPython.core.display.Javascript object>"
      ]
     },
     "metadata": {},
     "output_type": "display_data"
    },
    {
     "data": {
      "application/javascript": [
       "\n",
       "            setTimeout(function() {\n",
       "                var nbb_cell_id = 142;\n",
       "                var nbb_unformatted_code = \"asset_data.reset_index(inplace = True)\";\n",
       "                var nbb_formatted_code = \"asset_data.reset_index(inplace=True)\";\n",
       "                var nbb_cells = Jupyter.notebook.get_cells();\n",
       "                for (var i = 0; i < nbb_cells.length; ++i) {\n",
       "                    if (nbb_cells[i].input_prompt_number == nbb_cell_id) {\n",
       "                        if (nbb_cells[i].get_text() == nbb_unformatted_code) {\n",
       "                             nbb_cells[i].set_text(nbb_formatted_code);\n",
       "                        }\n",
       "                        break;\n",
       "                    }\n",
       "                }\n",
       "            }, 500);\n",
       "            "
      ],
      "text/plain": [
       "<IPython.core.display.Javascript object>"
      ]
     },
     "metadata": {},
     "output_type": "display_data"
    },
    {
     "data": {
      "application/javascript": [
       "\n",
       "            setTimeout(function() {\n",
       "                var nbb_cell_id = 142;\n",
       "                var nbb_unformatted_code = \"asset_data.reset_index(inplace = True)\";\n",
       "                var nbb_formatted_code = \"asset_data.reset_index(inplace=True)\";\n",
       "                var nbb_cells = Jupyter.notebook.get_cells();\n",
       "                for (var i = 0; i < nbb_cells.length; ++i) {\n",
       "                    if (nbb_cells[i].input_prompt_number == nbb_cell_id) {\n",
       "                        if (nbb_cells[i].get_text() == nbb_unformatted_code) {\n",
       "                             nbb_cells[i].set_text(nbb_formatted_code);\n",
       "                        }\n",
       "                        break;\n",
       "                    }\n",
       "                }\n",
       "            }, 500);\n",
       "            "
      ],
      "text/plain": [
       "<IPython.core.display.Javascript object>"
      ]
     },
     "metadata": {},
     "output_type": "display_data"
    },
    {
     "data": {
      "application/javascript": [
       "\n",
       "            setTimeout(function() {\n",
       "                var nbb_cell_id = 142;\n",
       "                var nbb_unformatted_code = \"asset_data.reset_index(inplace = True)\";\n",
       "                var nbb_formatted_code = \"asset_data.reset_index(inplace=True)\";\n",
       "                var nbb_cells = Jupyter.notebook.get_cells();\n",
       "                for (var i = 0; i < nbb_cells.length; ++i) {\n",
       "                    if (nbb_cells[i].input_prompt_number == nbb_cell_id) {\n",
       "                        if (nbb_cells[i].get_text() == nbb_unformatted_code) {\n",
       "                             nbb_cells[i].set_text(nbb_formatted_code);\n",
       "                        }\n",
       "                        break;\n",
       "                    }\n",
       "                }\n",
       "            }, 500);\n",
       "            "
      ],
      "text/plain": [
       "<IPython.core.display.Javascript object>"
      ]
     },
     "metadata": {},
     "output_type": "display_data"
    },
    {
     "data": {
      "application/javascript": [
       "\n",
       "            setTimeout(function() {\n",
       "                var nbb_cell_id = 142;\n",
       "                var nbb_unformatted_code = \"asset_data.reset_index(inplace = True)\";\n",
       "                var nbb_formatted_code = \"asset_data.reset_index(inplace=True)\";\n",
       "                var nbb_cells = Jupyter.notebook.get_cells();\n",
       "                for (var i = 0; i < nbb_cells.length; ++i) {\n",
       "                    if (nbb_cells[i].input_prompt_number == nbb_cell_id) {\n",
       "                        if (nbb_cells[i].get_text() == nbb_unformatted_code) {\n",
       "                             nbb_cells[i].set_text(nbb_formatted_code);\n",
       "                        }\n",
       "                        break;\n",
       "                    }\n",
       "                }\n",
       "            }, 500);\n",
       "            "
      ],
      "text/plain": [
       "<IPython.core.display.Javascript object>"
      ]
     },
     "metadata": {},
     "output_type": "display_data"
    },
    {
     "data": {
      "application/javascript": [
       "\n",
       "            setTimeout(function() {\n",
       "                var nbb_cell_id = 142;\n",
       "                var nbb_unformatted_code = \"asset_data.reset_index(inplace = True)\";\n",
       "                var nbb_formatted_code = \"asset_data.reset_index(inplace=True)\";\n",
       "                var nbb_cells = Jupyter.notebook.get_cells();\n",
       "                for (var i = 0; i < nbb_cells.length; ++i) {\n",
       "                    if (nbb_cells[i].input_prompt_number == nbb_cell_id) {\n",
       "                        if (nbb_cells[i].get_text() == nbb_unformatted_code) {\n",
       "                             nbb_cells[i].set_text(nbb_formatted_code);\n",
       "                        }\n",
       "                        break;\n",
       "                    }\n",
       "                }\n",
       "            }, 500);\n",
       "            "
      ],
      "text/plain": [
       "<IPython.core.display.Javascript object>"
      ]
     },
     "metadata": {},
     "output_type": "display_data"
    },
    {
     "data": {
      "application/javascript": [
       "\n",
       "            setTimeout(function() {\n",
       "                var nbb_cell_id = 142;\n",
       "                var nbb_unformatted_code = \"asset_data.reset_index(inplace = True)\";\n",
       "                var nbb_formatted_code = \"asset_data.reset_index(inplace=True)\";\n",
       "                var nbb_cells = Jupyter.notebook.get_cells();\n",
       "                for (var i = 0; i < nbb_cells.length; ++i) {\n",
       "                    if (nbb_cells[i].input_prompt_number == nbb_cell_id) {\n",
       "                        if (nbb_cells[i].get_text() == nbb_unformatted_code) {\n",
       "                             nbb_cells[i].set_text(nbb_formatted_code);\n",
       "                        }\n",
       "                        break;\n",
       "                    }\n",
       "                }\n",
       "            }, 500);\n",
       "            "
      ],
      "text/plain": [
       "<IPython.core.display.Javascript object>"
      ]
     },
     "metadata": {},
     "output_type": "display_data"
    },
    {
     "data": {
      "application/javascript": [
       "\n",
       "            setTimeout(function() {\n",
       "                var nbb_cell_id = 142;\n",
       "                var nbb_unformatted_code = \"asset_data.reset_index(inplace = True)\";\n",
       "                var nbb_formatted_code = \"asset_data.reset_index(inplace=True)\";\n",
       "                var nbb_cells = Jupyter.notebook.get_cells();\n",
       "                for (var i = 0; i < nbb_cells.length; ++i) {\n",
       "                    if (nbb_cells[i].input_prompt_number == nbb_cell_id) {\n",
       "                        if (nbb_cells[i].get_text() == nbb_unformatted_code) {\n",
       "                             nbb_cells[i].set_text(nbb_formatted_code);\n",
       "                        }\n",
       "                        break;\n",
       "                    }\n",
       "                }\n",
       "            }, 500);\n",
       "            "
      ],
      "text/plain": [
       "<IPython.core.display.Javascript object>"
      ]
     },
     "metadata": {},
     "output_type": "display_data"
    },
    {
     "data": {
      "application/javascript": [
       "\n",
       "            setTimeout(function() {\n",
       "                var nbb_cell_id = 142;\n",
       "                var nbb_unformatted_code = \"asset_data.reset_index(inplace = True)\";\n",
       "                var nbb_formatted_code = \"asset_data.reset_index(inplace=True)\";\n",
       "                var nbb_cells = Jupyter.notebook.get_cells();\n",
       "                for (var i = 0; i < nbb_cells.length; ++i) {\n",
       "                    if (nbb_cells[i].input_prompt_number == nbb_cell_id) {\n",
       "                        if (nbb_cells[i].get_text() == nbb_unformatted_code) {\n",
       "                             nbb_cells[i].set_text(nbb_formatted_code);\n",
       "                        }\n",
       "                        break;\n",
       "                    }\n",
       "                }\n",
       "            }, 500);\n",
       "            "
      ],
      "text/plain": [
       "<IPython.core.display.Javascript object>"
      ]
     },
     "metadata": {},
     "output_type": "display_data"
    }
   ],
   "source": [
    "asset_data.reset_index(inplace=True)"
   ]
  },
  {
   "cell_type": "code",
   "execution_count": 145,
   "id": "6d75ff0b",
   "metadata": {},
   "outputs": [
    {
     "data": {
      "application/javascript": [
       "\n",
       "            setTimeout(function() {\n",
       "                var nbb_cell_id = 145;\n",
       "                var nbb_unformatted_code = \"import math\\nimport numpy as np\\nimport pandas as pd\\nimport matplotlib.pyplot as plt\\n\\nimport tensorflow as tf\\nfrom sklearn.metrics import mean_squared_error, mean_absolute_error\\n\\nimport warnings\\n\\nwarnings.filterwarnings(\\\"ignore\\\")\";\n",
       "                var nbb_formatted_code = \"import math\\nimport numpy as np\\nimport pandas as pd\\nimport matplotlib.pyplot as plt\\n\\nimport tensorflow as tf\\nfrom sklearn.metrics import mean_squared_error, mean_absolute_error\\n\\nimport warnings\\n\\nwarnings.filterwarnings(\\\"ignore\\\")\";\n",
       "                var nbb_cells = Jupyter.notebook.get_cells();\n",
       "                for (var i = 0; i < nbb_cells.length; ++i) {\n",
       "                    if (nbb_cells[i].input_prompt_number == nbb_cell_id) {\n",
       "                        if (nbb_cells[i].get_text() == nbb_unformatted_code) {\n",
       "                             nbb_cells[i].set_text(nbb_formatted_code);\n",
       "                        }\n",
       "                        break;\n",
       "                    }\n",
       "                }\n",
       "            }, 500);\n",
       "            "
      ],
      "text/plain": [
       "<IPython.core.display.Javascript object>"
      ]
     },
     "metadata": {},
     "output_type": "display_data"
    },
    {
     "data": {
      "application/javascript": [
       "\n",
       "            setTimeout(function() {\n",
       "                var nbb_cell_id = 145;\n",
       "                var nbb_unformatted_code = \"import math\\nimport numpy as np\\nimport pandas as pd\\nimport matplotlib.pyplot as plt\\n\\nimport tensorflow as tf\\nfrom sklearn.metrics import mean_squared_error, mean_absolute_error\\n\\nimport warnings\\n\\nwarnings.filterwarnings(\\\"ignore\\\")\";\n",
       "                var nbb_formatted_code = \"import math\\nimport numpy as np\\nimport pandas as pd\\nimport matplotlib.pyplot as plt\\n\\nimport tensorflow as tf\\nfrom sklearn.metrics import mean_squared_error, mean_absolute_error\\n\\nimport warnings\\n\\nwarnings.filterwarnings(\\\"ignore\\\")\";\n",
       "                var nbb_cells = Jupyter.notebook.get_cells();\n",
       "                for (var i = 0; i < nbb_cells.length; ++i) {\n",
       "                    if (nbb_cells[i].input_prompt_number == nbb_cell_id) {\n",
       "                        if (nbb_cells[i].get_text() == nbb_unformatted_code) {\n",
       "                             nbb_cells[i].set_text(nbb_formatted_code);\n",
       "                        }\n",
       "                        break;\n",
       "                    }\n",
       "                }\n",
       "            }, 500);\n",
       "            "
      ],
      "text/plain": [
       "<IPython.core.display.Javascript object>"
      ]
     },
     "metadata": {},
     "output_type": "display_data"
    },
    {
     "data": {
      "application/javascript": [
       "\n",
       "            setTimeout(function() {\n",
       "                var nbb_cell_id = 145;\n",
       "                var nbb_unformatted_code = \"import math\\nimport numpy as np\\nimport pandas as pd\\nimport matplotlib.pyplot as plt\\n\\nimport tensorflow as tf\\nfrom sklearn.metrics import mean_squared_error, mean_absolute_error\\n\\nimport warnings\\n\\nwarnings.filterwarnings(\\\"ignore\\\")\";\n",
       "                var nbb_formatted_code = \"import math\\nimport numpy as np\\nimport pandas as pd\\nimport matplotlib.pyplot as plt\\n\\nimport tensorflow as tf\\nfrom sklearn.metrics import mean_squared_error, mean_absolute_error\\n\\nimport warnings\\n\\nwarnings.filterwarnings(\\\"ignore\\\")\";\n",
       "                var nbb_cells = Jupyter.notebook.get_cells();\n",
       "                for (var i = 0; i < nbb_cells.length; ++i) {\n",
       "                    if (nbb_cells[i].input_prompt_number == nbb_cell_id) {\n",
       "                        if (nbb_cells[i].get_text() == nbb_unformatted_code) {\n",
       "                             nbb_cells[i].set_text(nbb_formatted_code);\n",
       "                        }\n",
       "                        break;\n",
       "                    }\n",
       "                }\n",
       "            }, 500);\n",
       "            "
      ],
      "text/plain": [
       "<IPython.core.display.Javascript object>"
      ]
     },
     "metadata": {},
     "output_type": "display_data"
    },
    {
     "data": {
      "application/javascript": [
       "\n",
       "            setTimeout(function() {\n",
       "                var nbb_cell_id = 145;\n",
       "                var nbb_unformatted_code = \"import math\\nimport numpy as np\\nimport pandas as pd\\nimport matplotlib.pyplot as plt\\n\\nimport tensorflow as tf\\nfrom sklearn.metrics import mean_squared_error, mean_absolute_error\\n\\nimport warnings\\n\\nwarnings.filterwarnings(\\\"ignore\\\")\";\n",
       "                var nbb_formatted_code = \"import math\\nimport numpy as np\\nimport pandas as pd\\nimport matplotlib.pyplot as plt\\n\\nimport tensorflow as tf\\nfrom sklearn.metrics import mean_squared_error, mean_absolute_error\\n\\nimport warnings\\n\\nwarnings.filterwarnings(\\\"ignore\\\")\";\n",
       "                var nbb_cells = Jupyter.notebook.get_cells();\n",
       "                for (var i = 0; i < nbb_cells.length; ++i) {\n",
       "                    if (nbb_cells[i].input_prompt_number == nbb_cell_id) {\n",
       "                        if (nbb_cells[i].get_text() == nbb_unformatted_code) {\n",
       "                             nbb_cells[i].set_text(nbb_formatted_code);\n",
       "                        }\n",
       "                        break;\n",
       "                    }\n",
       "                }\n",
       "            }, 500);\n",
       "            "
      ],
      "text/plain": [
       "<IPython.core.display.Javascript object>"
      ]
     },
     "metadata": {},
     "output_type": "display_data"
    },
    {
     "data": {
      "application/javascript": [
       "\n",
       "            setTimeout(function() {\n",
       "                var nbb_cell_id = 145;\n",
       "                var nbb_unformatted_code = \"import math\\nimport numpy as np\\nimport pandas as pd\\nimport matplotlib.pyplot as plt\\n\\nimport tensorflow as tf\\nfrom sklearn.metrics import mean_squared_error, mean_absolute_error\\n\\nimport warnings\\n\\nwarnings.filterwarnings(\\\"ignore\\\")\";\n",
       "                var nbb_formatted_code = \"import math\\nimport numpy as np\\nimport pandas as pd\\nimport matplotlib.pyplot as plt\\n\\nimport tensorflow as tf\\nfrom sklearn.metrics import mean_squared_error, mean_absolute_error\\n\\nimport warnings\\n\\nwarnings.filterwarnings(\\\"ignore\\\")\";\n",
       "                var nbb_cells = Jupyter.notebook.get_cells();\n",
       "                for (var i = 0; i < nbb_cells.length; ++i) {\n",
       "                    if (nbb_cells[i].input_prompt_number == nbb_cell_id) {\n",
       "                        if (nbb_cells[i].get_text() == nbb_unformatted_code) {\n",
       "                             nbb_cells[i].set_text(nbb_formatted_code);\n",
       "                        }\n",
       "                        break;\n",
       "                    }\n",
       "                }\n",
       "            }, 500);\n",
       "            "
      ],
      "text/plain": [
       "<IPython.core.display.Javascript object>"
      ]
     },
     "metadata": {},
     "output_type": "display_data"
    },
    {
     "data": {
      "application/javascript": [
       "\n",
       "            setTimeout(function() {\n",
       "                var nbb_cell_id = 145;\n",
       "                var nbb_unformatted_code = \"import math\\nimport numpy as np\\nimport pandas as pd\\nimport matplotlib.pyplot as plt\\n\\nimport tensorflow as tf\\nfrom sklearn.metrics import mean_squared_error, mean_absolute_error\\n\\nimport warnings\\n\\nwarnings.filterwarnings(\\\"ignore\\\")\";\n",
       "                var nbb_formatted_code = \"import math\\nimport numpy as np\\nimport pandas as pd\\nimport matplotlib.pyplot as plt\\n\\nimport tensorflow as tf\\nfrom sklearn.metrics import mean_squared_error, mean_absolute_error\\n\\nimport warnings\\n\\nwarnings.filterwarnings(\\\"ignore\\\")\";\n",
       "                var nbb_cells = Jupyter.notebook.get_cells();\n",
       "                for (var i = 0; i < nbb_cells.length; ++i) {\n",
       "                    if (nbb_cells[i].input_prompt_number == nbb_cell_id) {\n",
       "                        if (nbb_cells[i].get_text() == nbb_unformatted_code) {\n",
       "                             nbb_cells[i].set_text(nbb_formatted_code);\n",
       "                        }\n",
       "                        break;\n",
       "                    }\n",
       "                }\n",
       "            }, 500);\n",
       "            "
      ],
      "text/plain": [
       "<IPython.core.display.Javascript object>"
      ]
     },
     "metadata": {},
     "output_type": "display_data"
    },
    {
     "data": {
      "application/javascript": [
       "\n",
       "            setTimeout(function() {\n",
       "                var nbb_cell_id = 145;\n",
       "                var nbb_unformatted_code = \"import math\\nimport numpy as np\\nimport pandas as pd\\nimport matplotlib.pyplot as plt\\n\\nimport tensorflow as tf\\nfrom sklearn.metrics import mean_squared_error, mean_absolute_error\\n\\nimport warnings\\n\\nwarnings.filterwarnings(\\\"ignore\\\")\";\n",
       "                var nbb_formatted_code = \"import math\\nimport numpy as np\\nimport pandas as pd\\nimport matplotlib.pyplot as plt\\n\\nimport tensorflow as tf\\nfrom sklearn.metrics import mean_squared_error, mean_absolute_error\\n\\nimport warnings\\n\\nwarnings.filterwarnings(\\\"ignore\\\")\";\n",
       "                var nbb_cells = Jupyter.notebook.get_cells();\n",
       "                for (var i = 0; i < nbb_cells.length; ++i) {\n",
       "                    if (nbb_cells[i].input_prompt_number == nbb_cell_id) {\n",
       "                        if (nbb_cells[i].get_text() == nbb_unformatted_code) {\n",
       "                             nbb_cells[i].set_text(nbb_formatted_code);\n",
       "                        }\n",
       "                        break;\n",
       "                    }\n",
       "                }\n",
       "            }, 500);\n",
       "            "
      ],
      "text/plain": [
       "<IPython.core.display.Javascript object>"
      ]
     },
     "metadata": {},
     "output_type": "display_data"
    },
    {
     "data": {
      "application/javascript": [
       "\n",
       "            setTimeout(function() {\n",
       "                var nbb_cell_id = 145;\n",
       "                var nbb_unformatted_code = \"import math\\nimport numpy as np\\nimport pandas as pd\\nimport matplotlib.pyplot as plt\\n\\nimport tensorflow as tf\\nfrom sklearn.metrics import mean_squared_error, mean_absolute_error\\n\\nimport warnings\\n\\nwarnings.filterwarnings(\\\"ignore\\\")\";\n",
       "                var nbb_formatted_code = \"import math\\nimport numpy as np\\nimport pandas as pd\\nimport matplotlib.pyplot as plt\\n\\nimport tensorflow as tf\\nfrom sklearn.metrics import mean_squared_error, mean_absolute_error\\n\\nimport warnings\\n\\nwarnings.filterwarnings(\\\"ignore\\\")\";\n",
       "                var nbb_cells = Jupyter.notebook.get_cells();\n",
       "                for (var i = 0; i < nbb_cells.length; ++i) {\n",
       "                    if (nbb_cells[i].input_prompt_number == nbb_cell_id) {\n",
       "                        if (nbb_cells[i].get_text() == nbb_unformatted_code) {\n",
       "                             nbb_cells[i].set_text(nbb_formatted_code);\n",
       "                        }\n",
       "                        break;\n",
       "                    }\n",
       "                }\n",
       "            }, 500);\n",
       "            "
      ],
      "text/plain": [
       "<IPython.core.display.Javascript object>"
      ]
     },
     "metadata": {},
     "output_type": "display_data"
    },
    {
     "data": {
      "application/javascript": [
       "\n",
       "            setTimeout(function() {\n",
       "                var nbb_cell_id = 145;\n",
       "                var nbb_unformatted_code = \"import math\\nimport numpy as np\\nimport pandas as pd\\nimport matplotlib.pyplot as plt\\n\\nimport tensorflow as tf\\nfrom sklearn.metrics import mean_squared_error, mean_absolute_error\\n\\nimport warnings\\n\\nwarnings.filterwarnings(\\\"ignore\\\")\";\n",
       "                var nbb_formatted_code = \"import math\\nimport numpy as np\\nimport pandas as pd\\nimport matplotlib.pyplot as plt\\n\\nimport tensorflow as tf\\nfrom sklearn.metrics import mean_squared_error, mean_absolute_error\\n\\nimport warnings\\n\\nwarnings.filterwarnings(\\\"ignore\\\")\";\n",
       "                var nbb_cells = Jupyter.notebook.get_cells();\n",
       "                for (var i = 0; i < nbb_cells.length; ++i) {\n",
       "                    if (nbb_cells[i].input_prompt_number == nbb_cell_id) {\n",
       "                        if (nbb_cells[i].get_text() == nbb_unformatted_code) {\n",
       "                             nbb_cells[i].set_text(nbb_formatted_code);\n",
       "                        }\n",
       "                        break;\n",
       "                    }\n",
       "                }\n",
       "            }, 500);\n",
       "            "
      ],
      "text/plain": [
       "<IPython.core.display.Javascript object>"
      ]
     },
     "metadata": {},
     "output_type": "display_data"
    },
    {
     "data": {
      "application/javascript": [
       "\n",
       "            setTimeout(function() {\n",
       "                var nbb_cell_id = 145;\n",
       "                var nbb_unformatted_code = \"import math\\nimport numpy as np\\nimport pandas as pd\\nimport matplotlib.pyplot as plt\\n\\nimport tensorflow as tf\\nfrom sklearn.metrics import mean_squared_error, mean_absolute_error\\n\\nimport warnings\\n\\nwarnings.filterwarnings(\\\"ignore\\\")\";\n",
       "                var nbb_formatted_code = \"import math\\nimport numpy as np\\nimport pandas as pd\\nimport matplotlib.pyplot as plt\\n\\nimport tensorflow as tf\\nfrom sklearn.metrics import mean_squared_error, mean_absolute_error\\n\\nimport warnings\\n\\nwarnings.filterwarnings(\\\"ignore\\\")\";\n",
       "                var nbb_cells = Jupyter.notebook.get_cells();\n",
       "                for (var i = 0; i < nbb_cells.length; ++i) {\n",
       "                    if (nbb_cells[i].input_prompt_number == nbb_cell_id) {\n",
       "                        if (nbb_cells[i].get_text() == nbb_unformatted_code) {\n",
       "                             nbb_cells[i].set_text(nbb_formatted_code);\n",
       "                        }\n",
       "                        break;\n",
       "                    }\n",
       "                }\n",
       "            }, 500);\n",
       "            "
      ],
      "text/plain": [
       "<IPython.core.display.Javascript object>"
      ]
     },
     "metadata": {},
     "output_type": "display_data"
    }
   ],
   "source": [
    "import math\n",
    "import numpy as np\n",
    "import pandas as pd\n",
    "import matplotlib.pyplot as plt\n",
    "\n",
    "import tensorflow as tf\n",
    "from sklearn.metrics import mean_squared_error, mean_absolute_error\n",
    "\n",
    "import warnings\n",
    "\n",
    "warnings.filterwarnings(\"ignore\")"
   ]
  },
  {
   "cell_type": "code",
   "execution_count": 179,
   "id": "2d627113",
   "metadata": {},
   "outputs": [
    {
     "name": "stdout",
     "output_type": "stream",
     "text": [
      "[*********************100%***********************]  1 of 1 completed\n"
     ]
    },
    {
     "data": {
      "application/javascript": [
       "\n",
       "            setTimeout(function() {\n",
       "                var nbb_cell_id = 179;\n",
       "                var nbb_unformatted_code = \"asset_data = yf.download(\\\"TSLA\\\", start=\\\"2019-03-31\\\")\\n\\nasset_data.reset_index(inplace=True)\";\n",
       "                var nbb_formatted_code = \"asset_data = yf.download(\\\"TSLA\\\", start=\\\"2019-03-31\\\")\\n\\nasset_data.reset_index(inplace=True)\";\n",
       "                var nbb_cells = Jupyter.notebook.get_cells();\n",
       "                for (var i = 0; i < nbb_cells.length; ++i) {\n",
       "                    if (nbb_cells[i].input_prompt_number == nbb_cell_id) {\n",
       "                        if (nbb_cells[i].get_text() == nbb_unformatted_code) {\n",
       "                             nbb_cells[i].set_text(nbb_formatted_code);\n",
       "                        }\n",
       "                        break;\n",
       "                    }\n",
       "                }\n",
       "            }, 500);\n",
       "            "
      ],
      "text/plain": [
       "<IPython.core.display.Javascript object>"
      ]
     },
     "metadata": {},
     "output_type": "display_data"
    },
    {
     "data": {
      "application/javascript": [
       "\n",
       "            setTimeout(function() {\n",
       "                var nbb_cell_id = 179;\n",
       "                var nbb_unformatted_code = \"asset_data = yf.download(\\\"TSLA\\\", start=\\\"2019-03-31\\\")\\n\\nasset_data.reset_index(inplace=True)\";\n",
       "                var nbb_formatted_code = \"asset_data = yf.download(\\\"TSLA\\\", start=\\\"2019-03-31\\\")\\n\\nasset_data.reset_index(inplace=True)\";\n",
       "                var nbb_cells = Jupyter.notebook.get_cells();\n",
       "                for (var i = 0; i < nbb_cells.length; ++i) {\n",
       "                    if (nbb_cells[i].input_prompt_number == nbb_cell_id) {\n",
       "                        if (nbb_cells[i].get_text() == nbb_unformatted_code) {\n",
       "                             nbb_cells[i].set_text(nbb_formatted_code);\n",
       "                        }\n",
       "                        break;\n",
       "                    }\n",
       "                }\n",
       "            }, 500);\n",
       "            "
      ],
      "text/plain": [
       "<IPython.core.display.Javascript object>"
      ]
     },
     "metadata": {},
     "output_type": "display_data"
    },
    {
     "data": {
      "application/javascript": [
       "\n",
       "            setTimeout(function() {\n",
       "                var nbb_cell_id = 179;\n",
       "                var nbb_unformatted_code = \"asset_data = yf.download(\\\"TSLA\\\", start=\\\"2019-03-31\\\")\\n\\nasset_data.reset_index(inplace=True)\";\n",
       "                var nbb_formatted_code = \"asset_data = yf.download(\\\"TSLA\\\", start=\\\"2019-03-31\\\")\\n\\nasset_data.reset_index(inplace=True)\";\n",
       "                var nbb_cells = Jupyter.notebook.get_cells();\n",
       "                for (var i = 0; i < nbb_cells.length; ++i) {\n",
       "                    if (nbb_cells[i].input_prompt_number == nbb_cell_id) {\n",
       "                        if (nbb_cells[i].get_text() == nbb_unformatted_code) {\n",
       "                             nbb_cells[i].set_text(nbb_formatted_code);\n",
       "                        }\n",
       "                        break;\n",
       "                    }\n",
       "                }\n",
       "            }, 500);\n",
       "            "
      ],
      "text/plain": [
       "<IPython.core.display.Javascript object>"
      ]
     },
     "metadata": {},
     "output_type": "display_data"
    },
    {
     "data": {
      "application/javascript": [
       "\n",
       "            setTimeout(function() {\n",
       "                var nbb_cell_id = 179;\n",
       "                var nbb_unformatted_code = \"asset_data = yf.download(\\\"TSLA\\\", start=\\\"2019-03-31\\\")\\n\\nasset_data.reset_index(inplace=True)\";\n",
       "                var nbb_formatted_code = \"asset_data = yf.download(\\\"TSLA\\\", start=\\\"2019-03-31\\\")\\n\\nasset_data.reset_index(inplace=True)\";\n",
       "                var nbb_cells = Jupyter.notebook.get_cells();\n",
       "                for (var i = 0; i < nbb_cells.length; ++i) {\n",
       "                    if (nbb_cells[i].input_prompt_number == nbb_cell_id) {\n",
       "                        if (nbb_cells[i].get_text() == nbb_unformatted_code) {\n",
       "                             nbb_cells[i].set_text(nbb_formatted_code);\n",
       "                        }\n",
       "                        break;\n",
       "                    }\n",
       "                }\n",
       "            }, 500);\n",
       "            "
      ],
      "text/plain": [
       "<IPython.core.display.Javascript object>"
      ]
     },
     "metadata": {},
     "output_type": "display_data"
    },
    {
     "data": {
      "application/javascript": [
       "\n",
       "            setTimeout(function() {\n",
       "                var nbb_cell_id = 179;\n",
       "                var nbb_unformatted_code = \"asset_data = yf.download(\\\"TSLA\\\", start=\\\"2019-03-31\\\")\\n\\nasset_data.reset_index(inplace=True)\";\n",
       "                var nbb_formatted_code = \"asset_data = yf.download(\\\"TSLA\\\", start=\\\"2019-03-31\\\")\\n\\nasset_data.reset_index(inplace=True)\";\n",
       "                var nbb_cells = Jupyter.notebook.get_cells();\n",
       "                for (var i = 0; i < nbb_cells.length; ++i) {\n",
       "                    if (nbb_cells[i].input_prompt_number == nbb_cell_id) {\n",
       "                        if (nbb_cells[i].get_text() == nbb_unformatted_code) {\n",
       "                             nbb_cells[i].set_text(nbb_formatted_code);\n",
       "                        }\n",
       "                        break;\n",
       "                    }\n",
       "                }\n",
       "            }, 500);\n",
       "            "
      ],
      "text/plain": [
       "<IPython.core.display.Javascript object>"
      ]
     },
     "metadata": {},
     "output_type": "display_data"
    },
    {
     "data": {
      "application/javascript": [
       "\n",
       "            setTimeout(function() {\n",
       "                var nbb_cell_id = 179;\n",
       "                var nbb_unformatted_code = \"asset_data = yf.download(\\\"TSLA\\\", start=\\\"2019-03-31\\\")\\n\\nasset_data.reset_index(inplace=True)\";\n",
       "                var nbb_formatted_code = \"asset_data = yf.download(\\\"TSLA\\\", start=\\\"2019-03-31\\\")\\n\\nasset_data.reset_index(inplace=True)\";\n",
       "                var nbb_cells = Jupyter.notebook.get_cells();\n",
       "                for (var i = 0; i < nbb_cells.length; ++i) {\n",
       "                    if (nbb_cells[i].input_prompt_number == nbb_cell_id) {\n",
       "                        if (nbb_cells[i].get_text() == nbb_unformatted_code) {\n",
       "                             nbb_cells[i].set_text(nbb_formatted_code);\n",
       "                        }\n",
       "                        break;\n",
       "                    }\n",
       "                }\n",
       "            }, 500);\n",
       "            "
      ],
      "text/plain": [
       "<IPython.core.display.Javascript object>"
      ]
     },
     "metadata": {},
     "output_type": "display_data"
    },
    {
     "data": {
      "application/javascript": [
       "\n",
       "            setTimeout(function() {\n",
       "                var nbb_cell_id = 179;\n",
       "                var nbb_unformatted_code = \"asset_data = yf.download(\\\"TSLA\\\", start=\\\"2019-03-31\\\")\\n\\nasset_data.reset_index(inplace=True)\";\n",
       "                var nbb_formatted_code = \"asset_data = yf.download(\\\"TSLA\\\", start=\\\"2019-03-31\\\")\\n\\nasset_data.reset_index(inplace=True)\";\n",
       "                var nbb_cells = Jupyter.notebook.get_cells();\n",
       "                for (var i = 0; i < nbb_cells.length; ++i) {\n",
       "                    if (nbb_cells[i].input_prompt_number == nbb_cell_id) {\n",
       "                        if (nbb_cells[i].get_text() == nbb_unformatted_code) {\n",
       "                             nbb_cells[i].set_text(nbb_formatted_code);\n",
       "                        }\n",
       "                        break;\n",
       "                    }\n",
       "                }\n",
       "            }, 500);\n",
       "            "
      ],
      "text/plain": [
       "<IPython.core.display.Javascript object>"
      ]
     },
     "metadata": {},
     "output_type": "display_data"
    },
    {
     "data": {
      "application/javascript": [
       "\n",
       "            setTimeout(function() {\n",
       "                var nbb_cell_id = 179;\n",
       "                var nbb_unformatted_code = \"asset_data = yf.download(\\\"TSLA\\\", start=\\\"2019-03-31\\\")\\n\\nasset_data.reset_index(inplace=True)\";\n",
       "                var nbb_formatted_code = \"asset_data = yf.download(\\\"TSLA\\\", start=\\\"2019-03-31\\\")\\n\\nasset_data.reset_index(inplace=True)\";\n",
       "                var nbb_cells = Jupyter.notebook.get_cells();\n",
       "                for (var i = 0; i < nbb_cells.length; ++i) {\n",
       "                    if (nbb_cells[i].input_prompt_number == nbb_cell_id) {\n",
       "                        if (nbb_cells[i].get_text() == nbb_unformatted_code) {\n",
       "                             nbb_cells[i].set_text(nbb_formatted_code);\n",
       "                        }\n",
       "                        break;\n",
       "                    }\n",
       "                }\n",
       "            }, 500);\n",
       "            "
      ],
      "text/plain": [
       "<IPython.core.display.Javascript object>"
      ]
     },
     "metadata": {},
     "output_type": "display_data"
    },
    {
     "data": {
      "application/javascript": [
       "\n",
       "            setTimeout(function() {\n",
       "                var nbb_cell_id = 179;\n",
       "                var nbb_unformatted_code = \"asset_data = yf.download(\\\"TSLA\\\", start=\\\"2019-03-31\\\")\\n\\nasset_data.reset_index(inplace=True)\";\n",
       "                var nbb_formatted_code = \"asset_data = yf.download(\\\"TSLA\\\", start=\\\"2019-03-31\\\")\\n\\nasset_data.reset_index(inplace=True)\";\n",
       "                var nbb_cells = Jupyter.notebook.get_cells();\n",
       "                for (var i = 0; i < nbb_cells.length; ++i) {\n",
       "                    if (nbb_cells[i].input_prompt_number == nbb_cell_id) {\n",
       "                        if (nbb_cells[i].get_text() == nbb_unformatted_code) {\n",
       "                             nbb_cells[i].set_text(nbb_formatted_code);\n",
       "                        }\n",
       "                        break;\n",
       "                    }\n",
       "                }\n",
       "            }, 500);\n",
       "            "
      ],
      "text/plain": [
       "<IPython.core.display.Javascript object>"
      ]
     },
     "metadata": {},
     "output_type": "display_data"
    },
    {
     "data": {
      "application/javascript": [
       "\n",
       "            setTimeout(function() {\n",
       "                var nbb_cell_id = 179;\n",
       "                var nbb_unformatted_code = \"asset_data = yf.download(\\\"TSLA\\\", start=\\\"2019-03-31\\\")\\n\\nasset_data.reset_index(inplace=True)\";\n",
       "                var nbb_formatted_code = \"asset_data = yf.download(\\\"TSLA\\\", start=\\\"2019-03-31\\\")\\n\\nasset_data.reset_index(inplace=True)\";\n",
       "                var nbb_cells = Jupyter.notebook.get_cells();\n",
       "                for (var i = 0; i < nbb_cells.length; ++i) {\n",
       "                    if (nbb_cells[i].input_prompt_number == nbb_cell_id) {\n",
       "                        if (nbb_cells[i].get_text() == nbb_unformatted_code) {\n",
       "                             nbb_cells[i].set_text(nbb_formatted_code);\n",
       "                        }\n",
       "                        break;\n",
       "                    }\n",
       "                }\n",
       "            }, 500);\n",
       "            "
      ],
      "text/plain": [
       "<IPython.core.display.Javascript object>"
      ]
     },
     "metadata": {},
     "output_type": "display_data"
    }
   ],
   "source": [
    "asset_data = yf.download(\"TSLA\", start=\"2019-03-31\")\n",
    "\n",
    "asset_data.reset_index(inplace=True)"
   ]
  },
  {
   "cell_type": "code",
   "execution_count": 180,
   "id": "797a9c33",
   "metadata": {},
   "outputs": [
    {
     "data": {
      "text/html": [
       "<div><div id=76d34cdd-2d39-45d9-aa21-973bcd215d0c style=\"display:none; background-color:#9D6CFF; color:white; width:200px; height:30px; padding-left:5px; border-radius:4px; flex-direction:row; justify-content:space-around; align-items:center;\" onmouseover=\"this.style.backgroundColor='#BA9BF8'\" onmouseout=\"this.style.backgroundColor='#9D6CFF'\" onclick=\"window.commands?.execute('create-mitosheet-from-dataframe-output');\">See Full Dataframe in Mito</div> <script> if (window.commands.hasCommand('create-mitosheet-from-dataframe-output')) document.getElementById('76d34cdd-2d39-45d9-aa21-973bcd215d0c').style.display = 'flex' </script> <table border=\"1\" class=\"dataframe\">\n",
       "  <thead>\n",
       "    <tr style=\"text-align: right;\">\n",
       "      <th></th>\n",
       "      <th>Date</th>\n",
       "      <th>Open</th>\n",
       "      <th>High</th>\n",
       "      <th>Low</th>\n",
       "      <th>Close</th>\n",
       "      <th>Adj Close</th>\n",
       "      <th>Volume</th>\n",
       "    </tr>\n",
       "  </thead>\n",
       "  <tbody>\n",
       "    <tr>\n",
       "      <th>0</th>\n",
       "      <td>2019-04-01</td>\n",
       "      <td>56.523998</td>\n",
       "      <td>57.840000</td>\n",
       "      <td>56.256001</td>\n",
       "      <td>57.835999</td>\n",
       "      <td>57.835999</td>\n",
       "      <td>40552000</td>\n",
       "    </tr>\n",
       "    <tr>\n",
       "      <th>1</th>\n",
       "      <td>2019-04-02</td>\n",
       "      <td>57.660000</td>\n",
       "      <td>57.888000</td>\n",
       "      <td>56.776001</td>\n",
       "      <td>57.175999</td>\n",
       "      <td>57.175999</td>\n",
       "      <td>27394500</td>\n",
       "    </tr>\n",
       "    <tr>\n",
       "      <th>2</th>\n",
       "      <td>2019-04-03</td>\n",
       "      <td>57.464001</td>\n",
       "      <td>59.234001</td>\n",
       "      <td>57.433998</td>\n",
       "      <td>58.362000</td>\n",
       "      <td>58.362000</td>\n",
       "      <td>39597000</td>\n",
       "    </tr>\n",
       "    <tr>\n",
       "      <th>3</th>\n",
       "      <td>2019-04-04</td>\n",
       "      <td>52.377998</td>\n",
       "      <td>54.240002</td>\n",
       "      <td>52.118000</td>\n",
       "      <td>53.556000</td>\n",
       "      <td>53.556000</td>\n",
       "      <td>118603500</td>\n",
       "    </tr>\n",
       "    <tr>\n",
       "      <th>4</th>\n",
       "      <td>2019-04-05</td>\n",
       "      <td>53.972000</td>\n",
       "      <td>55.220001</td>\n",
       "      <td>53.222000</td>\n",
       "      <td>54.992001</td>\n",
       "      <td>54.992001</td>\n",
       "      <td>65191500</td>\n",
       "    </tr>\n",
       "    <tr>\n",
       "      <th>...</th>\n",
       "      <td>...</td>\n",
       "      <td>...</td>\n",
       "      <td>...</td>\n",
       "      <td>...</td>\n",
       "      <td>...</td>\n",
       "      <td>...</td>\n",
       "      <td>...</td>\n",
       "    </tr>\n",
       "    <tr>\n",
       "      <th>739</th>\n",
       "      <td>2022-03-07</td>\n",
       "      <td>856.299988</td>\n",
       "      <td>866.140015</td>\n",
       "      <td>804.570007</td>\n",
       "      <td>804.580017</td>\n",
       "      <td>804.580017</td>\n",
       "      <td>24164700</td>\n",
       "    </tr>\n",
       "    <tr>\n",
       "      <th>740</th>\n",
       "      <td>2022-03-08</td>\n",
       "      <td>795.530029</td>\n",
       "      <td>849.989990</td>\n",
       "      <td>782.169983</td>\n",
       "      <td>824.400024</td>\n",
       "      <td>824.400024</td>\n",
       "      <td>26799700</td>\n",
       "    </tr>\n",
       "    <tr>\n",
       "      <th>741</th>\n",
       "      <td>2022-03-09</td>\n",
       "      <td>839.479980</td>\n",
       "      <td>860.559998</td>\n",
       "      <td>832.010010</td>\n",
       "      <td>858.969971</td>\n",
       "      <td>858.969971</td>\n",
       "      <td>19728000</td>\n",
       "    </tr>\n",
       "    <tr>\n",
       "      <th>742</th>\n",
       "      <td>2022-03-10</td>\n",
       "      <td>851.450012</td>\n",
       "      <td>854.450012</td>\n",
       "      <td>810.359985</td>\n",
       "      <td>838.299988</td>\n",
       "      <td>838.299988</td>\n",
       "      <td>19549500</td>\n",
       "    </tr>\n",
       "    <tr>\n",
       "      <th>743</th>\n",
       "      <td>2022-03-11</td>\n",
       "      <td>840.200012</td>\n",
       "      <td>843.799988</td>\n",
       "      <td>793.770020</td>\n",
       "      <td>795.349976</td>\n",
       "      <td>795.349976</td>\n",
       "      <td>22272800</td>\n",
       "    </tr>\n",
       "  </tbody>\n",
       "</table></div>"
      ],
      "text/plain": [
       "          Date        Open        High         Low       Close   Adj Close  \\\n",
       "0   2019-04-01   56.523998   57.840000   56.256001   57.835999   57.835999   \n",
       "1   2019-04-02   57.660000   57.888000   56.776001   57.175999   57.175999   \n",
       "2   2019-04-03   57.464001   59.234001   57.433998   58.362000   58.362000   \n",
       "3   2019-04-04   52.377998   54.240002   52.118000   53.556000   53.556000   \n",
       "4   2019-04-05   53.972000   55.220001   53.222000   54.992001   54.992001   \n",
       "..         ...         ...         ...         ...         ...         ...   \n",
       "739 2022-03-07  856.299988  866.140015  804.570007  804.580017  804.580017   \n",
       "740 2022-03-08  795.530029  849.989990  782.169983  824.400024  824.400024   \n",
       "741 2022-03-09  839.479980  860.559998  832.010010  858.969971  858.969971   \n",
       "742 2022-03-10  851.450012  854.450012  810.359985  838.299988  838.299988   \n",
       "743 2022-03-11  840.200012  843.799988  793.770020  795.349976  795.349976   \n",
       "\n",
       "        Volume  \n",
       "0     40552000  \n",
       "1     27394500  \n",
       "2     39597000  \n",
       "3    118603500  \n",
       "4     65191500  \n",
       "..         ...  \n",
       "739   24164700  \n",
       "740   26799700  \n",
       "741   19728000  \n",
       "742   19549500  \n",
       "743   22272800  \n",
       "\n",
       "[744 rows x 7 columns]"
      ]
     },
     "execution_count": 180,
     "metadata": {},
     "output_type": "execute_result"
    },
    {
     "data": {
      "application/javascript": [
       "\n",
       "            setTimeout(function() {\n",
       "                var nbb_cell_id = 180;\n",
       "                var nbb_unformatted_code = \"asset_data\";\n",
       "                var nbb_formatted_code = \"asset_data\";\n",
       "                var nbb_cells = Jupyter.notebook.get_cells();\n",
       "                for (var i = 0; i < nbb_cells.length; ++i) {\n",
       "                    if (nbb_cells[i].input_prompt_number == nbb_cell_id) {\n",
       "                        if (nbb_cells[i].get_text() == nbb_unformatted_code) {\n",
       "                             nbb_cells[i].set_text(nbb_formatted_code);\n",
       "                        }\n",
       "                        break;\n",
       "                    }\n",
       "                }\n",
       "            }, 500);\n",
       "            "
      ],
      "text/plain": [
       "<IPython.core.display.Javascript object>"
      ]
     },
     "metadata": {},
     "output_type": "display_data"
    },
    {
     "data": {
      "application/javascript": [
       "\n",
       "            setTimeout(function() {\n",
       "                var nbb_cell_id = 180;\n",
       "                var nbb_unformatted_code = \"asset_data\";\n",
       "                var nbb_formatted_code = \"asset_data\";\n",
       "                var nbb_cells = Jupyter.notebook.get_cells();\n",
       "                for (var i = 0; i < nbb_cells.length; ++i) {\n",
       "                    if (nbb_cells[i].input_prompt_number == nbb_cell_id) {\n",
       "                        if (nbb_cells[i].get_text() == nbb_unformatted_code) {\n",
       "                             nbb_cells[i].set_text(nbb_formatted_code);\n",
       "                        }\n",
       "                        break;\n",
       "                    }\n",
       "                }\n",
       "            }, 500);\n",
       "            "
      ],
      "text/plain": [
       "<IPython.core.display.Javascript object>"
      ]
     },
     "metadata": {},
     "output_type": "display_data"
    },
    {
     "data": {
      "application/javascript": [
       "\n",
       "            setTimeout(function() {\n",
       "                var nbb_cell_id = 180;\n",
       "                var nbb_unformatted_code = \"asset_data\";\n",
       "                var nbb_formatted_code = \"asset_data\";\n",
       "                var nbb_cells = Jupyter.notebook.get_cells();\n",
       "                for (var i = 0; i < nbb_cells.length; ++i) {\n",
       "                    if (nbb_cells[i].input_prompt_number == nbb_cell_id) {\n",
       "                        if (nbb_cells[i].get_text() == nbb_unformatted_code) {\n",
       "                             nbb_cells[i].set_text(nbb_formatted_code);\n",
       "                        }\n",
       "                        break;\n",
       "                    }\n",
       "                }\n",
       "            }, 500);\n",
       "            "
      ],
      "text/plain": [
       "<IPython.core.display.Javascript object>"
      ]
     },
     "metadata": {},
     "output_type": "display_data"
    },
    {
     "data": {
      "application/javascript": [
       "\n",
       "            setTimeout(function() {\n",
       "                var nbb_cell_id = 180;\n",
       "                var nbb_unformatted_code = \"asset_data\";\n",
       "                var nbb_formatted_code = \"asset_data\";\n",
       "                var nbb_cells = Jupyter.notebook.get_cells();\n",
       "                for (var i = 0; i < nbb_cells.length; ++i) {\n",
       "                    if (nbb_cells[i].input_prompt_number == nbb_cell_id) {\n",
       "                        if (nbb_cells[i].get_text() == nbb_unformatted_code) {\n",
       "                             nbb_cells[i].set_text(nbb_formatted_code);\n",
       "                        }\n",
       "                        break;\n",
       "                    }\n",
       "                }\n",
       "            }, 500);\n",
       "            "
      ],
      "text/plain": [
       "<IPython.core.display.Javascript object>"
      ]
     },
     "metadata": {},
     "output_type": "display_data"
    },
    {
     "data": {
      "application/javascript": [
       "\n",
       "            setTimeout(function() {\n",
       "                var nbb_cell_id = 180;\n",
       "                var nbb_unformatted_code = \"asset_data\";\n",
       "                var nbb_formatted_code = \"asset_data\";\n",
       "                var nbb_cells = Jupyter.notebook.get_cells();\n",
       "                for (var i = 0; i < nbb_cells.length; ++i) {\n",
       "                    if (nbb_cells[i].input_prompt_number == nbb_cell_id) {\n",
       "                        if (nbb_cells[i].get_text() == nbb_unformatted_code) {\n",
       "                             nbb_cells[i].set_text(nbb_formatted_code);\n",
       "                        }\n",
       "                        break;\n",
       "                    }\n",
       "                }\n",
       "            }, 500);\n",
       "            "
      ],
      "text/plain": [
       "<IPython.core.display.Javascript object>"
      ]
     },
     "metadata": {},
     "output_type": "display_data"
    },
    {
     "data": {
      "application/javascript": [
       "\n",
       "            setTimeout(function() {\n",
       "                var nbb_cell_id = 180;\n",
       "                var nbb_unformatted_code = \"asset_data\";\n",
       "                var nbb_formatted_code = \"asset_data\";\n",
       "                var nbb_cells = Jupyter.notebook.get_cells();\n",
       "                for (var i = 0; i < nbb_cells.length; ++i) {\n",
       "                    if (nbb_cells[i].input_prompt_number == nbb_cell_id) {\n",
       "                        if (nbb_cells[i].get_text() == nbb_unformatted_code) {\n",
       "                             nbb_cells[i].set_text(nbb_formatted_code);\n",
       "                        }\n",
       "                        break;\n",
       "                    }\n",
       "                }\n",
       "            }, 500);\n",
       "            "
      ],
      "text/plain": [
       "<IPython.core.display.Javascript object>"
      ]
     },
     "metadata": {},
     "output_type": "display_data"
    },
    {
     "data": {
      "application/javascript": [
       "\n",
       "            setTimeout(function() {\n",
       "                var nbb_cell_id = 180;\n",
       "                var nbb_unformatted_code = \"asset_data\";\n",
       "                var nbb_formatted_code = \"asset_data\";\n",
       "                var nbb_cells = Jupyter.notebook.get_cells();\n",
       "                for (var i = 0; i < nbb_cells.length; ++i) {\n",
       "                    if (nbb_cells[i].input_prompt_number == nbb_cell_id) {\n",
       "                        if (nbb_cells[i].get_text() == nbb_unformatted_code) {\n",
       "                             nbb_cells[i].set_text(nbb_formatted_code);\n",
       "                        }\n",
       "                        break;\n",
       "                    }\n",
       "                }\n",
       "            }, 500);\n",
       "            "
      ],
      "text/plain": [
       "<IPython.core.display.Javascript object>"
      ]
     },
     "metadata": {},
     "output_type": "display_data"
    },
    {
     "data": {
      "application/javascript": [
       "\n",
       "            setTimeout(function() {\n",
       "                var nbb_cell_id = 180;\n",
       "                var nbb_unformatted_code = \"asset_data\";\n",
       "                var nbb_formatted_code = \"asset_data\";\n",
       "                var nbb_cells = Jupyter.notebook.get_cells();\n",
       "                for (var i = 0; i < nbb_cells.length; ++i) {\n",
       "                    if (nbb_cells[i].input_prompt_number == nbb_cell_id) {\n",
       "                        if (nbb_cells[i].get_text() == nbb_unformatted_code) {\n",
       "                             nbb_cells[i].set_text(nbb_formatted_code);\n",
       "                        }\n",
       "                        break;\n",
       "                    }\n",
       "                }\n",
       "            }, 500);\n",
       "            "
      ],
      "text/plain": [
       "<IPython.core.display.Javascript object>"
      ]
     },
     "metadata": {},
     "output_type": "display_data"
    },
    {
     "data": {
      "application/javascript": [
       "\n",
       "            setTimeout(function() {\n",
       "                var nbb_cell_id = 180;\n",
       "                var nbb_unformatted_code = \"asset_data\";\n",
       "                var nbb_formatted_code = \"asset_data\";\n",
       "                var nbb_cells = Jupyter.notebook.get_cells();\n",
       "                for (var i = 0; i < nbb_cells.length; ++i) {\n",
       "                    if (nbb_cells[i].input_prompt_number == nbb_cell_id) {\n",
       "                        if (nbb_cells[i].get_text() == nbb_unformatted_code) {\n",
       "                             nbb_cells[i].set_text(nbb_formatted_code);\n",
       "                        }\n",
       "                        break;\n",
       "                    }\n",
       "                }\n",
       "            }, 500);\n",
       "            "
      ],
      "text/plain": [
       "<IPython.core.display.Javascript object>"
      ]
     },
     "metadata": {},
     "output_type": "display_data"
    },
    {
     "data": {
      "application/javascript": [
       "\n",
       "            setTimeout(function() {\n",
       "                var nbb_cell_id = 180;\n",
       "                var nbb_unformatted_code = \"asset_data\";\n",
       "                var nbb_formatted_code = \"asset_data\";\n",
       "                var nbb_cells = Jupyter.notebook.get_cells();\n",
       "                for (var i = 0; i < nbb_cells.length; ++i) {\n",
       "                    if (nbb_cells[i].input_prompt_number == nbb_cell_id) {\n",
       "                        if (nbb_cells[i].get_text() == nbb_unformatted_code) {\n",
       "                             nbb_cells[i].set_text(nbb_formatted_code);\n",
       "                        }\n",
       "                        break;\n",
       "                    }\n",
       "                }\n",
       "            }, 500);\n",
       "            "
      ],
      "text/plain": [
       "<IPython.core.display.Javascript object>"
      ]
     },
     "metadata": {},
     "output_type": "display_data"
    }
   ],
   "source": [
    "asset_data"
   ]
  },
  {
   "cell_type": "code",
   "execution_count": 181,
   "id": "9c3cb6f2",
   "metadata": {},
   "outputs": [
    {
     "name": "stdout",
     "output_type": "stream",
     "text": [
      "Epoch 1/1000\n",
      "4/4 [==============================] - 3s 156ms/step - loss: 193965.3438 - root_mean_squared_error: 440.4150 - val_loss: 976591.4375 - val_root_mean_squared_error: 988.2264 - lr: 0.0000e+00\n",
      "Epoch 2/1000\n",
      "4/4 [==============================] - 0s 25ms/step - loss: 193965.0312 - root_mean_squared_error: 440.4146 - val_loss: 976586.9375 - val_root_mean_squared_error: 988.2241 - lr: 6.6667e-08\n",
      "Epoch 3/1000\n",
      "4/4 [==============================] - 0s 24ms/step - loss: 193963.4844 - root_mean_squared_error: 440.4128 - val_loss: 976577.6875 - val_root_mean_squared_error: 988.2195 - lr: 1.3333e-07\n",
      "Epoch 4/1000\n",
      "4/4 [==============================] - 0s 23ms/step - loss: 193961.2188 - root_mean_squared_error: 440.4103 - val_loss: 976563.8125 - val_root_mean_squared_error: 988.2125 - lr: 2.0000e-07\n",
      "Epoch 5/1000\n",
      "4/4 [==============================] - 0s 22ms/step - loss: 193957.5781 - root_mean_squared_error: 440.4062 - val_loss: 976545.6250 - val_root_mean_squared_error: 988.2032 - lr: 2.6667e-07\n",
      "Epoch 6/1000\n",
      "4/4 [==============================] - 0s 22ms/step - loss: 193953.3438 - root_mean_squared_error: 440.4014 - val_loss: 976522.5000 - val_root_mean_squared_error: 988.1915 - lr: 3.3333e-07\n",
      "Epoch 7/1000\n",
      "4/4 [==============================] - 0s 27ms/step - loss: 193948.0469 - root_mean_squared_error: 440.3954 - val_loss: 976491.6250 - val_root_mean_squared_error: 988.1760 - lr: 4.0000e-07\n",
      "Epoch 8/1000\n",
      "4/4 [==============================] - 0s 28ms/step - loss: 193941.4062 - root_mean_squared_error: 440.3878 - val_loss: 976455.5000 - val_root_mean_squared_error: 988.1577 - lr: 4.6667e-07\n",
      "Epoch 9/1000\n",
      "4/4 [==============================] - 0s 28ms/step - loss: 193933.4531 - root_mean_squared_error: 440.3788 - val_loss: 976414.5625 - val_root_mean_squared_error: 988.1370 - lr: 5.3333e-07\n",
      "Epoch 10/1000\n",
      "4/4 [==============================] - 0s 28ms/step - loss: 193924.4219 - root_mean_squared_error: 440.3685 - val_loss: 976368.3750 - val_root_mean_squared_error: 988.1135 - lr: 6.0000e-07\n",
      "Epoch 11/1000\n",
      "4/4 [==============================] - 0s 28ms/step - loss: 193914.1719 - root_mean_squared_error: 440.3568 - val_loss: 976320.0000 - val_root_mean_squared_error: 988.0891 - lr: 6.6667e-07\n",
      "Epoch 12/1000\n",
      "4/4 [==============================] - 0s 27ms/step - loss: 193903.0312 - root_mean_squared_error: 440.3442 - val_loss: 976270.9375 - val_root_mean_squared_error: 988.0643 - lr: 7.3333e-07\n",
      "Epoch 13/1000\n",
      "4/4 [==============================] - 0s 27ms/step - loss: 193888.7969 - root_mean_squared_error: 440.3280 - val_loss: 976224.6875 - val_root_mean_squared_error: 988.0408 - lr: 8.0000e-07\n",
      "Epoch 14/1000\n",
      "4/4 [==============================] - 0s 26ms/step - loss: 193874.7969 - root_mean_squared_error: 440.3122 - val_loss: 976164.1250 - val_root_mean_squared_error: 988.0102 - lr: 8.6667e-07\n",
      "Epoch 15/1000\n",
      "4/4 [==============================] - 0s 26ms/step - loss: 193858.8125 - root_mean_squared_error: 440.2940 - val_loss: 976083.6250 - val_root_mean_squared_error: 987.9694 - lr: 9.3333e-07\n",
      "Epoch 16/1000\n",
      "4/4 [==============================] - 0s 27ms/step - loss: 193841.5312 - root_mean_squared_error: 440.2744 - val_loss: 975985.0625 - val_root_mean_squared_error: 987.9195 - lr: 1.0000e-06\n",
      "Epoch 17/1000\n",
      "4/4 [==============================] - 0s 26ms/step - loss: 193823.0156 - root_mean_squared_error: 440.2534 - val_loss: 975877.6250 - val_root_mean_squared_error: 987.8652 - lr: 1.0667e-06\n",
      "Epoch 18/1000\n",
      "4/4 [==============================] - 0s 27ms/step - loss: 193800.6250 - root_mean_squared_error: 440.2279 - val_loss: 975759.6250 - val_root_mean_squared_error: 987.8055 - lr: 1.1333e-06\n",
      "Epoch 19/1000\n",
      "4/4 [==============================] - 0s 27ms/step - loss: 193778.2344 - root_mean_squared_error: 440.2025 - val_loss: 975622.5625 - val_root_mean_squared_error: 987.7361 - lr: 1.2000e-06\n",
      "Epoch 20/1000\n",
      "4/4 [==============================] - 0s 28ms/step - loss: 193751.9844 - root_mean_squared_error: 440.1727 - val_loss: 975464.0000 - val_root_mean_squared_error: 987.6558 - lr: 1.2667e-06\n",
      "Epoch 21/1000\n",
      "4/4 [==============================] - 0s 28ms/step - loss: 193720.7031 - root_mean_squared_error: 440.1371 - val_loss: 975296.8750 - val_root_mean_squared_error: 987.5712 - lr: 1.3333e-06\n",
      "Epoch 22/1000\n",
      "4/4 [==============================] - 0s 28ms/step - loss: 193689.8438 - root_mean_squared_error: 440.1021 - val_loss: 975118.9375 - val_root_mean_squared_error: 987.4811 - lr: 1.4000e-06\n",
      "Epoch 23/1000\n",
      "4/4 [==============================] - 0s 26ms/step - loss: 193656.5469 - root_mean_squared_error: 440.0642 - val_loss: 974940.9375 - val_root_mean_squared_error: 987.3909 - lr: 1.4667e-06\n",
      "Epoch 24/1000\n",
      "4/4 [==============================] - 0s 25ms/step - loss: 193623.7500 - root_mean_squared_error: 440.0270 - val_loss: 974755.4375 - val_root_mean_squared_error: 987.2971 - lr: 1.5333e-06\n",
      "Epoch 25/1000\n",
      "4/4 [==============================] - 0s 26ms/step - loss: 193588.2812 - root_mean_squared_error: 439.9867 - val_loss: 974567.5000 - val_root_mean_squared_error: 987.2019 - lr: 1.6000e-06\n",
      "Epoch 26/1000\n",
      "4/4 [==============================] - 0s 25ms/step - loss: 193550.7812 - root_mean_squared_error: 439.9441 - val_loss: 974384.5000 - val_root_mean_squared_error: 987.1091 - lr: 1.6667e-06\n",
      "Epoch 27/1000\n",
      "4/4 [==============================] - 0s 28ms/step - loss: 193512.6094 - root_mean_squared_error: 439.9007 - val_loss: 974204.1250 - val_root_mean_squared_error: 987.0178 - lr: 1.7333e-06\n",
      "Epoch 28/1000\n",
      "4/4 [==============================] - 0s 27ms/step - loss: 193476.7656 - root_mean_squared_error: 439.8599 - val_loss: 974019.2500 - val_root_mean_squared_error: 986.9241 - lr: 1.8000e-06\n",
      "Epoch 29/1000\n",
      "4/4 [==============================] - 0s 28ms/step - loss: 193442.7188 - root_mean_squared_error: 439.8212 - val_loss: 973826.7500 - val_root_mean_squared_error: 986.8266 - lr: 1.8667e-06\n",
      "Epoch 30/1000\n",
      "4/4 [==============================] - 0s 28ms/step - loss: 193405.0312 - root_mean_squared_error: 439.7784 - val_loss: 973638.5625 - val_root_mean_squared_error: 986.7313 - lr: 1.9333e-06\n",
      "Epoch 31/1000\n",
      "4/4 [==============================] - 0s 29ms/step - loss: 193367.5625 - root_mean_squared_error: 439.7358 - val_loss: 973420.0000 - val_root_mean_squared_error: 986.6205 - lr: 2.0000e-06\n",
      "Epoch 32/1000\n",
      "4/4 [==============================] - 0s 29ms/step - loss: 193331.6406 - root_mean_squared_error: 439.6949 - val_loss: 973196.8750 - val_root_mean_squared_error: 986.5074 - lr: 2.0667e-06\n",
      "Epoch 33/1000\n",
      "4/4 [==============================] - 0s 27ms/step - loss: 193293.1094 - root_mean_squared_error: 439.6511 - val_loss: 972980.0000 - val_root_mean_squared_error: 986.3974 - lr: 2.1333e-06\n",
      "Epoch 34/1000\n",
      "4/4 [==============================] - 0s 27ms/step - loss: 193254.6875 - root_mean_squared_error: 439.6074 - val_loss: 972769.2500 - val_root_mean_squared_error: 986.2906 - lr: 2.2000e-06\n",
      "Epoch 35/1000\n",
      "4/4 [==============================] - 0s 26ms/step - loss: 193215.8594 - root_mean_squared_error: 439.5633 - val_loss: 972550.9375 - val_root_mean_squared_error: 986.1800 - lr: 2.2667e-06\n",
      "Epoch 36/1000\n",
      "4/4 [==============================] - 0s 26ms/step - loss: 193175.0469 - root_mean_squared_error: 439.5168 - val_loss: 972326.3125 - val_root_mean_squared_error: 986.0661 - lr: 2.3333e-06\n",
      "Epoch 37/1000\n",
      "4/4 [==============================] - 0s 29ms/step - loss: 193134.0469 - root_mean_squared_error: 439.4702 - val_loss: 972093.6875 - val_root_mean_squared_error: 985.9482 - lr: 2.4000e-06\n",
      "Epoch 38/1000\n",
      "4/4 [==============================] - 0s 25ms/step - loss: 193091.2031 - root_mean_squared_error: 439.4214 - val_loss: 971856.6875 - val_root_mean_squared_error: 985.8279 - lr: 2.4667e-06\n",
      "Epoch 39/1000\n",
      "4/4 [==============================] - 0s 23ms/step - loss: 193045.7344 - root_mean_squared_error: 439.3697 - val_loss: 971615.6250 - val_root_mean_squared_error: 985.7056 - lr: 2.5333e-06\n",
      "Epoch 40/1000\n",
      "4/4 [==============================] - 0s 23ms/step - loss: 193001.5625 - root_mean_squared_error: 439.3195 - val_loss: 971363.6875 - val_root_mean_squared_error: 985.5778 - lr: 2.6000e-06\n",
      "Epoch 41/1000\n"
     ]
    },
    {
     "name": "stdout",
     "output_type": "stream",
     "text": [
      "4/4 [==============================] - 0s 24ms/step - loss: 192956.4844 - root_mean_squared_error: 439.2681 - val_loss: 971097.6875 - val_root_mean_squared_error: 985.4429 - lr: 2.6667e-06\n",
      "Epoch 42/1000\n",
      "4/4 [==============================] - 0s 24ms/step - loss: 192904.6094 - root_mean_squared_error: 439.2091 - val_loss: 970831.2500 - val_root_mean_squared_error: 985.3077 - lr: 2.7333e-06\n",
      "Epoch 43/1000\n",
      "4/4 [==============================] - 0s 23ms/step - loss: 192857.2969 - root_mean_squared_error: 439.1552 - val_loss: 970549.0625 - val_root_mean_squared_error: 985.1644 - lr: 2.8000e-06\n",
      "Epoch 44/1000\n",
      "4/4 [==============================] - 0s 24ms/step - loss: 192802.2031 - root_mean_squared_error: 439.0925 - val_loss: 970264.3750 - val_root_mean_squared_error: 985.0200 - lr: 2.8667e-06\n",
      "Epoch 45/1000\n",
      "4/4 [==============================] - 0s 23ms/step - loss: 192747.8125 - root_mean_squared_error: 439.0305 - val_loss: 969974.0000 - val_root_mean_squared_error: 984.8726 - lr: 2.9333e-06\n",
      "Epoch 46/1000\n",
      "4/4 [==============================] - 0s 25ms/step - loss: 192689.4844 - root_mean_squared_error: 438.9641 - val_loss: 969685.2500 - val_root_mean_squared_error: 984.7260 - lr: 3.0000e-06\n",
      "Epoch 47/1000\n",
      "4/4 [==============================] - 0s 24ms/step - loss: 192636.0938 - root_mean_squared_error: 438.9033 - val_loss: 969387.4375 - val_root_mean_squared_error: 984.5748 - lr: 3.0667e-06\n",
      "Epoch 48/1000\n",
      "4/4 [==============================] - 0s 24ms/step - loss: 192574.4844 - root_mean_squared_error: 438.8331 - val_loss: 969084.3750 - val_root_mean_squared_error: 984.4208 - lr: 3.1333e-06\n",
      "Epoch 49/1000\n",
      "4/4 [==============================] - 0s 25ms/step - loss: 192513.0156 - root_mean_squared_error: 438.7631 - val_loss: 968777.3125 - val_root_mean_squared_error: 984.2648 - lr: 3.2000e-06\n",
      "Epoch 50/1000\n",
      "4/4 [==============================] - 0s 26ms/step - loss: 192450.9219 - root_mean_squared_error: 438.6923 - val_loss: 968464.3125 - val_root_mean_squared_error: 984.1058 - lr: 3.2667e-06\n",
      "Epoch 51/1000\n",
      "4/4 [==============================] - 0s 27ms/step - loss: 192382.5625 - root_mean_squared_error: 438.6144 - val_loss: 968151.1250 - val_root_mean_squared_error: 983.9467 - lr: 3.3333e-06\n",
      "Epoch 52/1000\n",
      "4/4 [==============================] - 0s 25ms/step - loss: 192319.8281 - root_mean_squared_error: 438.5428 - val_loss: 967816.8750 - val_root_mean_squared_error: 983.7768 - lr: 3.4000e-06\n",
      "Epoch 53/1000\n",
      "4/4 [==============================] - 0s 25ms/step - loss: 192245.2812 - root_mean_squared_error: 438.4579 - val_loss: 967477.3125 - val_root_mean_squared_error: 983.6042 - lr: 3.4667e-06\n",
      "Epoch 54/1000\n",
      "4/4 [==============================] - 0s 24ms/step - loss: 192180.2969 - root_mean_squared_error: 438.3837 - val_loss: 967100.8750 - val_root_mean_squared_error: 983.4129 - lr: 3.5333e-06\n",
      "Epoch 55/1000\n",
      "4/4 [==============================] - 0s 24ms/step - loss: 192102.0156 - root_mean_squared_error: 438.2944 - val_loss: 966708.3750 - val_root_mean_squared_error: 983.2133 - lr: 3.6000e-06\n",
      "Epoch 56/1000\n",
      "4/4 [==============================] - 0s 24ms/step - loss: 192027.0781 - root_mean_squared_error: 438.2090 - val_loss: 966268.5000 - val_root_mean_squared_error: 982.9896 - lr: 3.6667e-06\n",
      "Epoch 57/1000\n",
      "4/4 [==============================] - 0s 23ms/step - loss: 191940.7500 - root_mean_squared_error: 438.1104 - val_loss: 965781.6250 - val_root_mean_squared_error: 982.7419 - lr: 3.7333e-06\n",
      "Epoch 58/1000\n",
      "4/4 [==============================] - 0s 25ms/step - loss: 191843.5156 - root_mean_squared_error: 437.9995 - val_loss: 965260.3125 - val_root_mean_squared_error: 982.4766 - lr: 3.8000e-06\n",
      "Epoch 59/1000\n",
      "4/4 [==============================] - 0s 35ms/step - loss: 191744.4219 - root_mean_squared_error: 437.8863 - val_loss: 964709.0625 - val_root_mean_squared_error: 982.1960 - lr: 3.8667e-06\n",
      "Epoch 60/1000\n",
      "4/4 [==============================] - 0s 35ms/step - loss: 191631.9844 - root_mean_squared_error: 437.7579 - val_loss: 964143.1250 - val_root_mean_squared_error: 981.9079 - lr: 3.9333e-06\n",
      "Epoch 61/1000\n",
      "4/4 [==============================] - 0s 26ms/step - loss: 191517.2812 - root_mean_squared_error: 437.6269 - val_loss: 963560.9375 - val_root_mean_squared_error: 981.6115 - lr: 4.0000e-06\n",
      "Epoch 62/1000\n",
      "4/4 [==============================] - 0s 27ms/step - loss: 191394.6406 - root_mean_squared_error: 437.4868 - val_loss: 962973.3125 - val_root_mean_squared_error: 981.3120 - lr: 4.0667e-06\n",
      "Epoch 63/1000\n",
      "4/4 [==============================] - 0s 25ms/step - loss: 191278.8125 - root_mean_squared_error: 437.3543 - val_loss: 962368.5000 - val_root_mean_squared_error: 981.0038 - lr: 4.1333e-06\n",
      "Epoch 64/1000\n",
      "4/4 [==============================] - 0s 25ms/step - loss: 191153.7969 - root_mean_squared_error: 437.2114 - val_loss: 961755.8125 - val_root_mean_squared_error: 980.6915 - lr: 4.2000e-06\n",
      "Epoch 65/1000\n",
      "4/4 [==============================] - 0s 35ms/step - loss: 191023.0781 - root_mean_squared_error: 437.0619 - val_loss: 961100.3125 - val_root_mean_squared_error: 980.3572 - lr: 4.2667e-06\n",
      "Epoch 66/1000\n",
      "4/4 [==============================] - 0s 34ms/step - loss: 190883.8438 - root_mean_squared_error: 436.9025 - val_loss: 960348.5625 - val_root_mean_squared_error: 979.9738 - lr: 4.3333e-06\n",
      "Epoch 67/1000\n",
      "4/4 [==============================] - 0s 34ms/step - loss: 190698.9844 - root_mean_squared_error: 436.6910 - val_loss: 959412.0000 - val_root_mean_squared_error: 979.4958 - lr: 4.4000e-06\n",
      "Epoch 68/1000\n",
      "4/4 [==============================] - 0s 34ms/step - loss: 190491.2812 - root_mean_squared_error: 436.4531 - val_loss: 958119.3125 - val_root_mean_squared_error: 978.8358 - lr: 4.4667e-06\n",
      "Epoch 69/1000\n",
      "4/4 [==============================] - 0s 32ms/step - loss: 190205.8750 - root_mean_squared_error: 436.1260 - val_loss: 956338.3125 - val_root_mean_squared_error: 977.9255 - lr: 4.5333e-06\n",
      "Epoch 70/1000\n",
      "4/4 [==============================] - 0s 31ms/step - loss: 189823.0469 - root_mean_squared_error: 435.6869 - val_loss: 954077.0625 - val_root_mean_squared_error: 976.7687 - lr: 4.6000e-06\n",
      "Epoch 71/1000\n",
      "4/4 [==============================] - 0s 31ms/step - loss: 189445.3281 - root_mean_squared_error: 435.2532 - val_loss: 952048.8750 - val_root_mean_squared_error: 975.7299 - lr: 4.6667e-06\n",
      "Epoch 72/1000\n",
      "4/4 [==============================] - 0s 25ms/step - loss: 189153.7344 - root_mean_squared_error: 434.9181 - val_loss: 950438.1875 - val_root_mean_squared_error: 974.9042 - lr: 4.7333e-06\n",
      "Epoch 73/1000\n",
      "4/4 [==============================] - 0s 25ms/step - loss: 188840.7188 - root_mean_squared_error: 434.5580 - val_loss: 948892.6875 - val_root_mean_squared_error: 974.1113 - lr: 4.8000e-06\n",
      "Epoch 74/1000\n",
      "4/4 [==============================] - 0s 25ms/step - loss: 188520.4531 - root_mean_squared_error: 434.1894 - val_loss: 947340.5625 - val_root_mean_squared_error: 973.3142 - lr: 4.8667e-06\n",
      "Epoch 75/1000\n",
      "4/4 [==============================] - 0s 24ms/step - loss: 188211.1875 - root_mean_squared_error: 433.8332 - val_loss: 945764.8750 - val_root_mean_squared_error: 972.5045 - lr: 4.9333e-06\n",
      "Epoch 76/1000\n",
      "4/4 [==============================] - 0s 24ms/step - loss: 187910.4219 - root_mean_squared_error: 433.4863 - val_loss: 944206.3750 - val_root_mean_squared_error: 971.7028 - lr: 5.0000e-06\n",
      "Epoch 77/1000\n",
      "4/4 [==============================] - 0s 28ms/step - loss: 187593.0469 - root_mean_squared_error: 433.1201 - val_loss: 942710.0000 - val_root_mean_squared_error: 970.9326 - lr: 5.0667e-06\n",
      "Epoch 78/1000\n",
      "4/4 [==============================] - 0s 28ms/step - loss: 187301.6875 - root_mean_squared_error: 432.7836 - val_loss: 941225.2500 - val_root_mean_squared_error: 970.1677 - lr: 5.1333e-06\n",
      "Epoch 79/1000\n",
      "4/4 [==============================] - 0s 26ms/step - loss: 186993.5469 - root_mean_squared_error: 432.4275 - val_loss: 939713.5000 - val_root_mean_squared_error: 969.3882 - lr: 5.2000e-06\n",
      "Epoch 80/1000\n",
      "4/4 [==============================] - 0s 30ms/step - loss: 186634.6719 - root_mean_squared_error: 432.0123 - val_loss: 938259.6250 - val_root_mean_squared_error: 968.6381 - lr: 5.2667e-06\n",
      "Epoch 81/1000\n"
     ]
    },
    {
     "name": "stdout",
     "output_type": "stream",
     "text": [
      "4/4 [==============================] - 0s 37ms/step - loss: 186339.5469 - root_mean_squared_error: 431.6707 - val_loss: 936707.4375 - val_root_mean_squared_error: 967.8365 - lr: 5.3333e-06\n",
      "Epoch 82/1000\n",
      "4/4 [==============================] - 0s 28ms/step - loss: 185987.8125 - root_mean_squared_error: 431.2630 - val_loss: 935038.0000 - val_root_mean_squared_error: 966.9736 - lr: 5.4000e-06\n",
      "Epoch 83/1000\n",
      "4/4 [==============================] - 0s 24ms/step - loss: 185647.2969 - root_mean_squared_error: 430.8681 - val_loss: 933294.8750 - val_root_mean_squared_error: 966.0719 - lr: 5.4667e-06\n",
      "Epoch 84/1000\n",
      "4/4 [==============================] - 0s 24ms/step - loss: 185269.0625 - root_mean_squared_error: 430.4289 - val_loss: 931442.0000 - val_root_mean_squared_error: 965.1124 - lr: 5.5333e-06\n",
      "Epoch 85/1000\n",
      "4/4 [==============================] - 0s 24ms/step - loss: 184906.0469 - root_mean_squared_error: 430.0070 - val_loss: 929238.8750 - val_root_mean_squared_error: 963.9703 - lr: 5.6000e-06\n",
      "Epoch 86/1000\n",
      "4/4 [==============================] - 0s 22ms/step - loss: 184452.2656 - root_mean_squared_error: 429.4791 - val_loss: 926945.4375 - val_root_mean_squared_error: 962.7800 - lr: 5.6667e-06\n",
      "Epoch 87/1000\n",
      "4/4 [==============================] - 0s 28ms/step - loss: 183968.3594 - root_mean_squared_error: 428.9153 - val_loss: 924574.1250 - val_root_mean_squared_error: 961.5478 - lr: 5.7333e-06\n",
      "Epoch 88/1000\n",
      "4/4 [==============================] - 0s 27ms/step - loss: 183411.1875 - root_mean_squared_error: 428.2653 - val_loss: 921290.9375 - val_root_mean_squared_error: 959.8391 - lr: 5.8000e-06\n",
      "Epoch 89/1000\n",
      "4/4 [==============================] - 0s 25ms/step - loss: 182882.8438 - root_mean_squared_error: 427.6480 - val_loss: 918658.3125 - val_root_mean_squared_error: 958.4667 - lr: 5.8667e-06\n",
      "Epoch 90/1000\n",
      "4/4 [==============================] - 0s 29ms/step - loss: 182446.0781 - root_mean_squared_error: 427.1371 - val_loss: 915876.9375 - val_root_mean_squared_error: 957.0146 - lr: 5.9333e-06\n",
      "Epoch 91/1000\n",
      "4/4 [==============================] - 0s 26ms/step - loss: 181902.8750 - root_mean_squared_error: 426.5008 - val_loss: 913046.1875 - val_root_mean_squared_error: 955.5345 - lr: 6.0000e-06\n",
      "Epoch 92/1000\n",
      "4/4 [==============================] - 0s 25ms/step - loss: 181330.8438 - root_mean_squared_error: 425.8296 - val_loss: 910091.8750 - val_root_mean_squared_error: 953.9874 - lr: 6.0667e-06\n",
      "Epoch 93/1000\n",
      "4/4 [==============================] - 0s 26ms/step - loss: 180740.5938 - root_mean_squared_error: 425.1360 - val_loss: 906960.3125 - val_root_mean_squared_error: 952.3446 - lr: 6.1333e-06\n",
      "Epoch 94/1000\n",
      "4/4 [==============================] - 0s 27ms/step - loss: 180121.0312 - root_mean_squared_error: 424.4067 - val_loss: 903680.1250 - val_root_mean_squared_error: 950.6208 - lr: 6.2000e-06\n",
      "Epoch 95/1000\n",
      "4/4 [==============================] - 0s 28ms/step - loss: 179482.4375 - root_mean_squared_error: 423.6537 - val_loss: 900616.0000 - val_root_mean_squared_error: 949.0079 - lr: 6.2667e-06\n",
      "Epoch 96/1000\n",
      "4/4 [==============================] - 0s 29ms/step - loss: 178822.7969 - root_mean_squared_error: 422.8745 - val_loss: 897417.8750 - val_root_mean_squared_error: 947.3214 - lr: 6.3333e-06\n",
      "Epoch 97/1000\n",
      "4/4 [==============================] - 0s 31ms/step - loss: 178105.6250 - root_mean_squared_error: 422.0256 - val_loss: 894089.8125 - val_root_mean_squared_error: 945.5632 - lr: 6.4000e-06\n",
      "Epoch 98/1000\n",
      "4/4 [==============================] - 0s 30ms/step - loss: 177478.9375 - root_mean_squared_error: 421.2825 - val_loss: 890468.0000 - val_root_mean_squared_error: 943.6461 - lr: 6.4667e-06\n",
      "Epoch 99/1000\n",
      "4/4 [==============================] - 0s 27ms/step - loss: 176701.7500 - root_mean_squared_error: 420.3591 - val_loss: 886840.1250 - val_root_mean_squared_error: 941.7219 - lr: 6.5333e-06\n",
      "Epoch 100/1000\n",
      "4/4 [==============================] - 0s 27ms/step - loss: 176077.1250 - root_mean_squared_error: 419.6154 - val_loss: 882869.6875 - val_root_mean_squared_error: 939.6115 - lr: 6.6000e-06\n",
      "Epoch 101/1000\n",
      "4/4 [==============================] - 0s 26ms/step - loss: 175358.0469 - root_mean_squared_error: 418.7578 - val_loss: 879149.5000 - val_root_mean_squared_error: 937.6298 - lr: 6.6667e-06\n",
      "Epoch 102/1000\n",
      "4/4 [==============================] - 0s 27ms/step - loss: 174599.8906 - root_mean_squared_error: 417.8515 - val_loss: 875460.9375 - val_root_mean_squared_error: 935.6607 - lr: 6.7333e-06\n",
      "Epoch 103/1000\n",
      "4/4 [==============================] - 0s 25ms/step - loss: 173919.2344 - root_mean_squared_error: 417.0363 - val_loss: 871685.8125 - val_root_mean_squared_error: 933.6412 - lr: 6.8000e-06\n",
      "Epoch 104/1000\n",
      "4/4 [==============================] - 0s 26ms/step - loss: 173164.6562 - root_mean_squared_error: 416.1306 - val_loss: 867798.5000 - val_root_mean_squared_error: 931.5570 - lr: 6.8667e-06\n",
      "Epoch 105/1000\n",
      "4/4 [==============================] - 0s 26ms/step - loss: 172393.5625 - root_mean_squared_error: 415.2031 - val_loss: 863741.8125 - val_root_mean_squared_error: 929.3771 - lr: 6.9333e-06\n",
      "Epoch 106/1000\n",
      "4/4 [==============================] - 0s 27ms/step - loss: 171598.3906 - root_mean_squared_error: 414.2444 - val_loss: 859409.8750 - val_root_mean_squared_error: 927.0436 - lr: 7.0000e-06\n",
      "Epoch 107/1000\n",
      "4/4 [==============================] - 0s 28ms/step - loss: 170765.8594 - root_mean_squared_error: 413.2383 - val_loss: 855059.5000 - val_root_mean_squared_error: 924.6943 - lr: 7.0667e-06\n",
      "Epoch 108/1000\n",
      "4/4 [==============================] - 0s 31ms/step - loss: 169943.9375 - root_mean_squared_error: 412.2426 - val_loss: 850537.4375 - val_root_mean_squared_error: 922.2458 - lr: 7.1333e-06\n",
      "Epoch 109/1000\n",
      "4/4 [==============================] - 0s 30ms/step - loss: 169015.8750 - root_mean_squared_error: 411.1154 - val_loss: 845978.1250 - val_root_mean_squared_error: 919.7707 - lr: 7.2000e-06\n",
      "Epoch 110/1000\n",
      "4/4 [==============================] - 0s 26ms/step - loss: 168098.8125 - root_mean_squared_error: 409.9985 - val_loss: 841490.5000 - val_root_mean_squared_error: 917.3279 - lr: 7.2667e-06\n",
      "Epoch 111/1000\n",
      "4/4 [==============================] - 0s 25ms/step - loss: 167088.3594 - root_mean_squared_error: 408.7644 - val_loss: 837089.0625 - val_root_mean_squared_error: 914.9257 - lr: 7.3333e-06\n",
      "Epoch 112/1000\n",
      "4/4 [==============================] - 0s 23ms/step - loss: 166094.5312 - root_mean_squared_error: 407.5469 - val_loss: 831999.2500 - val_root_mean_squared_error: 912.1400 - lr: 7.4000e-06\n",
      "Epoch 113/1000\n",
      "4/4 [==============================] - 0s 23ms/step - loss: 164974.5000 - root_mean_squared_error: 406.1705 - val_loss: 826700.5625 - val_root_mean_squared_error: 909.2308 - lr: 7.4667e-06\n",
      "Epoch 114/1000\n",
      "4/4 [==============================] - 0s 23ms/step - loss: 163894.5938 - root_mean_squared_error: 404.8390 - val_loss: 821312.8750 - val_root_mean_squared_error: 906.2631 - lr: 7.5333e-06\n",
      "Epoch 115/1000\n",
      "4/4 [==============================] - 0s 23ms/step - loss: 162616.6562 - root_mean_squared_error: 403.2576 - val_loss: 815331.8750 - val_root_mean_squared_error: 902.9573 - lr: 7.6000e-06\n",
      "Epoch 116/1000\n",
      "4/4 [==============================] - 0s 25ms/step - loss: 161259.3281 - root_mean_squared_error: 401.5711 - val_loss: 808241.4375 - val_root_mean_squared_error: 899.0225 - lr: 7.6667e-06\n",
      "Epoch 117/1000\n",
      "4/4 [==============================] - 0s 27ms/step - loss: 159764.5781 - root_mean_squared_error: 399.7056 - val_loss: 799106.1875 - val_root_mean_squared_error: 893.9274 - lr: 7.7333e-06\n",
      "Epoch 118/1000\n",
      "4/4 [==============================] - 0s 28ms/step - loss: 158129.4062 - root_mean_squared_error: 397.6549 - val_loss: 788892.9375 - val_root_mean_squared_error: 888.1965 - lr: 7.8000e-06\n",
      "Epoch 119/1000\n",
      "4/4 [==============================] - 0s 29ms/step - loss: 156343.1719 - root_mean_squared_error: 395.4026 - val_loss: 780189.5000 - val_root_mean_squared_error: 883.2834 - lr: 7.8667e-06\n",
      "Epoch 120/1000\n",
      "4/4 [==============================] - 0s 28ms/step - loss: 154725.9688 - root_mean_squared_error: 393.3522 - val_loss: 771160.8750 - val_root_mean_squared_error: 878.1576 - lr: 7.9333e-06\n",
      "Epoch 121/1000\n"
     ]
    },
    {
     "name": "stdout",
     "output_type": "stream",
     "text": [
      "4/4 [==============================] - 0s 28ms/step - loss: 152927.7656 - root_mean_squared_error: 391.0598 - val_loss: 761816.7500 - val_root_mean_squared_error: 872.8212 - lr: 8.0000e-06\n",
      "Epoch 122/1000\n",
      "4/4 [==============================] - 0s 27ms/step - loss: 151157.6875 - root_mean_squared_error: 388.7900 - val_loss: 750988.8750 - val_root_mean_squared_error: 866.5961 - lr: 8.0667e-06\n",
      "Epoch 123/1000\n",
      "4/4 [==============================] - 0s 27ms/step - loss: 149038.2188 - root_mean_squared_error: 386.0547 - val_loss: 736043.6250 - val_root_mean_squared_error: 857.9299 - lr: 8.1333e-06\n",
      "Epoch 124/1000\n",
      "4/4 [==============================] - 0s 26ms/step - loss: 145896.2812 - root_mean_squared_error: 381.9637 - val_loss: 715750.1250 - val_root_mean_squared_error: 846.0201 - lr: 8.2000e-06\n",
      "Epoch 125/1000\n",
      "4/4 [==============================] - 0s 27ms/step - loss: 141901.9219 - root_mean_squared_error: 376.6987 - val_loss: 699663.5000 - val_root_mean_squared_error: 836.4589 - lr: 8.2667e-06\n",
      "Epoch 126/1000\n",
      "4/4 [==============================] - 0s 29ms/step - loss: 138241.0469 - root_mean_squared_error: 371.8078 - val_loss: 684043.8750 - val_root_mean_squared_error: 827.0694 - lr: 8.3333e-06\n",
      "Epoch 127/1000\n",
      "4/4 [==============================] - 0s 29ms/step - loss: 135062.8906 - root_mean_squared_error: 367.5091 - val_loss: 663973.9375 - val_root_mean_squared_error: 814.8459 - lr: 8.4000e-06\n",
      "Epoch 128/1000\n",
      "4/4 [==============================] - 0s 30ms/step - loss: 131560.4062 - root_mean_squared_error: 362.7126 - val_loss: 644634.8750 - val_root_mean_squared_error: 802.8915 - lr: 8.4667e-06\n",
      "Epoch 129/1000\n",
      "4/4 [==============================] - 0s 29ms/step - loss: 127809.8047 - root_mean_squared_error: 357.5049 - val_loss: 624811.6875 - val_root_mean_squared_error: 790.4503 - lr: 8.5333e-06\n",
      "Epoch 130/1000\n",
      "4/4 [==============================] - 0s 24ms/step - loss: 123575.9922 - root_mean_squared_error: 351.5338 - val_loss: 602841.7500 - val_root_mean_squared_error: 776.4289 - lr: 8.6000e-06\n",
      "Epoch 131/1000\n",
      "4/4 [==============================] - 0s 26ms/step - loss: 119200.2500 - root_mean_squared_error: 345.2539 - val_loss: 581351.3125 - val_root_mean_squared_error: 762.4639 - lr: 8.6667e-06\n",
      "Epoch 132/1000\n",
      "4/4 [==============================] - 0s 25ms/step - loss: 114864.1328 - root_mean_squared_error: 338.9161 - val_loss: 558521.0000 - val_root_mean_squared_error: 747.3427 - lr: 8.7333e-06\n",
      "Epoch 133/1000\n",
      "4/4 [==============================] - 0s 26ms/step - loss: 110317.8203 - root_mean_squared_error: 332.1413 - val_loss: 536320.1875 - val_root_mean_squared_error: 732.3388 - lr: 8.8000e-06\n",
      "Epoch 134/1000\n",
      "4/4 [==============================] - 0s 25ms/step - loss: 106070.1797 - root_mean_squared_error: 325.6842 - val_loss: 512907.5625 - val_root_mean_squared_error: 716.1757 - lr: 8.8667e-06\n",
      "Epoch 135/1000\n",
      "4/4 [==============================] - 0s 26ms/step - loss: 101227.5078 - root_mean_squared_error: 318.1627 - val_loss: 487783.1562 - val_root_mean_squared_error: 698.4147 - lr: 8.9333e-06\n",
      "Epoch 136/1000\n",
      "4/4 [==============================] - 0s 28ms/step - loss: 95835.1562 - root_mean_squared_error: 309.5725 - val_loss: 453922.2812 - val_root_mean_squared_error: 673.7375 - lr: 9.0000e-06\n",
      "Epoch 137/1000\n",
      "4/4 [==============================] - 0s 27ms/step - loss: 89051.0234 - root_mean_squared_error: 298.4142 - val_loss: 413021.8438 - val_root_mean_squared_error: 642.6678 - lr: 9.0667e-06\n",
      "Epoch 138/1000\n",
      "4/4 [==============================] - 0s 23ms/step - loss: 81311.3203 - root_mean_squared_error: 285.1514 - val_loss: 379971.8125 - val_root_mean_squared_error: 616.4186 - lr: 9.1333e-06\n",
      "Epoch 139/1000\n",
      "4/4 [==============================] - 0s 24ms/step - loss: 74824.8594 - root_mean_squared_error: 273.5413 - val_loss: 345778.2812 - val_root_mean_squared_error: 588.0292 - lr: 9.2000e-06\n",
      "Epoch 140/1000\n",
      "4/4 [==============================] - 0s 22ms/step - loss: 67835.2734 - root_mean_squared_error: 260.4521 - val_loss: 309336.4062 - val_root_mean_squared_error: 556.1802 - lr: 9.2667e-06\n",
      "Epoch 141/1000\n",
      "4/4 [==============================] - 0s 22ms/step - loss: 60335.4414 - root_mean_squared_error: 245.6327 - val_loss: 268132.0625 - val_root_mean_squared_error: 517.8147 - lr: 9.3333e-06\n",
      "Epoch 142/1000\n",
      "4/4 [==============================] - 0s 25ms/step - loss: 51639.6172 - root_mean_squared_error: 227.2435 - val_loss: 226224.8125 - val_root_mean_squared_error: 475.6310 - lr: 9.4000e-06\n",
      "Epoch 143/1000\n",
      "4/4 [==============================] - 0s 24ms/step - loss: 44274.5312 - root_mean_squared_error: 210.4151 - val_loss: 192993.7188 - val_root_mean_squared_error: 439.3105 - lr: 9.4667e-06\n",
      "Epoch 144/1000\n",
      "4/4 [==============================] - 0s 25ms/step - loss: 36872.4414 - root_mean_squared_error: 192.0220 - val_loss: 158629.4062 - val_root_mean_squared_error: 398.2831 - lr: 9.5333e-06\n",
      "Epoch 145/1000\n",
      "4/4 [==============================] - 0s 24ms/step - loss: 29764.1562 - root_mean_squared_error: 172.5229 - val_loss: 127380.8359 - val_root_mean_squared_error: 356.9045 - lr: 9.6000e-06\n",
      "Epoch 146/1000\n",
      "4/4 [==============================] - 0s 26ms/step - loss: 23492.3301 - root_mean_squared_error: 153.2721 - val_loss: 96854.9844 - val_root_mean_squared_error: 311.2153 - lr: 9.6667e-06\n",
      "Epoch 147/1000\n",
      "4/4 [==============================] - 0s 28ms/step - loss: 17888.4980 - root_mean_squared_error: 133.7479 - val_loss: 68904.4531 - val_root_mean_squared_error: 262.4966 - lr: 9.7333e-06\n",
      "Epoch 148/1000\n",
      "4/4 [==============================] - 0s 29ms/step - loss: 12853.9531 - root_mean_squared_error: 113.3753 - val_loss: 46073.2461 - val_root_mean_squared_error: 214.6468 - lr: 9.8000e-06\n",
      "Epoch 149/1000\n",
      "4/4 [==============================] - 0s 29ms/step - loss: 8952.3516 - root_mean_squared_error: 94.6169 - val_loss: 31935.5898 - val_root_mean_squared_error: 178.7053 - lr: 9.8667e-06\n",
      "Epoch 150/1000\n",
      "4/4 [==============================] - 0s 28ms/step - loss: 6278.7715 - root_mean_squared_error: 79.2387 - val_loss: 22638.9629 - val_root_mean_squared_error: 150.4625 - lr: 9.9333e-06\n",
      "Epoch 151/1000\n",
      "4/4 [==============================] - 0s 27ms/step - loss: 4356.1943 - root_mean_squared_error: 66.0015 - val_loss: 17403.3477 - val_root_mean_squared_error: 131.9217 - lr: 1.0000e-05\n",
      "Epoch 152/1000\n",
      "4/4 [==============================] - 0s 28ms/step - loss: 3164.9509 - root_mean_squared_error: 56.2579 - val_loss: 15208.9805 - val_root_mean_squared_error: 123.3247 - lr: 9.9005e-06\n",
      "Epoch 153/1000\n",
      "4/4 [==============================] - 0s 25ms/step - loss: 2487.1560 - root_mean_squared_error: 49.8714 - val_loss: 14792.8555 - val_root_mean_squared_error: 121.6259 - lr: 9.8020e-06\n",
      "Epoch 154/1000\n",
      "4/4 [==============================] - 0s 27ms/step - loss: 2115.1533 - root_mean_squared_error: 45.9908 - val_loss: 13884.2129 - val_root_mean_squared_error: 117.8313 - lr: 9.7045e-06\n",
      "Epoch 155/1000\n",
      "4/4 [==============================] - 0s 24ms/step - loss: 1858.1215 - root_mean_squared_error: 43.1059 - val_loss: 12560.7861 - val_root_mean_squared_error: 112.0749 - lr: 9.6079e-06\n",
      "Epoch 156/1000\n",
      "4/4 [==============================] - 0s 24ms/step - loss: 1696.5923 - root_mean_squared_error: 41.1897 - val_loss: 11544.7139 - val_root_mean_squared_error: 107.4463 - lr: 9.5123e-06\n",
      "Epoch 157/1000\n",
      "4/4 [==============================] - 0s 27ms/step - loss: 1554.7280 - root_mean_squared_error: 39.4300 - val_loss: 10682.6123 - val_root_mean_squared_error: 103.3567 - lr: 9.4176e-06\n",
      "Epoch 158/1000\n",
      "4/4 [==============================] - 0s 32ms/step - loss: 1456.5850 - root_mean_squared_error: 38.1652 - val_loss: 9815.2627 - val_root_mean_squared_error: 99.0720 - lr: 9.3239e-06\n",
      "Epoch 159/1000\n",
      "4/4 [==============================] - 0s 27ms/step - loss: 1368.4075 - root_mean_squared_error: 36.9920 - val_loss: 9229.6699 - val_root_mean_squared_error: 96.0712 - lr: 9.2312e-06\n",
      "Epoch 160/1000\n",
      "4/4 [==============================] - 0s 27ms/step - loss: 1309.7131 - root_mean_squared_error: 36.1900 - val_loss: 8910.8018 - val_root_mean_squared_error: 94.3970 - lr: 9.1393e-06\n",
      "Epoch 161/1000\n",
      "4/4 [==============================] - 0s 26ms/step - loss: 1267.1975 - root_mean_squared_error: 35.5977 - val_loss: 8727.2275 - val_root_mean_squared_error: 93.4196 - lr: 9.0484e-06\n"
     ]
    },
    {
     "name": "stdout",
     "output_type": "stream",
     "text": [
      "Epoch 162/1000\n",
      "4/4 [==============================] - 0s 25ms/step - loss: 1239.8408 - root_mean_squared_error: 35.2114 - val_loss: 8610.7432 - val_root_mean_squared_error: 92.7941 - lr: 8.9583e-06\n",
      "Epoch 163/1000\n",
      "4/4 [==============================] - 0s 26ms/step - loss: 1216.7833 - root_mean_squared_error: 34.8824 - val_loss: 8529.8154 - val_root_mean_squared_error: 92.3570 - lr: 8.8692e-06\n",
      "Epoch 164/1000\n",
      "4/4 [==============================] - 0s 26ms/step - loss: 1198.7301 - root_mean_squared_error: 34.6227 - val_loss: 8456.6777 - val_root_mean_squared_error: 91.9602 - lr: 8.7810e-06\n",
      "Epoch 165/1000\n",
      "4/4 [==============================] - 0s 28ms/step - loss: 1178.6327 - root_mean_squared_error: 34.3312 - val_loss: 8398.9395 - val_root_mean_squared_error: 91.6457 - lr: 8.6936e-06\n",
      "Epoch 166/1000\n",
      "4/4 [==============================] - 0s 29ms/step - loss: 1161.4114 - root_mean_squared_error: 34.0795 - val_loss: 8262.9590 - val_root_mean_squared_error: 90.9008 - lr: 8.6071e-06\n",
      "Epoch 167/1000\n",
      "4/4 [==============================] - 0s 28ms/step - loss: 1142.0029 - root_mean_squared_error: 33.7935 - val_loss: 8062.7148 - val_root_mean_squared_error: 89.7926 - lr: 8.5214e-06\n",
      "Epoch 168/1000\n",
      "4/4 [==============================] - 0s 28ms/step - loss: 1124.3760 - root_mean_squared_error: 33.5317 - val_loss: 7929.0444 - val_root_mean_squared_error: 89.0452 - lr: 8.4366e-06\n",
      "Epoch 169/1000\n",
      "4/4 [==============================] - 0s 27ms/step - loss: 1110.1034 - root_mean_squared_error: 33.3182 - val_loss: 7863.5952 - val_root_mean_squared_error: 88.6769 - lr: 8.3527e-06\n",
      "Epoch 170/1000\n",
      "4/4 [==============================] - 0s 26ms/step - loss: 1099.2166 - root_mean_squared_error: 33.1544 - val_loss: 7807.5210 - val_root_mean_squared_error: 88.3602 - lr: 8.2696e-06\n",
      "Epoch 171/1000\n",
      "4/4 [==============================] - 0s 23ms/step - loss: 1087.5096 - root_mean_squared_error: 32.9774 - val_loss: 7772.2114 - val_root_mean_squared_error: 88.1601 - lr: 8.1873e-06\n",
      "Epoch 172/1000\n",
      "4/4 [==============================] - 0s 23ms/step - loss: 1078.0968 - root_mean_squared_error: 32.8344 - val_loss: 7722.5713 - val_root_mean_squared_error: 87.8782 - lr: 8.1058e-06\n",
      "Epoch 173/1000\n",
      "4/4 [==============================] - 0s 23ms/step - loss: 1067.8499 - root_mean_squared_error: 32.6780 - val_loss: 7675.8584 - val_root_mean_squared_error: 87.6120 - lr: 8.0252e-06\n",
      "Epoch 174/1000\n",
      "4/4 [==============================] - 0s 23ms/step - loss: 1057.9663 - root_mean_squared_error: 32.5264 - val_loss: 7639.9614 - val_root_mean_squared_error: 87.4069 - lr: 7.9453e-06\n",
      "Epoch 175/1000\n",
      "4/4 [==============================] - 0s 23ms/step - loss: 1048.8171 - root_mean_squared_error: 32.3854 - val_loss: 7604.9233 - val_root_mean_squared_error: 87.2062 - lr: 7.8663e-06\n",
      "Epoch 176/1000\n",
      "4/4 [==============================] - 0s 29ms/step - loss: 1037.8308 - root_mean_squared_error: 32.2154 - val_loss: 7542.9072 - val_root_mean_squared_error: 86.8499 - lr: 7.7880e-06\n",
      "Epoch 177/1000\n",
      "4/4 [==============================] - 0s 29ms/step - loss: 1024.0691 - root_mean_squared_error: 32.0011 - val_loss: 7486.5112 - val_root_mean_squared_error: 86.5246 - lr: 7.7105e-06\n",
      "Epoch 178/1000\n",
      "4/4 [==============================] - 0s 28ms/step - loss: 1000.9996 - root_mean_squared_error: 31.6386 - val_loss: 7426.7319 - val_root_mean_squared_error: 86.1785 - lr: 7.6338e-06\n",
      "Epoch 179/1000\n",
      "4/4 [==============================] - 0s 30ms/step - loss: 975.2244 - root_mean_squared_error: 31.2286 - val_loss: 7481.1816 - val_root_mean_squared_error: 86.4938 - lr: 7.5578e-06\n",
      "Epoch 180/1000\n",
      "4/4 [==============================] - 0s 28ms/step - loss: 965.8135 - root_mean_squared_error: 31.0775 - val_loss: 7492.1680 - val_root_mean_squared_error: 86.5573 - lr: 7.4826e-06\n",
      "Epoch 181/1000\n",
      "4/4 [==============================] - 0s 24ms/step - loss: 956.6978 - root_mean_squared_error: 30.9305 - val_loss: 7389.0410 - val_root_mean_squared_error: 85.9595 - lr: 7.4082e-06\n",
      "Epoch 182/1000\n",
      "4/4 [==============================] - 0s 26ms/step - loss: 946.7011 - root_mean_squared_error: 30.7685 - val_loss: 7258.5781 - val_root_mean_squared_error: 85.1973 - lr: 7.3345e-06\n",
      "Epoch 183/1000\n",
      "4/4 [==============================] - 0s 27ms/step - loss: 940.6810 - root_mean_squared_error: 30.6705 - val_loss: 7156.2627 - val_root_mean_squared_error: 84.5947 - lr: 7.2615e-06\n",
      "Epoch 184/1000\n",
      "4/4 [==============================] - 0s 23ms/step - loss: 932.6276 - root_mean_squared_error: 30.5389 - val_loss: 7127.0454 - val_root_mean_squared_error: 84.4218 - lr: 7.1892e-06\n",
      "Epoch 185/1000\n",
      "4/4 [==============================] - 0s 23ms/step - loss: 924.2730 - root_mean_squared_error: 30.4019 - val_loss: 7115.7759 - val_root_mean_squared_error: 84.3551 - lr: 7.1177e-06\n",
      "Epoch 186/1000\n",
      "4/4 [==============================] - 0s 23ms/step - loss: 917.1011 - root_mean_squared_error: 30.2837 - val_loss: 7145.6436 - val_root_mean_squared_error: 84.5319 - lr: 7.0469e-06\n",
      "Epoch 187/1000\n",
      "4/4 [==============================] - 0s 25ms/step - loss: 912.0259 - root_mean_squared_error: 30.1998 - val_loss: 7159.4727 - val_root_mean_squared_error: 84.6137 - lr: 6.9768e-06\n",
      "Epoch 188/1000\n",
      "4/4 [==============================] - 0s 26ms/step - loss: 906.2800 - root_mean_squared_error: 30.1045 - val_loss: 7121.1011 - val_root_mean_squared_error: 84.3866 - lr: 6.9073e-06\n",
      "Epoch 189/1000\n",
      "4/4 [==============================] - 0s 29ms/step - loss: 899.8978 - root_mean_squared_error: 29.9983 - val_loss: 7083.6963 - val_root_mean_squared_error: 84.1647 - lr: 6.8386e-06\n",
      "Epoch 190/1000\n",
      "4/4 [==============================] - 0s 26ms/step - loss: 890.2270 - root_mean_squared_error: 29.8367 - val_loss: 7007.4873 - val_root_mean_squared_error: 83.7107 - lr: 6.7706e-06\n",
      "Epoch 191/1000\n",
      "4/4 [==============================] - 0s 28ms/step - loss: 887.9436 - root_mean_squared_error: 29.7984 - val_loss: 6924.9883 - val_root_mean_squared_error: 83.2165 - lr: 6.7032e-06\n",
      "Epoch 192/1000\n",
      "4/4 [==============================] - 0s 29ms/step - loss: 878.9158 - root_mean_squared_error: 29.6465 - val_loss: 6909.0879 - val_root_mean_squared_error: 83.1209 - lr: 6.6365e-06\n",
      "Epoch 193/1000\n",
      "4/4 [==============================] - 0s 33ms/step - loss: 871.9703 - root_mean_squared_error: 29.5291 - val_loss: 6900.5679 - val_root_mean_squared_error: 83.0697 - lr: 6.5705e-06\n",
      "Epoch 194/1000\n",
      "4/4 [==============================] - 0s 31ms/step - loss: 869.4384 - root_mean_squared_error: 29.4862 - val_loss: 6911.7769 - val_root_mean_squared_error: 83.1371 - lr: 6.5051e-06\n",
      "Epoch 195/1000\n",
      "4/4 [==============================] - 0s 35ms/step - loss: 865.1240 - root_mean_squared_error: 29.4130 - val_loss: 6859.9697 - val_root_mean_squared_error: 82.8249 - lr: 6.4404e-06\n",
      "Epoch 196/1000\n",
      "4/4 [==============================] - 0s 45ms/step - loss: 861.2661 - root_mean_squared_error: 29.3473 - val_loss: 6748.9604 - val_root_mean_squared_error: 82.1521 - lr: 6.3763e-06\n",
      "Epoch 197/1000\n",
      "4/4 [==============================] - 0s 34ms/step - loss: 854.8201 - root_mean_squared_error: 29.2373 - val_loss: 6689.2188 - val_root_mean_squared_error: 81.7876 - lr: 6.3128e-06\n",
      "Epoch 198/1000\n",
      "4/4 [==============================] - 0s 33ms/step - loss: 851.0395 - root_mean_squared_error: 29.1726 - val_loss: 6668.4805 - val_root_mean_squared_error: 81.6608 - lr: 6.2500e-06\n",
      "Epoch 199/1000\n",
      "4/4 [==============================] - 0s 33ms/step - loss: 846.9343 - root_mean_squared_error: 29.1021 - val_loss: 6665.9502 - val_root_mean_squared_error: 81.6453 - lr: 6.1878e-06\n",
      "Epoch 200/1000\n",
      "4/4 [==============================] - 0s 33ms/step - loss: 844.2105 - root_mean_squared_error: 29.0553 - val_loss: 6655.2979 - val_root_mean_squared_error: 81.5800 - lr: 6.1263e-06\n",
      "Epoch 201/1000\n",
      "4/4 [==============================] - 0s 29ms/step - loss: 840.2294 - root_mean_squared_error: 28.9867 - val_loss: 6643.2231 - val_root_mean_squared_error: 81.5060 - lr: 6.0653e-06\n",
      "Epoch 202/1000\n",
      "4/4 [==============================] - 0s 36ms/step - loss: 838.2174 - root_mean_squared_error: 28.9520 - val_loss: 6632.4717 - val_root_mean_squared_error: 81.4400 - lr: 6.0050e-06\n",
      "Epoch 203/1000\n"
     ]
    },
    {
     "name": "stdout",
     "output_type": "stream",
     "text": [
      "4/4 [==============================] - 0s 29ms/step - loss: 835.6554 - root_mean_squared_error: 28.9077 - val_loss: 6623.3398 - val_root_mean_squared_error: 81.3839 - lr: 5.9452e-06\n",
      "Epoch 204/1000\n",
      "4/4 [==============================] - 0s 33ms/step - loss: 832.0980 - root_mean_squared_error: 28.8461 - val_loss: 6600.8960 - val_root_mean_squared_error: 81.2459 - lr: 5.8860e-06\n",
      "Epoch 205/1000\n",
      "4/4 [==============================] - 0s 35ms/step - loss: 829.3138 - root_mean_squared_error: 28.7978 - val_loss: 6579.6133 - val_root_mean_squared_error: 81.1148 - lr: 5.8275e-06\n",
      "Epoch 206/1000\n",
      "4/4 [==============================] - 0s 36ms/step - loss: 826.1898 - root_mean_squared_error: 28.7435 - val_loss: 6547.2939 - val_root_mean_squared_error: 80.9153 - lr: 5.7695e-06\n",
      "Epoch 207/1000\n",
      "4/4 [==============================] - 0s 29ms/step - loss: 824.0948 - root_mean_squared_error: 28.7071 - val_loss: 6512.1709 - val_root_mean_squared_error: 80.6980 - lr: 5.7121e-06\n",
      "Epoch 208/1000\n",
      "4/4 [==============================] - 0s 35ms/step - loss: 823.0027 - root_mean_squared_error: 28.6880 - val_loss: 6430.2329 - val_root_mean_squared_error: 80.1887 - lr: 5.6553e-06\n",
      "Epoch 209/1000\n",
      "4/4 [==============================] - 0s 36ms/step - loss: 819.8706 - root_mean_squared_error: 28.6334 - val_loss: 6383.2212 - val_root_mean_squared_error: 79.8951 - lr: 5.5990e-06\n",
      "Epoch 210/1000\n",
      "4/4 [==============================] - 0s 32ms/step - loss: 818.4780 - root_mean_squared_error: 28.6091 - val_loss: 6329.1196 - val_root_mean_squared_error: 79.5558 - lr: 5.5433e-06\n",
      "Epoch 211/1000\n",
      "4/4 [==============================] - 0s 36ms/step - loss: 815.0002 - root_mean_squared_error: 28.5482 - val_loss: 6309.3037 - val_root_mean_squared_error: 79.4311 - lr: 5.4881e-06\n",
      "Epoch 212/1000\n",
      "4/4 [==============================] - 0s 30ms/step - loss: 812.2326 - root_mean_squared_error: 28.4997 - val_loss: 6272.5869 - val_root_mean_squared_error: 79.1997 - lr: 5.4335e-06\n",
      "Epoch 213/1000\n",
      "4/4 [==============================] - 0s 34ms/step - loss: 811.3580 - root_mean_squared_error: 28.4843 - val_loss: 6246.8921 - val_root_mean_squared_error: 79.0373 - lr: 5.3794e-06\n",
      "Epoch 214/1000\n",
      "4/4 [==============================] - 0s 31ms/step - loss: 808.9187 - root_mean_squared_error: 28.4415 - val_loss: 6210.6626 - val_root_mean_squared_error: 78.8078 - lr: 5.3259e-06\n",
      "Epoch 215/1000\n",
      "4/4 [==============================] - 0s 32ms/step - loss: 807.2260 - root_mean_squared_error: 28.4117 - val_loss: 6172.4312 - val_root_mean_squared_error: 78.5648 - lr: 5.2729e-06\n",
      "Epoch 216/1000\n",
      "4/4 [==============================] - 0s 28ms/step - loss: 804.5099 - root_mean_squared_error: 28.3639 - val_loss: 6130.4897 - val_root_mean_squared_error: 78.2974 - lr: 5.2205e-06\n",
      "Epoch 217/1000\n",
      "4/4 [==============================] - 0s 25ms/step - loss: 805.1770 - root_mean_squared_error: 28.3756 - val_loss: 6087.4478 - val_root_mean_squared_error: 78.0221 - lr: 5.1685e-06\n",
      "Epoch 218/1000\n",
      "4/4 [==============================] - 0s 26ms/step - loss: 803.6271 - root_mean_squared_error: 28.3483 - val_loss: 6074.9150 - val_root_mean_squared_error: 77.9417 - lr: 5.1171e-06\n",
      "Epoch 219/1000\n",
      "4/4 [==============================] - 0s 27ms/step - loss: 800.7181 - root_mean_squared_error: 28.2970 - val_loss: 6062.8984 - val_root_mean_squared_error: 77.8646 - lr: 5.0662e-06\n",
      "Epoch 220/1000\n",
      "4/4 [==============================] - 0s 28ms/step - loss: 798.0595 - root_mean_squared_error: 28.2499 - val_loss: 6052.9897 - val_root_mean_squared_error: 77.8010 - lr: 5.0158e-06\n",
      "Epoch 221/1000\n",
      "4/4 [==============================] - 0s 28ms/step - loss: 796.3720 - root_mean_squared_error: 28.2201 - val_loss: 6028.6260 - val_root_mean_squared_error: 77.6442 - lr: 4.9659e-06\n",
      "Epoch 222/1000\n",
      "4/4 [==============================] - 0s 29ms/step - loss: 796.9144 - root_mean_squared_error: 28.2297 - val_loss: 6013.7490 - val_root_mean_squared_error: 77.5484 - lr: 4.9164e-06\n",
      "Epoch 223/1000\n",
      "4/4 [==============================] - 0s 29ms/step - loss: 793.4265 - root_mean_squared_error: 28.1678 - val_loss: 6007.7554 - val_root_mean_squared_error: 77.5097 - lr: 4.8675e-06\n",
      "Epoch 224/1000\n",
      "4/4 [==============================] - 0s 26ms/step - loss: 792.9473 - root_mean_squared_error: 28.1593 - val_loss: 6013.5664 - val_root_mean_squared_error: 77.5472 - lr: 4.8191e-06\n",
      "Epoch 225/1000\n",
      "4/4 [==============================] - 0s 23ms/step - loss: 790.0778 - root_mean_squared_error: 28.1083 - val_loss: 5997.7617 - val_root_mean_squared_error: 77.4452 - lr: 4.7711e-06\n",
      "Epoch 226/1000\n",
      "4/4 [==============================] - 0s 23ms/step - loss: 788.3484 - root_mean_squared_error: 28.0775 - val_loss: 5990.6958 - val_root_mean_squared_error: 77.3996 - lr: 4.7237e-06\n",
      "Epoch 227/1000\n",
      "4/4 [==============================] - 0s 23ms/step - loss: 786.7451 - root_mean_squared_error: 28.0490 - val_loss: 5976.8584 - val_root_mean_squared_error: 77.3101 - lr: 4.6767e-06\n",
      "Epoch 228/1000\n",
      "4/4 [==============================] - 0s 21ms/step - loss: 785.1234 - root_mean_squared_error: 28.0201 - val_loss: 5967.5259 - val_root_mean_squared_error: 77.2498 - lr: 4.6301e-06\n",
      "Epoch 229/1000\n",
      "4/4 [==============================] - 0s 23ms/step - loss: 783.4323 - root_mean_squared_error: 27.9899 - val_loss: 5954.8203 - val_root_mean_squared_error: 77.1675 - lr: 4.5841e-06\n",
      "Epoch 230/1000\n",
      "4/4 [==============================] - 0s 29ms/step - loss: 781.6744 - root_mean_squared_error: 27.9584 - val_loss: 5945.8901 - val_root_mean_squared_error: 77.1096 - lr: 4.5384e-06\n",
      "Epoch 231/1000\n",
      "4/4 [==============================] - 0s 27ms/step - loss: 782.2595 - root_mean_squared_error: 27.9689 - val_loss: 5944.5977 - val_root_mean_squared_error: 77.1012 - lr: 4.4933e-06\n",
      "Epoch 232/1000\n",
      "4/4 [==============================] - 0s 28ms/step - loss: 778.7288 - root_mean_squared_error: 27.9057 - val_loss: 5939.2554 - val_root_mean_squared_error: 77.0666 - lr: 4.4486e-06\n",
      "Epoch 233/1000\n",
      "4/4 [==============================] - 0s 28ms/step - loss: 776.5413 - root_mean_squared_error: 27.8665 - val_loss: 5930.3633 - val_root_mean_squared_error: 77.0089 - lr: 4.4043e-06\n",
      "Epoch 234/1000\n",
      "4/4 [==============================] - 0s 26ms/step - loss: 775.3551 - root_mean_squared_error: 27.8452 - val_loss: 5923.0396 - val_root_mean_squared_error: 76.9613 - lr: 4.3605e-06\n",
      "Epoch 235/1000\n",
      "4/4 [==============================] - 0s 25ms/step - loss: 773.6149 - root_mean_squared_error: 27.8139 - val_loss: 5920.1812 - val_root_mean_squared_error: 76.9427 - lr: 4.3171e-06\n",
      "Epoch 236/1000\n",
      "4/4 [==============================] - 0s 26ms/step - loss: 771.7234 - root_mean_squared_error: 27.7799 - val_loss: 5913.7744 - val_root_mean_squared_error: 76.9011 - lr: 4.2741e-06\n",
      "Epoch 237/1000\n",
      "4/4 [==============================] - 0s 26ms/step - loss: 769.5919 - root_mean_squared_error: 27.7415 - val_loss: 5913.2407 - val_root_mean_squared_error: 76.8976 - lr: 4.2316e-06\n",
      "Epoch 238/1000\n",
      "4/4 [==============================] - 0s 23ms/step - loss: 767.9445 - root_mean_squared_error: 27.7118 - val_loss: 5912.9932 - val_root_mean_squared_error: 76.8960 - lr: 4.1895e-06\n",
      "Epoch 239/1000\n",
      "4/4 [==============================] - 0s 25ms/step - loss: 767.1465 - root_mean_squared_error: 27.6974 - val_loss: 5910.0479 - val_root_mean_squared_error: 76.8768 - lr: 4.1478e-06\n",
      "Epoch 240/1000\n",
      "4/4 [==============================] - 0s 24ms/step - loss: 765.5482 - root_mean_squared_error: 27.6685 - val_loss: 5913.7520 - val_root_mean_squared_error: 76.9009 - lr: 4.1066e-06\n",
      "Epoch 241/1000\n",
      "4/4 [==============================] - 0s 24ms/step - loss: 764.3310 - root_mean_squared_error: 27.6465 - val_loss: 5919.7915 - val_root_mean_squared_error: 76.9402 - lr: 4.0657e-06\n",
      "Epoch 242/1000\n",
      "4/4 [==============================] - 0s 26ms/step - loss: 762.9215 - root_mean_squared_error: 27.6210 - val_loss: 5919.1055 - val_root_mean_squared_error: 76.9357 - lr: 4.0252e-06\n",
      "Epoch 243/1000\n",
      "4/4 [==============================] - 0s 26ms/step - loss: 761.3549 - root_mean_squared_error: 27.5927 - val_loss: 5912.7075 - val_root_mean_squared_error: 76.8941 - lr: 3.9852e-06\n",
      "Epoch 244/1000\n",
      "4/4 [==============================] - 0s 26ms/step - loss: 760.3214 - root_mean_squared_error: 27.5739 - val_loss: 5905.7305 - val_root_mean_squared_error: 76.8488 - lr: 3.9455e-06\n"
     ]
    },
    {
     "name": "stdout",
     "output_type": "stream",
     "text": [
      "Epoch 245/1000\n",
      "4/4 [==============================] - 0s 26ms/step - loss: 758.8871 - root_mean_squared_error: 27.5479 - val_loss: 5901.5493 - val_root_mean_squared_error: 76.8215 - lr: 3.9063e-06\n",
      "Epoch 246/1000\n",
      "4/4 [==============================] - 0s 25ms/step - loss: 757.7422 - root_mean_squared_error: 27.5271 - val_loss: 5894.8135 - val_root_mean_squared_error: 76.7777 - lr: 3.8674e-06\n",
      "Epoch 247/1000\n",
      "4/4 [==============================] - 0s 24ms/step - loss: 756.7983 - root_mean_squared_error: 27.5100 - val_loss: 5892.5659 - val_root_mean_squared_error: 76.7630 - lr: 3.8289e-06\n",
      "Epoch 248/1000\n",
      "4/4 [==============================] - 0s 26ms/step - loss: 755.2268 - root_mean_squared_error: 27.4814 - val_loss: 5890.2632 - val_root_mean_squared_error: 76.7481 - lr: 3.7908e-06\n",
      "Epoch 249/1000\n",
      "4/4 [==============================] - 0s 27ms/step - loss: 755.0744 - root_mean_squared_error: 27.4786 - val_loss: 5883.6396 - val_root_mean_squared_error: 76.7049 - lr: 3.7531e-06\n",
      "Epoch 250/1000\n",
      "4/4 [==============================] - 0s 27ms/step - loss: 753.2349 - root_mean_squared_error: 27.4451 - val_loss: 5876.7461 - val_root_mean_squared_error: 76.6599 - lr: 3.7158e-06\n",
      "Epoch 251/1000\n",
      "4/4 [==============================] - 0s 23ms/step - loss: 752.1719 - root_mean_squared_error: 27.4258 - val_loss: 5867.6616 - val_root_mean_squared_error: 76.6007 - lr: 3.6788e-06\n",
      "Epoch 252/1000\n",
      "4/4 [==============================] - 0s 24ms/step - loss: 750.9120 - root_mean_squared_error: 27.4028 - val_loss: 5862.5757 - val_root_mean_squared_error: 76.5675 - lr: 3.6422e-06\n",
      "Epoch 253/1000\n",
      "4/4 [==============================] - 0s 23ms/step - loss: 750.1270 - root_mean_squared_error: 27.3884 - val_loss: 5855.6045 - val_root_mean_squared_error: 76.5219 - lr: 3.6059e-06\n",
      "Epoch 254/1000\n",
      "4/4 [==============================] - 0s 23ms/step - loss: 749.0841 - root_mean_squared_error: 27.3694 - val_loss: 5848.6255 - val_root_mean_squared_error: 76.4763 - lr: 3.5701e-06\n",
      "Epoch 255/1000\n",
      "4/4 [==============================] - 0s 22ms/step - loss: 748.3882 - root_mean_squared_error: 27.3567 - val_loss: 5846.3135 - val_root_mean_squared_error: 76.4612 - lr: 3.5345e-06\n",
      "Epoch 256/1000\n",
      "4/4 [==============================] - 0s 25ms/step - loss: 746.5592 - root_mean_squared_error: 27.3232 - val_loss: 5843.6104 - val_root_mean_squared_error: 76.4435 - lr: 3.4994e-06\n",
      "Epoch 257/1000\n",
      "4/4 [==============================] - 0s 25ms/step - loss: 745.4706 - root_mean_squared_error: 27.3033 - val_loss: 5841.7964 - val_root_mean_squared_error: 76.4316 - lr: 3.4646e-06\n",
      "Epoch 258/1000\n",
      "4/4 [==============================] - 0s 25ms/step - loss: 744.1780 - root_mean_squared_error: 27.2796 - val_loss: 5842.1216 - val_root_mean_squared_error: 76.4338 - lr: 3.4301e-06\n",
      "Epoch 259/1000\n",
      "4/4 [==============================] - 0s 24ms/step - loss: 743.0937 - root_mean_squared_error: 27.2597 - val_loss: 5843.2036 - val_root_mean_squared_error: 76.4408 - lr: 3.3960e-06\n",
      "Epoch 260/1000\n",
      "4/4 [==============================] - 0s 28ms/step - loss: 742.1714 - root_mean_squared_error: 27.2428 - val_loss: 5839.2124 - val_root_mean_squared_error: 76.4147 - lr: 3.3622e-06\n",
      "Epoch 261/1000\n",
      "4/4 [==============================] - 0s 28ms/step - loss: 741.0616 - root_mean_squared_error: 27.2224 - val_loss: 5842.3135 - val_root_mean_squared_error: 76.4350 - lr: 3.3287e-06\n",
      "Epoch 262/1000\n",
      "4/4 [==============================] - 0s 29ms/step - loss: 739.3770 - root_mean_squared_error: 27.1915 - val_loss: 5841.6079 - val_root_mean_squared_error: 76.4304 - lr: 3.2956e-06\n",
      "Epoch 263/1000\n",
      "4/4 [==============================] - 0s 28ms/step - loss: 738.9735 - root_mean_squared_error: 27.1841 - val_loss: 5851.2173 - val_root_mean_squared_error: 76.4932 - lr: 3.2628e-06\n",
      "Epoch 264/1000\n",
      "4/4 [==============================] - 0s 27ms/step - loss: 738.0989 - root_mean_squared_error: 27.1680 - val_loss: 5844.8760 - val_root_mean_squared_error: 76.4518 - lr: 3.2303e-06\n",
      "Epoch 265/1000\n",
      "4/4 [==============================] - 0s 23ms/step - loss: 735.8843 - root_mean_squared_error: 27.1272 - val_loss: 5847.4800 - val_root_mean_squared_error: 76.4688 - lr: 3.1982e-06\n",
      "Epoch 266/1000\n",
      "4/4 [==============================] - 0s 24ms/step - loss: 734.4105 - root_mean_squared_error: 27.1000 - val_loss: 5851.2407 - val_root_mean_squared_error: 76.4934 - lr: 3.1664e-06\n",
      "Epoch 267/1000\n",
      "4/4 [==============================] - 0s 22ms/step - loss: 733.5551 - root_mean_squared_error: 27.0842 - val_loss: 5855.6035 - val_root_mean_squared_error: 76.5219 - lr: 3.1349e-06\n",
      "Epoch 268/1000\n",
      "4/4 [==============================] - 0s 23ms/step - loss: 734.4115 - root_mean_squared_error: 27.1000 - val_loss: 5864.1870 - val_root_mean_squared_error: 76.5780 - lr: 3.1037e-06\n",
      "Epoch 269/1000\n",
      "4/4 [==============================] - 0s 22ms/step - loss: 731.4724 - root_mean_squared_error: 27.0457 - val_loss: 5864.3237 - val_root_mean_squared_error: 76.5789 - lr: 3.0728e-06\n",
      "Epoch 270/1000\n",
      "4/4 [==============================] - 0s 26ms/step - loss: 729.8521 - root_mean_squared_error: 27.0158 - val_loss: 5868.9585 - val_root_mean_squared_error: 76.6091 - lr: 3.0422e-06\n",
      "Epoch 271/1000\n",
      "4/4 [==============================] - 0s 25ms/step - loss: 729.3066 - root_mean_squared_error: 27.0057 - val_loss: 5876.2930 - val_root_mean_squared_error: 76.6570 - lr: 3.0119e-06\n",
      "Epoch 272/1000\n",
      "4/4 [==============================] - 0s 27ms/step - loss: 727.6373 - root_mean_squared_error: 26.9748 - val_loss: 5875.7759 - val_root_mean_squared_error: 76.6536 - lr: 2.9820e-06\n",
      "Epoch 273/1000\n",
      "4/4 [==============================] - 0s 27ms/step - loss: 726.3660 - root_mean_squared_error: 26.9512 - val_loss: 5877.5679 - val_root_mean_squared_error: 76.6653 - lr: 2.9523e-06\n",
      "Epoch 274/1000\n",
      "4/4 [==============================] - 0s 28ms/step - loss: 725.5906 - root_mean_squared_error: 26.9368 - val_loss: 5876.8530 - val_root_mean_squared_error: 76.6606 - lr: 2.9229e-06\n",
      "Epoch 275/1000\n",
      "4/4 [==============================] - 0s 26ms/step - loss: 724.7440 - root_mean_squared_error: 26.9211 - val_loss: 5878.0757 - val_root_mean_squared_error: 76.6686 - lr: 2.8938e-06\n",
      "Epoch 276/1000\n",
      "4/4 [==============================] - 0s 25ms/step - loss: 723.0930 - root_mean_squared_error: 26.8904 - val_loss: 5875.1572 - val_root_mean_squared_error: 76.6496 - lr: 2.8650e-06\n",
      "Epoch 277/1000\n",
      "4/4 [==============================] - 0s 29ms/step - loss: 722.1221 - root_mean_squared_error: 26.8723 - val_loss: 5878.3335 - val_root_mean_squared_error: 76.6703 - lr: 2.8365e-06\n",
      "Epoch 278/1000\n",
      "4/4 [==============================] - 0s 24ms/step - loss: 721.5265 - root_mean_squared_error: 26.8612 - val_loss: 5881.7354 - val_root_mean_squared_error: 76.6925 - lr: 2.8083e-06\n",
      "Epoch 279/1000\n",
      "4/4 [==============================] - 0s 22ms/step - loss: 719.8011 - root_mean_squared_error: 26.8291 - val_loss: 5883.6826 - val_root_mean_squared_error: 76.7052 - lr: 2.7804e-06\n",
      "Epoch 280/1000\n",
      "4/4 [==============================] - 0s 24ms/step - loss: 719.2056 - root_mean_squared_error: 26.8180 - val_loss: 5881.4517 - val_root_mean_squared_error: 76.6906 - lr: 2.7527e-06\n",
      "Epoch 281/1000\n",
      "4/4 [==============================] - 0s 27ms/step - loss: 718.4585 - root_mean_squared_error: 26.8041 - val_loss: 5884.4233 - val_root_mean_squared_error: 76.7100 - lr: 2.7253e-06\n",
      "Epoch 282/1000\n",
      "4/4 [==============================] - 0s 31ms/step - loss: 716.7415 - root_mean_squared_error: 26.7720 - val_loss: 5871.8555 - val_root_mean_squared_error: 76.6280 - lr: 2.6982e-06\n",
      "Epoch 283/1000\n",
      "4/4 [==============================] - 0s 33ms/step - loss: 715.7405 - root_mean_squared_error: 26.7533 - val_loss: 5866.5044 - val_root_mean_squared_error: 76.5931 - lr: 2.6714e-06\n",
      "Epoch 284/1000\n",
      "4/4 [==============================] - 0s 28ms/step - loss: 715.8412 - root_mean_squared_error: 26.7552 - val_loss: 5867.8599 - val_root_mean_squared_error: 76.6020 - lr: 2.6448e-06\n",
      "Epoch 285/1000\n",
      "4/4 [==============================] - 0s 26ms/step - loss: 714.9131 - root_mean_squared_error: 26.7379 - val_loss: 5865.9014 - val_root_mean_squared_error: 76.5892 - lr: 2.6185e-06\n",
      "Epoch 286/1000\n",
      "4/4 [==============================] - 0s 26ms/step - loss: 713.5520 - root_mean_squared_error: 26.7124 - val_loss: 5872.2554 - val_root_mean_squared_error: 76.6306 - lr: 2.5924e-06\n"
     ]
    },
    {
     "name": "stdout",
     "output_type": "stream",
     "text": [
      "Epoch 287/1000\n",
      "4/4 [==============================] - 0s 27ms/step - loss: 713.5659 - root_mean_squared_error: 26.7127 - val_loss: 5869.8013 - val_root_mean_squared_error: 76.6146 - lr: 2.5666e-06\n",
      "Epoch 288/1000\n",
      "4/4 [==============================] - 0s 25ms/step - loss: 711.3719 - root_mean_squared_error: 26.6716 - val_loss: 5865.2822 - val_root_mean_squared_error: 76.5851 - lr: 2.5411e-06\n",
      "Epoch 289/1000\n",
      "4/4 [==============================] - 0s 28ms/step - loss: 710.9621 - root_mean_squared_error: 26.6639 - val_loss: 5860.3589 - val_root_mean_squared_error: 76.5530 - lr: 2.5158e-06\n",
      "Epoch 290/1000\n",
      "4/4 [==============================] - 0s 30ms/step - loss: 710.0005 - root_mean_squared_error: 26.6458 - val_loss: 5858.6870 - val_root_mean_squared_error: 76.5421 - lr: 2.4908e-06\n",
      "Epoch 291/1000\n",
      "4/4 [==============================] - 0s 28ms/step - loss: 709.9523 - root_mean_squared_error: 26.6449 - val_loss: 5856.9424 - val_root_mean_squared_error: 76.5307 - lr: 2.4660e-06\n",
      "Epoch 292/1000\n",
      "4/4 [==============================] - 0s 25ms/step - loss: 708.5000 - root_mean_squared_error: 26.6177 - val_loss: 5860.0801 - val_root_mean_squared_error: 76.5512 - lr: 2.4414e-06\n",
      "Epoch 293/1000\n",
      "4/4 [==============================] - 0s 26ms/step - loss: 708.0413 - root_mean_squared_error: 26.6090 - val_loss: 5868.7891 - val_root_mean_squared_error: 76.6080 - lr: 2.4171e-06\n",
      "Epoch 294/1000\n",
      "4/4 [==============================] - 0s 26ms/step - loss: 706.6977 - root_mean_squared_error: 26.5838 - val_loss: 5860.8750 - val_root_mean_squared_error: 76.5564 - lr: 2.3931e-06\n",
      "Epoch 295/1000\n",
      "4/4 [==============================] - 0s 25ms/step - loss: 706.2675 - root_mean_squared_error: 26.5757 - val_loss: 5858.6914 - val_root_mean_squared_error: 76.5421 - lr: 2.3693e-06\n",
      "Epoch 296/1000\n",
      "4/4 [==============================] - 0s 26ms/step - loss: 705.5912 - root_mean_squared_error: 26.5630 - val_loss: 5854.2285 - val_root_mean_squared_error: 76.5129 - lr: 2.3457e-06\n",
      "Epoch 297/1000\n",
      "4/4 [==============================] - 0s 24ms/step - loss: 704.6150 - root_mean_squared_error: 26.5446 - val_loss: 5858.8911 - val_root_mean_squared_error: 76.5434 - lr: 2.3224e-06\n",
      "Epoch 298/1000\n",
      "4/4 [==============================] - 0s 30ms/step - loss: 704.4167 - root_mean_squared_error: 26.5408 - val_loss: 5855.1064 - val_root_mean_squared_error: 76.5187 - lr: 2.2993e-06\n",
      "Epoch 299/1000\n",
      "4/4 [==============================] - 0s 30ms/step - loss: 704.0427 - root_mean_squared_error: 26.5338 - val_loss: 5856.2339 - val_root_mean_squared_error: 76.5260 - lr: 2.2764e-06\n",
      "Epoch 300/1000\n",
      "4/4 [==============================] - 0s 27ms/step - loss: 702.3540 - root_mean_squared_error: 26.5020 - val_loss: 5843.4521 - val_root_mean_squared_error: 76.4425 - lr: 2.2537e-06\n",
      "Epoch 301/1000\n",
      "4/4 [==============================] - 0s 27ms/step - loss: 701.8404 - root_mean_squared_error: 26.4923 - val_loss: 5830.1416 - val_root_mean_squared_error: 76.3554 - lr: 2.2313e-06\n",
      "Epoch 302/1000\n",
      "4/4 [==============================] - 0s 28ms/step - loss: 701.2449 - root_mean_squared_error: 26.4810 - val_loss: 5825.8452 - val_root_mean_squared_error: 76.3272 - lr: 2.2091e-06\n",
      "Epoch 303/1000\n",
      "4/4 [==============================] - 0s 28ms/step - loss: 700.6763 - root_mean_squared_error: 26.4703 - val_loss: 5824.6338 - val_root_mean_squared_error: 76.3193 - lr: 2.1871e-06\n",
      "Epoch 304/1000\n",
      "4/4 [==============================] - 0s 30ms/step - loss: 699.9019 - root_mean_squared_error: 26.4557 - val_loss: 5829.5532 - val_root_mean_squared_error: 76.3515 - lr: 2.1654e-06\n",
      "Epoch 305/1000\n",
      "4/4 [==============================] - 0s 25ms/step - loss: 699.1636 - root_mean_squared_error: 26.4417 - val_loss: 5836.4512 - val_root_mean_squared_error: 76.3967 - lr: 2.1438e-06\n",
      "Epoch 306/1000\n",
      "4/4 [==============================] - 0s 23ms/step - loss: 698.4526 - root_mean_squared_error: 26.4283 - val_loss: 5838.9819 - val_root_mean_squared_error: 76.4132 - lr: 2.1225e-06\n",
      "Epoch 307/1000\n",
      "4/4 [==============================] - 0s 21ms/step - loss: 698.4743 - root_mean_squared_error: 26.4287 - val_loss: 5831.6777 - val_root_mean_squared_error: 76.3654 - lr: 2.1014e-06\n",
      "Epoch 308/1000\n",
      "4/4 [==============================] - 0s 23ms/step - loss: 697.5000 - root_mean_squared_error: 26.4102 - val_loss: 5830.6572 - val_root_mean_squared_error: 76.3587 - lr: 2.0805e-06\n",
      "Epoch 309/1000\n",
      "4/4 [==============================] - 0s 23ms/step - loss: 696.6779 - root_mean_squared_error: 26.3947 - val_loss: 5832.8462 - val_root_mean_squared_error: 76.3731 - lr: 2.0598e-06\n",
      "Epoch 310/1000\n",
      "4/4 [==============================] - 0s 25ms/step - loss: 696.1690 - root_mean_squared_error: 26.3850 - val_loss: 5830.1665 - val_root_mean_squared_error: 76.3555 - lr: 2.0393e-06\n",
      "Epoch 311/1000\n",
      "4/4 [==============================] - 0s 26ms/step - loss: 695.9837 - root_mean_squared_error: 26.3815 - val_loss: 5833.7388 - val_root_mean_squared_error: 76.3789 - lr: 2.0190e-06\n",
      "Epoch 312/1000\n",
      "4/4 [==============================] - 0s 32ms/step - loss: 695.0026 - root_mean_squared_error: 26.3629 - val_loss: 5820.7974 - val_root_mean_squared_error: 76.2941 - lr: 1.9989e-06\n",
      "Epoch 313/1000\n",
      "4/4 [==============================] - 0s 30ms/step - loss: 694.2833 - root_mean_squared_error: 26.3493 - val_loss: 5817.7744 - val_root_mean_squared_error: 76.2743 - lr: 1.9790e-06\n",
      "Epoch 314/1000\n",
      "4/4 [==============================] - 0s 26ms/step - loss: 693.4689 - root_mean_squared_error: 26.3338 - val_loss: 5813.5166 - val_root_mean_squared_error: 76.2464 - lr: 1.9593e-06\n",
      "Epoch 315/1000\n",
      "4/4 [==============================] - 0s 24ms/step - loss: 693.1740 - root_mean_squared_error: 26.3282 - val_loss: 5807.9365 - val_root_mean_squared_error: 76.2098 - lr: 1.9398e-06\n",
      "Epoch 316/1000\n",
      "4/4 [==============================] - 0s 33ms/step - loss: 693.2134 - root_mean_squared_error: 26.3289 - val_loss: 5798.2051 - val_root_mean_squared_error: 76.1459 - lr: 1.9205e-06\n",
      "Epoch 317/1000\n",
      "4/4 [==============================] - 0s 29ms/step - loss: 692.3028 - root_mean_squared_error: 26.3116 - val_loss: 5803.2930 - val_root_mean_squared_error: 76.1793 - lr: 1.9014e-06\n",
      "Epoch 318/1000\n",
      "4/4 [==============================] - 0s 28ms/step - loss: 691.6071 - root_mean_squared_error: 26.2984 - val_loss: 5807.4639 - val_root_mean_squared_error: 76.2067 - lr: 1.8825e-06\n",
      "Epoch 319/1000\n",
      "4/4 [==============================] - 0s 30ms/step - loss: 691.4126 - root_mean_squared_error: 26.2947 - val_loss: 5800.1353 - val_root_mean_squared_error: 76.1586 - lr: 1.8637e-06\n",
      "Epoch 320/1000\n",
      "4/4 [==============================] - 0s 33ms/step - loss: 690.7829 - root_mean_squared_error: 26.2827 - val_loss: 5796.7056 - val_root_mean_squared_error: 76.1361 - lr: 1.8452e-06\n",
      "Epoch 321/1000\n",
      "4/4 [==============================] - 0s 31ms/step - loss: 690.0797 - root_mean_squared_error: 26.2694 - val_loss: 5793.2002 - val_root_mean_squared_error: 76.1131 - lr: 1.8268e-06\n",
      "Epoch 322/1000\n",
      "4/4 [==============================] - 0s 28ms/step - loss: 689.8785 - root_mean_squared_error: 26.2655 - val_loss: 5796.4541 - val_root_mean_squared_error: 76.1344 - lr: 1.8087e-06\n",
      "Epoch 323/1000\n",
      "4/4 [==============================] - 0s 26ms/step - loss: 689.8165 - root_mean_squared_error: 26.2644 - val_loss: 5789.7935 - val_root_mean_squared_error: 76.0907 - lr: 1.7907e-06\n",
      "Epoch 324/1000\n",
      "4/4 [==============================] - 0s 24ms/step - loss: 688.7288 - root_mean_squared_error: 26.2436 - val_loss: 5791.7524 - val_root_mean_squared_error: 76.1036 - lr: 1.7728e-06\n",
      "Epoch 325/1000\n",
      "4/4 [==============================] - 0s 25ms/step - loss: 688.8671 - root_mean_squared_error: 26.2463 - val_loss: 5788.3506 - val_root_mean_squared_error: 76.0812 - lr: 1.7552e-06\n",
      "Epoch 326/1000\n",
      "4/4 [==============================] - 0s 27ms/step - loss: 687.9302 - root_mean_squared_error: 26.2284 - val_loss: 5790.4395 - val_root_mean_squared_error: 76.0949 - lr: 1.7377e-06\n",
      "Epoch 327/1000\n",
      "4/4 [==============================] - 0s 27ms/step - loss: 687.4741 - root_mean_squared_error: 26.2197 - val_loss: 5792.3286 - val_root_mean_squared_error: 76.1074 - lr: 1.7204e-06\n",
      "Epoch 328/1000\n",
      "4/4 [==============================] - 0s 28ms/step - loss: 687.1816 - root_mean_squared_error: 26.2142 - val_loss: 5787.0254 - val_root_mean_squared_error: 76.0725 - lr: 1.7033e-06\n"
     ]
    },
    {
     "name": "stdout",
     "output_type": "stream",
     "text": [
      "Epoch 329/1000\n",
      "4/4 [==============================] - 0s 28ms/step - loss: 687.3132 - root_mean_squared_error: 26.2167 - val_loss: 5794.0757 - val_root_mean_squared_error: 76.1188 - lr: 1.6864e-06\n",
      "Epoch 330/1000\n",
      "4/4 [==============================] - 0s 31ms/step - loss: 686.3065 - root_mean_squared_error: 26.1975 - val_loss: 5786.8525 - val_root_mean_squared_error: 76.0714 - lr: 1.6696e-06\n",
      "Epoch 331/1000\n",
      "4/4 [==============================] - 0s 31ms/step - loss: 685.9487 - root_mean_squared_error: 26.1906 - val_loss: 5782.0181 - val_root_mean_squared_error: 76.0396 - lr: 1.6530e-06\n",
      "Epoch 332/1000\n",
      "4/4 [==============================] - 0s 30ms/step - loss: 685.5127 - root_mean_squared_error: 26.1823 - val_loss: 5774.1963 - val_root_mean_squared_error: 75.9881 - lr: 1.6365e-06\n",
      "Epoch 333/1000\n",
      "4/4 [==============================] - 0s 31ms/step - loss: 685.2007 - root_mean_squared_error: 26.1763 - val_loss: 5771.2583 - val_root_mean_squared_error: 75.9688 - lr: 1.6203e-06\n",
      "Epoch 334/1000\n",
      "4/4 [==============================] - 0s 31ms/step - loss: 684.9590 - root_mean_squared_error: 26.1717 - val_loss: 5770.9507 - val_root_mean_squared_error: 75.9668 - lr: 1.6041e-06\n",
      "Epoch 335/1000\n",
      "4/4 [==============================] - 0s 30ms/step - loss: 684.5861 - root_mean_squared_error: 26.1646 - val_loss: 5761.5508 - val_root_mean_squared_error: 75.9049 - lr: 1.5882e-06\n",
      "Epoch 336/1000\n",
      "4/4 [==============================] - 0s 29ms/step - loss: 683.9329 - root_mean_squared_error: 26.1521 - val_loss: 5756.1860 - val_root_mean_squared_error: 75.8695 - lr: 1.5724e-06\n",
      "Epoch 337/1000\n",
      "4/4 [==============================] - 0s 27ms/step - loss: 683.6047 - root_mean_squared_error: 26.1458 - val_loss: 5754.1895 - val_root_mean_squared_error: 75.8564 - lr: 1.5567e-06\n",
      "Epoch 338/1000\n",
      "4/4 [==============================] - 0s 27ms/step - loss: 683.3596 - root_mean_squared_error: 26.1411 - val_loss: 5756.0566 - val_root_mean_squared_error: 75.8687 - lr: 1.5412e-06\n",
      "Epoch 339/1000\n",
      "4/4 [==============================] - 0s 34ms/step - loss: 683.1544 - root_mean_squared_error: 26.1372 - val_loss: 5750.9331 - val_root_mean_squared_error: 75.8349 - lr: 1.5259e-06\n",
      "Epoch 340/1000\n",
      "4/4 [==============================] - 0s 33ms/step - loss: 683.0789 - root_mean_squared_error: 26.1358 - val_loss: 5751.2749 - val_root_mean_squared_error: 75.8372 - lr: 1.5107e-06\n",
      "Epoch 341/1000\n",
      "4/4 [==============================] - 0s 33ms/step - loss: 682.2614 - root_mean_squared_error: 26.1201 - val_loss: 5750.5913 - val_root_mean_squared_error: 75.8327 - lr: 1.4957e-06\n",
      "Epoch 342/1000\n",
      "4/4 [==============================] - 0s 30ms/step - loss: 682.1450 - root_mean_squared_error: 26.1179 - val_loss: 5753.2339 - val_root_mean_squared_error: 75.8501 - lr: 1.4808e-06\n",
      "Epoch 343/1000\n",
      "4/4 [==============================] - 0s 29ms/step - loss: 681.9532 - root_mean_squared_error: 26.1142 - val_loss: 5744.2031 - val_root_mean_squared_error: 75.7905 - lr: 1.4661e-06\n",
      "Epoch 344/1000\n",
      "4/4 [==============================] - 0s 27ms/step - loss: 681.0085 - root_mean_squared_error: 26.0961 - val_loss: 5743.2944 - val_root_mean_squared_error: 75.7845 - lr: 1.4515e-06\n",
      "Epoch 345/1000\n",
      "4/4 [==============================] - 0s 30ms/step - loss: 681.4090 - root_mean_squared_error: 26.1038 - val_loss: 5736.8618 - val_root_mean_squared_error: 75.7421 - lr: 1.4370e-06\n",
      "Epoch 346/1000\n",
      "4/4 [==============================] - 0s 31ms/step - loss: 680.4413 - root_mean_squared_error: 26.0853 - val_loss: 5734.3740 - val_root_mean_squared_error: 75.7257 - lr: 1.4227e-06\n",
      "Epoch 347/1000\n",
      "4/4 [==============================] - 0s 31ms/step - loss: 680.2358 - root_mean_squared_error: 26.0813 - val_loss: 5737.9897 - val_root_mean_squared_error: 75.7495 - lr: 1.4086e-06\n",
      "Epoch 348/1000\n",
      "4/4 [==============================] - 0s 32ms/step - loss: 679.7137 - root_mean_squared_error: 26.0713 - val_loss: 5738.8081 - val_root_mean_squared_error: 75.7549 - lr: 1.3946e-06\n",
      "Epoch 349/1000\n",
      "4/4 [==============================] - 0s 33ms/step - loss: 680.5230 - root_mean_squared_error: 26.0868 - val_loss: 5733.7681 - val_root_mean_squared_error: 75.7216 - lr: 1.3807e-06\n",
      "Epoch 350/1000\n",
      "4/4 [==============================] - 0s 30ms/step - loss: 679.4448 - root_mean_squared_error: 26.0662 - val_loss: 5730.6768 - val_root_mean_squared_error: 75.7012 - lr: 1.3670e-06\n",
      "Epoch 351/1000\n",
      "4/4 [==============================] - 0s 26ms/step - loss: 679.0284 - root_mean_squared_error: 26.0582 - val_loss: 5735.8691 - val_root_mean_squared_error: 75.7355 - lr: 1.3534e-06\n",
      "Epoch 352/1000\n",
      "4/4 [==============================] - 0s 25ms/step - loss: 678.4390 - root_mean_squared_error: 26.0469 - val_loss: 5733.9365 - val_root_mean_squared_error: 75.7228 - lr: 1.3399e-06\n",
      "Epoch 353/1000\n",
      "4/4 [==============================] - 0s 26ms/step - loss: 678.1755 - root_mean_squared_error: 26.0418 - val_loss: 5734.3071 - val_root_mean_squared_error: 75.7252 - lr: 1.3266e-06\n",
      "Epoch 354/1000\n",
      "4/4 [==============================] - 0s 26ms/step - loss: 677.8158 - root_mean_squared_error: 26.0349 - val_loss: 5729.5864 - val_root_mean_squared_error: 75.6940 - lr: 1.3134e-06\n",
      "Epoch 355/1000\n",
      "4/4 [==============================] - 0s 31ms/step - loss: 677.5101 - root_mean_squared_error: 26.0290 - val_loss: 5727.6914 - val_root_mean_squared_error: 75.6815 - lr: 1.3003e-06\n",
      "Epoch 356/1000\n",
      "4/4 [==============================] - 0s 31ms/step - loss: 677.4603 - root_mean_squared_error: 26.0281 - val_loss: 5720.3721 - val_root_mean_squared_error: 75.6331 - lr: 1.2873e-06\n",
      "Epoch 357/1000\n",
      "4/4 [==============================] - 0s 29ms/step - loss: 676.8700 - root_mean_squared_error: 26.0167 - val_loss: 5717.3994 - val_root_mean_squared_error: 75.6135 - lr: 1.2745e-06\n",
      "Epoch 358/1000\n",
      "4/4 [==============================] - 0s 31ms/step - loss: 676.8244 - root_mean_squared_error: 26.0158 - val_loss: 5714.2788 - val_root_mean_squared_error: 75.5928 - lr: 1.2619e-06\n",
      "Epoch 359/1000\n",
      "4/4 [==============================] - 0s 28ms/step - loss: 676.3389 - root_mean_squared_error: 26.0065 - val_loss: 5711.8608 - val_root_mean_squared_error: 75.5769 - lr: 1.2493e-06\n",
      "Epoch 360/1000\n",
      "4/4 [==============================] - 0s 28ms/step - loss: 676.2241 - root_mean_squared_error: 26.0043 - val_loss: 5715.5693 - val_root_mean_squared_error: 75.6014 - lr: 1.2369e-06\n",
      "Epoch 361/1000\n",
      "4/4 [==============================] - 0s 30ms/step - loss: 675.6020 - root_mean_squared_error: 25.9923 - val_loss: 5717.6523 - val_root_mean_squared_error: 75.6152 - lr: 1.2246e-06\n",
      "Epoch 362/1000\n",
      "4/4 [==============================] - 0s 29ms/step - loss: 675.1974 - root_mean_squared_error: 25.9846 - val_loss: 5713.7021 - val_root_mean_squared_error: 75.5890 - lr: 1.2124e-06\n",
      "Epoch 363/1000\n",
      "4/4 [==============================] - 0s 25ms/step - loss: 674.8115 - root_mean_squared_error: 25.9771 - val_loss: 5708.0518 - val_root_mean_squared_error: 75.5516 - lr: 1.2003e-06\n",
      "Epoch 364/1000\n",
      "4/4 [==============================] - 0s 25ms/step - loss: 674.5427 - root_mean_squared_error: 25.9720 - val_loss: 5705.3008 - val_root_mean_squared_error: 75.5334 - lr: 1.1884e-06\n",
      "Epoch 365/1000\n",
      "4/4 [==============================] - 0s 25ms/step - loss: 674.0451 - root_mean_squared_error: 25.9624 - val_loss: 5705.0332 - val_root_mean_squared_error: 75.5317 - lr: 1.1765e-06\n",
      "Epoch 366/1000\n",
      "4/4 [==============================] - 0s 26ms/step - loss: 673.8525 - root_mean_squared_error: 25.9587 - val_loss: 5703.3394 - val_root_mean_squared_error: 75.5205 - lr: 1.1648e-06\n",
      "Epoch 367/1000\n",
      "4/4 [==============================] - 0s 25ms/step - loss: 673.5429 - root_mean_squared_error: 25.9527 - val_loss: 5699.3530 - val_root_mean_squared_error: 75.4941 - lr: 1.1533e-06\n",
      "Epoch 368/1000\n",
      "4/4 [==============================] - 0s 27ms/step - loss: 673.1747 - root_mean_squared_error: 25.9456 - val_loss: 5698.7314 - val_root_mean_squared_error: 75.4899 - lr: 1.1418e-06\n",
      "Epoch 369/1000\n",
      "4/4 [==============================] - 0s 28ms/step - loss: 672.8589 - root_mean_squared_error: 25.9395 - val_loss: 5698.6636 - val_root_mean_squared_error: 75.4895 - lr: 1.1304e-06\n",
      "Epoch 370/1000\n",
      "4/4 [==============================] - 0s 28ms/step - loss: 672.6260 - root_mean_squared_error: 25.9350 - val_loss: 5696.9131 - val_root_mean_squared_error: 75.4779 - lr: 1.1192e-06\n"
     ]
    },
    {
     "name": "stdout",
     "output_type": "stream",
     "text": [
      "Epoch 371/1000\n",
      "4/4 [==============================] - 0s 32ms/step - loss: 672.3906 - root_mean_squared_error: 25.9305 - val_loss: 5692.4614 - val_root_mean_squared_error: 75.4484 - lr: 1.1080e-06\n",
      "Epoch 372/1000\n",
      "4/4 [==============================] - 0s 30ms/step - loss: 671.9895 - root_mean_squared_error: 25.9228 - val_loss: 5694.2749 - val_root_mean_squared_error: 75.4604 - lr: 1.0970e-06\n",
      "Epoch 373/1000\n",
      "4/4 [==============================] - 0s 29ms/step - loss: 671.7580 - root_mean_squared_error: 25.9183 - val_loss: 5694.9043 - val_root_mean_squared_error: 75.4646 - lr: 1.0861e-06\n",
      "Epoch 374/1000\n",
      "4/4 [==============================] - 0s 29ms/step - loss: 671.5336 - root_mean_squared_error: 25.9140 - val_loss: 5694.3779 - val_root_mean_squared_error: 75.4611 - lr: 1.0753e-06\n",
      "Epoch 375/1000\n",
      "4/4 [==============================] - 0s 30ms/step - loss: 671.1502 - root_mean_squared_error: 25.9066 - val_loss: 5692.7832 - val_root_mean_squared_error: 75.4505 - lr: 1.0646e-06\n",
      "Epoch 376/1000\n",
      "4/4 [==============================] - 0s 28ms/step - loss: 670.8602 - root_mean_squared_error: 25.9010 - val_loss: 5689.9995 - val_root_mean_squared_error: 75.4321 - lr: 1.0540e-06\n",
      "Epoch 377/1000\n",
      "4/4 [==============================] - 0s 30ms/step - loss: 670.7653 - root_mean_squared_error: 25.8991 - val_loss: 5686.5820 - val_root_mean_squared_error: 75.4094 - lr: 1.0435e-06\n",
      "Epoch 378/1000\n",
      "4/4 [==============================] - 0s 28ms/step - loss: 670.4240 - root_mean_squared_error: 25.8925 - val_loss: 5684.3999 - val_root_mean_squared_error: 75.3950 - lr: 1.0331e-06\n",
      "Epoch 379/1000\n",
      "4/4 [==============================] - 0s 24ms/step - loss: 670.1670 - root_mean_squared_error: 25.8876 - val_loss: 5685.8828 - val_root_mean_squared_error: 75.4048 - lr: 1.0228e-06\n",
      "Epoch 380/1000\n",
      "4/4 [==============================] - 0s 26ms/step - loss: 670.0914 - root_mean_squared_error: 25.8861 - val_loss: 5685.8335 - val_root_mean_squared_error: 75.4045 - lr: 1.0127e-06\n",
      "Epoch 381/1000\n",
      "4/4 [==============================] - 0s 23ms/step - loss: 669.5399 - root_mean_squared_error: 25.8755 - val_loss: 5683.7056 - val_root_mean_squared_error: 75.3904 - lr: 1.0026e-06\n",
      "Epoch 382/1000\n",
      "4/4 [==============================] - 0s 25ms/step - loss: 669.3401 - root_mean_squared_error: 25.8716 - val_loss: 5683.1445 - val_root_mean_squared_error: 75.3866 - lr: 9.9261e-07\n",
      "Epoch 383/1000\n",
      "4/4 [==============================] - 0s 27ms/step - loss: 669.3066 - root_mean_squared_error: 25.8710 - val_loss: 5679.3008 - val_root_mean_squared_error: 75.3611 - lr: 9.8274e-07\n",
      "Epoch 384/1000\n",
      "4/4 [==============================] - 0s 30ms/step - loss: 668.8416 - root_mean_squared_error: 25.8620 - val_loss: 5678.9033 - val_root_mean_squared_error: 75.3585 - lr: 9.7296e-07\n",
      "Epoch 385/1000\n",
      "4/4 [==============================] - 0s 30ms/step - loss: 668.7056 - root_mean_squared_error: 25.8593 - val_loss: 5676.3701 - val_root_mean_squared_error: 75.3417 - lr: 9.6328e-07\n",
      "Epoch 386/1000\n",
      "4/4 [==============================] - 0s 27ms/step - loss: 668.4695 - root_mean_squared_error: 25.8548 - val_loss: 5674.4370 - val_root_mean_squared_error: 75.3289 - lr: 9.5369e-07\n",
      "Epoch 387/1000\n",
      "4/4 [==============================] - 0s 30ms/step - loss: 668.3336 - root_mean_squared_error: 25.8521 - val_loss: 5671.9087 - val_root_mean_squared_error: 75.3121 - lr: 9.4420e-07\n",
      "Epoch 388/1000\n",
      "4/4 [==============================] - 0s 29ms/step - loss: 668.0953 - root_mean_squared_error: 25.8475 - val_loss: 5674.2480 - val_root_mean_squared_error: 75.3276 - lr: 9.3481e-07\n",
      "Epoch 389/1000\n",
      "4/4 [==============================] - 0s 28ms/step - loss: 667.7495 - root_mean_squared_error: 25.8408 - val_loss: 5674.0020 - val_root_mean_squared_error: 75.3260 - lr: 9.2551e-07\n",
      "Epoch 390/1000\n",
      "4/4 [==============================] - 0s 30ms/step - loss: 667.9091 - root_mean_squared_error: 25.8439 - val_loss: 5674.2246 - val_root_mean_squared_error: 75.3275 - lr: 9.1630e-07\n",
      "Epoch 391/1000\n",
      "4/4 [==============================] - 0s 29ms/step - loss: 667.5022 - root_mean_squared_error: 25.8361 - val_loss: 5671.4634 - val_root_mean_squared_error: 75.3091 - lr: 9.0718e-07\n",
      "Epoch 392/1000\n",
      "4/4 [==============================] - 0s 26ms/step - loss: 667.6920 - root_mean_squared_error: 25.8397 - val_loss: 5669.8706 - val_root_mean_squared_error: 75.2985 - lr: 8.9815e-07\n",
      "Epoch 393/1000\n",
      "4/4 [==============================] - 0s 28ms/step - loss: 666.9775 - root_mean_squared_error: 25.8259 - val_loss: 5668.5952 - val_root_mean_squared_error: 75.2901 - lr: 8.8922e-07\n",
      "Epoch 394/1000\n",
      "4/4 [==============================] - 0s 28ms/step - loss: 666.7192 - root_mean_squared_error: 25.8209 - val_loss: 5667.2144 - val_root_mean_squared_error: 75.2809 - lr: 8.8037e-07\n",
      "Epoch 395/1000\n",
      "4/4 [==============================] - 0s 29ms/step - loss: 666.6160 - root_mean_squared_error: 25.8189 - val_loss: 5668.3228 - val_root_mean_squared_error: 75.2883 - lr: 8.7161e-07\n",
      "Epoch 396/1000\n",
      "4/4 [==============================] - 0s 30ms/step - loss: 666.4066 - root_mean_squared_error: 25.8149 - val_loss: 5668.1396 - val_root_mean_squared_error: 75.2870 - lr: 8.6294e-07\n",
      "Epoch 397/1000\n",
      "4/4 [==============================] - 0s 29ms/step - loss: 666.1287 - root_mean_squared_error: 25.8095 - val_loss: 5667.0713 - val_root_mean_squared_error: 75.2800 - lr: 8.5435e-07\n",
      "Epoch 398/1000\n",
      "4/4 [==============================] - 0s 29ms/step - loss: 666.0394 - root_mean_squared_error: 25.8077 - val_loss: 5666.3945 - val_root_mean_squared_error: 75.2755 - lr: 8.4585e-07\n",
      "Epoch 399/1000\n",
      "4/4 [==============================] - 0s 27ms/step - loss: 665.9222 - root_mean_squared_error: 25.8055 - val_loss: 5665.1475 - val_root_mean_squared_error: 75.2672 - lr: 8.3743e-07\n",
      "Epoch 400/1000\n",
      "4/4 [==============================] - 0s 30ms/step - loss: 665.7112 - root_mean_squared_error: 25.8014 - val_loss: 5661.9976 - val_root_mean_squared_error: 75.2462 - lr: 8.2910e-07\n",
      "Epoch 401/1000\n",
      "4/4 [==============================] - 0s 31ms/step - loss: 665.6864 - root_mean_squared_error: 25.8009 - val_loss: 5659.8408 - val_root_mean_squared_error: 75.2319 - lr: 8.2085e-07\n",
      "Epoch 402/1000\n",
      "4/4 [==============================] - 0s 31ms/step - loss: 665.3721 - root_mean_squared_error: 25.7948 - val_loss: 5660.8555 - val_root_mean_squared_error: 75.2387 - lr: 1.0000e-06\n",
      "Epoch 403/1000\n",
      "4/4 [==============================] - 0s 31ms/step - loss: 665.1732 - root_mean_squared_error: 25.7910 - val_loss: 5660.3521 - val_root_mean_squared_error: 75.2353 - lr: 1.0000e-06\n",
      "Epoch 404/1000\n",
      "4/4 [==============================] - 0s 28ms/step - loss: 665.0948 - root_mean_squared_error: 25.7894 - val_loss: 5660.4219 - val_root_mean_squared_error: 75.2358 - lr: 1.0000e-06\n",
      "Epoch 405/1000\n",
      "4/4 [==============================] - 0s 25ms/step - loss: 664.7395 - root_mean_squared_error: 25.7825 - val_loss: 5658.7866 - val_root_mean_squared_error: 75.2249 - lr: 1.0000e-06\n",
      "Epoch 406/1000\n",
      "4/4 [==============================] - 0s 24ms/step - loss: 664.4772 - root_mean_squared_error: 25.7775 - val_loss: 5658.4907 - val_root_mean_squared_error: 75.2229 - lr: 1.0000e-06\n",
      "Epoch 407/1000\n",
      "4/4 [==============================] - 0s 25ms/step - loss: 664.2823 - root_mean_squared_error: 25.7737 - val_loss: 5657.8618 - val_root_mean_squared_error: 75.2188 - lr: 1.0000e-06\n",
      "Epoch 408/1000\n",
      "4/4 [==============================] - 0s 25ms/step - loss: 664.2359 - root_mean_squared_error: 25.7728 - val_loss: 5656.2563 - val_root_mean_squared_error: 75.2081 - lr: 1.0000e-06\n",
      "Epoch 409/1000\n",
      "4/4 [==============================] - 0s 26ms/step - loss: 663.9589 - root_mean_squared_error: 25.7674 - val_loss: 5656.3379 - val_root_mean_squared_error: 75.2086 - lr: 1.0000e-06\n",
      "Epoch 410/1000\n",
      "4/4 [==============================] - 0s 26ms/step - loss: 663.7685 - root_mean_squared_error: 25.7637 - val_loss: 5657.1626 - val_root_mean_squared_error: 75.2141 - lr: 1.0000e-06\n",
      "Epoch 411/1000\n",
      "4/4 [==============================] - 0s 29ms/step - loss: 663.4556 - root_mean_squared_error: 25.7576 - val_loss: 5657.2334 - val_root_mean_squared_error: 75.2146 - lr: 1.0000e-06\n",
      "Epoch 412/1000\n",
      "4/4 [==============================] - 0s 31ms/step - loss: 663.8812 - root_mean_squared_error: 25.7659 - val_loss: 5654.5059 - val_root_mean_squared_error: 75.1964 - lr: 1.0000e-06\n"
     ]
    },
    {
     "name": "stdout",
     "output_type": "stream",
     "text": [
      "Epoch 413/1000\n",
      "4/4 [==============================] - 0s 30ms/step - loss: 663.0336 - root_mean_squared_error: 25.7494 - val_loss: 5655.1777 - val_root_mean_squared_error: 75.2009 - lr: 1.0000e-06\n",
      "Epoch 414/1000\n",
      "4/4 [==============================] - 0s 30ms/step - loss: 662.9923 - root_mean_squared_error: 25.7486 - val_loss: 5654.7349 - val_root_mean_squared_error: 75.1980 - lr: 1.0000e-06\n",
      "Epoch 415/1000\n",
      "4/4 [==============================] - 0s 32ms/step - loss: 662.7291 - root_mean_squared_error: 25.7435 - val_loss: 5654.0244 - val_root_mean_squared_error: 75.1932 - lr: 1.0000e-06\n",
      "Epoch 416/1000\n",
      "4/4 [==============================] - 0s 31ms/step - loss: 663.0211 - root_mean_squared_error: 25.7492 - val_loss: 5655.5762 - val_root_mean_squared_error: 75.2036 - lr: 1.0000e-06\n",
      "Epoch 417/1000\n",
      "4/4 [==============================] - 0s 30ms/step - loss: 662.6475 - root_mean_squared_error: 25.7419 - val_loss: 5652.5825 - val_root_mean_squared_error: 75.1837 - lr: 1.0000e-06\n",
      "Epoch 418/1000\n",
      "4/4 [==============================] - 0s 24ms/step - loss: 662.2303 - root_mean_squared_error: 25.7338 - val_loss: 5651.9688 - val_root_mean_squared_error: 75.1796 - lr: 1.0000e-06\n",
      "Epoch 419/1000\n",
      "4/4 [==============================] - 0s 24ms/step - loss: 662.0227 - root_mean_squared_error: 25.7298 - val_loss: 5651.6812 - val_root_mean_squared_error: 75.1777 - lr: 1.0000e-06\n",
      "Epoch 420/1000\n",
      "4/4 [==============================] - 0s 30ms/step - loss: 661.8427 - root_mean_squared_error: 25.7263 - val_loss: 5651.9053 - val_root_mean_squared_error: 75.1792 - lr: 1.0000e-06\n",
      "Epoch 421/1000\n",
      "4/4 [==============================] - 0s 31ms/step - loss: 661.5611 - root_mean_squared_error: 25.7208 - val_loss: 5651.4380 - val_root_mean_squared_error: 75.1760 - lr: 1.0000e-06\n",
      "Epoch 422/1000\n",
      "4/4 [==============================] - 0s 34ms/step - loss: 661.4008 - root_mean_squared_error: 25.7177 - val_loss: 5649.4868 - val_root_mean_squared_error: 75.1631 - lr: 1.0000e-06\n",
      "Epoch 423/1000\n",
      "4/4 [==============================] - 0s 36ms/step - loss: 661.5710 - root_mean_squared_error: 25.7210 - val_loss: 5650.9292 - val_root_mean_squared_error: 75.1727 - lr: 1.0000e-06\n",
      "Epoch 424/1000\n",
      "4/4 [==============================] - 0s 32ms/step - loss: 661.0623 - root_mean_squared_error: 25.7111 - val_loss: 5650.1694 - val_root_mean_squared_error: 75.1676 - lr: 1.0000e-06\n",
      "Epoch 425/1000\n",
      "4/4 [==============================] - 0s 33ms/step - loss: 661.1110 - root_mean_squared_error: 25.7121 - val_loss: 5649.4673 - val_root_mean_squared_error: 75.1629 - lr: 1.0000e-06\n",
      "Epoch 426/1000\n",
      "4/4 [==============================] - 0s 33ms/step - loss: 660.5943 - root_mean_squared_error: 25.7020 - val_loss: 5648.7129 - val_root_mean_squared_error: 75.1579 - lr: 1.0000e-06\n",
      "Epoch 427/1000\n",
      "4/4 [==============================] - 0s 33ms/step - loss: 660.4745 - root_mean_squared_error: 25.6997 - val_loss: 5647.4385 - val_root_mean_squared_error: 75.1494 - lr: 1.0000e-06\n",
      "Epoch 428/1000\n",
      "4/4 [==============================] - 0s 34ms/step - loss: 660.3424 - root_mean_squared_error: 25.6971 - val_loss: 5646.0928 - val_root_mean_squared_error: 75.1405 - lr: 1.0000e-06\n",
      "Epoch 429/1000\n",
      "4/4 [==============================] - 0s 34ms/step - loss: 660.3036 - root_mean_squared_error: 25.6964 - val_loss: 5646.7622 - val_root_mean_squared_error: 75.1449 - lr: 1.0000e-06\n",
      "Epoch 430/1000\n",
      "4/4 [==============================] - 0s 32ms/step - loss: 660.0989 - root_mean_squared_error: 25.6924 - val_loss: 5646.1025 - val_root_mean_squared_error: 75.1405 - lr: 1.0000e-06\n",
      "Epoch 431/1000\n",
      "4/4 [==============================] - 0s 31ms/step - loss: 659.8454 - root_mean_squared_error: 25.6875 - val_loss: 5646.7632 - val_root_mean_squared_error: 75.1449 - lr: 1.0000e-06\n",
      "Epoch 432/1000\n",
      "4/4 [==============================] - 0s 29ms/step - loss: 659.4993 - root_mean_squared_error: 25.6807 - val_loss: 5646.3281 - val_root_mean_squared_error: 75.1421 - lr: 1.0000e-06\n",
      "Epoch 433/1000\n",
      "4/4 [==============================] - 0s 32ms/step - loss: 659.5329 - root_mean_squared_error: 25.6814 - val_loss: 5647.4380 - val_root_mean_squared_error: 75.1494 - lr: 1.0000e-06\n",
      "Epoch 434/1000\n",
      "4/4 [==============================] - 0s 34ms/step - loss: 659.0676 - root_mean_squared_error: 25.6723 - val_loss: 5647.2148 - val_root_mean_squared_error: 75.1479 - lr: 1.0000e-06\n",
      "Epoch 435/1000\n",
      "4/4 [==============================] - 0s 32ms/step - loss: 659.1493 - root_mean_squared_error: 25.6739 - val_loss: 5646.2178 - val_root_mean_squared_error: 75.1413 - lr: 1.0000e-06\n",
      "Epoch 436/1000\n",
      "4/4 [==============================] - 0s 33ms/step - loss: 658.7514 - root_mean_squared_error: 25.6662 - val_loss: 5645.6890 - val_root_mean_squared_error: 75.1378 - lr: 1.0000e-06\n",
      "Epoch 437/1000\n",
      "4/4 [==============================] - 0s 35ms/step - loss: 658.6003 - root_mean_squared_error: 25.6632 - val_loss: 5645.3398 - val_root_mean_squared_error: 75.1355 - lr: 1.0000e-06\n",
      "Epoch 438/1000\n",
      "4/4 [==============================] - 0s 35ms/step - loss: 658.3260 - root_mean_squared_error: 25.6579 - val_loss: 5643.8711 - val_root_mean_squared_error: 75.1257 - lr: 1.0000e-06\n",
      "Epoch 439/1000\n",
      "4/4 [==============================] - 0s 34ms/step - loss: 658.2595 - root_mean_squared_error: 25.6566 - val_loss: 5642.1992 - val_root_mean_squared_error: 75.1146 - lr: 1.0000e-06\n",
      "Epoch 440/1000\n",
      "4/4 [==============================] - 0s 32ms/step - loss: 658.2224 - root_mean_squared_error: 25.6558 - val_loss: 5642.4482 - val_root_mean_squared_error: 75.1162 - lr: 1.0000e-06\n",
      "Epoch 441/1000\n",
      "4/4 [==============================] - 0s 30ms/step - loss: 657.9769 - root_mean_squared_error: 25.6511 - val_loss: 5641.9312 - val_root_mean_squared_error: 75.1128 - lr: 1.0000e-06\n",
      "Epoch 442/1000\n",
      "4/4 [==============================] - 0s 29ms/step - loss: 657.6802 - root_mean_squared_error: 25.6453 - val_loss: 5642.1260 - val_root_mean_squared_error: 75.1141 - lr: 1.0000e-06\n",
      "Epoch 443/1000\n",
      "4/4 [==============================] - 0s 25ms/step - loss: 657.4570 - root_mean_squared_error: 25.6409 - val_loss: 5641.6230 - val_root_mean_squared_error: 75.1107 - lr: 1.0000e-06\n",
      "Epoch 444/1000\n",
      "4/4 [==============================] - 0s 28ms/step - loss: 657.4525 - root_mean_squared_error: 25.6408 - val_loss: 5642.9844 - val_root_mean_squared_error: 75.1198 - lr: 1.0000e-06\n",
      "Epoch 445/1000\n",
      "4/4 [==============================] - 0s 29ms/step - loss: 657.1918 - root_mean_squared_error: 25.6357 - val_loss: 5643.3013 - val_root_mean_squared_error: 75.1219 - lr: 1.0000e-06\n",
      "Epoch 446/1000\n",
      "4/4 [==============================] - 0s 31ms/step - loss: 657.0697 - root_mean_squared_error: 25.6334 - val_loss: 5642.9165 - val_root_mean_squared_error: 75.1193 - lr: 1.0000e-06\n",
      "Epoch 447/1000\n",
      "4/4 [==============================] - 0s 35ms/step - loss: 656.8208 - root_mean_squared_error: 25.6285 - val_loss: 5642.0898 - val_root_mean_squared_error: 75.1138 - lr: 1.0000e-06\n",
      "Epoch 448/1000\n",
      "4/4 [==============================] - 0s 34ms/step - loss: 656.5009 - root_mean_squared_error: 25.6223 - val_loss: 5641.8638 - val_root_mean_squared_error: 75.1123 - lr: 1.0000e-06\n",
      "Epoch 449/1000\n",
      "4/4 [==============================] - 0s 33ms/step - loss: 656.5634 - root_mean_squared_error: 25.6235 - val_loss: 5641.3481 - val_root_mean_squared_error: 75.1089 - lr: 1.0000e-06\n",
      "Epoch 450/1000\n",
      "4/4 [==============================] - 0s 34ms/step - loss: 656.4534 - root_mean_squared_error: 25.6213 - val_loss: 5640.4258 - val_root_mean_squared_error: 75.1028 - lr: 1.0000e-06\n",
      "Epoch 451/1000\n",
      "4/4 [==============================] - 0s 33ms/step - loss: 656.0692 - root_mean_squared_error: 25.6138 - val_loss: 5640.0713 - val_root_mean_squared_error: 75.1004 - lr: 1.0000e-06\n",
      "Epoch 452/1000\n",
      "4/4 [==============================] - 0s 32ms/step - loss: 655.8129 - root_mean_squared_error: 25.6088 - val_loss: 5639.7788 - val_root_mean_squared_error: 75.0985 - lr: 1.0000e-06\n",
      "Epoch 453/1000\n",
      "4/4 [==============================] - 0s 32ms/step - loss: 655.9301 - root_mean_squared_error: 25.6111 - val_loss: 5639.8110 - val_root_mean_squared_error: 75.0987 - lr: 1.0000e-06\n",
      "Epoch 454/1000\n",
      "4/4 [==============================] - 0s 34ms/step - loss: 655.4476 - root_mean_squared_error: 25.6017 - val_loss: 5639.6304 - val_root_mean_squared_error: 75.0975 - lr: 1.0000e-06\n"
     ]
    },
    {
     "name": "stdout",
     "output_type": "stream",
     "text": [
      "Epoch 455/1000\n",
      "4/4 [==============================] - 0s 30ms/step - loss: 655.2506 - root_mean_squared_error: 25.5979 - val_loss: 5638.3960 - val_root_mean_squared_error: 75.0893 - lr: 1.0000e-06\n",
      "Epoch 456/1000\n",
      "4/4 [==============================] - 0s 27ms/step - loss: 655.2613 - root_mean_squared_error: 25.5981 - val_loss: 5638.5610 - val_root_mean_squared_error: 75.0903 - lr: 1.0000e-06\n",
      "Epoch 457/1000\n",
      "4/4 [==============================] - 0s 27ms/step - loss: 655.0086 - root_mean_squared_error: 25.5931 - val_loss: 5638.8960 - val_root_mean_squared_error: 75.0926 - lr: 1.0000e-06\n",
      "Epoch 458/1000\n",
      "4/4 [==============================] - 0s 27ms/step - loss: 654.9194 - root_mean_squared_error: 25.5914 - val_loss: 5637.0278 - val_root_mean_squared_error: 75.0801 - lr: 1.0000e-06\n",
      "Epoch 459/1000\n",
      "4/4 [==============================] - 0s 25ms/step - loss: 654.6769 - root_mean_squared_error: 25.5867 - val_loss: 5638.6602 - val_root_mean_squared_error: 75.0910 - lr: 1.0000e-06\n",
      "Epoch 460/1000\n",
      "4/4 [==============================] - 0s 27ms/step - loss: 654.4392 - root_mean_squared_error: 25.5820 - val_loss: 5637.6855 - val_root_mean_squared_error: 75.0845 - lr: 1.0000e-06\n",
      "Epoch 461/1000\n",
      "4/4 [==============================] - 0s 28ms/step - loss: 654.4885 - root_mean_squared_error: 25.5830 - val_loss: 5637.1592 - val_root_mean_squared_error: 75.0810 - lr: 1.0000e-06\n",
      "Epoch 462/1000\n",
      "4/4 [==============================] - 0s 29ms/step - loss: 654.1221 - root_mean_squared_error: 25.5758 - val_loss: 5637.7788 - val_root_mean_squared_error: 75.0851 - lr: 1.0000e-06\n",
      "Epoch 463/1000\n",
      "4/4 [==============================] - 0s 32ms/step - loss: 654.0259 - root_mean_squared_error: 25.5739 - val_loss: 5638.7368 - val_root_mean_squared_error: 75.0915 - lr: 1.0000e-06\n",
      "Epoch 464/1000\n",
      "4/4 [==============================] - 0s 31ms/step - loss: 653.7271 - root_mean_squared_error: 25.5681 - val_loss: 5638.3584 - val_root_mean_squared_error: 75.0890 - lr: 1.0000e-06\n",
      "Epoch 465/1000\n",
      "4/4 [==============================] - 0s 29ms/step - loss: 653.7032 - root_mean_squared_error: 25.5676 - val_loss: 5640.0967 - val_root_mean_squared_error: 75.1006 - lr: 1.0000e-06\n",
      "Epoch 466/1000\n",
      "4/4 [==============================] - 0s 31ms/step - loss: 653.3660 - root_mean_squared_error: 25.5610 - val_loss: 5639.1763 - val_root_mean_squared_error: 75.0944 - lr: 1.0000e-06\n",
      "Epoch 467/1000\n",
      "4/4 [==============================] - 0s 29ms/step - loss: 653.3041 - root_mean_squared_error: 25.5598 - val_loss: 5638.0640 - val_root_mean_squared_error: 75.0870 - lr: 1.0000e-06\n",
      "Epoch 468/1000\n",
      "4/4 [==============================] - 0s 27ms/step - loss: 653.1800 - root_mean_squared_error: 25.5574 - val_loss: 5638.4697 - val_root_mean_squared_error: 75.0897 - lr: 1.0000e-06\n",
      "Epoch 469/1000\n",
      "4/4 [==============================] - 0s 26ms/step - loss: 652.8502 - root_mean_squared_error: 25.5509 - val_loss: 5639.0591 - val_root_mean_squared_error: 75.0937 - lr: 1.0000e-06\n",
      "Epoch 470/1000\n",
      "4/4 [==============================] - 0s 23ms/step - loss: 652.5998 - root_mean_squared_error: 25.5460 - val_loss: 5639.2515 - val_root_mean_squared_error: 75.0950 - lr: 1.0000e-06\n",
      "Epoch 471/1000\n",
      "4/4 [==============================] - 0s 24ms/step - loss: 652.5785 - root_mean_squared_error: 25.5456 - val_loss: 5639.8774 - val_root_mean_squared_error: 75.0991 - lr: 1.0000e-06\n",
      "Epoch 472/1000\n",
      "4/4 [==============================] - 0s 26ms/step - loss: 652.3458 - root_mean_squared_error: 25.5411 - val_loss: 5639.2749 - val_root_mean_squared_error: 75.0951 - lr: 1.0000e-06\n",
      "Epoch 473/1000\n",
      "4/4 [==============================] - 0s 31ms/step - loss: 652.0555 - root_mean_squared_error: 25.5354 - val_loss: 5639.4507 - val_root_mean_squared_error: 75.0963 - lr: 1.0000e-06\n",
      "Epoch 474/1000\n",
      "4/4 [==============================] - 0s 31ms/step - loss: 652.0331 - root_mean_squared_error: 25.5349 - val_loss: 5638.2046 - val_root_mean_squared_error: 75.0880 - lr: 1.0000e-06\n",
      "Epoch 475/1000\n",
      "4/4 [==============================] - 0s 30ms/step - loss: 651.8197 - root_mean_squared_error: 25.5308 - val_loss: 5637.8818 - val_root_mean_squared_error: 75.0858 - lr: 1.0000e-06\n",
      "Epoch 476/1000\n",
      "4/4 [==============================] - 0s 32ms/step - loss: 651.8843 - root_mean_squared_error: 25.5320 - val_loss: 5637.5605 - val_root_mean_squared_error: 75.0837 - lr: 1.0000e-06\n",
      "Epoch 477/1000\n",
      "4/4 [==============================] - 0s 29ms/step - loss: 651.5449 - root_mean_squared_error: 25.5254 - val_loss: 5637.1865 - val_root_mean_squared_error: 75.0812 - lr: 1.0000e-06\n",
      "Epoch 478/1000\n",
      "4/4 [==============================] - 0s 29ms/step - loss: 651.7028 - root_mean_squared_error: 25.5285 - val_loss: 5639.3584 - val_root_mean_squared_error: 75.0957 - lr: 1.0000e-06\n",
      "Epoch 479/1000\n",
      "4/4 [==============================] - 0s 28ms/step - loss: 651.4361 - root_mean_squared_error: 25.5232 - val_loss: 5637.9585 - val_root_mean_squared_error: 75.0863 - lr: 1.0000e-06\n",
      "Epoch 480/1000\n",
      "4/4 [==============================] - 0s 28ms/step - loss: 650.8500 - root_mean_squared_error: 25.5118 - val_loss: 5637.9141 - val_root_mean_squared_error: 75.0860 - lr: 1.0000e-06\n",
      "Epoch 481/1000\n",
      "4/4 [==============================] - 0s 30ms/step - loss: 650.9400 - root_mean_squared_error: 25.5135 - val_loss: 5638.7583 - val_root_mean_squared_error: 75.0917 - lr: 1.0000e-06\n",
      "Epoch 482/1000\n",
      "4/4 [==============================] - 0s 28ms/step - loss: 650.6089 - root_mean_squared_error: 25.5070 - val_loss: 5640.7368 - val_root_mean_squared_error: 75.1048 - lr: 1.0000e-06\n",
      "Epoch 483/1000\n",
      "4/4 [==============================] - 0s 27ms/step - loss: 650.6326 - root_mean_squared_error: 25.5075 - val_loss: 5639.0977 - val_root_mean_squared_error: 75.0939 - lr: 1.0000e-06\n",
      "Epoch 484/1000\n",
      "4/4 [==============================] - 0s 26ms/step - loss: 650.1975 - root_mean_squared_error: 25.4990 - val_loss: 5639.3579 - val_root_mean_squared_error: 75.0957 - lr: 1.0000e-06\n",
      "Epoch 485/1000\n",
      "4/4 [==============================] - 0s 25ms/step - loss: 650.1584 - root_mean_squared_error: 25.4982 - val_loss: 5639.2856 - val_root_mean_squared_error: 75.0952 - lr: 1.0000e-06\n",
      "Epoch 486/1000\n",
      "4/4 [==============================] - 0s 28ms/step - loss: 650.0732 - root_mean_squared_error: 25.4965 - val_loss: 5638.7607 - val_root_mean_squared_error: 75.0917 - lr: 1.0000e-06\n",
      "Epoch 487/1000\n",
      "4/4 [==============================] - 0s 28ms/step - loss: 649.7582 - root_mean_squared_error: 25.4904 - val_loss: 5638.9307 - val_root_mean_squared_error: 75.0928 - lr: 1.0000e-06\n",
      "Epoch 488/1000\n",
      "4/4 [==============================] - 0s 27ms/step - loss: 649.4532 - root_mean_squared_error: 25.4844 - val_loss: 5638.9180 - val_root_mean_squared_error: 75.0927 - lr: 1.0000e-06\n",
      "Epoch 489/1000\n",
      "4/4 [==============================] - 0s 29ms/step - loss: 649.2470 - root_mean_squared_error: 25.4803 - val_loss: 5639.1587 - val_root_mean_squared_error: 75.0943 - lr: 1.0000e-06\n",
      "Epoch 490/1000\n",
      "4/4 [==============================] - 0s 29ms/step - loss: 649.1815 - root_mean_squared_error: 25.4790 - val_loss: 5639.7559 - val_root_mean_squared_error: 75.0983 - lr: 1.0000e-06\n",
      "Epoch 491/1000\n",
      "4/4 [==============================] - 0s 31ms/step - loss: 649.0763 - root_mean_squared_error: 25.4770 - val_loss: 5638.9058 - val_root_mean_squared_error: 75.0927 - lr: 1.0000e-06\n",
      "Epoch 492/1000\n",
      "4/4 [==============================] - 0s 29ms/step - loss: 648.7772 - root_mean_squared_error: 25.4711 - val_loss: 5638.3120 - val_root_mean_squared_error: 75.0887 - lr: 1.0000e-06\n",
      "Epoch 493/1000\n",
      "4/4 [==============================] - 0s 30ms/step - loss: 648.6996 - root_mean_squared_error: 25.4696 - val_loss: 5639.2935 - val_root_mean_squared_error: 75.0952 - lr: 1.0000e-06\n",
      "Epoch 494/1000\n",
      "4/4 [==============================] - 0s 32ms/step - loss: 648.5366 - root_mean_squared_error: 25.4664 - val_loss: 5639.4209 - val_root_mean_squared_error: 75.0961 - lr: 1.0000e-06\n",
      "Epoch 495/1000\n",
      "4/4 [==============================] - 0s 30ms/step - loss: 648.4266 - root_mean_squared_error: 25.4642 - val_loss: 5639.6646 - val_root_mean_squared_error: 75.0977 - lr: 1.0000e-06\n",
      "Epoch 496/1000\n",
      "4/4 [==============================] - 0s 24ms/step - loss: 648.6102 - root_mean_squared_error: 25.4678 - val_loss: 5640.9082 - val_root_mean_squared_error: 75.1060 - lr: 1.0000e-06\n"
     ]
    },
    {
     "name": "stdout",
     "output_type": "stream",
     "text": [
      "Epoch 497/1000\n",
      "4/4 [==============================] - 0s 25ms/step - loss: 647.9838 - root_mean_squared_error: 25.4555 - val_loss: 5639.1299 - val_root_mean_squared_error: 75.0941 - lr: 1.0000e-06\n",
      "Epoch 498/1000\n",
      "4/4 [==============================] - 0s 24ms/step - loss: 647.7801 - root_mean_squared_error: 25.4515 - val_loss: 5639.5786 - val_root_mean_squared_error: 75.0971 - lr: 1.0000e-06\n",
      "Epoch 499/1000\n",
      "4/4 [==============================] - 0s 25ms/step - loss: 647.6592 - root_mean_squared_error: 25.4492 - val_loss: 5638.8281 - val_root_mean_squared_error: 75.0921 - lr: 1.0000e-06\n",
      "Epoch 500/1000\n",
      "4/4 [==============================] - 0s 30ms/step - loss: 647.8662 - root_mean_squared_error: 25.4532 - val_loss: 5639.2773 - val_root_mean_squared_error: 75.0951 - lr: 1.0000e-06\n",
      "Epoch 501/1000\n",
      "4/4 [==============================] - 0s 31ms/step - loss: 647.6915 - root_mean_squared_error: 25.4498 - val_loss: 5638.7173 - val_root_mean_squared_error: 75.0914 - lr: 1.0000e-06\n",
      "Epoch 502/1000\n",
      "4/4 [==============================] - 0s 30ms/step - loss: 647.2403 - root_mean_squared_error: 25.4409 - val_loss: 5639.8823 - val_root_mean_squared_error: 75.0992 - lr: 1.0000e-06\n",
      "Epoch 503/1000\n",
      "4/4 [==============================] - 0s 30ms/step - loss: 646.7653 - root_mean_squared_error: 25.4316 - val_loss: 5639.7324 - val_root_mean_squared_error: 75.0982 - lr: 1.0000e-06\n",
      "Epoch 504/1000\n",
      "4/4 [==============================] - 0s 29ms/step - loss: 646.6528 - root_mean_squared_error: 25.4294 - val_loss: 5640.0674 - val_root_mean_squared_error: 75.1004 - lr: 1.0000e-06\n",
      "Epoch 505/1000\n",
      "4/4 [==============================] - 0s 29ms/step - loss: 646.4326 - root_mean_squared_error: 25.4250 - val_loss: 5640.4365 - val_root_mean_squared_error: 75.1028 - lr: 1.0000e-06\n",
      "Epoch 506/1000\n",
      "4/4 [==============================] - 0s 29ms/step - loss: 646.4814 - root_mean_squared_error: 25.4260 - val_loss: 5641.1660 - val_root_mean_squared_error: 75.1077 - lr: 1.0000e-06\n",
      "Epoch 507/1000\n",
      "4/4 [==============================] - 0s 30ms/step - loss: 646.1868 - root_mean_squared_error: 25.4202 - val_loss: 5641.4165 - val_root_mean_squared_error: 75.1094 - lr: 1.0000e-06\n",
      "Epoch 508/1000\n",
      "4/4 [==============================] - 0s 24ms/step - loss: 645.9255 - root_mean_squared_error: 25.4151 - val_loss: 5640.9614 - val_root_mean_squared_error: 75.1063 - lr: 1.0000e-06\n",
      "Epoch 509/1000\n",
      "4/4 [==============================] - 0s 25ms/step - loss: 645.8031 - root_mean_squared_error: 25.4127 - val_loss: 5640.4932 - val_root_mean_squared_error: 75.1032 - lr: 1.0000e-06\n",
      "Epoch 510/1000\n",
      "4/4 [==============================] - 0s 24ms/step - loss: 645.5708 - root_mean_squared_error: 25.4081 - val_loss: 5640.1470 - val_root_mean_squared_error: 75.1009 - lr: 1.0000e-06\n",
      "Epoch 511/1000\n",
      "4/4 [==============================] - 0s 25ms/step - loss: 645.4640 - root_mean_squared_error: 25.4060 - val_loss: 5641.2139 - val_root_mean_squared_error: 75.1080 - lr: 1.0000e-06\n",
      "Epoch 512/1000\n",
      "4/4 [==============================] - 0s 30ms/step - loss: 645.3884 - root_mean_squared_error: 25.4045 - val_loss: 5640.0161 - val_root_mean_squared_error: 75.1000 - lr: 1.0000e-06\n",
      "Epoch 513/1000\n",
      "4/4 [==============================] - 0s 29ms/step - loss: 645.0110 - root_mean_squared_error: 25.3971 - val_loss: 5640.7397 - val_root_mean_squared_error: 75.1049 - lr: 1.0000e-06\n",
      "Epoch 514/1000\n",
      "4/4 [==============================] - 0s 28ms/step - loss: 644.8889 - root_mean_squared_error: 25.3947 - val_loss: 5641.0352 - val_root_mean_squared_error: 75.1068 - lr: 1.0000e-06\n",
      "Epoch 515/1000\n",
      "4/4 [==============================] - 0s 26ms/step - loss: 644.6879 - root_mean_squared_error: 25.3907 - val_loss: 5641.0444 - val_root_mean_squared_error: 75.1069 - lr: 1.0000e-06\n",
      "Epoch 516/1000\n",
      "4/4 [==============================] - 0s 28ms/step - loss: 644.5237 - root_mean_squared_error: 25.3875 - val_loss: 5641.8809 - val_root_mean_squared_error: 75.1125 - lr: 1.0000e-06\n",
      "Epoch 517/1000\n",
      "4/4 [==============================] - 0s 28ms/step - loss: 644.6306 - root_mean_squared_error: 25.3896 - val_loss: 5642.6963 - val_root_mean_squared_error: 75.1179 - lr: 1.0000e-06\n",
      "Epoch 518/1000\n",
      "4/4 [==============================] - 0s 29ms/step - loss: 644.2056 - root_mean_squared_error: 25.3812 - val_loss: 5642.1514 - val_root_mean_squared_error: 75.1143 - lr: 1.0000e-06\n",
      "Epoch 519/1000\n",
      "4/4 [==============================] - 0s 32ms/step - loss: 643.9823 - root_mean_squared_error: 25.3768 - val_loss: 5643.1104 - val_root_mean_squared_error: 75.1206 - lr: 1.0000e-06\n",
      "Epoch 520/1000\n",
      "4/4 [==============================] - 0s 29ms/step - loss: 643.9088 - root_mean_squared_error: 25.3754 - val_loss: 5644.0693 - val_root_mean_squared_error: 75.1270 - lr: 1.0000e-06\n",
      "Epoch 521/1000\n",
      "4/4 [==============================] - 0s 31ms/step - loss: 643.6911 - root_mean_squared_error: 25.3711 - val_loss: 5643.0273 - val_root_mean_squared_error: 75.1201 - lr: 1.0000e-06\n",
      "Epoch 522/1000\n",
      "4/4 [==============================] - 0s 27ms/step - loss: 643.6920 - root_mean_squared_error: 25.3711 - val_loss: 5643.6172 - val_root_mean_squared_error: 75.1240 - lr: 1.0000e-06\n",
      "Epoch 523/1000\n",
      "4/4 [==============================] - 0s 26ms/step - loss: 643.4081 - root_mean_squared_error: 25.3655 - val_loss: 5644.3643 - val_root_mean_squared_error: 75.1290 - lr: 1.0000e-06\n",
      "Epoch 524/1000\n",
      "4/4 [==============================] - 0s 24ms/step - loss: 643.0599 - root_mean_squared_error: 25.3586 - val_loss: 5644.2837 - val_root_mean_squared_error: 75.1284 - lr: 1.0000e-06\n",
      "Epoch 525/1000\n",
      "4/4 [==============================] - 0s 25ms/step - loss: 642.9567 - root_mean_squared_error: 25.3566 - val_loss: 5643.5469 - val_root_mean_squared_error: 75.1236 - lr: 1.0000e-06\n",
      "Epoch 526/1000\n",
      "4/4 [==============================] - 0s 26ms/step - loss: 642.8171 - root_mean_squared_error: 25.3538 - val_loss: 5643.2900 - val_root_mean_squared_error: 75.1218 - lr: 1.0000e-06\n",
      "Epoch 527/1000\n",
      "4/4 [==============================] - 0s 28ms/step - loss: 642.7996 - root_mean_squared_error: 25.3535 - val_loss: 5643.3818 - val_root_mean_squared_error: 75.1225 - lr: 1.0000e-06\n",
      "Epoch 528/1000\n",
      "4/4 [==============================] - 0s 30ms/step - loss: 642.7587 - root_mean_squared_error: 25.3527 - val_loss: 5643.9663 - val_root_mean_squared_error: 75.1263 - lr: 1.0000e-06\n",
      "Epoch 529/1000\n",
      "4/4 [==============================] - 0s 31ms/step - loss: 642.3839 - root_mean_squared_error: 25.3453 - val_loss: 5644.5830 - val_root_mean_squared_error: 75.1304 - lr: 1.0000e-06\n",
      "Epoch 530/1000\n",
      "4/4 [==============================] - 0s 31ms/step - loss: 642.1544 - root_mean_squared_error: 25.3408 - val_loss: 5644.7568 - val_root_mean_squared_error: 75.1316 - lr: 1.0000e-06\n",
      "Epoch 531/1000\n",
      "4/4 [==============================] - 0s 31ms/step - loss: 641.9139 - root_mean_squared_error: 25.3360 - val_loss: 5645.2476 - val_root_mean_squared_error: 75.1349 - lr: 1.0000e-06\n",
      "Epoch 532/1000\n",
      "4/4 [==============================] - 0s 29ms/step - loss: 641.6923 - root_mean_squared_error: 25.3316 - val_loss: 5644.6304 - val_root_mean_squared_error: 75.1308 - lr: 1.0000e-06\n",
      "Epoch 533/1000\n",
      "4/4 [==============================] - 0s 31ms/step - loss: 641.6058 - root_mean_squared_error: 25.3299 - val_loss: 5645.1641 - val_root_mean_squared_error: 75.1343 - lr: 1.0000e-06\n",
      "Epoch 534/1000\n",
      "4/4 [==============================] - 0s 30ms/step - loss: 642.2250 - root_mean_squared_error: 25.3422 - val_loss: 5643.2319 - val_root_mean_squared_error: 75.1214 - lr: 1.0000e-06\n",
      "Epoch 535/1000\n",
      "4/4 [==============================] - 0s 29ms/step - loss: 641.3464 - root_mean_squared_error: 25.3248 - val_loss: 5643.3394 - val_root_mean_squared_error: 75.1222 - lr: 1.0000e-06\n",
      "Epoch 536/1000\n",
      "4/4 [==============================] - 0s 24ms/step - loss: 641.6664 - root_mean_squared_error: 25.3311 - val_loss: 5645.4585 - val_root_mean_squared_error: 75.1363 - lr: 1.0000e-06\n",
      "Epoch 537/1000\n",
      "4/4 [==============================] - 0s 25ms/step - loss: 640.9920 - root_mean_squared_error: 25.3178 - val_loss: 5645.2759 - val_root_mean_squared_error: 75.1351 - lr: 1.0000e-06\n",
      "Epoch 538/1000\n",
      "4/4 [==============================] - 0s 27ms/step - loss: 640.6962 - root_mean_squared_error: 25.3120 - val_loss: 5645.9102 - val_root_mean_squared_error: 75.1393 - lr: 1.0000e-06\n"
     ]
    },
    {
     "name": "stdout",
     "output_type": "stream",
     "text": [
      "Epoch 539/1000\n",
      "4/4 [==============================] - 0s 25ms/step - loss: 640.7826 - root_mean_squared_error: 25.3137 - val_loss: 5645.9355 - val_root_mean_squared_error: 75.1394 - lr: 1.0000e-06\n",
      "Epoch 540/1000\n",
      "4/4 [==============================] - 0s 29ms/step - loss: 640.5480 - root_mean_squared_error: 25.3090 - val_loss: 5647.3242 - val_root_mean_squared_error: 75.1487 - lr: 1.0000e-06\n",
      "Epoch 541/1000\n",
      "4/4 [==============================] - 0s 30ms/step - loss: 640.5815 - root_mean_squared_error: 25.3097 - val_loss: 5646.4375 - val_root_mean_squared_error: 75.1428 - lr: 1.0000e-06\n",
      "Epoch 542/1000\n",
      "4/4 [==============================] - 0s 29ms/step - loss: 640.0313 - root_mean_squared_error: 25.2988 - val_loss: 5646.7456 - val_root_mean_squared_error: 75.1448 - lr: 1.0000e-06\n",
      "Epoch 543/1000\n",
      "4/4 [==============================] - 0s 28ms/step - loss: 639.9960 - root_mean_squared_error: 25.2981 - val_loss: 5648.0850 - val_root_mean_squared_error: 75.1537 - lr: 1.0000e-06\n",
      "Epoch 544/1000\n",
      "4/4 [==============================] - 0s 30ms/step - loss: 640.2833 - root_mean_squared_error: 25.3038 - val_loss: 5646.7446 - val_root_mean_squared_error: 75.1448 - lr: 1.0000e-06\n",
      "Epoch 545/1000\n",
      "4/4 [==============================] - 0s 27ms/step - loss: 639.6357 - root_mean_squared_error: 25.2910 - val_loss: 5647.9873 - val_root_mean_squared_error: 75.1531 - lr: 1.0000e-06\n",
      "Epoch 546/1000\n",
      "4/4 [==============================] - 0s 31ms/step - loss: 639.5040 - root_mean_squared_error: 25.2884 - val_loss: 5647.2056 - val_root_mean_squared_error: 75.1479 - lr: 1.0000e-06\n",
      "Epoch 547/1000\n",
      "4/4 [==============================] - 0s 30ms/step - loss: 639.3195 - root_mean_squared_error: 25.2848 - val_loss: 5648.6606 - val_root_mean_squared_error: 75.1576 - lr: 1.0000e-06\n",
      "Epoch 548/1000\n",
      "4/4 [==============================] - 0s 25ms/step - loss: 639.0488 - root_mean_squared_error: 25.2794 - val_loss: 5648.8618 - val_root_mean_squared_error: 75.1589 - lr: 1.0000e-06\n",
      "Epoch 549/1000\n",
      "4/4 [==============================] - 0s 24ms/step - loss: 638.8605 - root_mean_squared_error: 25.2757 - val_loss: 5649.0078 - val_root_mean_squared_error: 75.1599 - lr: 1.0000e-06\n",
      "Epoch 550/1000\n",
      "4/4 [==============================] - 0s 28ms/step - loss: 638.7192 - root_mean_squared_error: 25.2729 - val_loss: 5649.1494 - val_root_mean_squared_error: 75.1608 - lr: 1.0000e-06\n",
      "Epoch 551/1000\n",
      "4/4 [==============================] - 0s 25ms/step - loss: 638.5312 - root_mean_squared_error: 25.2692 - val_loss: 5649.3604 - val_root_mean_squared_error: 75.1622 - lr: 1.0000e-06\n",
      "Epoch 552/1000\n",
      "4/4 [==============================] - 0s 26ms/step - loss: 638.3024 - root_mean_squared_error: 25.2646 - val_loss: 5649.0420 - val_root_mean_squared_error: 75.1601 - lr: 1.0000e-06\n",
      "Epoch 553/1000\n",
      "4/4 [==============================] - 0s 28ms/step - loss: 638.1795 - root_mean_squared_error: 25.2622 - val_loss: 5649.7397 - val_root_mean_squared_error: 75.1647 - lr: 1.0000e-06\n",
      "Epoch 554/1000\n",
      "4/4 [==============================] - 0s 27ms/step - loss: 638.0012 - root_mean_squared_error: 25.2587 - val_loss: 5650.6738 - val_root_mean_squared_error: 75.1710 - lr: 1.0000e-06\n",
      "Epoch 555/1000\n",
      "4/4 [==============================] - 0s 27ms/step - loss: 638.2812 - root_mean_squared_error: 25.2642 - val_loss: 5649.3120 - val_root_mean_squared_error: 75.1619 - lr: 1.0000e-06\n",
      "Epoch 556/1000\n",
      "4/4 [==============================] - 0s 30ms/step - loss: 637.6349 - root_mean_squared_error: 25.2514 - val_loss: 5650.9771 - val_root_mean_squared_error: 75.1730 - lr: 1.0000e-06\n",
      "Epoch 557/1000\n",
      "4/4 [==============================] - 0s 30ms/step - loss: 637.3970 - root_mean_squared_error: 25.2467 - val_loss: 5651.3271 - val_root_mean_squared_error: 75.1753 - lr: 1.0000e-06\n",
      "Epoch 558/1000\n",
      "4/4 [==============================] - 0s 30ms/step - loss: 637.7233 - root_mean_squared_error: 25.2532 - val_loss: 5651.9683 - val_root_mean_squared_error: 75.1796 - lr: 1.0000e-06\n",
      "Epoch 559/1000\n",
      "4/4 [==============================] - 0s 30ms/step - loss: 637.2526 - root_mean_squared_error: 25.2439 - val_loss: 5651.5479 - val_root_mean_squared_error: 75.1768 - lr: 1.0000e-06\n",
      "Epoch 560/1000\n",
      "4/4 [==============================] - 0s 30ms/step - loss: 636.9611 - root_mean_squared_error: 25.2381 - val_loss: 5650.6587 - val_root_mean_squared_error: 75.1709 - lr: 1.0000e-06\n",
      "Epoch 561/1000\n",
      "4/4 [==============================] - 0s 26ms/step - loss: 636.9530 - root_mean_squared_error: 25.2379 - val_loss: 5650.4688 - val_root_mean_squared_error: 75.1696 - lr: 1.0000e-06\n",
      "Epoch 562/1000\n",
      "4/4 [==============================] - 0s 23ms/step - loss: 636.6533 - root_mean_squared_error: 25.2320 - val_loss: 5650.7158 - val_root_mean_squared_error: 75.1712 - lr: 1.0000e-06\n",
      "Epoch 563/1000\n",
      "4/4 [==============================] - 0s 25ms/step - loss: 636.7089 - root_mean_squared_error: 25.2331 - val_loss: 5652.0488 - val_root_mean_squared_error: 75.1801 - lr: 1.0000e-06\n",
      "Epoch 564/1000\n",
      "4/4 [==============================] - 0s 24ms/step - loss: 636.1642 - root_mean_squared_error: 25.2223 - val_loss: 5651.4419 - val_root_mean_squared_error: 75.1761 - lr: 1.0000e-06\n",
      "Epoch 565/1000\n",
      "4/4 [==============================] - 0s 25ms/step - loss: 636.1391 - root_mean_squared_error: 25.2218 - val_loss: 5652.5112 - val_root_mean_squared_error: 75.1832 - lr: 1.0000e-06\n",
      "Epoch 566/1000\n",
      "4/4 [==============================] - 0s 30ms/step - loss: 636.0048 - root_mean_squared_error: 25.2191 - val_loss: 5652.1353 - val_root_mean_squared_error: 75.1807 - lr: 1.0000e-06\n",
      "Epoch 567/1000\n",
      "4/4 [==============================] - 0s 29ms/step - loss: 635.7962 - root_mean_squared_error: 25.2150 - val_loss: 5652.2686 - val_root_mean_squared_error: 75.1816 - lr: 1.0000e-06\n",
      "Epoch 568/1000\n",
      "4/4 [==============================] - 0s 28ms/step - loss: 635.5681 - root_mean_squared_error: 25.2105 - val_loss: 5653.0317 - val_root_mean_squared_error: 75.1866 - lr: 1.0000e-06\n",
      "Epoch 569/1000\n",
      "4/4 [==============================] - 0s 29ms/step - loss: 636.1933 - root_mean_squared_error: 25.2229 - val_loss: 5650.9199 - val_root_mean_squared_error: 75.1726 - lr: 1.0000e-06\n",
      "Epoch 570/1000\n",
      "4/4 [==============================] - 0s 28ms/step - loss: 635.4713 - root_mean_squared_error: 25.2086 - val_loss: 5651.7354 - val_root_mean_squared_error: 75.1780 - lr: 1.0000e-06\n",
      "Epoch 571/1000\n",
      "4/4 [==============================] - 0s 28ms/step - loss: 635.2437 - root_mean_squared_error: 25.2040 - val_loss: 5651.5225 - val_root_mean_squared_error: 75.1766 - lr: 1.0000e-06\n",
      "Epoch 572/1000\n",
      "4/4 [==============================] - 0s 28ms/step - loss: 635.2157 - root_mean_squared_error: 25.2035 - val_loss: 5652.0596 - val_root_mean_squared_error: 75.1802 - lr: 1.0000e-06\n",
      "Epoch 573/1000\n",
      "4/4 [==============================] - 0s 28ms/step - loss: 634.6756 - root_mean_squared_error: 25.1928 - val_loss: 5651.5815 - val_root_mean_squared_error: 75.1770 - lr: 1.0000e-06\n",
      "Epoch 574/1000\n",
      "4/4 [==============================] - 0s 29ms/step - loss: 634.8551 - root_mean_squared_error: 25.1963 - val_loss: 5649.8057 - val_root_mean_squared_error: 75.1652 - lr: 1.0000e-06\n",
      "Epoch 575/1000\n",
      "4/4 [==============================] - 0s 24ms/step - loss: 635.0221 - root_mean_squared_error: 25.1996 - val_loss: 5651.5854 - val_root_mean_squared_error: 75.1770 - lr: 1.0000e-06\n",
      "Epoch 576/1000\n",
      "4/4 [==============================] - 0s 26ms/step - loss: 634.3458 - root_mean_squared_error: 25.1862 - val_loss: 5651.5117 - val_root_mean_squared_error: 75.1765 - lr: 1.0000e-06\n",
      "Epoch 577/1000\n",
      "4/4 [==============================] - 0s 24ms/step - loss: 634.0081 - root_mean_squared_error: 25.1795 - val_loss: 5651.3862 - val_root_mean_squared_error: 75.1757 - lr: 1.0000e-06\n",
      "Epoch 578/1000\n",
      "4/4 [==============================] - 0s 26ms/step - loss: 634.2487 - root_mean_squared_error: 25.1843 - val_loss: 5652.7866 - val_root_mean_squared_error: 75.1850 - lr: 1.0000e-06\n",
      "Epoch 579/1000\n",
      "4/4 [==============================] - 0s 28ms/step - loss: 634.2921 - root_mean_squared_error: 25.1852 - val_loss: 5653.6021 - val_root_mean_squared_error: 75.1904 - lr: 1.0000e-06\n",
      "Epoch 580/1000\n",
      "4/4 [==============================] - 0s 30ms/step - loss: 634.2945 - root_mean_squared_error: 25.1852 - val_loss: 5651.7124 - val_root_mean_squared_error: 75.1779 - lr: 1.0000e-06\n"
     ]
    },
    {
     "name": "stdout",
     "output_type": "stream",
     "text": [
      "Epoch 581/1000\n",
      "4/4 [==============================] - 0s 30ms/step - loss: 633.3228 - root_mean_squared_error: 25.1659 - val_loss: 5651.6353 - val_root_mean_squared_error: 75.1774 - lr: 1.0000e-06\n",
      "Epoch 582/1000\n",
      "4/4 [==============================] - 0s 30ms/step - loss: 633.0927 - root_mean_squared_error: 25.1613 - val_loss: 5651.9946 - val_root_mean_squared_error: 75.1797 - lr: 1.0000e-06\n",
      "Epoch 583/1000\n",
      "4/4 [==============================] - 0s 29ms/step - loss: 633.0283 - root_mean_squared_error: 25.1601 - val_loss: 5652.0518 - val_root_mean_squared_error: 75.1801 - lr: 1.0000e-06\n",
      "Epoch 584/1000\n",
      "4/4 [==============================] - 0s 27ms/step - loss: 632.7925 - root_mean_squared_error: 25.1554 - val_loss: 5652.4351 - val_root_mean_squared_error: 75.1827 - lr: 1.0000e-06\n",
      "Epoch 585/1000\n",
      "4/4 [==============================] - 0s 30ms/step - loss: 632.6020 - root_mean_squared_error: 25.1516 - val_loss: 5651.9077 - val_root_mean_squared_error: 75.1792 - lr: 1.0000e-06\n",
      "Epoch 586/1000\n",
      "4/4 [==============================] - 0s 29ms/step - loss: 632.7904 - root_mean_squared_error: 25.1553 - val_loss: 5651.5625 - val_root_mean_squared_error: 75.1769 - lr: 1.0000e-06\n",
      "Epoch 587/1000\n",
      "4/4 [==============================] - 0s 31ms/step - loss: 632.6011 - root_mean_squared_error: 25.1516 - val_loss: 5652.0088 - val_root_mean_squared_error: 75.1798 - lr: 1.0000e-06\n",
      "Epoch 588/1000\n",
      "4/4 [==============================] - 0s 28ms/step - loss: 632.1195 - root_mean_squared_error: 25.1420 - val_loss: 5652.4790 - val_root_mean_squared_error: 75.1830 - lr: 1.0000e-06\n",
      "Epoch 589/1000\n",
      "4/4 [==============================] - 0s 25ms/step - loss: 631.9691 - root_mean_squared_error: 25.1390 - val_loss: 5650.6440 - val_root_mean_squared_error: 75.1708 - lr: 1.0000e-06\n",
      "Epoch 590/1000\n",
      "4/4 [==============================] - 0s 24ms/step - loss: 631.8331 - root_mean_squared_error: 25.1363 - val_loss: 5650.6758 - val_root_mean_squared_error: 75.1710 - lr: 1.0000e-06\n",
      "Epoch 591/1000\n",
      "4/4 [==============================] - 0s 25ms/step - loss: 631.7085 - root_mean_squared_error: 25.1338 - val_loss: 5650.9453 - val_root_mean_squared_error: 75.1728 - lr: 1.0000e-06\n",
      "Epoch 592/1000\n",
      "4/4 [==============================] - 0s 26ms/step - loss: 631.3417 - root_mean_squared_error: 25.1265 - val_loss: 5650.8613 - val_root_mean_squared_error: 75.1722 - lr: 1.0000e-06\n",
      "Epoch 593/1000\n",
      "4/4 [==============================] - 0s 28ms/step - loss: 631.4548 - root_mean_squared_error: 25.1288 - val_loss: 5650.8096 - val_root_mean_squared_error: 75.1719 - lr: 1.0000e-06\n",
      "Epoch 594/1000\n",
      "4/4 [==============================] - 0s 26ms/step - loss: 631.2712 - root_mean_squared_error: 25.1251 - val_loss: 5650.4009 - val_root_mean_squared_error: 75.1691 - lr: 1.0000e-06\n",
      "Epoch 595/1000\n",
      "4/4 [==============================] - 0s 31ms/step - loss: 631.0851 - root_mean_squared_error: 25.1214 - val_loss: 5649.9844 - val_root_mean_squared_error: 75.1664 - lr: 1.0000e-06\n",
      "Epoch 596/1000\n",
      "4/4 [==============================] - 0s 29ms/step - loss: 630.7247 - root_mean_squared_error: 25.1142 - val_loss: 5649.5649 - val_root_mean_squared_error: 75.1636 - lr: 1.0000e-06\n",
      "Epoch 597/1000\n",
      "4/4 [==============================] - 0s 29ms/step - loss: 631.1091 - root_mean_squared_error: 25.1219 - val_loss: 5651.6240 - val_root_mean_squared_error: 75.1773 - lr: 1.0000e-06\n",
      "Epoch 598/1000\n",
      "4/4 [==============================] - 0s 30ms/step - loss: 630.5961 - root_mean_squared_error: 25.1117 - val_loss: 5651.3633 - val_root_mean_squared_error: 75.1756 - lr: 1.0000e-06\n",
      "Epoch 599/1000\n",
      "4/4 [==============================] - 0s 27ms/step - loss: 630.5236 - root_mean_squared_error: 25.1102 - val_loss: 5652.0396 - val_root_mean_squared_error: 75.1801 - lr: 1.0000e-06\n",
      "Epoch 600/1000\n",
      "4/4 [==============================] - 0s 26ms/step - loss: 630.2650 - root_mean_squared_error: 25.1051 - val_loss: 5649.6841 - val_root_mean_squared_error: 75.1644 - lr: 1.0000e-06\n",
      "Epoch 601/1000\n",
      "4/4 [==============================] - 0s 29ms/step - loss: 629.8284 - root_mean_squared_error: 25.0964 - val_loss: 5650.4048 - val_root_mean_squared_error: 75.1692 - lr: 1.0000e-06\n",
      "Epoch 602/1000\n",
      "4/4 [==============================] - 0s 23ms/step - loss: 629.8796 - root_mean_squared_error: 25.0974 - val_loss: 5650.0493 - val_root_mean_squared_error: 75.1668 - lr: 1.0000e-06\n",
      "Epoch 603/1000\n",
      "4/4 [==============================] - 0s 26ms/step - loss: 629.7656 - root_mean_squared_error: 25.0951 - val_loss: 5649.5146 - val_root_mean_squared_error: 75.1632 - lr: 1.0000e-06\n",
      "Epoch 604/1000\n",
      "4/4 [==============================] - 0s 24ms/step - loss: 629.2509 - root_mean_squared_error: 25.0849 - val_loss: 5648.7402 - val_root_mean_squared_error: 75.1581 - lr: 1.0000e-06\n",
      "Epoch 605/1000\n",
      "4/4 [==============================] - 0s 25ms/step - loss: 629.2009 - root_mean_squared_error: 25.0839 - val_loss: 5647.6133 - val_root_mean_squared_error: 75.1506 - lr: 1.0000e-06\n",
      "Epoch 606/1000\n",
      "4/4 [==============================] - 0s 31ms/step - loss: 628.9800 - root_mean_squared_error: 25.0795 - val_loss: 5646.9771 - val_root_mean_squared_error: 75.1464 - lr: 1.0000e-06\n",
      "Epoch 607/1000\n",
      "4/4 [==============================] - 0s 31ms/step - loss: 628.8776 - root_mean_squared_error: 25.0774 - val_loss: 5646.1973 - val_root_mean_squared_error: 75.1412 - lr: 1.0000e-06\n",
      "Epoch 608/1000\n",
      "4/4 [==============================] - 0s 30ms/step - loss: 628.8200 - root_mean_squared_error: 25.0763 - val_loss: 5646.9844 - val_root_mean_squared_error: 75.1464 - lr: 1.0000e-06\n",
      "Epoch 609/1000\n",
      "4/4 [==============================] - 0s 27ms/step - loss: 628.7280 - root_mean_squared_error: 25.0744 - val_loss: 5647.1138 - val_root_mean_squared_error: 75.1473 - lr: 1.0000e-06\n",
      "Epoch 610/1000\n",
      "4/4 [==============================] - 0s 30ms/step - loss: 628.3179 - root_mean_squared_error: 25.0663 - val_loss: 5644.8799 - val_root_mean_squared_error: 75.1324 - lr: 1.0000e-06\n",
      "Epoch 611/1000\n",
      "4/4 [==============================] - 0s 29ms/step - loss: 628.1521 - root_mean_squared_error: 25.0630 - val_loss: 5643.8765 - val_root_mean_squared_error: 75.1257 - lr: 1.0000e-06\n",
      "Epoch 612/1000\n",
      "4/4 [==============================] - 0s 29ms/step - loss: 628.0317 - root_mean_squared_error: 25.0606 - val_loss: 5642.7510 - val_root_mean_squared_error: 75.1182 - lr: 1.0000e-06\n",
      "Epoch 613/1000\n",
      "4/4 [==============================] - 0s 29ms/step - loss: 627.7571 - root_mean_squared_error: 25.0551 - val_loss: 5643.3633 - val_root_mean_squared_error: 75.1223 - lr: 1.0000e-06\n",
      "Epoch 614/1000\n",
      "4/4 [==============================] - 0s 29ms/step - loss: 627.8000 - root_mean_squared_error: 25.0559 - val_loss: 5642.7490 - val_root_mean_squared_error: 75.1182 - lr: 1.0000e-06\n",
      "Epoch 615/1000\n",
      "4/4 [==============================] - 0s 26ms/step - loss: 627.9034 - root_mean_squared_error: 25.0580 - val_loss: 5640.9897 - val_root_mean_squared_error: 75.1065 - lr: 1.0000e-06\n",
      "Epoch 616/1000\n",
      "4/4 [==============================] - 0s 28ms/step - loss: 627.5806 - root_mean_squared_error: 25.0516 - val_loss: 5641.2412 - val_root_mean_squared_error: 75.1082 - lr: 1.0000e-06\n",
      "Epoch 617/1000\n",
      "4/4 [==============================] - 0s 24ms/step - loss: 627.2490 - root_mean_squared_error: 25.0449 - val_loss: 5640.1924 - val_root_mean_squared_error: 75.1012 - lr: 1.0000e-06\n",
      "Epoch 618/1000\n",
      "4/4 [==============================] - 0s 24ms/step - loss: 627.0947 - root_mean_squared_error: 25.0419 - val_loss: 5640.0635 - val_root_mean_squared_error: 75.1003 - lr: 1.0000e-06\n",
      "Epoch 619/1000\n",
      "4/4 [==============================] - 0s 27ms/step - loss: 627.0867 - root_mean_squared_error: 25.0417 - val_loss: 5641.9585 - val_root_mean_squared_error: 75.1130 - lr: 1.0000e-06\n",
      "Epoch 620/1000\n",
      "4/4 [==============================] - 0s 27ms/step - loss: 626.9088 - root_mean_squared_error: 25.0381 - val_loss: 5641.5547 - val_root_mean_squared_error: 75.1103 - lr: 1.0000e-06\n",
      "Epoch 621/1000\n",
      "4/4 [==============================] - 0s 30ms/step - loss: 626.6222 - root_mean_squared_error: 25.0324 - val_loss: 5642.6382 - val_root_mean_squared_error: 75.1175 - lr: 1.0000e-06\n",
      "Epoch 622/1000\n",
      "4/4 [==============================] - 0s 26ms/step - loss: 626.3383 - root_mean_squared_error: 25.0268 - val_loss: 5642.1025 - val_root_mean_squared_error: 75.1139 - lr: 1.0000e-06\n"
     ]
    },
    {
     "name": "stdout",
     "output_type": "stream",
     "text": [
      "Epoch 623/1000\n",
      "4/4 [==============================] - 0s 29ms/step - loss: 626.2297 - root_mean_squared_error: 25.0246 - val_loss: 5641.1802 - val_root_mean_squared_error: 75.1078 - lr: 1.0000e-06\n",
      "Epoch 624/1000\n",
      "4/4 [==============================] - 0s 29ms/step - loss: 625.9024 - root_mean_squared_error: 25.0180 - val_loss: 5640.6685 - val_root_mean_squared_error: 75.1044 - lr: 1.0000e-06\n",
      "Epoch 625/1000\n",
      "4/4 [==============================] - 0s 31ms/step - loss: 625.8249 - root_mean_squared_error: 25.0165 - val_loss: 5639.5981 - val_root_mean_squared_error: 75.0973 - lr: 1.0000e-06\n",
      "Epoch 626/1000\n",
      "4/4 [==============================] - 0s 31ms/step - loss: 625.8184 - root_mean_squared_error: 25.0164 - val_loss: 5638.7725 - val_root_mean_squared_error: 75.0918 - lr: 1.0000e-06\n",
      "Epoch 627/1000\n",
      "4/4 [==============================] - 0s 28ms/step - loss: 625.5574 - root_mean_squared_error: 25.0111 - val_loss: 5638.6743 - val_root_mean_squared_error: 75.0911 - lr: 1.0000e-06\n",
      "Epoch 628/1000\n",
      "4/4 [==============================] - 0s 27ms/step - loss: 625.4073 - root_mean_squared_error: 25.0081 - val_loss: 5636.7935 - val_root_mean_squared_error: 75.0786 - lr: 1.0000e-06\n",
      "Epoch 629/1000\n",
      "4/4 [==============================] - 0s 26ms/step - loss: 625.0770 - root_mean_squared_error: 25.0015 - val_loss: 5634.9194 - val_root_mean_squared_error: 75.0661 - lr: 1.0000e-06\n",
      "Epoch 630/1000\n",
      "4/4 [==============================] - 0s 27ms/step - loss: 625.1367 - root_mean_squared_error: 25.0027 - val_loss: 5633.5229 - val_root_mean_squared_error: 75.0568 - lr: 1.0000e-06\n",
      "Epoch 631/1000\n",
      "4/4 [==============================] - 0s 26ms/step - loss: 624.8475 - root_mean_squared_error: 24.9970 - val_loss: 5634.2153 - val_root_mean_squared_error: 75.0614 - lr: 1.0000e-06\n",
      "Epoch 632/1000\n",
      "4/4 [==============================] - 0s 28ms/step - loss: 624.9171 - root_mean_squared_error: 24.9983 - val_loss: 5634.8970 - val_root_mean_squared_error: 75.0660 - lr: 1.0000e-06\n",
      "Epoch 633/1000\n",
      "4/4 [==============================] - 0s 29ms/step - loss: 624.4013 - root_mean_squared_error: 24.9880 - val_loss: 5634.4712 - val_root_mean_squared_error: 75.0631 - lr: 1.0000e-06\n",
      "Epoch 634/1000\n",
      "4/4 [==============================] - 0s 32ms/step - loss: 624.8943 - root_mean_squared_error: 24.9979 - val_loss: 5631.7007 - val_root_mean_squared_error: 75.0447 - lr: 1.0000e-06\n",
      "Epoch 635/1000\n",
      "4/4 [==============================] - 0s 30ms/step - loss: 624.0276 - root_mean_squared_error: 24.9805 - val_loss: 5632.3013 - val_root_mean_squared_error: 75.0487 - lr: 1.0000e-06\n",
      "Epoch 636/1000\n",
      "4/4 [==============================] - 0s 28ms/step - loss: 624.0198 - root_mean_squared_error: 24.9804 - val_loss: 5630.6123 - val_root_mean_squared_error: 75.0374 - lr: 1.0000e-06\n",
      "Epoch 637/1000\n",
      "4/4 [==============================] - 0s 28ms/step - loss: 623.7873 - root_mean_squared_error: 24.9757 - val_loss: 5630.2725 - val_root_mean_squared_error: 75.0351 - lr: 1.0000e-06\n",
      "Epoch 638/1000\n",
      "4/4 [==============================] - 0s 26ms/step - loss: 623.7560 - root_mean_squared_error: 24.9751 - val_loss: 5631.1777 - val_root_mean_squared_error: 75.0412 - lr: 1.0000e-06\n",
      "Epoch 639/1000\n",
      "4/4 [==============================] - 0s 36ms/step - loss: 623.4423 - root_mean_squared_error: 24.9688 - val_loss: 5629.9048 - val_root_mean_squared_error: 75.0327 - lr: 1.0000e-06\n",
      "Epoch 640/1000\n",
      "4/4 [==============================] - 0s 29ms/step - loss: 623.3712 - root_mean_squared_error: 24.9674 - val_loss: 5628.1201 - val_root_mean_squared_error: 75.0208 - lr: 1.0000e-06\n",
      "Epoch 641/1000\n",
      "4/4 [==============================] - 0s 30ms/step - loss: 623.1078 - root_mean_squared_error: 24.9621 - val_loss: 5625.4399 - val_root_mean_squared_error: 75.0029 - lr: 1.0000e-06\n",
      "Epoch 642/1000\n",
      "4/4 [==============================] - 0s 32ms/step - loss: 622.9019 - root_mean_squared_error: 24.9580 - val_loss: 5625.3022 - val_root_mean_squared_error: 75.0020 - lr: 1.0000e-06\n",
      "Epoch 643/1000\n",
      "4/4 [==============================] - 0s 30ms/step - loss: 622.9167 - root_mean_squared_error: 24.9583 - val_loss: 5625.9097 - val_root_mean_squared_error: 75.0061 - lr: 1.0000e-06\n",
      "Epoch 644/1000\n",
      "4/4 [==============================] - 0s 33ms/step - loss: 622.8467 - root_mean_squared_error: 24.9569 - val_loss: 5624.8818 - val_root_mean_squared_error: 74.9992 - lr: 1.0000e-06\n",
      "Epoch 645/1000\n",
      "4/4 [==============================] - 0s 27ms/step - loss: 622.8256 - root_mean_squared_error: 24.9565 - val_loss: 5624.7603 - val_root_mean_squared_error: 74.9984 - lr: 1.0000e-06\n",
      "Epoch 646/1000\n",
      "4/4 [==============================] - 0s 27ms/step - loss: 622.4269 - root_mean_squared_error: 24.9485 - val_loss: 5623.9146 - val_root_mean_squared_error: 74.9928 - lr: 1.0000e-06\n",
      "Epoch 647/1000\n",
      "4/4 [==============================] - 0s 28ms/step - loss: 622.1876 - root_mean_squared_error: 24.9437 - val_loss: 5622.2891 - val_root_mean_squared_error: 74.9819 - lr: 1.0000e-06\n",
      "Epoch 648/1000\n",
      "4/4 [==============================] - 0s 29ms/step - loss: 622.0671 - root_mean_squared_error: 24.9413 - val_loss: 5621.9336 - val_root_mean_squared_error: 74.9796 - lr: 1.0000e-06\n",
      "Epoch 649/1000\n",
      "4/4 [==============================] - 0s 28ms/step - loss: 621.8721 - root_mean_squared_error: 24.9374 - val_loss: 5621.8618 - val_root_mean_squared_error: 74.9791 - lr: 1.0000e-06\n",
      "Epoch 650/1000\n",
      "4/4 [==============================] - 0s 30ms/step - loss: 621.7655 - root_mean_squared_error: 24.9352 - val_loss: 5620.0034 - val_root_mean_squared_error: 74.9667 - lr: 1.0000e-06\n",
      "Epoch 651/1000\n",
      "4/4 [==============================] - 0s 29ms/step - loss: 621.8137 - root_mean_squared_error: 24.9362 - val_loss: 5622.3618 - val_root_mean_squared_error: 74.9824 - lr: 1.0000e-06\n",
      "Epoch 652/1000\n",
      "4/4 [==============================] - 0s 30ms/step - loss: 621.3868 - root_mean_squared_error: 24.9276 - val_loss: 5619.9458 - val_root_mean_squared_error: 74.9663 - lr: 1.0000e-06\n",
      "Epoch 653/1000\n",
      "4/4 [==============================] - 0s 30ms/step - loss: 621.2735 - root_mean_squared_error: 24.9254 - val_loss: 5617.9307 - val_root_mean_squared_error: 74.9529 - lr: 1.0000e-06\n",
      "Epoch 654/1000\n",
      "4/4 [==============================] - 0s 28ms/step - loss: 621.1002 - root_mean_squared_error: 24.9219 - val_loss: 5616.8623 - val_root_mean_squared_error: 74.9457 - lr: 1.0000e-06\n",
      "Epoch 655/1000\n",
      "4/4 [==============================] - 0s 25ms/step - loss: 620.9105 - root_mean_squared_error: 24.9181 - val_loss: 5616.4165 - val_root_mean_squared_error: 74.9427 - lr: 1.0000e-06\n",
      "Epoch 656/1000\n",
      "4/4 [==============================] - 0s 24ms/step - loss: 620.8195 - root_mean_squared_error: 24.9163 - val_loss: 5616.0654 - val_root_mean_squared_error: 74.9404 - lr: 1.0000e-06\n",
      "Epoch 657/1000\n",
      "4/4 [==============================] - 0s 23ms/step - loss: 620.5837 - root_mean_squared_error: 24.9115 - val_loss: 5615.7559 - val_root_mean_squared_error: 74.9383 - lr: 1.0000e-06\n",
      "Epoch 658/1000\n",
      "4/4 [==============================] - 0s 26ms/step - loss: 620.4131 - root_mean_squared_error: 24.9081 - val_loss: 5614.6709 - val_root_mean_squared_error: 74.9311 - lr: 1.0000e-06\n",
      "Epoch 659/1000\n",
      "4/4 [==============================] - 0s 30ms/step - loss: 620.1673 - root_mean_squared_error: 24.9032 - val_loss: 5616.1553 - val_root_mean_squared_error: 74.9410 - lr: 1.0000e-06\n",
      "Epoch 660/1000\n",
      "4/4 [==============================] - 0s 30ms/step - loss: 620.2247 - root_mean_squared_error: 24.9043 - val_loss: 5615.5815 - val_root_mean_squared_error: 74.9372 - lr: 1.0000e-06\n",
      "Epoch 661/1000\n",
      "4/4 [==============================] - 0s 30ms/step - loss: 620.3217 - root_mean_squared_error: 24.9063 - val_loss: 5613.2139 - val_root_mean_squared_error: 74.9214 - lr: 1.0000e-06\n",
      "Epoch 662/1000\n",
      "4/4 [==============================] - 0s 30ms/step - loss: 620.6985 - root_mean_squared_error: 24.9138 - val_loss: 5615.8516 - val_root_mean_squared_error: 74.9390 - lr: 1.0000e-06\n",
      "Epoch 663/1000\n",
      "4/4 [==============================] - 0s 29ms/step - loss: 619.7050 - root_mean_squared_error: 24.8939 - val_loss: 5613.8525 - val_root_mean_squared_error: 74.9257 - lr: 1.0000e-06\n",
      "Epoch 664/1000\n",
      "4/4 [==============================] - 0s 29ms/step - loss: 619.8615 - root_mean_squared_error: 24.8970 - val_loss: 5614.3618 - val_root_mean_squared_error: 74.9290 - lr: 1.0000e-06\n"
     ]
    },
    {
     "name": "stdout",
     "output_type": "stream",
     "text": [
      "Epoch 665/1000\n",
      "4/4 [==============================] - 0s 28ms/step - loss: 619.2842 - root_mean_squared_error: 24.8854 - val_loss: 5611.6694 - val_root_mean_squared_error: 74.9111 - lr: 1.0000e-06\n",
      "Epoch 666/1000\n",
      "4/4 [==============================] - 0s 25ms/step - loss: 619.2065 - root_mean_squared_error: 24.8839 - val_loss: 5610.1196 - val_root_mean_squared_error: 74.9007 - lr: 1.0000e-06\n",
      "Epoch 667/1000\n",
      "4/4 [==============================] - 0s 27ms/step - loss: 619.1185 - root_mean_squared_error: 24.8821 - val_loss: 5608.1738 - val_root_mean_squared_error: 74.8877 - lr: 1.0000e-06\n",
      "Epoch 668/1000\n",
      "4/4 [==============================] - 0s 25ms/step - loss: 618.9036 - root_mean_squared_error: 24.8778 - val_loss: 5608.6851 - val_root_mean_squared_error: 74.8912 - lr: 1.0000e-06\n",
      "Epoch 669/1000\n",
      "4/4 [==============================] - 0s 27ms/step - loss: 618.5982 - root_mean_squared_error: 24.8716 - val_loss: 5607.8018 - val_root_mean_squared_error: 74.8853 - lr: 1.0000e-06\n",
      "Epoch 670/1000\n",
      "4/4 [==============================] - 0s 26ms/step - loss: 619.0191 - root_mean_squared_error: 24.8801 - val_loss: 5606.9961 - val_root_mean_squared_error: 74.8799 - lr: 1.0000e-06\n",
      "Epoch 671/1000\n",
      "4/4 [==============================] - 0s 25ms/step - loss: 618.5670 - root_mean_squared_error: 24.8710 - val_loss: 5607.5371 - val_root_mean_squared_error: 74.8835 - lr: 1.0000e-06\n",
      "Epoch 672/1000\n",
      "4/4 [==============================] - 0s 29ms/step - loss: 618.2693 - root_mean_squared_error: 24.8650 - val_loss: 5606.8413 - val_root_mean_squared_error: 74.8788 - lr: 1.0000e-06\n",
      "Epoch 673/1000\n",
      "4/4 [==============================] - 0s 27ms/step - loss: 618.0720 - root_mean_squared_error: 24.8611 - val_loss: 5607.3989 - val_root_mean_squared_error: 74.8826 - lr: 1.0000e-06\n",
      "Epoch 674/1000\n",
      "4/4 [==============================] - 0s 29ms/step - loss: 618.1177 - root_mean_squared_error: 24.8620 - val_loss: 5605.4224 - val_root_mean_squared_error: 74.8694 - lr: 1.0000e-06\n",
      "Epoch 675/1000\n",
      "4/4 [==============================] - 0s 29ms/step - loss: 617.8315 - root_mean_squared_error: 24.8562 - val_loss: 5604.0386 - val_root_mean_squared_error: 74.8601 - lr: 1.0000e-06\n",
      "Epoch 676/1000\n",
      "4/4 [==============================] - 0s 28ms/step - loss: 617.6477 - root_mean_squared_error: 24.8525 - val_loss: 5601.4492 - val_root_mean_squared_error: 74.8428 - lr: 1.0000e-06\n",
      "Epoch 677/1000\n",
      "4/4 [==============================] - 0s 31ms/step - loss: 617.6645 - root_mean_squared_error: 24.8529 - val_loss: 5600.1777 - val_root_mean_squared_error: 74.8343 - lr: 1.0000e-06\n",
      "Epoch 678/1000\n",
      "4/4 [==============================] - 0s 31ms/step - loss: 617.1635 - root_mean_squared_error: 24.8428 - val_loss: 5601.0898 - val_root_mean_squared_error: 74.8404 - lr: 1.0000e-06\n",
      "Epoch 679/1000\n",
      "4/4 [==============================] - 0s 31ms/step - loss: 617.1135 - root_mean_squared_error: 24.8418 - val_loss: 5601.9609 - val_root_mean_squared_error: 74.8463 - lr: 1.0000e-06\n",
      "Epoch 680/1000\n",
      "4/4 [==============================] - 0s 29ms/step - loss: 617.2909 - root_mean_squared_error: 24.8453 - val_loss: 5602.6240 - val_root_mean_squared_error: 74.8507 - lr: 1.0000e-06\n",
      "Epoch 681/1000\n",
      "4/4 [==============================] - 0s 27ms/step - loss: 617.0202 - root_mean_squared_error: 24.8399 - val_loss: 5599.4053 - val_root_mean_squared_error: 74.8292 - lr: 1.0000e-06\n",
      "Epoch 682/1000\n",
      "4/4 [==============================] - 0s 24ms/step - loss: 616.9878 - root_mean_squared_error: 24.8392 - val_loss: 5602.5972 - val_root_mean_squared_error: 74.8505 - lr: 1.0000e-06\n",
      "Epoch 683/1000\n",
      "4/4 [==============================] - 0s 25ms/step - loss: 616.5362 - root_mean_squared_error: 24.8301 - val_loss: 5602.3643 - val_root_mean_squared_error: 74.8489 - lr: 1.0000e-06\n",
      "Epoch 684/1000\n",
      "4/4 [==============================] - 0s 24ms/step - loss: 616.2503 - root_mean_squared_error: 24.8244 - val_loss: 5601.1802 - val_root_mean_squared_error: 74.8410 - lr: 1.0000e-06\n",
      "Epoch 685/1000\n",
      "4/4 [==============================] - 0s 28ms/step - loss: 616.5654 - root_mean_squared_error: 24.8307 - val_loss: 5596.8896 - val_root_mean_squared_error: 74.8124 - lr: 1.0000e-06\n",
      "Epoch 686/1000\n",
      "4/4 [==============================] - 0s 29ms/step - loss: 616.0564 - root_mean_squared_error: 24.8205 - val_loss: 5596.2505 - val_root_mean_squared_error: 74.8081 - lr: 1.0000e-06\n",
      "Epoch 687/1000\n",
      "4/4 [==============================] - 0s 29ms/step - loss: 615.8741 - root_mean_squared_error: 24.8168 - val_loss: 5595.1055 - val_root_mean_squared_error: 74.8004 - lr: 1.0000e-06\n",
      "Epoch 688/1000\n",
      "4/4 [==============================] - 0s 30ms/step - loss: 615.8650 - root_mean_squared_error: 24.8166 - val_loss: 5593.3228 - val_root_mean_squared_error: 74.7885 - lr: 1.0000e-06\n",
      "Epoch 689/1000\n",
      "4/4 [==============================] - 0s 30ms/step - loss: 615.7004 - root_mean_squared_error: 24.8133 - val_loss: 5595.3018 - val_root_mean_squared_error: 74.8018 - lr: 1.0000e-06\n",
      "Epoch 690/1000\n",
      "4/4 [==============================] - 0s 32ms/step - loss: 615.5257 - root_mean_squared_error: 24.8098 - val_loss: 5595.9023 - val_root_mean_squared_error: 74.8058 - lr: 1.0000e-06\n",
      "Epoch 691/1000\n",
      "4/4 [==============================] - 0s 29ms/step - loss: 615.2675 - root_mean_squared_error: 24.8046 - val_loss: 5593.2832 - val_root_mean_squared_error: 74.7883 - lr: 1.0000e-06\n",
      "Epoch 692/1000\n",
      "4/4 [==============================] - 0s 26ms/step - loss: 615.6731 - root_mean_squared_error: 24.8128 - val_loss: 5594.4414 - val_root_mean_squared_error: 74.7960 - lr: 1.0000e-06\n",
      "Epoch 693/1000\n",
      "4/4 [==============================] - 0s 27ms/step - loss: 614.9106 - root_mean_squared_error: 24.7974 - val_loss: 5592.7788 - val_root_mean_squared_error: 74.7849 - lr: 1.0000e-06\n",
      "Epoch 694/1000\n",
      "4/4 [==============================] - 0s 27ms/step - loss: 614.9421 - root_mean_squared_error: 24.7980 - val_loss: 5589.7227 - val_root_mean_squared_error: 74.7645 - lr: 1.0000e-06\n",
      "Epoch 695/1000\n",
      "4/4 [==============================] - 0s 26ms/step - loss: 614.6769 - root_mean_squared_error: 24.7927 - val_loss: 5589.2300 - val_root_mean_squared_error: 74.7612 - lr: 1.0000e-06\n",
      "Epoch 696/1000\n",
      "4/4 [==============================] - 0s 24ms/step - loss: 614.5089 - root_mean_squared_error: 24.7893 - val_loss: 5589.7100 - val_root_mean_squared_error: 74.7644 - lr: 1.0000e-06\n",
      "Epoch 697/1000\n",
      "4/4 [==============================] - 0s 27ms/step - loss: 614.4160 - root_mean_squared_error: 24.7874 - val_loss: 5590.2437 - val_root_mean_squared_error: 74.7679 - lr: 1.0000e-06\n",
      "Epoch 698/1000\n",
      "4/4 [==============================] - 0s 27ms/step - loss: 614.1196 - root_mean_squared_error: 24.7814 - val_loss: 5591.1313 - val_root_mean_squared_error: 74.7739 - lr: 1.0000e-06\n",
      "Epoch 699/1000\n",
      "4/4 [==============================] - 0s 31ms/step - loss: 613.9033 - root_mean_squared_error: 24.7771 - val_loss: 5589.6084 - val_root_mean_squared_error: 74.7637 - lr: 1.0000e-06\n",
      "Epoch 700/1000\n",
      "4/4 [==============================] - 0s 31ms/step - loss: 614.0906 - root_mean_squared_error: 24.7809 - val_loss: 5588.2085 - val_root_mean_squared_error: 74.7543 - lr: 1.0000e-06\n",
      "Epoch 701/1000\n",
      "4/4 [==============================] - 0s 27ms/step - loss: 613.5749 - root_mean_squared_error: 24.7704 - val_loss: 5588.1567 - val_root_mean_squared_error: 74.7540 - lr: 1.0000e-06\n",
      "Epoch 702/1000\n",
      "4/4 [==============================] - 0s 29ms/step - loss: 613.7842 - root_mean_squared_error: 24.7747 - val_loss: 5586.1069 - val_root_mean_squared_error: 74.7403 - lr: 1.0000e-06\n",
      "Epoch 703/1000\n",
      "4/4 [==============================] - 0s 27ms/step - loss: 613.3047 - root_mean_squared_error: 24.7650 - val_loss: 5584.2646 - val_root_mean_squared_error: 74.7279 - lr: 1.0000e-06\n",
      "Epoch 704/1000\n",
      "4/4 [==============================] - 0s 25ms/step - loss: 613.1473 - root_mean_squared_error: 24.7618 - val_loss: 5583.3506 - val_root_mean_squared_error: 74.7218 - lr: 1.0000e-06\n",
      "Epoch 705/1000\n",
      "4/4 [==============================] - 0s 30ms/step - loss: 613.0330 - root_mean_squared_error: 24.7595 - val_loss: 5583.2949 - val_root_mean_squared_error: 74.7215 - lr: 1.0000e-06\n",
      "Epoch 706/1000\n",
      "4/4 [==============================] - 0s 30ms/step - loss: 612.8341 - root_mean_squared_error: 24.7555 - val_loss: 5584.7461 - val_root_mean_squared_error: 74.7312 - lr: 1.0000e-06\n"
     ]
    },
    {
     "name": "stdout",
     "output_type": "stream",
     "text": [
      "Epoch 707/1000\n",
      "4/4 [==============================] - 0s 31ms/step - loss: 612.7032 - root_mean_squared_error: 24.7528 - val_loss: 5582.6953 - val_root_mean_squared_error: 74.7174 - lr: 1.0000e-06\n",
      "Epoch 708/1000\n",
      "4/4 [==============================] - 0s 25ms/step - loss: 612.6612 - root_mean_squared_error: 24.7520 - val_loss: 5583.3945 - val_root_mean_squared_error: 74.7221 - lr: 1.0000e-06\n",
      "Epoch 709/1000\n",
      "4/4 [==============================] - 0s 26ms/step - loss: 612.7864 - root_mean_squared_error: 24.7545 - val_loss: 5581.3755 - val_root_mean_squared_error: 74.7086 - lr: 1.0000e-06\n",
      "Epoch 710/1000\n",
      "4/4 [==============================] - 0s 24ms/step - loss: 612.5063 - root_mean_squared_error: 24.7489 - val_loss: 5581.3271 - val_root_mean_squared_error: 74.7083 - lr: 1.0000e-06\n",
      "Epoch 711/1000\n",
      "4/4 [==============================] - 0s 24ms/step - loss: 612.0300 - root_mean_squared_error: 24.7392 - val_loss: 5578.9243 - val_root_mean_squared_error: 74.6922 - lr: 1.0000e-06\n",
      "Epoch 712/1000\n",
      "4/4 [==============================] - 0s 26ms/step - loss: 612.1947 - root_mean_squared_error: 24.7426 - val_loss: 5576.4077 - val_root_mean_squared_error: 74.6754 - lr: 1.0000e-06\n",
      "Epoch 713/1000\n",
      "4/4 [==============================] - 0s 29ms/step - loss: 611.9357 - root_mean_squared_error: 24.7373 - val_loss: 5573.9492 - val_root_mean_squared_error: 74.6589 - lr: 1.0000e-06\n",
      "Epoch 714/1000\n",
      "4/4 [==============================] - 0s 26ms/step - loss: 612.1672 - root_mean_squared_error: 24.7420 - val_loss: 5570.8882 - val_root_mean_squared_error: 74.6384 - lr: 1.0000e-06\n",
      "Epoch 715/1000\n",
      "4/4 [==============================] - 0s 29ms/step - loss: 612.0421 - root_mean_squared_error: 24.7395 - val_loss: 5574.2461 - val_root_mean_squared_error: 74.6609 - lr: 1.0000e-06\n",
      "Epoch 716/1000\n",
      "4/4 [==============================] - 0s 30ms/step - loss: 611.2875 - root_mean_squared_error: 24.7242 - val_loss: 5574.4932 - val_root_mean_squared_error: 74.6625 - lr: 1.0000e-06\n",
      "Epoch 717/1000\n",
      "4/4 [==============================] - 0s 31ms/step - loss: 611.0974 - root_mean_squared_error: 24.7204 - val_loss: 5574.3901 - val_root_mean_squared_error: 74.6618 - lr: 1.0000e-06\n",
      "Epoch 718/1000\n",
      "4/4 [==============================] - 0s 28ms/step - loss: 611.0437 - root_mean_squared_error: 24.7193 - val_loss: 5573.5181 - val_root_mean_squared_error: 74.6560 - lr: 1.0000e-06\n",
      "Epoch 719/1000\n",
      "4/4 [==============================] - 0s 29ms/step - loss: 610.7711 - root_mean_squared_error: 24.7138 - val_loss: 5571.4229 - val_root_mean_squared_error: 74.6420 - lr: 1.0000e-06\n",
      "Epoch 720/1000\n",
      "4/4 [==============================] - 0s 27ms/step - loss: 611.0541 - root_mean_squared_error: 24.7195 - val_loss: 5571.4922 - val_root_mean_squared_error: 74.6424 - lr: 1.0000e-06\n",
      "Epoch 721/1000\n",
      "4/4 [==============================] - 0s 24ms/step - loss: 610.4521 - root_mean_squared_error: 24.7073 - val_loss: 5571.2832 - val_root_mean_squared_error: 74.6410 - lr: 1.0000e-06\n",
      "Epoch 722/1000\n",
      "4/4 [==============================] - 0s 25ms/step - loss: 610.4767 - root_mean_squared_error: 24.7078 - val_loss: 5568.6431 - val_root_mean_squared_error: 74.6233 - lr: 1.0000e-06\n",
      "Epoch 723/1000\n",
      "4/4 [==============================] - 0s 24ms/step - loss: 610.1640 - root_mean_squared_error: 24.7015 - val_loss: 5569.3687 - val_root_mean_squared_error: 74.6282 - lr: 1.0000e-06\n",
      "Epoch 724/1000\n",
      "4/4 [==============================] - 0s 25ms/step - loss: 609.9134 - root_mean_squared_error: 24.6964 - val_loss: 5568.1704 - val_root_mean_squared_error: 74.6202 - lr: 1.0000e-06\n",
      "Epoch 725/1000\n",
      "4/4 [==============================] - 0s 27ms/step - loss: 609.9132 - root_mean_squared_error: 24.6964 - val_loss: 5566.4141 - val_root_mean_squared_error: 74.6084 - lr: 1.0000e-06\n",
      "Epoch 726/1000\n",
      "4/4 [==============================] - 0s 30ms/step - loss: 609.7676 - root_mean_squared_error: 24.6935 - val_loss: 5568.2197 - val_root_mean_squared_error: 74.6205 - lr: 1.0000e-06\n",
      "Epoch 727/1000\n",
      "4/4 [==============================] - 0s 30ms/step - loss: 610.0347 - root_mean_squared_error: 24.6989 - val_loss: 5564.9009 - val_root_mean_squared_error: 74.5983 - lr: 1.0000e-06\n",
      "Epoch 728/1000\n",
      "4/4 [==============================] - 0s 29ms/step - loss: 609.5594 - root_mean_squared_error: 24.6893 - val_loss: 5568.3750 - val_root_mean_squared_error: 74.6215 - lr: 1.0000e-06\n",
      "Epoch 729/1000\n",
      "4/4 [==============================] - 0s 29ms/step - loss: 609.2025 - root_mean_squared_error: 24.6820 - val_loss: 5568.5825 - val_root_mean_squared_error: 74.6229 - lr: 1.0000e-06\n",
      "Epoch 730/1000\n",
      "4/4 [==============================] - 0s 25ms/step - loss: 609.2941 - root_mean_squared_error: 24.6839 - val_loss: 5567.9653 - val_root_mean_squared_error: 74.6188 - lr: 1.0000e-06\n",
      "Epoch 731/1000\n",
      "4/4 [==============================] - 0s 30ms/step - loss: 608.8184 - root_mean_squared_error: 24.6742 - val_loss: 5568.3003 - val_root_mean_squared_error: 74.6210 - lr: 1.0000e-06\n",
      "Epoch 732/1000\n",
      "4/4 [==============================] - 0s 28ms/step - loss: 608.5010 - root_mean_squared_error: 24.6678 - val_loss: 5564.9653 - val_root_mean_squared_error: 74.5987 - lr: 1.0000e-06\n",
      "Epoch 733/1000\n",
      "4/4 [==============================] - 0s 29ms/step - loss: 608.3804 - root_mean_squared_error: 24.6654 - val_loss: 5564.2305 - val_root_mean_squared_error: 74.5938 - lr: 1.0000e-06\n",
      "Epoch 734/1000\n",
      "4/4 [==============================] - 0s 26ms/step - loss: 608.1580 - root_mean_squared_error: 24.6609 - val_loss: 5563.6914 - val_root_mean_squared_error: 74.5902 - lr: 1.0000e-06\n",
      "Epoch 735/1000\n",
      "4/4 [==============================] - 0s 29ms/step - loss: 607.8839 - root_mean_squared_error: 24.6553 - val_loss: 5563.7095 - val_root_mean_squared_error: 74.5903 - lr: 1.0000e-06\n",
      "Epoch 736/1000\n",
      "4/4 [==============================] - 0s 27ms/step - loss: 607.7883 - root_mean_squared_error: 24.6534 - val_loss: 5560.6768 - val_root_mean_squared_error: 74.5699 - lr: 1.0000e-06\n",
      "Epoch 737/1000\n",
      "4/4 [==============================] - 0s 26ms/step - loss: 607.7249 - root_mean_squared_error: 24.6521 - val_loss: 5563.3940 - val_root_mean_squared_error: 74.5882 - lr: 1.0000e-06\n",
      "Epoch 738/1000\n",
      "4/4 [==============================] - 0s 29ms/step - loss: 607.8221 - root_mean_squared_error: 24.6540 - val_loss: 5564.8760 - val_root_mean_squared_error: 74.5981 - lr: 1.0000e-06\n",
      "Epoch 739/1000\n",
      "4/4 [==============================] - 0s 28ms/step - loss: 607.1144 - root_mean_squared_error: 24.6397 - val_loss: 5562.4331 - val_root_mean_squared_error: 74.5817 - lr: 1.0000e-06\n",
      "Epoch 740/1000\n",
      "4/4 [==============================] - 0s 29ms/step - loss: 606.9451 - root_mean_squared_error: 24.6363 - val_loss: 5558.4316 - val_root_mean_squared_error: 74.5549 - lr: 1.0000e-06\n",
      "Epoch 741/1000\n",
      "4/4 [==============================] - 0s 30ms/step - loss: 606.7207 - root_mean_squared_error: 24.6317 - val_loss: 5557.0767 - val_root_mean_squared_error: 74.5458 - lr: 1.0000e-06\n",
      "Epoch 742/1000\n",
      "4/4 [==============================] - 0s 29ms/step - loss: 606.5526 - root_mean_squared_error: 24.6283 - val_loss: 5555.1509 - val_root_mean_squared_error: 74.5329 - lr: 1.0000e-06\n",
      "Epoch 743/1000\n",
      "4/4 [==============================] - 0s 31ms/step - loss: 606.4780 - root_mean_squared_error: 24.6268 - val_loss: 5556.9233 - val_root_mean_squared_error: 74.5448 - lr: 1.0000e-06\n",
      "Epoch 744/1000\n",
      "4/4 [==============================] - 0s 33ms/step - loss: 606.0079 - root_mean_squared_error: 24.6172 - val_loss: 5554.9790 - val_root_mean_squared_error: 74.5317 - lr: 1.0000e-06\n",
      "Epoch 745/1000\n",
      "4/4 [==============================] - 0s 31ms/step - loss: 606.0117 - root_mean_squared_error: 24.6173 - val_loss: 5554.2124 - val_root_mean_squared_error: 74.5266 - lr: 1.0000e-06\n",
      "Epoch 746/1000\n",
      "4/4 [==============================] - 0s 30ms/step - loss: 605.7397 - root_mean_squared_error: 24.6118 - val_loss: 5551.6411 - val_root_mean_squared_error: 74.5093 - lr: 1.0000e-06\n",
      "Epoch 747/1000\n",
      "4/4 [==============================] - 0s 32ms/step - loss: 606.2238 - root_mean_squared_error: 24.6216 - val_loss: 5555.0801 - val_root_mean_squared_error: 74.5324 - lr: 1.0000e-06\n",
      "Epoch 748/1000\n",
      "4/4 [==============================] - 0s 25ms/step - loss: 605.2090 - root_mean_squared_error: 24.6010 - val_loss: 5553.3252 - val_root_mean_squared_error: 74.5206 - lr: 1.0000e-06\n"
     ]
    },
    {
     "name": "stdout",
     "output_type": "stream",
     "text": [
      "Epoch 749/1000\n",
      "4/4 [==============================] - 0s 25ms/step - loss: 605.0754 - root_mean_squared_error: 24.5983 - val_loss: 5549.5381 - val_root_mean_squared_error: 74.4952 - lr: 1.0000e-06\n",
      "Epoch 750/1000\n",
      "4/4 [==============================] - 0s 24ms/step - loss: 605.1142 - root_mean_squared_error: 24.5991 - val_loss: 5549.3179 - val_root_mean_squared_error: 74.4937 - lr: 1.0000e-06\n",
      "Epoch 751/1000\n",
      "4/4 [==============================] - 0s 23ms/step - loss: 604.6387 - root_mean_squared_error: 24.5894 - val_loss: 5550.0479 - val_root_mean_squared_error: 74.4986 - lr: 1.0000e-06\n",
      "Epoch 752/1000\n",
      "4/4 [==============================] - 0s 29ms/step - loss: 604.4623 - root_mean_squared_error: 24.5858 - val_loss: 5549.1025 - val_root_mean_squared_error: 74.4923 - lr: 1.0000e-06\n",
      "Epoch 753/1000\n",
      "4/4 [==============================] - 0s 26ms/step - loss: 604.7793 - root_mean_squared_error: 24.5923 - val_loss: 5544.9946 - val_root_mean_squared_error: 74.4647 - lr: 1.0000e-06\n",
      "Epoch 754/1000\n",
      "4/4 [==============================] - 0s 31ms/step - loss: 604.1604 - root_mean_squared_error: 24.5797 - val_loss: 5545.2900 - val_root_mean_squared_error: 74.4667 - lr: 1.0000e-06\n",
      "Epoch 755/1000\n",
      "4/4 [==============================] - 0s 30ms/step - loss: 604.2974 - root_mean_squared_error: 24.5825 - val_loss: 5547.0625 - val_root_mean_squared_error: 74.4786 - lr: 1.0000e-06\n",
      "Epoch 756/1000\n",
      "4/4 [==============================] - 0s 31ms/step - loss: 604.0881 - root_mean_squared_error: 24.5782 - val_loss: 5548.3428 - val_root_mean_squared_error: 74.4872 - lr: 1.0000e-06\n",
      "Epoch 757/1000\n",
      "4/4 [==============================] - 0s 29ms/step - loss: 603.5110 - root_mean_squared_error: 24.5665 - val_loss: 5545.5444 - val_root_mean_squared_error: 74.4684 - lr: 1.0000e-06\n",
      "Epoch 758/1000\n",
      "4/4 [==============================] - 0s 30ms/step - loss: 603.2208 - root_mean_squared_error: 24.5606 - val_loss: 5543.4160 - val_root_mean_squared_error: 74.4541 - lr: 1.0000e-06\n",
      "Epoch 759/1000\n",
      "4/4 [==============================] - 0s 29ms/step - loss: 602.9945 - root_mean_squared_error: 24.5559 - val_loss: 5542.7690 - val_root_mean_squared_error: 74.4498 - lr: 1.0000e-06\n",
      "Epoch 760/1000\n",
      "4/4 [==============================] - 0s 29ms/step - loss: 603.5189 - root_mean_squared_error: 24.5666 - val_loss: 5545.7305 - val_root_mean_squared_error: 74.4697 - lr: 1.0000e-06\n",
      "Epoch 761/1000\n",
      "4/4 [==============================] - 0s 27ms/step - loss: 602.7455 - root_mean_squared_error: 24.5509 - val_loss: 5542.5820 - val_root_mean_squared_error: 74.4485 - lr: 1.0000e-06\n",
      "Epoch 762/1000\n",
      "4/4 [==============================] - 0s 29ms/step - loss: 602.5687 - root_mean_squared_error: 24.5473 - val_loss: 5540.7832 - val_root_mean_squared_error: 74.4364 - lr: 1.0000e-06\n",
      "Epoch 763/1000\n",
      "4/4 [==============================] - 0s 29ms/step - loss: 602.6964 - root_mean_squared_error: 24.5499 - val_loss: 5541.9600 - val_root_mean_squared_error: 74.4443 - lr: 1.0000e-06\n",
      "Epoch 764/1000\n",
      "4/4 [==============================] - 0s 29ms/step - loss: 602.6105 - root_mean_squared_error: 24.5481 - val_loss: 5537.2671 - val_root_mean_squared_error: 74.4128 - lr: 1.0000e-06\n",
      "Epoch 765/1000\n",
      "4/4 [==============================] - 0s 26ms/step - loss: 602.3958 - root_mean_squared_error: 24.5438 - val_loss: 5536.9185 - val_root_mean_squared_error: 74.4105 - lr: 1.0000e-06\n",
      "Epoch 766/1000\n",
      "4/4 [==============================] - 0s 27ms/step - loss: 601.8041 - root_mean_squared_error: 24.5317 - val_loss: 5538.8120 - val_root_mean_squared_error: 74.4232 - lr: 1.0000e-06\n",
      "Epoch 767/1000\n",
      "4/4 [==============================] - 0s 28ms/step - loss: 601.7555 - root_mean_squared_error: 24.5307 - val_loss: 5538.5806 - val_root_mean_squared_error: 74.4216 - lr: 1.0000e-06\n",
      "Epoch 768/1000\n",
      "4/4 [==============================] - 0s 27ms/step - loss: 601.5887 - root_mean_squared_error: 24.5273 - val_loss: 5537.7612 - val_root_mean_squared_error: 74.4161 - lr: 1.0000e-06\n",
      "Epoch 769/1000\n",
      "4/4 [==============================] - 0s 28ms/step - loss: 601.9209 - root_mean_squared_error: 24.5341 - val_loss: 5542.6221 - val_root_mean_squared_error: 74.4488 - lr: 1.0000e-06\n",
      "Epoch 770/1000\n",
      "4/4 [==============================] - 0s 28ms/step - loss: 601.2598 - root_mean_squared_error: 24.5206 - val_loss: 5540.0791 - val_root_mean_squared_error: 74.4317 - lr: 1.0000e-06\n",
      "Epoch 771/1000\n",
      "4/4 [==============================] - 0s 30ms/step - loss: 601.1981 - root_mean_squared_error: 24.5193 - val_loss: 5541.5605 - val_root_mean_squared_error: 74.4417 - lr: 1.0000e-06\n",
      "Epoch 772/1000\n",
      "4/4 [==============================] - 0s 29ms/step - loss: 600.9340 - root_mean_squared_error: 24.5140 - val_loss: 5540.9102 - val_root_mean_squared_error: 74.4373 - lr: 1.0000e-06\n",
      "Epoch 773/1000\n",
      "4/4 [==============================] - 0s 29ms/step - loss: 600.3726 - root_mean_squared_error: 24.5025 - val_loss: 5537.5820 - val_root_mean_squared_error: 74.4149 - lr: 1.0000e-06\n",
      "Epoch 774/1000\n",
      "4/4 [==============================] - 0s 33ms/step - loss: 600.1619 - root_mean_squared_error: 24.4982 - val_loss: 5535.9917 - val_root_mean_squared_error: 74.4042 - lr: 1.0000e-06\n",
      "Epoch 775/1000\n",
      "4/4 [==============================] - 0s 29ms/step - loss: 600.1905 - root_mean_squared_error: 24.4988 - val_loss: 5536.3525 - val_root_mean_squared_error: 74.4067 - lr: 1.0000e-06\n",
      "Epoch 776/1000\n",
      "4/4 [==============================] - 0s 25ms/step - loss: 599.8083 - root_mean_squared_error: 24.4910 - val_loss: 5534.1152 - val_root_mean_squared_error: 74.3916 - lr: 1.0000e-06\n",
      "Epoch 777/1000\n",
      "4/4 [==============================] - 0s 25ms/step - loss: 599.8168 - root_mean_squared_error: 24.4912 - val_loss: 5530.8711 - val_root_mean_squared_error: 74.3698 - lr: 1.0000e-06\n",
      "Epoch 778/1000\n",
      "4/4 [==============================] - 0s 25ms/step - loss: 600.1067 - root_mean_squared_error: 24.4971 - val_loss: 5529.8267 - val_root_mean_squared_error: 74.3628 - lr: 1.0000e-06\n",
      "Epoch 779/1000\n",
      "4/4 [==============================] - 0s 25ms/step - loss: 599.1739 - root_mean_squared_error: 24.4780 - val_loss: 5533.3130 - val_root_mean_squared_error: 74.3862 - lr: 1.0000e-06\n",
      "Epoch 780/1000\n",
      "4/4 [==============================] - 0s 29ms/step - loss: 599.4028 - root_mean_squared_error: 24.4827 - val_loss: 5535.1523 - val_root_mean_squared_error: 74.3986 - lr: 1.0000e-06\n",
      "Epoch 781/1000\n",
      "4/4 [==============================] - 0s 30ms/step - loss: 598.7647 - root_mean_squared_error: 24.4697 - val_loss: 5535.0986 - val_root_mean_squared_error: 74.3982 - lr: 1.0000e-06\n",
      "Epoch 782/1000\n",
      "4/4 [==============================] - 0s 32ms/step - loss: 598.9488 - root_mean_squared_error: 24.4734 - val_loss: 5536.2104 - val_root_mean_squared_error: 74.4057 - lr: 1.0000e-06\n",
      "Epoch 783/1000\n",
      "4/4 [==============================] - 0s 32ms/step - loss: 598.5459 - root_mean_squared_error: 24.4652 - val_loss: 5535.0723 - val_root_mean_squared_error: 74.3981 - lr: 1.0000e-06\n",
      "Epoch 784/1000\n",
      "4/4 [==============================] - 0s 32ms/step - loss: 598.2281 - root_mean_squared_error: 24.4587 - val_loss: 5534.6797 - val_root_mean_squared_error: 74.3954 - lr: 1.0000e-06\n",
      "Epoch 785/1000\n",
      "4/4 [==============================] - 0s 30ms/step - loss: 597.9727 - root_mean_squared_error: 24.4535 - val_loss: 5531.8901 - val_root_mean_squared_error: 74.3767 - lr: 1.0000e-06\n",
      "Epoch 786/1000\n",
      "4/4 [==============================] - 0s 29ms/step - loss: 597.6459 - root_mean_squared_error: 24.4468 - val_loss: 5531.7334 - val_root_mean_squared_error: 74.3756 - lr: 1.0000e-06\n",
      "Epoch 787/1000\n",
      "4/4 [==============================] - 0s 29ms/step - loss: 597.6323 - root_mean_squared_error: 24.4465 - val_loss: 5528.1768 - val_root_mean_squared_error: 74.3517 - lr: 1.0000e-06\n",
      "Epoch 788/1000\n",
      "4/4 [==============================] - 0s 29ms/step - loss: 597.5275 - root_mean_squared_error: 24.4444 - val_loss: 5527.1118 - val_root_mean_squared_error: 74.3445 - lr: 1.0000e-06\n",
      "Epoch 789/1000\n",
      "4/4 [==============================] - 0s 28ms/step - loss: 597.7696 - root_mean_squared_error: 24.4493 - val_loss: 5528.2773 - val_root_mean_squared_error: 74.3524 - lr: 1.0000e-06\n",
      "Epoch 790/1000\n",
      "4/4 [==============================] - 0s 24ms/step - loss: 596.9305 - root_mean_squared_error: 24.4322 - val_loss: 5525.5190 - val_root_mean_squared_error: 74.3338 - lr: 1.0000e-06\n"
     ]
    },
    {
     "name": "stdout",
     "output_type": "stream",
     "text": [
      "Epoch 791/1000\n",
      "4/4 [==============================] - 0s 26ms/step - loss: 596.6824 - root_mean_squared_error: 24.4271 - val_loss: 5525.2046 - val_root_mean_squared_error: 74.3317 - lr: 1.0000e-06\n",
      "Epoch 792/1000\n",
      "4/4 [==============================] - 0s 27ms/step - loss: 596.3605 - root_mean_squared_error: 24.4205 - val_loss: 5526.3320 - val_root_mean_squared_error: 74.3393 - lr: 1.0000e-06\n",
      "Epoch 793/1000\n",
      "4/4 [==============================] - 0s 25ms/step - loss: 596.2147 - root_mean_squared_error: 24.4175 - val_loss: 5526.7104 - val_root_mean_squared_error: 74.3419 - lr: 1.0000e-06\n",
      "Epoch 794/1000\n",
      "4/4 [==============================] - 0s 30ms/step - loss: 595.8698 - root_mean_squared_error: 24.4104 - val_loss: 5529.0029 - val_root_mean_squared_error: 74.3573 - lr: 1.0000e-06\n",
      "Epoch 795/1000\n",
      "4/4 [==============================] - 0s 26ms/step - loss: 595.5728 - root_mean_squared_error: 24.4044 - val_loss: 5528.1392 - val_root_mean_squared_error: 74.3515 - lr: 1.0000e-06\n",
      "Epoch 796/1000\n",
      "4/4 [==============================] - 0s 29ms/step - loss: 595.3645 - root_mean_squared_error: 24.4001 - val_loss: 5527.2441 - val_root_mean_squared_error: 74.3454 - lr: 1.0000e-06\n",
      "Epoch 797/1000\n",
      "4/4 [==============================] - 0s 30ms/step - loss: 595.1494 - root_mean_squared_error: 24.3957 - val_loss: 5525.8916 - val_root_mean_squared_error: 74.3363 - lr: 1.0000e-06\n",
      "Epoch 798/1000\n",
      "4/4 [==============================] - 0s 26ms/step - loss: 594.9182 - root_mean_squared_error: 24.3909 - val_loss: 5528.0889 - val_root_mean_squared_error: 74.3511 - lr: 1.0000e-06\n",
      "Epoch 799/1000\n",
      "4/4 [==============================] - 0s 28ms/step - loss: 594.6282 - root_mean_squared_error: 24.3850 - val_loss: 5528.3604 - val_root_mean_squared_error: 74.3529 - lr: 1.0000e-06\n",
      "Epoch 800/1000\n",
      "4/4 [==============================] - 0s 31ms/step - loss: 594.3594 - root_mean_squared_error: 24.3795 - val_loss: 5528.4453 - val_root_mean_squared_error: 74.3535 - lr: 1.0000e-06\n",
      "Epoch 801/1000\n",
      "4/4 [==============================] - 0s 31ms/step - loss: 594.4050 - root_mean_squared_error: 24.3804 - val_loss: 5529.7603 - val_root_mean_squared_error: 74.3624 - lr: 1.0000e-06\n",
      "Epoch 802/1000\n",
      "4/4 [==============================] - 0s 31ms/step - loss: 594.4437 - root_mean_squared_error: 24.3812 - val_loss: 5530.7393 - val_root_mean_squared_error: 74.3689 - lr: 1.0000e-06\n",
      "Epoch 803/1000\n",
      "4/4 [==============================] - 0s 31ms/step - loss: 593.8329 - root_mean_squared_error: 24.3687 - val_loss: 5528.2290 - val_root_mean_squared_error: 74.3521 - lr: 1.0000e-06\n",
      "Epoch 804/1000\n",
      "4/4 [==============================] - 0s 25ms/step - loss: 593.6606 - root_mean_squared_error: 24.3652 - val_loss: 5525.2256 - val_root_mean_squared_error: 74.3319 - lr: 1.0000e-06\n",
      "Epoch 805/1000\n",
      "4/4 [==============================] - 0s 23ms/step - loss: 593.4756 - root_mean_squared_error: 24.3614 - val_loss: 5525.7036 - val_root_mean_squared_error: 74.3351 - lr: 1.0000e-06\n",
      "Epoch 806/1000\n",
      "4/4 [==============================] - 0s 25ms/step - loss: 593.0763 - root_mean_squared_error: 24.3532 - val_loss: 5525.5698 - val_root_mean_squared_error: 74.3342 - lr: 1.0000e-06\n",
      "Epoch 807/1000\n",
      "4/4 [==============================] - 0s 26ms/step - loss: 592.8383 - root_mean_squared_error: 24.3483 - val_loss: 5526.1025 - val_root_mean_squared_error: 74.3378 - lr: 1.0000e-06\n",
      "Epoch 808/1000\n",
      "4/4 [==============================] - 0s 29ms/step - loss: 592.7369 - root_mean_squared_error: 24.3462 - val_loss: 5526.5859 - val_root_mean_squared_error: 74.3410 - lr: 1.0000e-06\n",
      "Epoch 809/1000\n",
      "4/4 [==============================] - 0s 29ms/step - loss: 592.6115 - root_mean_squared_error: 24.3436 - val_loss: 5524.5093 - val_root_mean_squared_error: 74.3270 - lr: 1.0000e-06\n",
      "Epoch 810/1000\n",
      "4/4 [==============================] - 0s 29ms/step - loss: 592.3651 - root_mean_squared_error: 24.3386 - val_loss: 5525.7002 - val_root_mean_squared_error: 74.3351 - lr: 1.0000e-06\n",
      "Epoch 811/1000\n",
      "4/4 [==============================] - 0s 31ms/step - loss: 592.2831 - root_mean_squared_error: 24.3369 - val_loss: 5526.9478 - val_root_mean_squared_error: 74.3434 - lr: 1.0000e-06\n",
      "Epoch 812/1000\n",
      "4/4 [==============================] - 0s 31ms/step - loss: 591.9516 - root_mean_squared_error: 24.3301 - val_loss: 5527.9277 - val_root_mean_squared_error: 74.3500 - lr: 1.0000e-06\n",
      "Epoch 813/1000\n",
      "4/4 [==============================] - 0s 31ms/step - loss: 592.0347 - root_mean_squared_error: 24.3318 - val_loss: 5529.5435 - val_root_mean_squared_error: 74.3609 - lr: 1.0000e-06\n",
      "Epoch 814/1000\n",
      "4/4 [==============================] - 0s 29ms/step - loss: 591.6017 - root_mean_squared_error: 24.3229 - val_loss: 5528.4556 - val_root_mean_squared_error: 74.3536 - lr: 1.0000e-06\n",
      "Epoch 815/1000\n",
      "4/4 [==============================] - 0s 29ms/step - loss: 591.5085 - root_mean_squared_error: 24.3209 - val_loss: 5528.0835 - val_root_mean_squared_error: 74.3511 - lr: 1.0000e-06\n",
      "Epoch 816/1000\n",
      "4/4 [==============================] - 0s 29ms/step - loss: 591.9799 - root_mean_squared_error: 24.3306 - val_loss: 5523.3745 - val_root_mean_squared_error: 74.3194 - lr: 1.0000e-06\n",
      "Epoch 817/1000\n",
      "4/4 [==============================] - 0s 28ms/step - loss: 591.1960 - root_mean_squared_error: 24.3145 - val_loss: 5521.2412 - val_root_mean_squared_error: 74.3051 - lr: 1.0000e-06\n",
      "Epoch 818/1000\n",
      "4/4 [==============================] - 0s 25ms/step - loss: 591.2010 - root_mean_squared_error: 24.3146 - val_loss: 5520.7778 - val_root_mean_squared_error: 74.3019 - lr: 1.0000e-06\n",
      "Epoch 819/1000\n",
      "4/4 [==============================] - 0s 26ms/step - loss: 590.8275 - root_mean_squared_error: 24.3069 - val_loss: 5522.7173 - val_root_mean_squared_error: 74.3150 - lr: 1.0000e-06\n",
      "Epoch 820/1000\n",
      "4/4 [==============================] - 0s 25ms/step - loss: 590.5377 - root_mean_squared_error: 24.3010 - val_loss: 5523.2896 - val_root_mean_squared_error: 74.3188 - lr: 1.0000e-06\n",
      "Epoch 821/1000\n",
      "4/4 [==============================] - 0s 34ms/step - loss: 591.4409 - root_mean_squared_error: 24.3196 - val_loss: 5525.9648 - val_root_mean_squared_error: 74.3368 - lr: 1.0000e-06\n",
      "Epoch 822/1000\n",
      "4/4 [==============================] - 0s 30ms/step - loss: 590.5507 - root_mean_squared_error: 24.3012 - val_loss: 5522.7334 - val_root_mean_squared_error: 74.3151 - lr: 1.0000e-06\n",
      "Epoch 823/1000\n",
      "4/4 [==============================] - 0s 27ms/step - loss: 590.2147 - root_mean_squared_error: 24.2943 - val_loss: 5521.2241 - val_root_mean_squared_error: 74.3049 - lr: 1.0000e-06\n",
      "Epoch 824/1000\n",
      "4/4 [==============================] - 0s 27ms/step - loss: 589.9968 - root_mean_squared_error: 24.2899 - val_loss: 5519.2964 - val_root_mean_squared_error: 74.2920 - lr: 1.0000e-06\n",
      "Epoch 825/1000\n",
      "4/4 [==============================] - 0s 29ms/step - loss: 589.8500 - root_mean_squared_error: 24.2868 - val_loss: 5520.3193 - val_root_mean_squared_error: 74.2989 - lr: 1.0000e-06\n",
      "Epoch 826/1000\n",
      "4/4 [==============================] - 0s 28ms/step - loss: 589.9656 - root_mean_squared_error: 24.2892 - val_loss: 5520.6470 - val_root_mean_squared_error: 74.3011 - lr: 1.0000e-06\n",
      "Epoch 827/1000\n",
      "4/4 [==============================] - 0s 29ms/step - loss: 589.5555 - root_mean_squared_error: 24.2808 - val_loss: 5519.9380 - val_root_mean_squared_error: 74.2963 - lr: 1.0000e-06\n",
      "Epoch 828/1000\n",
      "4/4 [==============================] - 0s 31ms/step - loss: 589.2950 - root_mean_squared_error: 24.2754 - val_loss: 5517.9443 - val_root_mean_squared_error: 74.2829 - lr: 1.0000e-06\n",
      "Epoch 829/1000\n",
      "4/4 [==============================] - 0s 31ms/step - loss: 589.2028 - root_mean_squared_error: 24.2735 - val_loss: 5518.3076 - val_root_mean_squared_error: 74.2853 - lr: 1.0000e-06\n",
      "Epoch 830/1000\n",
      "4/4 [==============================] - 0s 30ms/step - loss: 589.0513 - root_mean_squared_error: 24.2704 - val_loss: 5517.4834 - val_root_mean_squared_error: 74.2798 - lr: 1.0000e-06\n",
      "Epoch 831/1000\n",
      "4/4 [==============================] - 0s 29ms/step - loss: 588.9195 - root_mean_squared_error: 24.2677 - val_loss: 5515.5801 - val_root_mean_squared_error: 74.2669 - lr: 1.0000e-06\n",
      "Epoch 832/1000\n",
      "4/4 [==============================] - 0s 26ms/step - loss: 588.8111 - root_mean_squared_error: 24.2654 - val_loss: 5514.4307 - val_root_mean_squared_error: 74.2592 - lr: 1.0000e-06\n"
     ]
    },
    {
     "name": "stdout",
     "output_type": "stream",
     "text": [
      "Epoch 833/1000\n",
      "4/4 [==============================] - 0s 24ms/step - loss: 588.5544 - root_mean_squared_error: 24.2601 - val_loss: 5516.2334 - val_root_mean_squared_error: 74.2713 - lr: 1.0000e-06\n",
      "Epoch 834/1000\n",
      "4/4 [==============================] - 0s 25ms/step - loss: 588.5671 - root_mean_squared_error: 24.2604 - val_loss: 5518.6538 - val_root_mean_squared_error: 74.2876 - lr: 1.0000e-06\n",
      "Epoch 835/1000\n",
      "4/4 [==============================] - 0s 25ms/step - loss: 588.3442 - root_mean_squared_error: 24.2558 - val_loss: 5515.9072 - val_root_mean_squared_error: 74.2691 - lr: 1.0000e-06\n",
      "Epoch 836/1000\n",
      "4/4 [==============================] - 0s 27ms/step - loss: 588.1021 - root_mean_squared_error: 24.2508 - val_loss: 5515.9292 - val_root_mean_squared_error: 74.2693 - lr: 1.0000e-06\n",
      "Epoch 837/1000\n",
      "4/4 [==============================] - 0s 30ms/step - loss: 587.9183 - root_mean_squared_error: 24.2470 - val_loss: 5513.7563 - val_root_mean_squared_error: 74.2547 - lr: 1.0000e-06\n",
      "Epoch 838/1000\n",
      "4/4 [==============================] - 0s 29ms/step - loss: 587.7330 - root_mean_squared_error: 24.2432 - val_loss: 5510.9951 - val_root_mean_squared_error: 74.2361 - lr: 1.0000e-06\n",
      "Epoch 839/1000\n",
      "4/4 [==============================] - 0s 29ms/step - loss: 587.5516 - root_mean_squared_error: 24.2395 - val_loss: 5509.5000 - val_root_mean_squared_error: 74.2260 - lr: 1.0000e-06\n",
      "Epoch 840/1000\n",
      "4/4 [==============================] - 0s 30ms/step - loss: 587.6145 - root_mean_squared_error: 24.2408 - val_loss: 5509.7798 - val_root_mean_squared_error: 74.2279 - lr: 1.0000e-06\n",
      "Epoch 841/1000\n",
      "4/4 [==============================] - 0s 28ms/step - loss: 587.8722 - root_mean_squared_error: 24.2461 - val_loss: 5510.3135 - val_root_mean_squared_error: 74.2315 - lr: 1.0000e-06\n",
      "Epoch 842/1000\n",
      "4/4 [==============================] - 0s 29ms/step - loss: 587.5506 - root_mean_squared_error: 24.2394 - val_loss: 5508.8394 - val_root_mean_squared_error: 74.2215 - lr: 1.0000e-06\n",
      "Epoch 843/1000\n",
      "4/4 [==============================] - 0s 31ms/step - loss: 587.3523 - root_mean_squared_error: 24.2354 - val_loss: 5508.3774 - val_root_mean_squared_error: 74.2184 - lr: 1.0000e-06\n",
      "Epoch 844/1000\n",
      "4/4 [==============================] - 0s 29ms/step - loss: 586.8339 - root_mean_squared_error: 24.2247 - val_loss: 5508.6709 - val_root_mean_squared_error: 74.2204 - lr: 1.0000e-06\n",
      "Epoch 845/1000\n",
      "4/4 [==============================] - 0s 26ms/step - loss: 586.6838 - root_mean_squared_error: 24.2216 - val_loss: 5508.8013 - val_root_mean_squared_error: 74.2213 - lr: 1.0000e-06\n",
      "Epoch 846/1000\n",
      "4/4 [==============================] - 0s 25ms/step - loss: 587.0053 - root_mean_squared_error: 24.2282 - val_loss: 5504.5732 - val_root_mean_squared_error: 74.1928 - lr: 1.0000e-06\n",
      "Epoch 847/1000\n",
      "4/4 [==============================] - 0s 26ms/step - loss: 586.7827 - root_mean_squared_error: 24.2236 - val_loss: 5501.9619 - val_root_mean_squared_error: 74.1752 - lr: 1.0000e-06\n",
      "Epoch 848/1000\n",
      "4/4 [==============================] - 0s 25ms/step - loss: 586.1071 - root_mean_squared_error: 24.2096 - val_loss: 5502.4976 - val_root_mean_squared_error: 74.1788 - lr: 1.0000e-06\n",
      "Epoch 849/1000\n",
      "4/4 [==============================] - 0s 28ms/step - loss: 586.5343 - root_mean_squared_error: 24.2185 - val_loss: 5504.6582 - val_root_mean_squared_error: 74.1934 - lr: 1.0000e-06\n",
      "Epoch 850/1000\n",
      "4/4 [==============================] - 0s 30ms/step - loss: 586.0536 - root_mean_squared_error: 24.2085 - val_loss: 5504.0635 - val_root_mean_squared_error: 74.1894 - lr: 1.0000e-06\n",
      "Epoch 851/1000\n",
      "4/4 [==============================] - 0s 27ms/step - loss: 586.0402 - root_mean_squared_error: 24.2083 - val_loss: 5505.4053 - val_root_mean_squared_error: 74.1984 - lr: 1.0000e-06\n",
      "Epoch 852/1000\n",
      "4/4 [==============================] - 0s 29ms/step - loss: 585.6489 - root_mean_squared_error: 24.2002 - val_loss: 5505.2461 - val_root_mean_squared_error: 74.1973 - lr: 1.0000e-06\n",
      "Epoch 853/1000\n",
      "4/4 [==============================] - 0s 30ms/step - loss: 585.6245 - root_mean_squared_error: 24.1997 - val_loss: 5503.2554 - val_root_mean_squared_error: 74.1839 - lr: 1.0000e-06\n",
      "Epoch 854/1000\n",
      "4/4 [==============================] - 0s 25ms/step - loss: 585.4185 - root_mean_squared_error: 24.1954 - val_loss: 5503.4102 - val_root_mean_squared_error: 74.1850 - lr: 1.0000e-06\n",
      "Epoch 855/1000\n",
      "4/4 [==============================] - 0s 31ms/step - loss: 585.4849 - root_mean_squared_error: 24.1968 - val_loss: 5501.5132 - val_root_mean_squared_error: 74.1722 - lr: 1.0000e-06\n",
      "Epoch 856/1000\n",
      "4/4 [==============================] - 0s 30ms/step - loss: 584.9793 - root_mean_squared_error: 24.1863 - val_loss: 5500.2354 - val_root_mean_squared_error: 74.1636 - lr: 1.0000e-06\n",
      "Epoch 857/1000\n",
      "4/4 [==============================] - 0s 31ms/step - loss: 584.9709 - root_mean_squared_error: 24.1862 - val_loss: 5497.1641 - val_root_mean_squared_error: 74.1429 - lr: 1.0000e-06\n",
      "Epoch 858/1000\n",
      "4/4 [==============================] - 0s 26ms/step - loss: 584.8010 - root_mean_squared_error: 24.1827 - val_loss: 5495.2666 - val_root_mean_squared_error: 74.1301 - lr: 1.0000e-06\n",
      "Epoch 859/1000\n",
      "4/4 [==============================] - 0s 29ms/step - loss: 584.7003 - root_mean_squared_error: 24.1806 - val_loss: 5494.5059 - val_root_mean_squared_error: 74.1249 - lr: 1.0000e-06\n",
      "Epoch 860/1000\n",
      "4/4 [==============================] - 0s 24ms/step - loss: 584.6160 - root_mean_squared_error: 24.1788 - val_loss: 5493.3906 - val_root_mean_squared_error: 74.1174 - lr: 1.0000e-06\n",
      "Epoch 861/1000\n",
      "4/4 [==============================] - 0s 24ms/step - loss: 584.4323 - root_mean_squared_error: 24.1750 - val_loss: 5493.8550 - val_root_mean_squared_error: 74.1205 - lr: 1.0000e-06\n",
      "Epoch 862/1000\n",
      "4/4 [==============================] - 0s 24ms/step - loss: 584.7023 - root_mean_squared_error: 24.1806 - val_loss: 5490.4883 - val_root_mean_squared_error: 74.0978 - lr: 1.0000e-06\n",
      "Epoch 863/1000\n",
      "4/4 [==============================] - 0s 27ms/step - loss: 584.0822 - root_mean_squared_error: 24.1678 - val_loss: 5490.4287 - val_root_mean_squared_error: 74.0974 - lr: 1.0000e-06\n",
      "Epoch 864/1000\n",
      "4/4 [==============================] - 0s 29ms/step - loss: 584.0036 - root_mean_squared_error: 24.1662 - val_loss: 5488.5703 - val_root_mean_squared_error: 74.0849 - lr: 1.0000e-06\n",
      "Epoch 865/1000\n",
      "4/4 [==============================] - 0s 30ms/step - loss: 583.9566 - root_mean_squared_error: 24.1652 - val_loss: 5488.3975 - val_root_mean_squared_error: 74.0837 - lr: 1.0000e-06\n",
      "Epoch 866/1000\n",
      "4/4 [==============================] - 0s 31ms/step - loss: 583.6835 - root_mean_squared_error: 24.1595 - val_loss: 5491.0259 - val_root_mean_squared_error: 74.1015 - lr: 1.0000e-06\n",
      "Epoch 867/1000\n",
      "4/4 [==============================] - 0s 30ms/step - loss: 583.4601 - root_mean_squared_error: 24.1549 - val_loss: 5492.7554 - val_root_mean_squared_error: 74.1131 - lr: 1.0000e-06\n",
      "Epoch 868/1000\n",
      "4/4 [==============================] - 0s 30ms/step - loss: 583.4627 - root_mean_squared_error: 24.1550 - val_loss: 5492.0015 - val_root_mean_squared_error: 74.1080 - lr: 1.0000e-06\n",
      "Epoch 869/1000\n",
      "4/4 [==============================] - 0s 28ms/step - loss: 583.3263 - root_mean_squared_error: 24.1522 - val_loss: 5492.8149 - val_root_mean_squared_error: 74.1135 - lr: 1.0000e-06\n",
      "Epoch 870/1000\n",
      "4/4 [==============================] - 0s 28ms/step - loss: 583.5167 - root_mean_squared_error: 24.1561 - val_loss: 5489.1904 - val_root_mean_squared_error: 74.0891 - lr: 1.0000e-06\n",
      "Epoch 871/1000\n",
      "4/4 [==============================] - 0s 29ms/step - loss: 582.9858 - root_mean_squared_error: 24.1451 - val_loss: 5488.7871 - val_root_mean_squared_error: 74.0863 - lr: 1.0000e-06\n",
      "Epoch 872/1000\n",
      "4/4 [==============================] - 0s 29ms/step - loss: 582.9846 - root_mean_squared_error: 24.1451 - val_loss: 5485.8335 - val_root_mean_squared_error: 74.0664 - lr: 1.0000e-06\n",
      "Epoch 873/1000\n",
      "4/4 [==============================] - 0s 26ms/step - loss: 582.8892 - root_mean_squared_error: 24.1431 - val_loss: 5481.9600 - val_root_mean_squared_error: 74.0403 - lr: 1.0000e-06\n",
      "Epoch 874/1000\n",
      "4/4 [==============================] - 0s 24ms/step - loss: 582.5469 - root_mean_squared_error: 24.1360 - val_loss: 5482.7998 - val_root_mean_squared_error: 74.0459 - lr: 1.0000e-06\n"
     ]
    },
    {
     "name": "stdout",
     "output_type": "stream",
     "text": [
      "Epoch 875/1000\n",
      "4/4 [==============================] - 0s 26ms/step - loss: 582.4067 - root_mean_squared_error: 24.1331 - val_loss: 5484.7271 - val_root_mean_squared_error: 74.0589 - lr: 1.0000e-06\n",
      "Epoch 876/1000\n",
      "4/4 [==============================] - 0s 25ms/step - loss: 582.1967 - root_mean_squared_error: 24.1288 - val_loss: 5482.9946 - val_root_mean_squared_error: 74.0472 - lr: 1.0000e-06\n",
      "Epoch 877/1000\n",
      "4/4 [==============================] - 0s 28ms/step - loss: 582.0645 - root_mean_squared_error: 24.1260 - val_loss: 5480.3296 - val_root_mean_squared_error: 74.0293 - lr: 1.0000e-06\n",
      "Epoch 878/1000\n",
      "4/4 [==============================] - 0s 31ms/step - loss: 582.2955 - root_mean_squared_error: 24.1308 - val_loss: 5480.4761 - val_root_mean_squared_error: 74.0302 - lr: 1.0000e-06\n",
      "Epoch 879/1000\n",
      "4/4 [==============================] - 0s 28ms/step - loss: 581.7721 - root_mean_squared_error: 24.1200 - val_loss: 5481.3608 - val_root_mean_squared_error: 74.0362 - lr: 1.0000e-06\n",
      "Epoch 880/1000\n",
      "4/4 [==============================] - 0s 28ms/step - loss: 581.9222 - root_mean_squared_error: 24.1231 - val_loss: 5481.6094 - val_root_mean_squared_error: 74.0379 - lr: 1.0000e-06\n",
      "Epoch 881/1000\n",
      "4/4 [==============================] - 0s 28ms/step - loss: 581.5892 - root_mean_squared_error: 24.1162 - val_loss: 5480.3335 - val_root_mean_squared_error: 74.0293 - lr: 1.0000e-06\n",
      "Epoch 882/1000\n",
      "4/4 [==============================] - 0s 30ms/step - loss: 581.3830 - root_mean_squared_error: 24.1119 - val_loss: 5479.8149 - val_root_mean_squared_error: 74.0258 - lr: 1.0000e-06\n",
      "Epoch 883/1000\n",
      "4/4 [==============================] - 0s 30ms/step - loss: 581.3793 - root_mean_squared_error: 24.1118 - val_loss: 5478.8857 - val_root_mean_squared_error: 74.0195 - lr: 1.0000e-06\n",
      "Epoch 884/1000\n",
      "4/4 [==============================] - 0s 28ms/step - loss: 581.0903 - root_mean_squared_error: 24.1058 - val_loss: 5479.0103 - val_root_mean_squared_error: 74.0203 - lr: 1.0000e-06\n",
      "Epoch 885/1000\n",
      "4/4 [==============================] - 0s 27ms/step - loss: 580.8976 - root_mean_squared_error: 24.1018 - val_loss: 5477.4790 - val_root_mean_squared_error: 74.0100 - lr: 1.0000e-06\n",
      "Epoch 886/1000\n",
      "4/4 [==============================] - 0s 25ms/step - loss: 580.8959 - root_mean_squared_error: 24.1018 - val_loss: 5474.5210 - val_root_mean_squared_error: 73.9900 - lr: 1.0000e-06\n",
      "Epoch 887/1000\n",
      "4/4 [==============================] - 0s 27ms/step - loss: 580.8380 - root_mean_squared_error: 24.1006 - val_loss: 5472.8066 - val_root_mean_squared_error: 73.9784 - lr: 1.0000e-06\n",
      "Epoch 888/1000\n",
      "4/4 [==============================] - 0s 26ms/step - loss: 581.2997 - root_mean_squared_error: 24.1102 - val_loss: 5476.3882 - val_root_mean_squared_error: 74.0026 - lr: 1.0000e-06\n",
      "Epoch 889/1000\n",
      "4/4 [==============================] - 0s 29ms/step - loss: 580.4800 - root_mean_squared_error: 24.0932 - val_loss: 5476.3354 - val_root_mean_squared_error: 74.0023 - lr: 1.0000e-06\n",
      "Epoch 890/1000\n",
      "4/4 [==============================] - 0s 28ms/step - loss: 580.5802 - root_mean_squared_error: 24.0952 - val_loss: 5473.6011 - val_root_mean_squared_error: 73.9838 - lr: 1.0000e-06\n",
      "Epoch 891/1000\n",
      "4/4 [==============================] - 0s 26ms/step - loss: 580.1987 - root_mean_squared_error: 24.0873 - val_loss: 5471.5752 - val_root_mean_squared_error: 73.9701 - lr: 1.0000e-06\n",
      "Epoch 892/1000\n",
      "4/4 [==============================] - 0s 29ms/step - loss: 580.8622 - root_mean_squared_error: 24.1011 - val_loss: 5470.1289 - val_root_mean_squared_error: 73.9603 - lr: 1.0000e-06\n",
      "Epoch 893/1000\n",
      "4/4 [==============================] - 0s 29ms/step - loss: 579.7662 - root_mean_squared_error: 24.0783 - val_loss: 5469.8555 - val_root_mean_squared_error: 73.9585 - lr: 1.0000e-06\n",
      "Epoch 894/1000\n",
      "4/4 [==============================] - 0s 29ms/step - loss: 579.7305 - root_mean_squared_error: 24.0776 - val_loss: 5472.6172 - val_root_mean_squared_error: 73.9771 - lr: 1.0000e-06\n",
      "Epoch 895/1000\n",
      "4/4 [==============================] - 0s 29ms/step - loss: 579.7114 - root_mean_squared_error: 24.0772 - val_loss: 5473.5010 - val_root_mean_squared_error: 73.9831 - lr: 1.0000e-06\n",
      "Epoch 896/1000\n",
      "4/4 [==============================] - 0s 28ms/step - loss: 579.9562 - root_mean_squared_error: 24.0823 - val_loss: 5474.3457 - val_root_mean_squared_error: 73.9888 - lr: 1.0000e-06\n",
      "Epoch 897/1000\n",
      "4/4 [==============================] - 0s 30ms/step - loss: 579.5199 - root_mean_squared_error: 24.0732 - val_loss: 5470.5513 - val_root_mean_squared_error: 73.9632 - lr: 1.0000e-06\n",
      "Epoch 898/1000\n",
      "4/4 [==============================] - 0s 26ms/step - loss: 579.5999 - root_mean_squared_error: 24.0749 - val_loss: 5468.0723 - val_root_mean_squared_error: 73.9464 - lr: 1.0000e-06\n",
      "Epoch 899/1000\n",
      "4/4 [==============================] - 0s 25ms/step - loss: 579.0876 - root_mean_squared_error: 24.0642 - val_loss: 5468.5425 - val_root_mean_squared_error: 73.9496 - lr: 1.0000e-06\n",
      "Epoch 900/1000\n",
      "4/4 [==============================] - 0s 24ms/step - loss: 579.0822 - root_mean_squared_error: 24.0641 - val_loss: 5464.0713 - val_root_mean_squared_error: 73.9194 - lr: 1.0000e-06\n",
      "Epoch 901/1000\n",
      "4/4 [==============================] - 0s 24ms/step - loss: 579.1154 - root_mean_squared_error: 24.0648 - val_loss: 5464.5181 - val_root_mean_squared_error: 73.9224 - lr: 1.0000e-06\n",
      "Epoch 902/1000\n",
      "4/4 [==============================] - 0s 27ms/step - loss: 578.6111 - root_mean_squared_error: 24.0543 - val_loss: 5467.2588 - val_root_mean_squared_error: 73.9409 - lr: 1.0000e-06\n",
      "Epoch 903/1000\n",
      "4/4 [==============================] - 0s 27ms/step - loss: 578.5304 - root_mean_squared_error: 24.0527 - val_loss: 5467.8662 - val_root_mean_squared_error: 73.9450 - lr: 1.0000e-06\n",
      "Epoch 904/1000\n",
      "4/4 [==============================] - 0s 30ms/step - loss: 578.7179 - root_mean_squared_error: 24.0566 - val_loss: 5469.3330 - val_root_mean_squared_error: 73.9549 - lr: 1.0000e-06\n",
      "Epoch 905/1000\n",
      "4/4 [==============================] - 0s 30ms/step - loss: 578.3853 - root_mean_squared_error: 24.0496 - val_loss: 5468.1704 - val_root_mean_squared_error: 73.9471 - lr: 1.0000e-06\n",
      "Epoch 906/1000\n",
      "4/4 [==============================] - 0s 31ms/step - loss: 578.3231 - root_mean_squared_error: 24.0483 - val_loss: 5469.9897 - val_root_mean_squared_error: 73.9594 - lr: 1.0000e-06\n",
      "Epoch 907/1000\n",
      "4/4 [==============================] - 0s 31ms/step - loss: 578.0988 - root_mean_squared_error: 24.0437 - val_loss: 5468.0107 - val_root_mean_squared_error: 73.9460 - lr: 1.0000e-06\n",
      "Epoch 908/1000\n",
      "4/4 [==============================] - 0s 29ms/step - loss: 578.0000 - root_mean_squared_error: 24.0416 - val_loss: 5463.7622 - val_root_mean_squared_error: 73.9173 - lr: 1.0000e-06\n",
      "Epoch 909/1000\n",
      "4/4 [==============================] - 0s 29ms/step - loss: 577.6280 - root_mean_squared_error: 24.0339 - val_loss: 5461.9395 - val_root_mean_squared_error: 73.9049 - lr: 1.0000e-06\n",
      "Epoch 910/1000\n",
      "4/4 [==============================] - 0s 29ms/step - loss: 577.6968 - root_mean_squared_error: 24.0353 - val_loss: 5462.4785 - val_root_mean_squared_error: 73.9086 - lr: 1.0000e-06\n",
      "Epoch 911/1000\n",
      "4/4 [==============================] - 0s 29ms/step - loss: 577.5201 - root_mean_squared_error: 24.0316 - val_loss: 5464.2148 - val_root_mean_squared_error: 73.9203 - lr: 1.0000e-06\n",
      "Epoch 912/1000\n",
      "4/4 [==============================] - 0s 27ms/step - loss: 577.4836 - root_mean_squared_error: 24.0309 - val_loss: 5461.2915 - val_root_mean_squared_error: 73.9006 - lr: 1.0000e-06\n",
      "Epoch 913/1000\n",
      "4/4 [==============================] - 0s 29ms/step - loss: 577.2628 - root_mean_squared_error: 24.0263 - val_loss: 5460.9087 - val_root_mean_squared_error: 73.8980 - lr: 1.0000e-06\n",
      "Epoch 914/1000\n",
      "4/4 [==============================] - 0s 25ms/step - loss: 576.8847 - root_mean_squared_error: 24.0184 - val_loss: 5461.8540 - val_root_mean_squared_error: 73.9044 - lr: 1.0000e-06\n",
      "Epoch 915/1000\n",
      "4/4 [==============================] - 0s 25ms/step - loss: 576.8633 - root_mean_squared_error: 24.0180 - val_loss: 5462.2715 - val_root_mean_squared_error: 73.9072 - lr: 1.0000e-06\n",
      "Epoch 916/1000\n",
      "4/4 [==============================] - 0s 29ms/step - loss: 576.8292 - root_mean_squared_error: 24.0173 - val_loss: 5460.4829 - val_root_mean_squared_error: 73.8951 - lr: 1.0000e-06\n"
     ]
    },
    {
     "name": "stdout",
     "output_type": "stream",
     "text": [
      "Epoch 917/1000\n",
      "4/4 [==============================] - 0s 30ms/step - loss: 576.6716 - root_mean_squared_error: 24.0140 - val_loss: 5461.9287 - val_root_mean_squared_error: 73.9049 - lr: 1.0000e-06\n",
      "Epoch 918/1000\n",
      "4/4 [==============================] - 0s 27ms/step - loss: 576.4083 - root_mean_squared_error: 24.0085 - val_loss: 5461.9302 - val_root_mean_squared_error: 73.9049 - lr: 1.0000e-06\n",
      "Epoch 919/1000\n",
      "4/4 [==============================] - 0s 28ms/step - loss: 576.5953 - root_mean_squared_error: 24.0124 - val_loss: 5463.8062 - val_root_mean_squared_error: 73.9176 - lr: 1.0000e-06\n",
      "Epoch 920/1000\n",
      "4/4 [==============================] - 0s 29ms/step - loss: 576.1190 - root_mean_squared_error: 24.0025 - val_loss: 5460.9478 - val_root_mean_squared_error: 73.8982 - lr: 1.0000e-06\n",
      "Epoch 921/1000\n",
      "4/4 [==============================] - 0s 29ms/step - loss: 576.0621 - root_mean_squared_error: 24.0013 - val_loss: 5458.8081 - val_root_mean_squared_error: 73.8838 - lr: 1.0000e-06\n",
      "Epoch 922/1000\n",
      "4/4 [==============================] - 0s 33ms/step - loss: 575.7642 - root_mean_squared_error: 23.9951 - val_loss: 5457.0747 - val_root_mean_squared_error: 73.8720 - lr: 1.0000e-06\n",
      "Epoch 923/1000\n",
      "4/4 [==============================] - 0s 31ms/step - loss: 575.8160 - root_mean_squared_error: 23.9962 - val_loss: 5454.3735 - val_root_mean_squared_error: 73.8537 - lr: 1.0000e-06\n",
      "Epoch 924/1000\n",
      "4/4 [==============================] - 0s 28ms/step - loss: 575.7798 - root_mean_squared_error: 23.9954 - val_loss: 5456.0991 - val_root_mean_squared_error: 73.8654 - lr: 1.0000e-06\n",
      "Epoch 925/1000\n",
      "4/4 [==============================] - 0s 26ms/step - loss: 575.5885 - root_mean_squared_error: 23.9914 - val_loss: 5457.8320 - val_root_mean_squared_error: 73.8771 - lr: 1.0000e-06\n",
      "Epoch 926/1000\n",
      "4/4 [==============================] - 0s 24ms/step - loss: 575.4556 - root_mean_squared_error: 23.9887 - val_loss: 5457.4585 - val_root_mean_squared_error: 73.8746 - lr: 1.0000e-06\n",
      "Epoch 927/1000\n",
      "4/4 [==============================] - 0s 24ms/step - loss: 575.3821 - root_mean_squared_error: 23.9871 - val_loss: 5458.5635 - val_root_mean_squared_error: 73.8821 - lr: 1.0000e-06\n",
      "Epoch 928/1000\n",
      "4/4 [==============================] - 0s 25ms/step - loss: 575.0020 - root_mean_squared_error: 23.9792 - val_loss: 5457.0303 - val_root_mean_squared_error: 73.8717 - lr: 1.0000e-06\n",
      "Epoch 929/1000\n",
      "4/4 [==============================] - 0s 30ms/step - loss: 574.9604 - root_mean_squared_error: 23.9783 - val_loss: 5453.4263 - val_root_mean_squared_error: 73.8473 - lr: 1.0000e-06\n",
      "Epoch 930/1000\n",
      "4/4 [==============================] - 0s 30ms/step - loss: 574.8882 - root_mean_squared_error: 23.9768 - val_loss: 5454.3706 - val_root_mean_squared_error: 73.8537 - lr: 1.0000e-06\n",
      "Epoch 931/1000\n",
      "4/4 [==============================] - 0s 31ms/step - loss: 574.6786 - root_mean_squared_error: 23.9725 - val_loss: 5456.0010 - val_root_mean_squared_error: 73.8647 - lr: 1.0000e-06\n",
      "Epoch 932/1000\n",
      "4/4 [==============================] - 0s 31ms/step - loss: 574.6603 - root_mean_squared_error: 23.9721 - val_loss: 5455.4526 - val_root_mean_squared_error: 73.8610 - lr: 1.0000e-06\n",
      "Epoch 933/1000\n",
      "4/4 [==============================] - 0s 29ms/step - loss: 574.4514 - root_mean_squared_error: 23.9677 - val_loss: 5455.2095 - val_root_mean_squared_error: 73.8594 - lr: 1.0000e-06\n",
      "Epoch 934/1000\n",
      "4/4 [==============================] - 0s 30ms/step - loss: 574.2184 - root_mean_squared_error: 23.9629 - val_loss: 5452.0225 - val_root_mean_squared_error: 73.8378 - lr: 1.0000e-06\n",
      "Epoch 935/1000\n",
      "4/4 [==============================] - 0s 31ms/step - loss: 574.3013 - root_mean_squared_error: 23.9646 - val_loss: 5448.9077 - val_root_mean_squared_error: 73.8167 - lr: 1.0000e-06\n",
      "Epoch 936/1000\n",
      "4/4 [==============================] - 0s 28ms/step - loss: 574.6757 - root_mean_squared_error: 23.9724 - val_loss: 5445.4092 - val_root_mean_squared_error: 73.7930 - lr: 1.0000e-06\n",
      "Epoch 937/1000\n",
      "4/4 [==============================] - 0s 30ms/step - loss: 574.0009 - root_mean_squared_error: 23.9583 - val_loss: 5448.9629 - val_root_mean_squared_error: 73.8171 - lr: 1.0000e-06\n",
      "Epoch 938/1000\n",
      "4/4 [==============================] - 0s 24ms/step - loss: 573.9556 - root_mean_squared_error: 23.9574 - val_loss: 5452.9019 - val_root_mean_squared_error: 73.8438 - lr: 1.0000e-06\n",
      "Epoch 939/1000\n",
      "4/4 [==============================] - 0s 23ms/step - loss: 574.0920 - root_mean_squared_error: 23.9602 - val_loss: 5452.8979 - val_root_mean_squared_error: 73.8437 - lr: 1.0000e-06\n",
      "Epoch 940/1000\n",
      "4/4 [==============================] - 0s 25ms/step - loss: 573.4011 - root_mean_squared_error: 23.9458 - val_loss: 5451.5664 - val_root_mean_squared_error: 73.8347 - lr: 1.0000e-06\n",
      "Epoch 941/1000\n",
      "4/4 [==============================] - 0s 27ms/step - loss: 573.2356 - root_mean_squared_error: 23.9423 - val_loss: 5449.7256 - val_root_mean_squared_error: 73.8223 - lr: 1.0000e-06\n",
      "Epoch 942/1000\n",
      "4/4 [==============================] - 0s 29ms/step - loss: 573.1882 - root_mean_squared_error: 23.9414 - val_loss: 5446.6929 - val_root_mean_squared_error: 73.8017 - lr: 1.0000e-06\n",
      "Epoch 943/1000\n",
      "4/4 [==============================] - 0s 30ms/step - loss: 573.2105 - root_mean_squared_error: 23.9418 - val_loss: 5444.6304 - val_root_mean_squared_error: 73.7877 - lr: 1.0000e-06\n",
      "Epoch 944/1000\n",
      "4/4 [==============================] - 0s 29ms/step - loss: 572.8967 - root_mean_squared_error: 23.9353 - val_loss: 5442.5278 - val_root_mean_squared_error: 73.7735 - lr: 1.0000e-06\n",
      "Epoch 945/1000\n",
      "4/4 [==============================] - 0s 29ms/step - loss: 573.3784 - root_mean_squared_error: 23.9453 - val_loss: 5440.7158 - val_root_mean_squared_error: 73.7612 - lr: 1.0000e-06\n",
      "Epoch 946/1000\n",
      "4/4 [==============================] - 0s 29ms/step - loss: 572.6982 - root_mean_squared_error: 23.9311 - val_loss: 5443.1318 - val_root_mean_squared_error: 73.7776 - lr: 1.0000e-06\n",
      "Epoch 947/1000\n",
      "4/4 [==============================] - 0s 31ms/step - loss: 572.4288 - root_mean_squared_error: 23.9255 - val_loss: 5442.3833 - val_root_mean_squared_error: 73.7725 - lr: 1.0000e-06\n",
      "Epoch 948/1000\n",
      "4/4 [==============================] - 0s 28ms/step - loss: 572.2380 - root_mean_squared_error: 23.9215 - val_loss: 5442.0742 - val_root_mean_squared_error: 73.7704 - lr: 1.0000e-06\n",
      "Epoch 949/1000\n",
      "4/4 [==============================] - 0s 30ms/step - loss: 572.4261 - root_mean_squared_error: 23.9254 - val_loss: 5440.6650 - val_root_mean_squared_error: 73.7609 - lr: 1.0000e-06\n",
      "Epoch 950/1000\n",
      "4/4 [==============================] - 0s 31ms/step - loss: 571.9888 - root_mean_squared_error: 23.9163 - val_loss: 5439.1367 - val_root_mean_squared_error: 73.7505 - lr: 1.0000e-06\n",
      "Epoch 951/1000\n",
      "4/4 [==============================] - 0s 30ms/step - loss: 571.8552 - root_mean_squared_error: 23.9135 - val_loss: 5439.7725 - val_root_mean_squared_error: 73.7548 - lr: 1.0000e-06\n",
      "Epoch 952/1000\n",
      "4/4 [==============================] - 0s 27ms/step - loss: 571.8864 - root_mean_squared_error: 23.9141 - val_loss: 5439.2993 - val_root_mean_squared_error: 73.7516 - lr: 1.0000e-06\n",
      "Epoch 953/1000\n",
      "4/4 [==============================] - 0s 25ms/step - loss: 571.5051 - root_mean_squared_error: 23.9062 - val_loss: 5440.0640 - val_root_mean_squared_error: 73.7568 - lr: 1.0000e-06\n",
      "Epoch 954/1000\n",
      "4/4 [==============================] - 0s 24ms/step - loss: 571.3391 - root_mean_squared_error: 23.9027 - val_loss: 5441.4380 - val_root_mean_squared_error: 73.7661 - lr: 1.0000e-06\n",
      "Epoch 955/1000\n",
      "4/4 [==============================] - 0s 24ms/step - loss: 571.6844 - root_mean_squared_error: 23.9099 - val_loss: 5439.4180 - val_root_mean_squared_error: 73.7524 - lr: 1.0000e-06\n",
      "Epoch 956/1000\n",
      "4/4 [==============================] - 0s 26ms/step - loss: 571.4530 - root_mean_squared_error: 23.9051 - val_loss: 5443.2852 - val_root_mean_squared_error: 73.7786 - lr: 1.0000e-06\n",
      "Epoch 957/1000\n",
      "4/4 [==============================] - 0s 27ms/step - loss: 571.2130 - root_mean_squared_error: 23.9001 - val_loss: 5441.8032 - val_root_mean_squared_error: 73.7686 - lr: 1.0000e-06\n",
      "Epoch 958/1000\n",
      "4/4 [==============================] - 0s 28ms/step - loss: 571.1290 - root_mean_squared_error: 23.8983 - val_loss: 5442.3062 - val_root_mean_squared_error: 73.7720 - lr: 1.0000e-06\n"
     ]
    },
    {
     "name": "stdout",
     "output_type": "stream",
     "text": [
      "Epoch 959/1000\n",
      "4/4 [==============================] - 0s 29ms/step - loss: 570.9343 - root_mean_squared_error: 23.8942 - val_loss: 5438.3447 - val_root_mean_squared_error: 73.7451 - lr: 1.0000e-06\n",
      "Epoch 960/1000\n",
      "4/4 [==============================] - 0s 32ms/step - loss: 570.8496 - root_mean_squared_error: 23.8925 - val_loss: 5434.6504 - val_root_mean_squared_error: 73.7201 - lr: 1.0000e-06\n",
      "Epoch 961/1000\n",
      "4/4 [==============================] - 0s 29ms/step - loss: 570.9599 - root_mean_squared_error: 23.8948 - val_loss: 5437.3804 - val_root_mean_squared_error: 73.7386 - lr: 1.0000e-06\n",
      "Epoch 962/1000\n",
      "4/4 [==============================] - 0s 30ms/step - loss: 570.4645 - root_mean_squared_error: 23.8844 - val_loss: 5436.8818 - val_root_mean_squared_error: 73.7352 - lr: 1.0000e-06\n",
      "Epoch 963/1000\n",
      "4/4 [==============================] - 0s 30ms/step - loss: 570.3906 - root_mean_squared_error: 23.8829 - val_loss: 5432.7422 - val_root_mean_squared_error: 73.7071 - lr: 1.0000e-06\n",
      "Epoch 964/1000\n",
      "4/4 [==============================] - 0s 29ms/step - loss: 570.6304 - root_mean_squared_error: 23.8879 - val_loss: 5430.0825 - val_root_mean_squared_error: 73.6891 - lr: 1.0000e-06\n",
      "Epoch 965/1000\n",
      "4/4 [==============================] - 0s 24ms/step - loss: 570.3478 - root_mean_squared_error: 23.8820 - val_loss: 5433.8979 - val_root_mean_squared_error: 73.7150 - lr: 1.0000e-06\n",
      "Epoch 966/1000\n",
      "4/4 [==============================] - 0s 23ms/step - loss: 570.1453 - root_mean_squared_error: 23.8777 - val_loss: 5432.1543 - val_root_mean_squared_error: 73.7031 - lr: 1.0000e-06\n",
      "Epoch 967/1000\n",
      "4/4 [==============================] - 0s 25ms/step - loss: 569.6876 - root_mean_squared_error: 23.8681 - val_loss: 5431.1147 - val_root_mean_squared_error: 73.6961 - lr: 1.0000e-06\n",
      "Epoch 968/1000\n",
      "4/4 [==============================] - 0s 26ms/step - loss: 569.4508 - root_mean_squared_error: 23.8632 - val_loss: 5430.8931 - val_root_mean_squared_error: 73.6946 - lr: 1.0000e-06\n",
      "Epoch 969/1000\n",
      "4/4 [==============================] - 0s 28ms/step - loss: 569.5303 - root_mean_squared_error: 23.8648 - val_loss: 5432.2461 - val_root_mean_squared_error: 73.7038 - lr: 1.0000e-06\n",
      "Epoch 970/1000\n",
      "4/4 [==============================] - 0s 29ms/step - loss: 569.8110 - root_mean_squared_error: 23.8707 - val_loss: 5430.2603 - val_root_mean_squared_error: 73.6903 - lr: 1.0000e-06\n",
      "Epoch 971/1000\n",
      "4/4 [==============================] - 0s 30ms/step - loss: 569.0565 - root_mean_squared_error: 23.8549 - val_loss: 5430.0903 - val_root_mean_squared_error: 73.6891 - lr: 1.0000e-06\n",
      "Epoch 972/1000\n",
      "4/4 [==============================] - 0s 30ms/step - loss: 569.1396 - root_mean_squared_error: 23.8566 - val_loss: 5432.4399 - val_root_mean_squared_error: 73.7051 - lr: 1.0000e-06\n",
      "Epoch 973/1000\n",
      "4/4 [==============================] - 0s 29ms/step - loss: 569.0369 - root_mean_squared_error: 23.8545 - val_loss: 5431.8877 - val_root_mean_squared_error: 73.7013 - lr: 1.0000e-06\n",
      "Epoch 974/1000\n",
      "4/4 [==============================] - 0s 25ms/step - loss: 568.7184 - root_mean_squared_error: 23.8478 - val_loss: 5430.2715 - val_root_mean_squared_error: 73.6904 - lr: 1.0000e-06\n",
      "Epoch 975/1000\n",
      "4/4 [==============================] - 0s 29ms/step - loss: 568.7171 - root_mean_squared_error: 23.8478 - val_loss: 5427.9072 - val_root_mean_squared_error: 73.6743 - lr: 1.0000e-06\n",
      "Epoch 976/1000\n",
      "4/4 [==============================] - 0s 28ms/step - loss: 568.7532 - root_mean_squared_error: 23.8485 - val_loss: 5428.4541 - val_root_mean_squared_error: 73.6780 - lr: 1.0000e-06\n",
      "Epoch 977/1000\n",
      "4/4 [==============================] - 0s 28ms/step - loss: 568.4886 - root_mean_squared_error: 23.8430 - val_loss: 5426.4717 - val_root_mean_squared_error: 73.6646 - lr: 1.0000e-06\n",
      "Epoch 978/1000\n",
      "4/4 [==============================] - 0s 30ms/step - loss: 568.6962 - root_mean_squared_error: 23.8474 - val_loss: 5427.0903 - val_root_mean_squared_error: 73.6688 - lr: 1.0000e-06\n",
      "Epoch 979/1000\n",
      "4/4 [==============================] - 0s 26ms/step - loss: 567.9742 - root_mean_squared_error: 23.8322 - val_loss: 5423.6758 - val_root_mean_squared_error: 73.6456 - lr: 1.0000e-06\n",
      "Epoch 980/1000\n",
      "4/4 [==============================] - 0s 23ms/step - loss: 568.1976 - root_mean_squared_error: 23.8369 - val_loss: 5422.2563 - val_root_mean_squared_error: 73.6360 - lr: 1.0000e-06\n",
      "Epoch 981/1000\n",
      "4/4 [==============================] - 0s 25ms/step - loss: 567.9379 - root_mean_squared_error: 23.8314 - val_loss: 5423.6665 - val_root_mean_squared_error: 73.6455 - lr: 1.0000e-06\n",
      "Epoch 982/1000\n",
      "4/4 [==============================] - 0s 24ms/step - loss: 568.1721 - root_mean_squared_error: 23.8364 - val_loss: 5420.5923 - val_root_mean_squared_error: 73.6247 - lr: 1.0000e-06\n",
      "Epoch 983/1000\n",
      "4/4 [==============================] - 0s 25ms/step - loss: 567.8623 - root_mean_squared_error: 23.8299 - val_loss: 5422.7886 - val_root_mean_squared_error: 73.6396 - lr: 1.0000e-06\n",
      "Epoch 984/1000\n",
      "4/4 [==============================] - 0s 25ms/step - loss: 567.5017 - root_mean_squared_error: 23.8223 - val_loss: 5420.4976 - val_root_mean_squared_error: 73.6240 - lr: 1.0000e-06\n",
      "Epoch 985/1000\n",
      "4/4 [==============================] - 0s 28ms/step - loss: 567.3538 - root_mean_squared_error: 23.8192 - val_loss: 5419.4038 - val_root_mean_squared_error: 73.6166 - lr: 1.0000e-06\n",
      "Epoch 986/1000\n",
      "4/4 [==============================] - 0s 25ms/step - loss: 567.2687 - root_mean_squared_error: 23.8174 - val_loss: 5420.1289 - val_root_mean_squared_error: 73.6215 - lr: 1.0000e-06\n",
      "Epoch 987/1000\n",
      "4/4 [==============================] - 0s 25ms/step - loss: 567.6412 - root_mean_squared_error: 23.8252 - val_loss: 5421.9390 - val_root_mean_squared_error: 73.6338 - lr: 1.0000e-06\n",
      "Epoch 988/1000\n",
      "4/4 [==============================] - 0s 28ms/step - loss: 566.6317 - root_mean_squared_error: 23.8040 - val_loss: 5420.6182 - val_root_mean_squared_error: 73.6248 - lr: 1.0000e-06\n",
      "Epoch 989/1000\n",
      "4/4 [==============================] - 0s 30ms/step - loss: 567.9229 - root_mean_squared_error: 23.8311 - val_loss: 5415.2632 - val_root_mean_squared_error: 73.5885 - lr: 1.0000e-06\n",
      "Epoch 990/1000\n",
      "4/4 [==============================] - 0s 29ms/step - loss: 566.9369 - root_mean_squared_error: 23.8104 - val_loss: 5409.7275 - val_root_mean_squared_error: 73.5508 - lr: 1.0000e-06\n",
      "Epoch 991/1000\n",
      "4/4 [==============================] - 0s 28ms/step - loss: 566.9346 - root_mean_squared_error: 23.8104 - val_loss: 5416.0332 - val_root_mean_squared_error: 73.5937 - lr: 1.0000e-06\n",
      "Epoch 992/1000\n",
      "4/4 [==============================] - 0s 29ms/step - loss: 566.2507 - root_mean_squared_error: 23.7960 - val_loss: 5418.6304 - val_root_mean_squared_error: 73.6113 - lr: 1.0000e-06\n",
      "Epoch 993/1000\n",
      "4/4 [==============================] - 0s 23ms/step - loss: 566.6837 - root_mean_squared_error: 23.8051 - val_loss: 5423.3633 - val_root_mean_squared_error: 73.6435 - lr: 1.0000e-06\n",
      "Epoch 994/1000\n",
      "4/4 [==============================] - 0s 23ms/step - loss: 566.0861 - root_mean_squared_error: 23.7926 - val_loss: 5420.3862 - val_root_mean_squared_error: 73.6233 - lr: 1.0000e-06\n",
      "Epoch 995/1000\n",
      "4/4 [==============================] - 0s 24ms/step - loss: 566.2864 - root_mean_squared_error: 23.7968 - val_loss: 5423.4741 - val_root_mean_squared_error: 73.6442 - lr: 1.0000e-06\n",
      "Epoch 996/1000\n",
      "4/4 [==============================] - 0s 22ms/step - loss: 565.6704 - root_mean_squared_error: 23.7838 - val_loss: 5418.4473 - val_root_mean_squared_error: 73.6101 - lr: 1.0000e-06\n",
      "Epoch 997/1000\n",
      "4/4 [==============================] - 0s 23ms/step - loss: 565.6198 - root_mean_squared_error: 23.7828 - val_loss: 5418.5879 - val_root_mean_squared_error: 73.6111 - lr: 1.0000e-06\n",
      "Epoch 998/1000\n",
      "4/4 [==============================] - 0s 26ms/step - loss: 565.6843 - root_mean_squared_error: 23.7841 - val_loss: 5414.4614 - val_root_mean_squared_error: 73.5830 - lr: 1.0000e-06\n",
      "Epoch 999/1000\n",
      "4/4 [==============================] - 0s 27ms/step - loss: 565.4230 - root_mean_squared_error: 23.7786 - val_loss: 5413.8530 - val_root_mean_squared_error: 73.5789 - lr: 1.0000e-06\n",
      "Epoch 1000/1000\n",
      "4/4 [==============================] - 0s 29ms/step - loss: 565.3875 - root_mean_squared_error: 23.7779 - val_loss: 5416.0195 - val_root_mean_squared_error: 73.5936 - lr: 1.0000e-06\n"
     ]
    },
    {
     "data": {
      "application/javascript": [
       "\n",
       "            setTimeout(function() {\n",
       "                var nbb_cell_id = 181;\n",
       "                var nbb_unformatted_code = \"def Dataset(Data, Date):\\n\\n    Train_Data = Data[\\\"Adj Close\\\"][Data[\\\"Date\\\"] < Date].to_numpy()\\n    Data_Train = []\\n    Data_Train_X = []\\n    Data_Train_Y = []\\n    for i in range(0, len(Train_Data), 5):\\n        try:\\n            Data_Train.append(Train_Data[i : i + 5])\\n        except:\\n            pass\\n\\n    if len(Data_Train[-1]) < 5:\\n        Data_Train.pop(-1)\\n\\n    Data_Train_X = Data_Train[0:-1]\\n    Data_Train_X = np.array(Data_Train_X)\\n    Data_Train_X = Data_Train_X.reshape((-1, 5, 1))\\n    Data_Train_Y = Data_Train[1 : len(Data_Train)]\\n    Data_Train_Y = np.array(Data_Train_Y)\\n    Data_Train_Y = Data_Train_Y.reshape((-1, 5, 1))\\n\\n    Test_Data = Data[\\\"Adj Close\\\"][Data[\\\"Date\\\"] >= Date].to_numpy()\\n    Data_Test = []\\n    Data_Test_X = []\\n    Data_Test_Y = []\\n    for i in range(0, len(Test_Data), 5):\\n        try:\\n            Data_Test.append(Test_Data[i : i + 5])\\n        except:\\n            pass\\n\\n    if len(Data_Test[-1]) < 5:\\n        Data_Test.pop(-1)\\n\\n    Data_Test_X = Data_Test[0:-1]\\n    Data_Test_X = np.array(Data_Test_X)\\n    Data_Test_X = Data_Test_X.reshape((-1, 5, 1))\\n    Data_Test_Y = Data_Test[1 : len(Data_Test)]\\n    Data_Test_Y = np.array(Data_Test_Y)\\n    Data_Test_Y = Data_Test_Y.reshape((-1, 5, 1))\\n\\n    return Data_Train_X, Data_Train_Y, Data_Test_X, Data_Test_Y\\n\\n\\ndef Model():\\n    model = tf.keras.models.Sequential(\\n        [\\n            tf.keras.layers.LSTM(\\n                200,\\n                input_shape=(5, 1),\\n                activation=tf.nn.leaky_relu,\\n                return_sequences=True,\\n            ),\\n            tf.keras.layers.LSTM(200, activation=tf.nn.leaky_relu),\\n            tf.keras.layers.Dense(200, activation=tf.nn.leaky_relu),\\n            tf.keras.layers.Dense(100, activation=tf.nn.leaky_relu),\\n            tf.keras.layers.Dense(50, activation=tf.nn.leaky_relu),\\n            tf.keras.layers.Dense(5, activation=tf.nn.leaky_relu),\\n        ]\\n    )\\n    return model\\n\\n\\ndef scheduler(epoch):\\n\\n    if epoch <= 150:\\n        lrate = (10 ** -5) * (epoch / 150)\\n    elif epoch <= 400:\\n        initial_lrate = 10 ** -5\\n        k = 0.01\\n        lrate = initial_lrate * math.exp(-k * (epoch - 150))\\n    else:\\n        lrate = 10 ** -6\\n\\n    return lrate\\n\\n\\nepochs = [i for i in range(1, 1001, 1)]\\nlrate = [scheduler(i) for i in range(1, 1001, 1)]\\ncallback = tf.keras.callbacks.LearningRateScheduler(scheduler)\\n\\nTrain_X, Train_Y, Test_X, Test_Y = Dataset(asset_data, \\\"2021-10-01\\\")\\n\\n\\nmodel = Model()\\n\\nmodel.compile(\\n    optimizer=tf.keras.optimizers.Adam(),\\n    loss=\\\"mse\\\",\\n    metrics=tf.keras.metrics.RootMeanSquaredError(),\\n)\\n\\nhist = model.fit(\\n    Train_X,\\n    Train_Y,\\n    epochs=1000,\\n    validation_data=(Test_X, Test_Y),\\n    callbacks=[callback],\\n)\";\n",
       "                var nbb_formatted_code = \"def Dataset(Data, Date):\\n\\n    Train_Data = Data[\\\"Adj Close\\\"][Data[\\\"Date\\\"] < Date].to_numpy()\\n    Data_Train = []\\n    Data_Train_X = []\\n    Data_Train_Y = []\\n    for i in range(0, len(Train_Data), 5):\\n        try:\\n            Data_Train.append(Train_Data[i : i + 5])\\n        except:\\n            pass\\n\\n    if len(Data_Train[-1]) < 5:\\n        Data_Train.pop(-1)\\n\\n    Data_Train_X = Data_Train[0:-1]\\n    Data_Train_X = np.array(Data_Train_X)\\n    Data_Train_X = Data_Train_X.reshape((-1, 5, 1))\\n    Data_Train_Y = Data_Train[1 : len(Data_Train)]\\n    Data_Train_Y = np.array(Data_Train_Y)\\n    Data_Train_Y = Data_Train_Y.reshape((-1, 5, 1))\\n\\n    Test_Data = Data[\\\"Adj Close\\\"][Data[\\\"Date\\\"] >= Date].to_numpy()\\n    Data_Test = []\\n    Data_Test_X = []\\n    Data_Test_Y = []\\n    for i in range(0, len(Test_Data), 5):\\n        try:\\n            Data_Test.append(Test_Data[i : i + 5])\\n        except:\\n            pass\\n\\n    if len(Data_Test[-1]) < 5:\\n        Data_Test.pop(-1)\\n\\n    Data_Test_X = Data_Test[0:-1]\\n    Data_Test_X = np.array(Data_Test_X)\\n    Data_Test_X = Data_Test_X.reshape((-1, 5, 1))\\n    Data_Test_Y = Data_Test[1 : len(Data_Test)]\\n    Data_Test_Y = np.array(Data_Test_Y)\\n    Data_Test_Y = Data_Test_Y.reshape((-1, 5, 1))\\n\\n    return Data_Train_X, Data_Train_Y, Data_Test_X, Data_Test_Y\\n\\n\\ndef Model():\\n    model = tf.keras.models.Sequential(\\n        [\\n            tf.keras.layers.LSTM(\\n                200,\\n                input_shape=(5, 1),\\n                activation=tf.nn.leaky_relu,\\n                return_sequences=True,\\n            ),\\n            tf.keras.layers.LSTM(200, activation=tf.nn.leaky_relu),\\n            tf.keras.layers.Dense(200, activation=tf.nn.leaky_relu),\\n            tf.keras.layers.Dense(100, activation=tf.nn.leaky_relu),\\n            tf.keras.layers.Dense(50, activation=tf.nn.leaky_relu),\\n            tf.keras.layers.Dense(5, activation=tf.nn.leaky_relu),\\n        ]\\n    )\\n    return model\\n\\n\\ndef scheduler(epoch):\\n\\n    if epoch <= 150:\\n        lrate = (10 ** -5) * (epoch / 150)\\n    elif epoch <= 400:\\n        initial_lrate = 10 ** -5\\n        k = 0.01\\n        lrate = initial_lrate * math.exp(-k * (epoch - 150))\\n    else:\\n        lrate = 10 ** -6\\n\\n    return lrate\\n\\n\\nepochs = [i for i in range(1, 1001, 1)]\\nlrate = [scheduler(i) for i in range(1, 1001, 1)]\\ncallback = tf.keras.callbacks.LearningRateScheduler(scheduler)\\n\\nTrain_X, Train_Y, Test_X, Test_Y = Dataset(asset_data, \\\"2021-10-01\\\")\\n\\n\\nmodel = Model()\\n\\nmodel.compile(\\n    optimizer=tf.keras.optimizers.Adam(),\\n    loss=\\\"mse\\\",\\n    metrics=tf.keras.metrics.RootMeanSquaredError(),\\n)\\n\\nhist = model.fit(\\n    Train_X,\\n    Train_Y,\\n    epochs=1000,\\n    validation_data=(Test_X, Test_Y),\\n    callbacks=[callback],\\n)\";\n",
       "                var nbb_cells = Jupyter.notebook.get_cells();\n",
       "                for (var i = 0; i < nbb_cells.length; ++i) {\n",
       "                    if (nbb_cells[i].input_prompt_number == nbb_cell_id) {\n",
       "                        if (nbb_cells[i].get_text() == nbb_unformatted_code) {\n",
       "                             nbb_cells[i].set_text(nbb_formatted_code);\n",
       "                        }\n",
       "                        break;\n",
       "                    }\n",
       "                }\n",
       "            }, 500);\n",
       "            "
      ],
      "text/plain": [
       "<IPython.core.display.Javascript object>"
      ]
     },
     "metadata": {},
     "output_type": "display_data"
    },
    {
     "data": {
      "application/javascript": [
       "\n",
       "            setTimeout(function() {\n",
       "                var nbb_cell_id = 181;\n",
       "                var nbb_unformatted_code = \"def Dataset(Data, Date):\\n\\n    Train_Data = Data[\\\"Adj Close\\\"][Data[\\\"Date\\\"] < Date].to_numpy()\\n    Data_Train = []\\n    Data_Train_X = []\\n    Data_Train_Y = []\\n    for i in range(0, len(Train_Data), 5):\\n        try:\\n            Data_Train.append(Train_Data[i : i + 5])\\n        except:\\n            pass\\n\\n    if len(Data_Train[-1]) < 5:\\n        Data_Train.pop(-1)\\n\\n    Data_Train_X = Data_Train[0:-1]\\n    Data_Train_X = np.array(Data_Train_X)\\n    Data_Train_X = Data_Train_X.reshape((-1, 5, 1))\\n    Data_Train_Y = Data_Train[1 : len(Data_Train)]\\n    Data_Train_Y = np.array(Data_Train_Y)\\n    Data_Train_Y = Data_Train_Y.reshape((-1, 5, 1))\\n\\n    Test_Data = Data[\\\"Adj Close\\\"][Data[\\\"Date\\\"] >= Date].to_numpy()\\n    Data_Test = []\\n    Data_Test_X = []\\n    Data_Test_Y = []\\n    for i in range(0, len(Test_Data), 5):\\n        try:\\n            Data_Test.append(Test_Data[i : i + 5])\\n        except:\\n            pass\\n\\n    if len(Data_Test[-1]) < 5:\\n        Data_Test.pop(-1)\\n\\n    Data_Test_X = Data_Test[0:-1]\\n    Data_Test_X = np.array(Data_Test_X)\\n    Data_Test_X = Data_Test_X.reshape((-1, 5, 1))\\n    Data_Test_Y = Data_Test[1 : len(Data_Test)]\\n    Data_Test_Y = np.array(Data_Test_Y)\\n    Data_Test_Y = Data_Test_Y.reshape((-1, 5, 1))\\n\\n    return Data_Train_X, Data_Train_Y, Data_Test_X, Data_Test_Y\\n\\n\\ndef Model():\\n    model = tf.keras.models.Sequential(\\n        [\\n            tf.keras.layers.LSTM(\\n                200,\\n                input_shape=(5, 1),\\n                activation=tf.nn.leaky_relu,\\n                return_sequences=True,\\n            ),\\n            tf.keras.layers.LSTM(200, activation=tf.nn.leaky_relu),\\n            tf.keras.layers.Dense(200, activation=tf.nn.leaky_relu),\\n            tf.keras.layers.Dense(100, activation=tf.nn.leaky_relu),\\n            tf.keras.layers.Dense(50, activation=tf.nn.leaky_relu),\\n            tf.keras.layers.Dense(5, activation=tf.nn.leaky_relu),\\n        ]\\n    )\\n    return model\\n\\n\\ndef scheduler(epoch):\\n\\n    if epoch <= 150:\\n        lrate = (10 ** -5) * (epoch / 150)\\n    elif epoch <= 400:\\n        initial_lrate = 10 ** -5\\n        k = 0.01\\n        lrate = initial_lrate * math.exp(-k * (epoch - 150))\\n    else:\\n        lrate = 10 ** -6\\n\\n    return lrate\\n\\n\\nepochs = [i for i in range(1, 1001, 1)]\\nlrate = [scheduler(i) for i in range(1, 1001, 1)]\\ncallback = tf.keras.callbacks.LearningRateScheduler(scheduler)\\n\\nTrain_X, Train_Y, Test_X, Test_Y = Dataset(asset_data, \\\"2021-10-01\\\")\\n\\n\\nmodel = Model()\\n\\nmodel.compile(\\n    optimizer=tf.keras.optimizers.Adam(),\\n    loss=\\\"mse\\\",\\n    metrics=tf.keras.metrics.RootMeanSquaredError(),\\n)\\n\\nhist = model.fit(\\n    Train_X,\\n    Train_Y,\\n    epochs=1000,\\n    validation_data=(Test_X, Test_Y),\\n    callbacks=[callback],\\n)\";\n",
       "                var nbb_formatted_code = \"def Dataset(Data, Date):\\n\\n    Train_Data = Data[\\\"Adj Close\\\"][Data[\\\"Date\\\"] < Date].to_numpy()\\n    Data_Train = []\\n    Data_Train_X = []\\n    Data_Train_Y = []\\n    for i in range(0, len(Train_Data), 5):\\n        try:\\n            Data_Train.append(Train_Data[i : i + 5])\\n        except:\\n            pass\\n\\n    if len(Data_Train[-1]) < 5:\\n        Data_Train.pop(-1)\\n\\n    Data_Train_X = Data_Train[0:-1]\\n    Data_Train_X = np.array(Data_Train_X)\\n    Data_Train_X = Data_Train_X.reshape((-1, 5, 1))\\n    Data_Train_Y = Data_Train[1 : len(Data_Train)]\\n    Data_Train_Y = np.array(Data_Train_Y)\\n    Data_Train_Y = Data_Train_Y.reshape((-1, 5, 1))\\n\\n    Test_Data = Data[\\\"Adj Close\\\"][Data[\\\"Date\\\"] >= Date].to_numpy()\\n    Data_Test = []\\n    Data_Test_X = []\\n    Data_Test_Y = []\\n    for i in range(0, len(Test_Data), 5):\\n        try:\\n            Data_Test.append(Test_Data[i : i + 5])\\n        except:\\n            pass\\n\\n    if len(Data_Test[-1]) < 5:\\n        Data_Test.pop(-1)\\n\\n    Data_Test_X = Data_Test[0:-1]\\n    Data_Test_X = np.array(Data_Test_X)\\n    Data_Test_X = Data_Test_X.reshape((-1, 5, 1))\\n    Data_Test_Y = Data_Test[1 : len(Data_Test)]\\n    Data_Test_Y = np.array(Data_Test_Y)\\n    Data_Test_Y = Data_Test_Y.reshape((-1, 5, 1))\\n\\n    return Data_Train_X, Data_Train_Y, Data_Test_X, Data_Test_Y\\n\\n\\ndef Model():\\n    model = tf.keras.models.Sequential(\\n        [\\n            tf.keras.layers.LSTM(\\n                200,\\n                input_shape=(5, 1),\\n                activation=tf.nn.leaky_relu,\\n                return_sequences=True,\\n            ),\\n            tf.keras.layers.LSTM(200, activation=tf.nn.leaky_relu),\\n            tf.keras.layers.Dense(200, activation=tf.nn.leaky_relu),\\n            tf.keras.layers.Dense(100, activation=tf.nn.leaky_relu),\\n            tf.keras.layers.Dense(50, activation=tf.nn.leaky_relu),\\n            tf.keras.layers.Dense(5, activation=tf.nn.leaky_relu),\\n        ]\\n    )\\n    return model\\n\\n\\ndef scheduler(epoch):\\n\\n    if epoch <= 150:\\n        lrate = (10 ** -5) * (epoch / 150)\\n    elif epoch <= 400:\\n        initial_lrate = 10 ** -5\\n        k = 0.01\\n        lrate = initial_lrate * math.exp(-k * (epoch - 150))\\n    else:\\n        lrate = 10 ** -6\\n\\n    return lrate\\n\\n\\nepochs = [i for i in range(1, 1001, 1)]\\nlrate = [scheduler(i) for i in range(1, 1001, 1)]\\ncallback = tf.keras.callbacks.LearningRateScheduler(scheduler)\\n\\nTrain_X, Train_Y, Test_X, Test_Y = Dataset(asset_data, \\\"2021-10-01\\\")\\n\\n\\nmodel = Model()\\n\\nmodel.compile(\\n    optimizer=tf.keras.optimizers.Adam(),\\n    loss=\\\"mse\\\",\\n    metrics=tf.keras.metrics.RootMeanSquaredError(),\\n)\\n\\nhist = model.fit(\\n    Train_X,\\n    Train_Y,\\n    epochs=1000,\\n    validation_data=(Test_X, Test_Y),\\n    callbacks=[callback],\\n)\";\n",
       "                var nbb_cells = Jupyter.notebook.get_cells();\n",
       "                for (var i = 0; i < nbb_cells.length; ++i) {\n",
       "                    if (nbb_cells[i].input_prompt_number == nbb_cell_id) {\n",
       "                        if (nbb_cells[i].get_text() == nbb_unformatted_code) {\n",
       "                             nbb_cells[i].set_text(nbb_formatted_code);\n",
       "                        }\n",
       "                        break;\n",
       "                    }\n",
       "                }\n",
       "            }, 500);\n",
       "            "
      ],
      "text/plain": [
       "<IPython.core.display.Javascript object>"
      ]
     },
     "metadata": {},
     "output_type": "display_data"
    },
    {
     "data": {
      "application/javascript": [
       "\n",
       "            setTimeout(function() {\n",
       "                var nbb_cell_id = 181;\n",
       "                var nbb_unformatted_code = \"def Dataset(Data, Date):\\n\\n    Train_Data = Data[\\\"Adj Close\\\"][Data[\\\"Date\\\"] < Date].to_numpy()\\n    Data_Train = []\\n    Data_Train_X = []\\n    Data_Train_Y = []\\n    for i in range(0, len(Train_Data), 5):\\n        try:\\n            Data_Train.append(Train_Data[i : i + 5])\\n        except:\\n            pass\\n\\n    if len(Data_Train[-1]) < 5:\\n        Data_Train.pop(-1)\\n\\n    Data_Train_X = Data_Train[0:-1]\\n    Data_Train_X = np.array(Data_Train_X)\\n    Data_Train_X = Data_Train_X.reshape((-1, 5, 1))\\n    Data_Train_Y = Data_Train[1 : len(Data_Train)]\\n    Data_Train_Y = np.array(Data_Train_Y)\\n    Data_Train_Y = Data_Train_Y.reshape((-1, 5, 1))\\n\\n    Test_Data = Data[\\\"Adj Close\\\"][Data[\\\"Date\\\"] >= Date].to_numpy()\\n    Data_Test = []\\n    Data_Test_X = []\\n    Data_Test_Y = []\\n    for i in range(0, len(Test_Data), 5):\\n        try:\\n            Data_Test.append(Test_Data[i : i + 5])\\n        except:\\n            pass\\n\\n    if len(Data_Test[-1]) < 5:\\n        Data_Test.pop(-1)\\n\\n    Data_Test_X = Data_Test[0:-1]\\n    Data_Test_X = np.array(Data_Test_X)\\n    Data_Test_X = Data_Test_X.reshape((-1, 5, 1))\\n    Data_Test_Y = Data_Test[1 : len(Data_Test)]\\n    Data_Test_Y = np.array(Data_Test_Y)\\n    Data_Test_Y = Data_Test_Y.reshape((-1, 5, 1))\\n\\n    return Data_Train_X, Data_Train_Y, Data_Test_X, Data_Test_Y\\n\\n\\ndef Model():\\n    model = tf.keras.models.Sequential(\\n        [\\n            tf.keras.layers.LSTM(\\n                200,\\n                input_shape=(5, 1),\\n                activation=tf.nn.leaky_relu,\\n                return_sequences=True,\\n            ),\\n            tf.keras.layers.LSTM(200, activation=tf.nn.leaky_relu),\\n            tf.keras.layers.Dense(200, activation=tf.nn.leaky_relu),\\n            tf.keras.layers.Dense(100, activation=tf.nn.leaky_relu),\\n            tf.keras.layers.Dense(50, activation=tf.nn.leaky_relu),\\n            tf.keras.layers.Dense(5, activation=tf.nn.leaky_relu),\\n        ]\\n    )\\n    return model\\n\\n\\ndef scheduler(epoch):\\n\\n    if epoch <= 150:\\n        lrate = (10 ** -5) * (epoch / 150)\\n    elif epoch <= 400:\\n        initial_lrate = 10 ** -5\\n        k = 0.01\\n        lrate = initial_lrate * math.exp(-k * (epoch - 150))\\n    else:\\n        lrate = 10 ** -6\\n\\n    return lrate\\n\\n\\nepochs = [i for i in range(1, 1001, 1)]\\nlrate = [scheduler(i) for i in range(1, 1001, 1)]\\ncallback = tf.keras.callbacks.LearningRateScheduler(scheduler)\\n\\nTrain_X, Train_Y, Test_X, Test_Y = Dataset(asset_data, \\\"2021-10-01\\\")\\n\\n\\nmodel = Model()\\n\\nmodel.compile(\\n    optimizer=tf.keras.optimizers.Adam(),\\n    loss=\\\"mse\\\",\\n    metrics=tf.keras.metrics.RootMeanSquaredError(),\\n)\\n\\nhist = model.fit(\\n    Train_X,\\n    Train_Y,\\n    epochs=1000,\\n    validation_data=(Test_X, Test_Y),\\n    callbacks=[callback],\\n)\";\n",
       "                var nbb_formatted_code = \"def Dataset(Data, Date):\\n\\n    Train_Data = Data[\\\"Adj Close\\\"][Data[\\\"Date\\\"] < Date].to_numpy()\\n    Data_Train = []\\n    Data_Train_X = []\\n    Data_Train_Y = []\\n    for i in range(0, len(Train_Data), 5):\\n        try:\\n            Data_Train.append(Train_Data[i : i + 5])\\n        except:\\n            pass\\n\\n    if len(Data_Train[-1]) < 5:\\n        Data_Train.pop(-1)\\n\\n    Data_Train_X = Data_Train[0:-1]\\n    Data_Train_X = np.array(Data_Train_X)\\n    Data_Train_X = Data_Train_X.reshape((-1, 5, 1))\\n    Data_Train_Y = Data_Train[1 : len(Data_Train)]\\n    Data_Train_Y = np.array(Data_Train_Y)\\n    Data_Train_Y = Data_Train_Y.reshape((-1, 5, 1))\\n\\n    Test_Data = Data[\\\"Adj Close\\\"][Data[\\\"Date\\\"] >= Date].to_numpy()\\n    Data_Test = []\\n    Data_Test_X = []\\n    Data_Test_Y = []\\n    for i in range(0, len(Test_Data), 5):\\n        try:\\n            Data_Test.append(Test_Data[i : i + 5])\\n        except:\\n            pass\\n\\n    if len(Data_Test[-1]) < 5:\\n        Data_Test.pop(-1)\\n\\n    Data_Test_X = Data_Test[0:-1]\\n    Data_Test_X = np.array(Data_Test_X)\\n    Data_Test_X = Data_Test_X.reshape((-1, 5, 1))\\n    Data_Test_Y = Data_Test[1 : len(Data_Test)]\\n    Data_Test_Y = np.array(Data_Test_Y)\\n    Data_Test_Y = Data_Test_Y.reshape((-1, 5, 1))\\n\\n    return Data_Train_X, Data_Train_Y, Data_Test_X, Data_Test_Y\\n\\n\\ndef Model():\\n    model = tf.keras.models.Sequential(\\n        [\\n            tf.keras.layers.LSTM(\\n                200,\\n                input_shape=(5, 1),\\n                activation=tf.nn.leaky_relu,\\n                return_sequences=True,\\n            ),\\n            tf.keras.layers.LSTM(200, activation=tf.nn.leaky_relu),\\n            tf.keras.layers.Dense(200, activation=tf.nn.leaky_relu),\\n            tf.keras.layers.Dense(100, activation=tf.nn.leaky_relu),\\n            tf.keras.layers.Dense(50, activation=tf.nn.leaky_relu),\\n            tf.keras.layers.Dense(5, activation=tf.nn.leaky_relu),\\n        ]\\n    )\\n    return model\\n\\n\\ndef scheduler(epoch):\\n\\n    if epoch <= 150:\\n        lrate = (10 ** -5) * (epoch / 150)\\n    elif epoch <= 400:\\n        initial_lrate = 10 ** -5\\n        k = 0.01\\n        lrate = initial_lrate * math.exp(-k * (epoch - 150))\\n    else:\\n        lrate = 10 ** -6\\n\\n    return lrate\\n\\n\\nepochs = [i for i in range(1, 1001, 1)]\\nlrate = [scheduler(i) for i in range(1, 1001, 1)]\\ncallback = tf.keras.callbacks.LearningRateScheduler(scheduler)\\n\\nTrain_X, Train_Y, Test_X, Test_Y = Dataset(asset_data, \\\"2021-10-01\\\")\\n\\n\\nmodel = Model()\\n\\nmodel.compile(\\n    optimizer=tf.keras.optimizers.Adam(),\\n    loss=\\\"mse\\\",\\n    metrics=tf.keras.metrics.RootMeanSquaredError(),\\n)\\n\\nhist = model.fit(\\n    Train_X,\\n    Train_Y,\\n    epochs=1000,\\n    validation_data=(Test_X, Test_Y),\\n    callbacks=[callback],\\n)\";\n",
       "                var nbb_cells = Jupyter.notebook.get_cells();\n",
       "                for (var i = 0; i < nbb_cells.length; ++i) {\n",
       "                    if (nbb_cells[i].input_prompt_number == nbb_cell_id) {\n",
       "                        if (nbb_cells[i].get_text() == nbb_unformatted_code) {\n",
       "                             nbb_cells[i].set_text(nbb_formatted_code);\n",
       "                        }\n",
       "                        break;\n",
       "                    }\n",
       "                }\n",
       "            }, 500);\n",
       "            "
      ],
      "text/plain": [
       "<IPython.core.display.Javascript object>"
      ]
     },
     "metadata": {},
     "output_type": "display_data"
    },
    {
     "data": {
      "application/javascript": [
       "\n",
       "            setTimeout(function() {\n",
       "                var nbb_cell_id = 181;\n",
       "                var nbb_unformatted_code = \"def Dataset(Data, Date):\\n\\n    Train_Data = Data[\\\"Adj Close\\\"][Data[\\\"Date\\\"] < Date].to_numpy()\\n    Data_Train = []\\n    Data_Train_X = []\\n    Data_Train_Y = []\\n    for i in range(0, len(Train_Data), 5):\\n        try:\\n            Data_Train.append(Train_Data[i : i + 5])\\n        except:\\n            pass\\n\\n    if len(Data_Train[-1]) < 5:\\n        Data_Train.pop(-1)\\n\\n    Data_Train_X = Data_Train[0:-1]\\n    Data_Train_X = np.array(Data_Train_X)\\n    Data_Train_X = Data_Train_X.reshape((-1, 5, 1))\\n    Data_Train_Y = Data_Train[1 : len(Data_Train)]\\n    Data_Train_Y = np.array(Data_Train_Y)\\n    Data_Train_Y = Data_Train_Y.reshape((-1, 5, 1))\\n\\n    Test_Data = Data[\\\"Adj Close\\\"][Data[\\\"Date\\\"] >= Date].to_numpy()\\n    Data_Test = []\\n    Data_Test_X = []\\n    Data_Test_Y = []\\n    for i in range(0, len(Test_Data), 5):\\n        try:\\n            Data_Test.append(Test_Data[i : i + 5])\\n        except:\\n            pass\\n\\n    if len(Data_Test[-1]) < 5:\\n        Data_Test.pop(-1)\\n\\n    Data_Test_X = Data_Test[0:-1]\\n    Data_Test_X = np.array(Data_Test_X)\\n    Data_Test_X = Data_Test_X.reshape((-1, 5, 1))\\n    Data_Test_Y = Data_Test[1 : len(Data_Test)]\\n    Data_Test_Y = np.array(Data_Test_Y)\\n    Data_Test_Y = Data_Test_Y.reshape((-1, 5, 1))\\n\\n    return Data_Train_X, Data_Train_Y, Data_Test_X, Data_Test_Y\\n\\n\\ndef Model():\\n    model = tf.keras.models.Sequential(\\n        [\\n            tf.keras.layers.LSTM(\\n                200,\\n                input_shape=(5, 1),\\n                activation=tf.nn.leaky_relu,\\n                return_sequences=True,\\n            ),\\n            tf.keras.layers.LSTM(200, activation=tf.nn.leaky_relu),\\n            tf.keras.layers.Dense(200, activation=tf.nn.leaky_relu),\\n            tf.keras.layers.Dense(100, activation=tf.nn.leaky_relu),\\n            tf.keras.layers.Dense(50, activation=tf.nn.leaky_relu),\\n            tf.keras.layers.Dense(5, activation=tf.nn.leaky_relu),\\n        ]\\n    )\\n    return model\\n\\n\\ndef scheduler(epoch):\\n\\n    if epoch <= 150:\\n        lrate = (10 ** -5) * (epoch / 150)\\n    elif epoch <= 400:\\n        initial_lrate = 10 ** -5\\n        k = 0.01\\n        lrate = initial_lrate * math.exp(-k * (epoch - 150))\\n    else:\\n        lrate = 10 ** -6\\n\\n    return lrate\\n\\n\\nepochs = [i for i in range(1, 1001, 1)]\\nlrate = [scheduler(i) for i in range(1, 1001, 1)]\\ncallback = tf.keras.callbacks.LearningRateScheduler(scheduler)\\n\\nTrain_X, Train_Y, Test_X, Test_Y = Dataset(asset_data, \\\"2021-10-01\\\")\\n\\n\\nmodel = Model()\\n\\nmodel.compile(\\n    optimizer=tf.keras.optimizers.Adam(),\\n    loss=\\\"mse\\\",\\n    metrics=tf.keras.metrics.RootMeanSquaredError(),\\n)\\n\\nhist = model.fit(\\n    Train_X,\\n    Train_Y,\\n    epochs=1000,\\n    validation_data=(Test_X, Test_Y),\\n    callbacks=[callback],\\n)\";\n",
       "                var nbb_formatted_code = \"def Dataset(Data, Date):\\n\\n    Train_Data = Data[\\\"Adj Close\\\"][Data[\\\"Date\\\"] < Date].to_numpy()\\n    Data_Train = []\\n    Data_Train_X = []\\n    Data_Train_Y = []\\n    for i in range(0, len(Train_Data), 5):\\n        try:\\n            Data_Train.append(Train_Data[i : i + 5])\\n        except:\\n            pass\\n\\n    if len(Data_Train[-1]) < 5:\\n        Data_Train.pop(-1)\\n\\n    Data_Train_X = Data_Train[0:-1]\\n    Data_Train_X = np.array(Data_Train_X)\\n    Data_Train_X = Data_Train_X.reshape((-1, 5, 1))\\n    Data_Train_Y = Data_Train[1 : len(Data_Train)]\\n    Data_Train_Y = np.array(Data_Train_Y)\\n    Data_Train_Y = Data_Train_Y.reshape((-1, 5, 1))\\n\\n    Test_Data = Data[\\\"Adj Close\\\"][Data[\\\"Date\\\"] >= Date].to_numpy()\\n    Data_Test = []\\n    Data_Test_X = []\\n    Data_Test_Y = []\\n    for i in range(0, len(Test_Data), 5):\\n        try:\\n            Data_Test.append(Test_Data[i : i + 5])\\n        except:\\n            pass\\n\\n    if len(Data_Test[-1]) < 5:\\n        Data_Test.pop(-1)\\n\\n    Data_Test_X = Data_Test[0:-1]\\n    Data_Test_X = np.array(Data_Test_X)\\n    Data_Test_X = Data_Test_X.reshape((-1, 5, 1))\\n    Data_Test_Y = Data_Test[1 : len(Data_Test)]\\n    Data_Test_Y = np.array(Data_Test_Y)\\n    Data_Test_Y = Data_Test_Y.reshape((-1, 5, 1))\\n\\n    return Data_Train_X, Data_Train_Y, Data_Test_X, Data_Test_Y\\n\\n\\ndef Model():\\n    model = tf.keras.models.Sequential(\\n        [\\n            tf.keras.layers.LSTM(\\n                200,\\n                input_shape=(5, 1),\\n                activation=tf.nn.leaky_relu,\\n                return_sequences=True,\\n            ),\\n            tf.keras.layers.LSTM(200, activation=tf.nn.leaky_relu),\\n            tf.keras.layers.Dense(200, activation=tf.nn.leaky_relu),\\n            tf.keras.layers.Dense(100, activation=tf.nn.leaky_relu),\\n            tf.keras.layers.Dense(50, activation=tf.nn.leaky_relu),\\n            tf.keras.layers.Dense(5, activation=tf.nn.leaky_relu),\\n        ]\\n    )\\n    return model\\n\\n\\ndef scheduler(epoch):\\n\\n    if epoch <= 150:\\n        lrate = (10 ** -5) * (epoch / 150)\\n    elif epoch <= 400:\\n        initial_lrate = 10 ** -5\\n        k = 0.01\\n        lrate = initial_lrate * math.exp(-k * (epoch - 150))\\n    else:\\n        lrate = 10 ** -6\\n\\n    return lrate\\n\\n\\nepochs = [i for i in range(1, 1001, 1)]\\nlrate = [scheduler(i) for i in range(1, 1001, 1)]\\ncallback = tf.keras.callbacks.LearningRateScheduler(scheduler)\\n\\nTrain_X, Train_Y, Test_X, Test_Y = Dataset(asset_data, \\\"2021-10-01\\\")\\n\\n\\nmodel = Model()\\n\\nmodel.compile(\\n    optimizer=tf.keras.optimizers.Adam(),\\n    loss=\\\"mse\\\",\\n    metrics=tf.keras.metrics.RootMeanSquaredError(),\\n)\\n\\nhist = model.fit(\\n    Train_X,\\n    Train_Y,\\n    epochs=1000,\\n    validation_data=(Test_X, Test_Y),\\n    callbacks=[callback],\\n)\";\n",
       "                var nbb_cells = Jupyter.notebook.get_cells();\n",
       "                for (var i = 0; i < nbb_cells.length; ++i) {\n",
       "                    if (nbb_cells[i].input_prompt_number == nbb_cell_id) {\n",
       "                        if (nbb_cells[i].get_text() == nbb_unformatted_code) {\n",
       "                             nbb_cells[i].set_text(nbb_formatted_code);\n",
       "                        }\n",
       "                        break;\n",
       "                    }\n",
       "                }\n",
       "            }, 500);\n",
       "            "
      ],
      "text/plain": [
       "<IPython.core.display.Javascript object>"
      ]
     },
     "metadata": {},
     "output_type": "display_data"
    },
    {
     "data": {
      "application/javascript": [
       "\n",
       "            setTimeout(function() {\n",
       "                var nbb_cell_id = 181;\n",
       "                var nbb_unformatted_code = \"def Dataset(Data, Date):\\n\\n    Train_Data = Data[\\\"Adj Close\\\"][Data[\\\"Date\\\"] < Date].to_numpy()\\n    Data_Train = []\\n    Data_Train_X = []\\n    Data_Train_Y = []\\n    for i in range(0, len(Train_Data), 5):\\n        try:\\n            Data_Train.append(Train_Data[i : i + 5])\\n        except:\\n            pass\\n\\n    if len(Data_Train[-1]) < 5:\\n        Data_Train.pop(-1)\\n\\n    Data_Train_X = Data_Train[0:-1]\\n    Data_Train_X = np.array(Data_Train_X)\\n    Data_Train_X = Data_Train_X.reshape((-1, 5, 1))\\n    Data_Train_Y = Data_Train[1 : len(Data_Train)]\\n    Data_Train_Y = np.array(Data_Train_Y)\\n    Data_Train_Y = Data_Train_Y.reshape((-1, 5, 1))\\n\\n    Test_Data = Data[\\\"Adj Close\\\"][Data[\\\"Date\\\"] >= Date].to_numpy()\\n    Data_Test = []\\n    Data_Test_X = []\\n    Data_Test_Y = []\\n    for i in range(0, len(Test_Data), 5):\\n        try:\\n            Data_Test.append(Test_Data[i : i + 5])\\n        except:\\n            pass\\n\\n    if len(Data_Test[-1]) < 5:\\n        Data_Test.pop(-1)\\n\\n    Data_Test_X = Data_Test[0:-1]\\n    Data_Test_X = np.array(Data_Test_X)\\n    Data_Test_X = Data_Test_X.reshape((-1, 5, 1))\\n    Data_Test_Y = Data_Test[1 : len(Data_Test)]\\n    Data_Test_Y = np.array(Data_Test_Y)\\n    Data_Test_Y = Data_Test_Y.reshape((-1, 5, 1))\\n\\n    return Data_Train_X, Data_Train_Y, Data_Test_X, Data_Test_Y\\n\\n\\ndef Model():\\n    model = tf.keras.models.Sequential(\\n        [\\n            tf.keras.layers.LSTM(\\n                200,\\n                input_shape=(5, 1),\\n                activation=tf.nn.leaky_relu,\\n                return_sequences=True,\\n            ),\\n            tf.keras.layers.LSTM(200, activation=tf.nn.leaky_relu),\\n            tf.keras.layers.Dense(200, activation=tf.nn.leaky_relu),\\n            tf.keras.layers.Dense(100, activation=tf.nn.leaky_relu),\\n            tf.keras.layers.Dense(50, activation=tf.nn.leaky_relu),\\n            tf.keras.layers.Dense(5, activation=tf.nn.leaky_relu),\\n        ]\\n    )\\n    return model\\n\\n\\ndef scheduler(epoch):\\n\\n    if epoch <= 150:\\n        lrate = (10 ** -5) * (epoch / 150)\\n    elif epoch <= 400:\\n        initial_lrate = 10 ** -5\\n        k = 0.01\\n        lrate = initial_lrate * math.exp(-k * (epoch - 150))\\n    else:\\n        lrate = 10 ** -6\\n\\n    return lrate\\n\\n\\nepochs = [i for i in range(1, 1001, 1)]\\nlrate = [scheduler(i) for i in range(1, 1001, 1)]\\ncallback = tf.keras.callbacks.LearningRateScheduler(scheduler)\\n\\nTrain_X, Train_Y, Test_X, Test_Y = Dataset(asset_data, \\\"2021-10-01\\\")\\n\\n\\nmodel = Model()\\n\\nmodel.compile(\\n    optimizer=tf.keras.optimizers.Adam(),\\n    loss=\\\"mse\\\",\\n    metrics=tf.keras.metrics.RootMeanSquaredError(),\\n)\\n\\nhist = model.fit(\\n    Train_X,\\n    Train_Y,\\n    epochs=1000,\\n    validation_data=(Test_X, Test_Y),\\n    callbacks=[callback],\\n)\";\n",
       "                var nbb_formatted_code = \"def Dataset(Data, Date):\\n\\n    Train_Data = Data[\\\"Adj Close\\\"][Data[\\\"Date\\\"] < Date].to_numpy()\\n    Data_Train = []\\n    Data_Train_X = []\\n    Data_Train_Y = []\\n    for i in range(0, len(Train_Data), 5):\\n        try:\\n            Data_Train.append(Train_Data[i : i + 5])\\n        except:\\n            pass\\n\\n    if len(Data_Train[-1]) < 5:\\n        Data_Train.pop(-1)\\n\\n    Data_Train_X = Data_Train[0:-1]\\n    Data_Train_X = np.array(Data_Train_X)\\n    Data_Train_X = Data_Train_X.reshape((-1, 5, 1))\\n    Data_Train_Y = Data_Train[1 : len(Data_Train)]\\n    Data_Train_Y = np.array(Data_Train_Y)\\n    Data_Train_Y = Data_Train_Y.reshape((-1, 5, 1))\\n\\n    Test_Data = Data[\\\"Adj Close\\\"][Data[\\\"Date\\\"] >= Date].to_numpy()\\n    Data_Test = []\\n    Data_Test_X = []\\n    Data_Test_Y = []\\n    for i in range(0, len(Test_Data), 5):\\n        try:\\n            Data_Test.append(Test_Data[i : i + 5])\\n        except:\\n            pass\\n\\n    if len(Data_Test[-1]) < 5:\\n        Data_Test.pop(-1)\\n\\n    Data_Test_X = Data_Test[0:-1]\\n    Data_Test_X = np.array(Data_Test_X)\\n    Data_Test_X = Data_Test_X.reshape((-1, 5, 1))\\n    Data_Test_Y = Data_Test[1 : len(Data_Test)]\\n    Data_Test_Y = np.array(Data_Test_Y)\\n    Data_Test_Y = Data_Test_Y.reshape((-1, 5, 1))\\n\\n    return Data_Train_X, Data_Train_Y, Data_Test_X, Data_Test_Y\\n\\n\\ndef Model():\\n    model = tf.keras.models.Sequential(\\n        [\\n            tf.keras.layers.LSTM(\\n                200,\\n                input_shape=(5, 1),\\n                activation=tf.nn.leaky_relu,\\n                return_sequences=True,\\n            ),\\n            tf.keras.layers.LSTM(200, activation=tf.nn.leaky_relu),\\n            tf.keras.layers.Dense(200, activation=tf.nn.leaky_relu),\\n            tf.keras.layers.Dense(100, activation=tf.nn.leaky_relu),\\n            tf.keras.layers.Dense(50, activation=tf.nn.leaky_relu),\\n            tf.keras.layers.Dense(5, activation=tf.nn.leaky_relu),\\n        ]\\n    )\\n    return model\\n\\n\\ndef scheduler(epoch):\\n\\n    if epoch <= 150:\\n        lrate = (10 ** -5) * (epoch / 150)\\n    elif epoch <= 400:\\n        initial_lrate = 10 ** -5\\n        k = 0.01\\n        lrate = initial_lrate * math.exp(-k * (epoch - 150))\\n    else:\\n        lrate = 10 ** -6\\n\\n    return lrate\\n\\n\\nepochs = [i for i in range(1, 1001, 1)]\\nlrate = [scheduler(i) for i in range(1, 1001, 1)]\\ncallback = tf.keras.callbacks.LearningRateScheduler(scheduler)\\n\\nTrain_X, Train_Y, Test_X, Test_Y = Dataset(asset_data, \\\"2021-10-01\\\")\\n\\n\\nmodel = Model()\\n\\nmodel.compile(\\n    optimizer=tf.keras.optimizers.Adam(),\\n    loss=\\\"mse\\\",\\n    metrics=tf.keras.metrics.RootMeanSquaredError(),\\n)\\n\\nhist = model.fit(\\n    Train_X,\\n    Train_Y,\\n    epochs=1000,\\n    validation_data=(Test_X, Test_Y),\\n    callbacks=[callback],\\n)\";\n",
       "                var nbb_cells = Jupyter.notebook.get_cells();\n",
       "                for (var i = 0; i < nbb_cells.length; ++i) {\n",
       "                    if (nbb_cells[i].input_prompt_number == nbb_cell_id) {\n",
       "                        if (nbb_cells[i].get_text() == nbb_unformatted_code) {\n",
       "                             nbb_cells[i].set_text(nbb_formatted_code);\n",
       "                        }\n",
       "                        break;\n",
       "                    }\n",
       "                }\n",
       "            }, 500);\n",
       "            "
      ],
      "text/plain": [
       "<IPython.core.display.Javascript object>"
      ]
     },
     "metadata": {},
     "output_type": "display_data"
    },
    {
     "data": {
      "application/javascript": [
       "\n",
       "            setTimeout(function() {\n",
       "                var nbb_cell_id = 181;\n",
       "                var nbb_unformatted_code = \"def Dataset(Data, Date):\\n\\n    Train_Data = Data[\\\"Adj Close\\\"][Data[\\\"Date\\\"] < Date].to_numpy()\\n    Data_Train = []\\n    Data_Train_X = []\\n    Data_Train_Y = []\\n    for i in range(0, len(Train_Data), 5):\\n        try:\\n            Data_Train.append(Train_Data[i : i + 5])\\n        except:\\n            pass\\n\\n    if len(Data_Train[-1]) < 5:\\n        Data_Train.pop(-1)\\n\\n    Data_Train_X = Data_Train[0:-1]\\n    Data_Train_X = np.array(Data_Train_X)\\n    Data_Train_X = Data_Train_X.reshape((-1, 5, 1))\\n    Data_Train_Y = Data_Train[1 : len(Data_Train)]\\n    Data_Train_Y = np.array(Data_Train_Y)\\n    Data_Train_Y = Data_Train_Y.reshape((-1, 5, 1))\\n\\n    Test_Data = Data[\\\"Adj Close\\\"][Data[\\\"Date\\\"] >= Date].to_numpy()\\n    Data_Test = []\\n    Data_Test_X = []\\n    Data_Test_Y = []\\n    for i in range(0, len(Test_Data), 5):\\n        try:\\n            Data_Test.append(Test_Data[i : i + 5])\\n        except:\\n            pass\\n\\n    if len(Data_Test[-1]) < 5:\\n        Data_Test.pop(-1)\\n\\n    Data_Test_X = Data_Test[0:-1]\\n    Data_Test_X = np.array(Data_Test_X)\\n    Data_Test_X = Data_Test_X.reshape((-1, 5, 1))\\n    Data_Test_Y = Data_Test[1 : len(Data_Test)]\\n    Data_Test_Y = np.array(Data_Test_Y)\\n    Data_Test_Y = Data_Test_Y.reshape((-1, 5, 1))\\n\\n    return Data_Train_X, Data_Train_Y, Data_Test_X, Data_Test_Y\\n\\n\\ndef Model():\\n    model = tf.keras.models.Sequential(\\n        [\\n            tf.keras.layers.LSTM(\\n                200,\\n                input_shape=(5, 1),\\n                activation=tf.nn.leaky_relu,\\n                return_sequences=True,\\n            ),\\n            tf.keras.layers.LSTM(200, activation=tf.nn.leaky_relu),\\n            tf.keras.layers.Dense(200, activation=tf.nn.leaky_relu),\\n            tf.keras.layers.Dense(100, activation=tf.nn.leaky_relu),\\n            tf.keras.layers.Dense(50, activation=tf.nn.leaky_relu),\\n            tf.keras.layers.Dense(5, activation=tf.nn.leaky_relu),\\n        ]\\n    )\\n    return model\\n\\n\\ndef scheduler(epoch):\\n\\n    if epoch <= 150:\\n        lrate = (10 ** -5) * (epoch / 150)\\n    elif epoch <= 400:\\n        initial_lrate = 10 ** -5\\n        k = 0.01\\n        lrate = initial_lrate * math.exp(-k * (epoch - 150))\\n    else:\\n        lrate = 10 ** -6\\n\\n    return lrate\\n\\n\\nepochs = [i for i in range(1, 1001, 1)]\\nlrate = [scheduler(i) for i in range(1, 1001, 1)]\\ncallback = tf.keras.callbacks.LearningRateScheduler(scheduler)\\n\\nTrain_X, Train_Y, Test_X, Test_Y = Dataset(asset_data, \\\"2021-10-01\\\")\\n\\n\\nmodel = Model()\\n\\nmodel.compile(\\n    optimizer=tf.keras.optimizers.Adam(),\\n    loss=\\\"mse\\\",\\n    metrics=tf.keras.metrics.RootMeanSquaredError(),\\n)\\n\\nhist = model.fit(\\n    Train_X,\\n    Train_Y,\\n    epochs=1000,\\n    validation_data=(Test_X, Test_Y),\\n    callbacks=[callback],\\n)\";\n",
       "                var nbb_formatted_code = \"def Dataset(Data, Date):\\n\\n    Train_Data = Data[\\\"Adj Close\\\"][Data[\\\"Date\\\"] < Date].to_numpy()\\n    Data_Train = []\\n    Data_Train_X = []\\n    Data_Train_Y = []\\n    for i in range(0, len(Train_Data), 5):\\n        try:\\n            Data_Train.append(Train_Data[i : i + 5])\\n        except:\\n            pass\\n\\n    if len(Data_Train[-1]) < 5:\\n        Data_Train.pop(-1)\\n\\n    Data_Train_X = Data_Train[0:-1]\\n    Data_Train_X = np.array(Data_Train_X)\\n    Data_Train_X = Data_Train_X.reshape((-1, 5, 1))\\n    Data_Train_Y = Data_Train[1 : len(Data_Train)]\\n    Data_Train_Y = np.array(Data_Train_Y)\\n    Data_Train_Y = Data_Train_Y.reshape((-1, 5, 1))\\n\\n    Test_Data = Data[\\\"Adj Close\\\"][Data[\\\"Date\\\"] >= Date].to_numpy()\\n    Data_Test = []\\n    Data_Test_X = []\\n    Data_Test_Y = []\\n    for i in range(0, len(Test_Data), 5):\\n        try:\\n            Data_Test.append(Test_Data[i : i + 5])\\n        except:\\n            pass\\n\\n    if len(Data_Test[-1]) < 5:\\n        Data_Test.pop(-1)\\n\\n    Data_Test_X = Data_Test[0:-1]\\n    Data_Test_X = np.array(Data_Test_X)\\n    Data_Test_X = Data_Test_X.reshape((-1, 5, 1))\\n    Data_Test_Y = Data_Test[1 : len(Data_Test)]\\n    Data_Test_Y = np.array(Data_Test_Y)\\n    Data_Test_Y = Data_Test_Y.reshape((-1, 5, 1))\\n\\n    return Data_Train_X, Data_Train_Y, Data_Test_X, Data_Test_Y\\n\\n\\ndef Model():\\n    model = tf.keras.models.Sequential(\\n        [\\n            tf.keras.layers.LSTM(\\n                200,\\n                input_shape=(5, 1),\\n                activation=tf.nn.leaky_relu,\\n                return_sequences=True,\\n            ),\\n            tf.keras.layers.LSTM(200, activation=tf.nn.leaky_relu),\\n            tf.keras.layers.Dense(200, activation=tf.nn.leaky_relu),\\n            tf.keras.layers.Dense(100, activation=tf.nn.leaky_relu),\\n            tf.keras.layers.Dense(50, activation=tf.nn.leaky_relu),\\n            tf.keras.layers.Dense(5, activation=tf.nn.leaky_relu),\\n        ]\\n    )\\n    return model\\n\\n\\ndef scheduler(epoch):\\n\\n    if epoch <= 150:\\n        lrate = (10 ** -5) * (epoch / 150)\\n    elif epoch <= 400:\\n        initial_lrate = 10 ** -5\\n        k = 0.01\\n        lrate = initial_lrate * math.exp(-k * (epoch - 150))\\n    else:\\n        lrate = 10 ** -6\\n\\n    return lrate\\n\\n\\nepochs = [i for i in range(1, 1001, 1)]\\nlrate = [scheduler(i) for i in range(1, 1001, 1)]\\ncallback = tf.keras.callbacks.LearningRateScheduler(scheduler)\\n\\nTrain_X, Train_Y, Test_X, Test_Y = Dataset(asset_data, \\\"2021-10-01\\\")\\n\\n\\nmodel = Model()\\n\\nmodel.compile(\\n    optimizer=tf.keras.optimizers.Adam(),\\n    loss=\\\"mse\\\",\\n    metrics=tf.keras.metrics.RootMeanSquaredError(),\\n)\\n\\nhist = model.fit(\\n    Train_X,\\n    Train_Y,\\n    epochs=1000,\\n    validation_data=(Test_X, Test_Y),\\n    callbacks=[callback],\\n)\";\n",
       "                var nbb_cells = Jupyter.notebook.get_cells();\n",
       "                for (var i = 0; i < nbb_cells.length; ++i) {\n",
       "                    if (nbb_cells[i].input_prompt_number == nbb_cell_id) {\n",
       "                        if (nbb_cells[i].get_text() == nbb_unformatted_code) {\n",
       "                             nbb_cells[i].set_text(nbb_formatted_code);\n",
       "                        }\n",
       "                        break;\n",
       "                    }\n",
       "                }\n",
       "            }, 500);\n",
       "            "
      ],
      "text/plain": [
       "<IPython.core.display.Javascript object>"
      ]
     },
     "metadata": {},
     "output_type": "display_data"
    },
    {
     "data": {
      "application/javascript": [
       "\n",
       "            setTimeout(function() {\n",
       "                var nbb_cell_id = 181;\n",
       "                var nbb_unformatted_code = \"def Dataset(Data, Date):\\n\\n    Train_Data = Data[\\\"Adj Close\\\"][Data[\\\"Date\\\"] < Date].to_numpy()\\n    Data_Train = []\\n    Data_Train_X = []\\n    Data_Train_Y = []\\n    for i in range(0, len(Train_Data), 5):\\n        try:\\n            Data_Train.append(Train_Data[i : i + 5])\\n        except:\\n            pass\\n\\n    if len(Data_Train[-1]) < 5:\\n        Data_Train.pop(-1)\\n\\n    Data_Train_X = Data_Train[0:-1]\\n    Data_Train_X = np.array(Data_Train_X)\\n    Data_Train_X = Data_Train_X.reshape((-1, 5, 1))\\n    Data_Train_Y = Data_Train[1 : len(Data_Train)]\\n    Data_Train_Y = np.array(Data_Train_Y)\\n    Data_Train_Y = Data_Train_Y.reshape((-1, 5, 1))\\n\\n    Test_Data = Data[\\\"Adj Close\\\"][Data[\\\"Date\\\"] >= Date].to_numpy()\\n    Data_Test = []\\n    Data_Test_X = []\\n    Data_Test_Y = []\\n    for i in range(0, len(Test_Data), 5):\\n        try:\\n            Data_Test.append(Test_Data[i : i + 5])\\n        except:\\n            pass\\n\\n    if len(Data_Test[-1]) < 5:\\n        Data_Test.pop(-1)\\n\\n    Data_Test_X = Data_Test[0:-1]\\n    Data_Test_X = np.array(Data_Test_X)\\n    Data_Test_X = Data_Test_X.reshape((-1, 5, 1))\\n    Data_Test_Y = Data_Test[1 : len(Data_Test)]\\n    Data_Test_Y = np.array(Data_Test_Y)\\n    Data_Test_Y = Data_Test_Y.reshape((-1, 5, 1))\\n\\n    return Data_Train_X, Data_Train_Y, Data_Test_X, Data_Test_Y\\n\\n\\ndef Model():\\n    model = tf.keras.models.Sequential(\\n        [\\n            tf.keras.layers.LSTM(\\n                200,\\n                input_shape=(5, 1),\\n                activation=tf.nn.leaky_relu,\\n                return_sequences=True,\\n            ),\\n            tf.keras.layers.LSTM(200, activation=tf.nn.leaky_relu),\\n            tf.keras.layers.Dense(200, activation=tf.nn.leaky_relu),\\n            tf.keras.layers.Dense(100, activation=tf.nn.leaky_relu),\\n            tf.keras.layers.Dense(50, activation=tf.nn.leaky_relu),\\n            tf.keras.layers.Dense(5, activation=tf.nn.leaky_relu),\\n        ]\\n    )\\n    return model\\n\\n\\ndef scheduler(epoch):\\n\\n    if epoch <= 150:\\n        lrate = (10 ** -5) * (epoch / 150)\\n    elif epoch <= 400:\\n        initial_lrate = 10 ** -5\\n        k = 0.01\\n        lrate = initial_lrate * math.exp(-k * (epoch - 150))\\n    else:\\n        lrate = 10 ** -6\\n\\n    return lrate\\n\\n\\nepochs = [i for i in range(1, 1001, 1)]\\nlrate = [scheduler(i) for i in range(1, 1001, 1)]\\ncallback = tf.keras.callbacks.LearningRateScheduler(scheduler)\\n\\nTrain_X, Train_Y, Test_X, Test_Y = Dataset(asset_data, \\\"2021-10-01\\\")\\n\\n\\nmodel = Model()\\n\\nmodel.compile(\\n    optimizer=tf.keras.optimizers.Adam(),\\n    loss=\\\"mse\\\",\\n    metrics=tf.keras.metrics.RootMeanSquaredError(),\\n)\\n\\nhist = model.fit(\\n    Train_X,\\n    Train_Y,\\n    epochs=1000,\\n    validation_data=(Test_X, Test_Y),\\n    callbacks=[callback],\\n)\";\n",
       "                var nbb_formatted_code = \"def Dataset(Data, Date):\\n\\n    Train_Data = Data[\\\"Adj Close\\\"][Data[\\\"Date\\\"] < Date].to_numpy()\\n    Data_Train = []\\n    Data_Train_X = []\\n    Data_Train_Y = []\\n    for i in range(0, len(Train_Data), 5):\\n        try:\\n            Data_Train.append(Train_Data[i : i + 5])\\n        except:\\n            pass\\n\\n    if len(Data_Train[-1]) < 5:\\n        Data_Train.pop(-1)\\n\\n    Data_Train_X = Data_Train[0:-1]\\n    Data_Train_X = np.array(Data_Train_X)\\n    Data_Train_X = Data_Train_X.reshape((-1, 5, 1))\\n    Data_Train_Y = Data_Train[1 : len(Data_Train)]\\n    Data_Train_Y = np.array(Data_Train_Y)\\n    Data_Train_Y = Data_Train_Y.reshape((-1, 5, 1))\\n\\n    Test_Data = Data[\\\"Adj Close\\\"][Data[\\\"Date\\\"] >= Date].to_numpy()\\n    Data_Test = []\\n    Data_Test_X = []\\n    Data_Test_Y = []\\n    for i in range(0, len(Test_Data), 5):\\n        try:\\n            Data_Test.append(Test_Data[i : i + 5])\\n        except:\\n            pass\\n\\n    if len(Data_Test[-1]) < 5:\\n        Data_Test.pop(-1)\\n\\n    Data_Test_X = Data_Test[0:-1]\\n    Data_Test_X = np.array(Data_Test_X)\\n    Data_Test_X = Data_Test_X.reshape((-1, 5, 1))\\n    Data_Test_Y = Data_Test[1 : len(Data_Test)]\\n    Data_Test_Y = np.array(Data_Test_Y)\\n    Data_Test_Y = Data_Test_Y.reshape((-1, 5, 1))\\n\\n    return Data_Train_X, Data_Train_Y, Data_Test_X, Data_Test_Y\\n\\n\\ndef Model():\\n    model = tf.keras.models.Sequential(\\n        [\\n            tf.keras.layers.LSTM(\\n                200,\\n                input_shape=(5, 1),\\n                activation=tf.nn.leaky_relu,\\n                return_sequences=True,\\n            ),\\n            tf.keras.layers.LSTM(200, activation=tf.nn.leaky_relu),\\n            tf.keras.layers.Dense(200, activation=tf.nn.leaky_relu),\\n            tf.keras.layers.Dense(100, activation=tf.nn.leaky_relu),\\n            tf.keras.layers.Dense(50, activation=tf.nn.leaky_relu),\\n            tf.keras.layers.Dense(5, activation=tf.nn.leaky_relu),\\n        ]\\n    )\\n    return model\\n\\n\\ndef scheduler(epoch):\\n\\n    if epoch <= 150:\\n        lrate = (10 ** -5) * (epoch / 150)\\n    elif epoch <= 400:\\n        initial_lrate = 10 ** -5\\n        k = 0.01\\n        lrate = initial_lrate * math.exp(-k * (epoch - 150))\\n    else:\\n        lrate = 10 ** -6\\n\\n    return lrate\\n\\n\\nepochs = [i for i in range(1, 1001, 1)]\\nlrate = [scheduler(i) for i in range(1, 1001, 1)]\\ncallback = tf.keras.callbacks.LearningRateScheduler(scheduler)\\n\\nTrain_X, Train_Y, Test_X, Test_Y = Dataset(asset_data, \\\"2021-10-01\\\")\\n\\n\\nmodel = Model()\\n\\nmodel.compile(\\n    optimizer=tf.keras.optimizers.Adam(),\\n    loss=\\\"mse\\\",\\n    metrics=tf.keras.metrics.RootMeanSquaredError(),\\n)\\n\\nhist = model.fit(\\n    Train_X,\\n    Train_Y,\\n    epochs=1000,\\n    validation_data=(Test_X, Test_Y),\\n    callbacks=[callback],\\n)\";\n",
       "                var nbb_cells = Jupyter.notebook.get_cells();\n",
       "                for (var i = 0; i < nbb_cells.length; ++i) {\n",
       "                    if (nbb_cells[i].input_prompt_number == nbb_cell_id) {\n",
       "                        if (nbb_cells[i].get_text() == nbb_unformatted_code) {\n",
       "                             nbb_cells[i].set_text(nbb_formatted_code);\n",
       "                        }\n",
       "                        break;\n",
       "                    }\n",
       "                }\n",
       "            }, 500);\n",
       "            "
      ],
      "text/plain": [
       "<IPython.core.display.Javascript object>"
      ]
     },
     "metadata": {},
     "output_type": "display_data"
    },
    {
     "data": {
      "application/javascript": [
       "\n",
       "            setTimeout(function() {\n",
       "                var nbb_cell_id = 181;\n",
       "                var nbb_unformatted_code = \"def Dataset(Data, Date):\\n\\n    Train_Data = Data[\\\"Adj Close\\\"][Data[\\\"Date\\\"] < Date].to_numpy()\\n    Data_Train = []\\n    Data_Train_X = []\\n    Data_Train_Y = []\\n    for i in range(0, len(Train_Data), 5):\\n        try:\\n            Data_Train.append(Train_Data[i : i + 5])\\n        except:\\n            pass\\n\\n    if len(Data_Train[-1]) < 5:\\n        Data_Train.pop(-1)\\n\\n    Data_Train_X = Data_Train[0:-1]\\n    Data_Train_X = np.array(Data_Train_X)\\n    Data_Train_X = Data_Train_X.reshape((-1, 5, 1))\\n    Data_Train_Y = Data_Train[1 : len(Data_Train)]\\n    Data_Train_Y = np.array(Data_Train_Y)\\n    Data_Train_Y = Data_Train_Y.reshape((-1, 5, 1))\\n\\n    Test_Data = Data[\\\"Adj Close\\\"][Data[\\\"Date\\\"] >= Date].to_numpy()\\n    Data_Test = []\\n    Data_Test_X = []\\n    Data_Test_Y = []\\n    for i in range(0, len(Test_Data), 5):\\n        try:\\n            Data_Test.append(Test_Data[i : i + 5])\\n        except:\\n            pass\\n\\n    if len(Data_Test[-1]) < 5:\\n        Data_Test.pop(-1)\\n\\n    Data_Test_X = Data_Test[0:-1]\\n    Data_Test_X = np.array(Data_Test_X)\\n    Data_Test_X = Data_Test_X.reshape((-1, 5, 1))\\n    Data_Test_Y = Data_Test[1 : len(Data_Test)]\\n    Data_Test_Y = np.array(Data_Test_Y)\\n    Data_Test_Y = Data_Test_Y.reshape((-1, 5, 1))\\n\\n    return Data_Train_X, Data_Train_Y, Data_Test_X, Data_Test_Y\\n\\n\\ndef Model():\\n    model = tf.keras.models.Sequential(\\n        [\\n            tf.keras.layers.LSTM(\\n                200,\\n                input_shape=(5, 1),\\n                activation=tf.nn.leaky_relu,\\n                return_sequences=True,\\n            ),\\n            tf.keras.layers.LSTM(200, activation=tf.nn.leaky_relu),\\n            tf.keras.layers.Dense(200, activation=tf.nn.leaky_relu),\\n            tf.keras.layers.Dense(100, activation=tf.nn.leaky_relu),\\n            tf.keras.layers.Dense(50, activation=tf.nn.leaky_relu),\\n            tf.keras.layers.Dense(5, activation=tf.nn.leaky_relu),\\n        ]\\n    )\\n    return model\\n\\n\\ndef scheduler(epoch):\\n\\n    if epoch <= 150:\\n        lrate = (10 ** -5) * (epoch / 150)\\n    elif epoch <= 400:\\n        initial_lrate = 10 ** -5\\n        k = 0.01\\n        lrate = initial_lrate * math.exp(-k * (epoch - 150))\\n    else:\\n        lrate = 10 ** -6\\n\\n    return lrate\\n\\n\\nepochs = [i for i in range(1, 1001, 1)]\\nlrate = [scheduler(i) for i in range(1, 1001, 1)]\\ncallback = tf.keras.callbacks.LearningRateScheduler(scheduler)\\n\\nTrain_X, Train_Y, Test_X, Test_Y = Dataset(asset_data, \\\"2021-10-01\\\")\\n\\n\\nmodel = Model()\\n\\nmodel.compile(\\n    optimizer=tf.keras.optimizers.Adam(),\\n    loss=\\\"mse\\\",\\n    metrics=tf.keras.metrics.RootMeanSquaredError(),\\n)\\n\\nhist = model.fit(\\n    Train_X,\\n    Train_Y,\\n    epochs=1000,\\n    validation_data=(Test_X, Test_Y),\\n    callbacks=[callback],\\n)\";\n",
       "                var nbb_formatted_code = \"def Dataset(Data, Date):\\n\\n    Train_Data = Data[\\\"Adj Close\\\"][Data[\\\"Date\\\"] < Date].to_numpy()\\n    Data_Train = []\\n    Data_Train_X = []\\n    Data_Train_Y = []\\n    for i in range(0, len(Train_Data), 5):\\n        try:\\n            Data_Train.append(Train_Data[i : i + 5])\\n        except:\\n            pass\\n\\n    if len(Data_Train[-1]) < 5:\\n        Data_Train.pop(-1)\\n\\n    Data_Train_X = Data_Train[0:-1]\\n    Data_Train_X = np.array(Data_Train_X)\\n    Data_Train_X = Data_Train_X.reshape((-1, 5, 1))\\n    Data_Train_Y = Data_Train[1 : len(Data_Train)]\\n    Data_Train_Y = np.array(Data_Train_Y)\\n    Data_Train_Y = Data_Train_Y.reshape((-1, 5, 1))\\n\\n    Test_Data = Data[\\\"Adj Close\\\"][Data[\\\"Date\\\"] >= Date].to_numpy()\\n    Data_Test = []\\n    Data_Test_X = []\\n    Data_Test_Y = []\\n    for i in range(0, len(Test_Data), 5):\\n        try:\\n            Data_Test.append(Test_Data[i : i + 5])\\n        except:\\n            pass\\n\\n    if len(Data_Test[-1]) < 5:\\n        Data_Test.pop(-1)\\n\\n    Data_Test_X = Data_Test[0:-1]\\n    Data_Test_X = np.array(Data_Test_X)\\n    Data_Test_X = Data_Test_X.reshape((-1, 5, 1))\\n    Data_Test_Y = Data_Test[1 : len(Data_Test)]\\n    Data_Test_Y = np.array(Data_Test_Y)\\n    Data_Test_Y = Data_Test_Y.reshape((-1, 5, 1))\\n\\n    return Data_Train_X, Data_Train_Y, Data_Test_X, Data_Test_Y\\n\\n\\ndef Model():\\n    model = tf.keras.models.Sequential(\\n        [\\n            tf.keras.layers.LSTM(\\n                200,\\n                input_shape=(5, 1),\\n                activation=tf.nn.leaky_relu,\\n                return_sequences=True,\\n            ),\\n            tf.keras.layers.LSTM(200, activation=tf.nn.leaky_relu),\\n            tf.keras.layers.Dense(200, activation=tf.nn.leaky_relu),\\n            tf.keras.layers.Dense(100, activation=tf.nn.leaky_relu),\\n            tf.keras.layers.Dense(50, activation=tf.nn.leaky_relu),\\n            tf.keras.layers.Dense(5, activation=tf.nn.leaky_relu),\\n        ]\\n    )\\n    return model\\n\\n\\ndef scheduler(epoch):\\n\\n    if epoch <= 150:\\n        lrate = (10 ** -5) * (epoch / 150)\\n    elif epoch <= 400:\\n        initial_lrate = 10 ** -5\\n        k = 0.01\\n        lrate = initial_lrate * math.exp(-k * (epoch - 150))\\n    else:\\n        lrate = 10 ** -6\\n\\n    return lrate\\n\\n\\nepochs = [i for i in range(1, 1001, 1)]\\nlrate = [scheduler(i) for i in range(1, 1001, 1)]\\ncallback = tf.keras.callbacks.LearningRateScheduler(scheduler)\\n\\nTrain_X, Train_Y, Test_X, Test_Y = Dataset(asset_data, \\\"2021-10-01\\\")\\n\\n\\nmodel = Model()\\n\\nmodel.compile(\\n    optimizer=tf.keras.optimizers.Adam(),\\n    loss=\\\"mse\\\",\\n    metrics=tf.keras.metrics.RootMeanSquaredError(),\\n)\\n\\nhist = model.fit(\\n    Train_X,\\n    Train_Y,\\n    epochs=1000,\\n    validation_data=(Test_X, Test_Y),\\n    callbacks=[callback],\\n)\";\n",
       "                var nbb_cells = Jupyter.notebook.get_cells();\n",
       "                for (var i = 0; i < nbb_cells.length; ++i) {\n",
       "                    if (nbb_cells[i].input_prompt_number == nbb_cell_id) {\n",
       "                        if (nbb_cells[i].get_text() == nbb_unformatted_code) {\n",
       "                             nbb_cells[i].set_text(nbb_formatted_code);\n",
       "                        }\n",
       "                        break;\n",
       "                    }\n",
       "                }\n",
       "            }, 500);\n",
       "            "
      ],
      "text/plain": [
       "<IPython.core.display.Javascript object>"
      ]
     },
     "metadata": {},
     "output_type": "display_data"
    },
    {
     "data": {
      "application/javascript": [
       "\n",
       "            setTimeout(function() {\n",
       "                var nbb_cell_id = 181;\n",
       "                var nbb_unformatted_code = \"def Dataset(Data, Date):\\n\\n    Train_Data = Data[\\\"Adj Close\\\"][Data[\\\"Date\\\"] < Date].to_numpy()\\n    Data_Train = []\\n    Data_Train_X = []\\n    Data_Train_Y = []\\n    for i in range(0, len(Train_Data), 5):\\n        try:\\n            Data_Train.append(Train_Data[i : i + 5])\\n        except:\\n            pass\\n\\n    if len(Data_Train[-1]) < 5:\\n        Data_Train.pop(-1)\\n\\n    Data_Train_X = Data_Train[0:-1]\\n    Data_Train_X = np.array(Data_Train_X)\\n    Data_Train_X = Data_Train_X.reshape((-1, 5, 1))\\n    Data_Train_Y = Data_Train[1 : len(Data_Train)]\\n    Data_Train_Y = np.array(Data_Train_Y)\\n    Data_Train_Y = Data_Train_Y.reshape((-1, 5, 1))\\n\\n    Test_Data = Data[\\\"Adj Close\\\"][Data[\\\"Date\\\"] >= Date].to_numpy()\\n    Data_Test = []\\n    Data_Test_X = []\\n    Data_Test_Y = []\\n    for i in range(0, len(Test_Data), 5):\\n        try:\\n            Data_Test.append(Test_Data[i : i + 5])\\n        except:\\n            pass\\n\\n    if len(Data_Test[-1]) < 5:\\n        Data_Test.pop(-1)\\n\\n    Data_Test_X = Data_Test[0:-1]\\n    Data_Test_X = np.array(Data_Test_X)\\n    Data_Test_X = Data_Test_X.reshape((-1, 5, 1))\\n    Data_Test_Y = Data_Test[1 : len(Data_Test)]\\n    Data_Test_Y = np.array(Data_Test_Y)\\n    Data_Test_Y = Data_Test_Y.reshape((-1, 5, 1))\\n\\n    return Data_Train_X, Data_Train_Y, Data_Test_X, Data_Test_Y\\n\\n\\ndef Model():\\n    model = tf.keras.models.Sequential(\\n        [\\n            tf.keras.layers.LSTM(\\n                200,\\n                input_shape=(5, 1),\\n                activation=tf.nn.leaky_relu,\\n                return_sequences=True,\\n            ),\\n            tf.keras.layers.LSTM(200, activation=tf.nn.leaky_relu),\\n            tf.keras.layers.Dense(200, activation=tf.nn.leaky_relu),\\n            tf.keras.layers.Dense(100, activation=tf.nn.leaky_relu),\\n            tf.keras.layers.Dense(50, activation=tf.nn.leaky_relu),\\n            tf.keras.layers.Dense(5, activation=tf.nn.leaky_relu),\\n        ]\\n    )\\n    return model\\n\\n\\ndef scheduler(epoch):\\n\\n    if epoch <= 150:\\n        lrate = (10 ** -5) * (epoch / 150)\\n    elif epoch <= 400:\\n        initial_lrate = 10 ** -5\\n        k = 0.01\\n        lrate = initial_lrate * math.exp(-k * (epoch - 150))\\n    else:\\n        lrate = 10 ** -6\\n\\n    return lrate\\n\\n\\nepochs = [i for i in range(1, 1001, 1)]\\nlrate = [scheduler(i) for i in range(1, 1001, 1)]\\ncallback = tf.keras.callbacks.LearningRateScheduler(scheduler)\\n\\nTrain_X, Train_Y, Test_X, Test_Y = Dataset(asset_data, \\\"2021-10-01\\\")\\n\\n\\nmodel = Model()\\n\\nmodel.compile(\\n    optimizer=tf.keras.optimizers.Adam(),\\n    loss=\\\"mse\\\",\\n    metrics=tf.keras.metrics.RootMeanSquaredError(),\\n)\\n\\nhist = model.fit(\\n    Train_X,\\n    Train_Y,\\n    epochs=1000,\\n    validation_data=(Test_X, Test_Y),\\n    callbacks=[callback],\\n)\";\n",
       "                var nbb_formatted_code = \"def Dataset(Data, Date):\\n\\n    Train_Data = Data[\\\"Adj Close\\\"][Data[\\\"Date\\\"] < Date].to_numpy()\\n    Data_Train = []\\n    Data_Train_X = []\\n    Data_Train_Y = []\\n    for i in range(0, len(Train_Data), 5):\\n        try:\\n            Data_Train.append(Train_Data[i : i + 5])\\n        except:\\n            pass\\n\\n    if len(Data_Train[-1]) < 5:\\n        Data_Train.pop(-1)\\n\\n    Data_Train_X = Data_Train[0:-1]\\n    Data_Train_X = np.array(Data_Train_X)\\n    Data_Train_X = Data_Train_X.reshape((-1, 5, 1))\\n    Data_Train_Y = Data_Train[1 : len(Data_Train)]\\n    Data_Train_Y = np.array(Data_Train_Y)\\n    Data_Train_Y = Data_Train_Y.reshape((-1, 5, 1))\\n\\n    Test_Data = Data[\\\"Adj Close\\\"][Data[\\\"Date\\\"] >= Date].to_numpy()\\n    Data_Test = []\\n    Data_Test_X = []\\n    Data_Test_Y = []\\n    for i in range(0, len(Test_Data), 5):\\n        try:\\n            Data_Test.append(Test_Data[i : i + 5])\\n        except:\\n            pass\\n\\n    if len(Data_Test[-1]) < 5:\\n        Data_Test.pop(-1)\\n\\n    Data_Test_X = Data_Test[0:-1]\\n    Data_Test_X = np.array(Data_Test_X)\\n    Data_Test_X = Data_Test_X.reshape((-1, 5, 1))\\n    Data_Test_Y = Data_Test[1 : len(Data_Test)]\\n    Data_Test_Y = np.array(Data_Test_Y)\\n    Data_Test_Y = Data_Test_Y.reshape((-1, 5, 1))\\n\\n    return Data_Train_X, Data_Train_Y, Data_Test_X, Data_Test_Y\\n\\n\\ndef Model():\\n    model = tf.keras.models.Sequential(\\n        [\\n            tf.keras.layers.LSTM(\\n                200,\\n                input_shape=(5, 1),\\n                activation=tf.nn.leaky_relu,\\n                return_sequences=True,\\n            ),\\n            tf.keras.layers.LSTM(200, activation=tf.nn.leaky_relu),\\n            tf.keras.layers.Dense(200, activation=tf.nn.leaky_relu),\\n            tf.keras.layers.Dense(100, activation=tf.nn.leaky_relu),\\n            tf.keras.layers.Dense(50, activation=tf.nn.leaky_relu),\\n            tf.keras.layers.Dense(5, activation=tf.nn.leaky_relu),\\n        ]\\n    )\\n    return model\\n\\n\\ndef scheduler(epoch):\\n\\n    if epoch <= 150:\\n        lrate = (10 ** -5) * (epoch / 150)\\n    elif epoch <= 400:\\n        initial_lrate = 10 ** -5\\n        k = 0.01\\n        lrate = initial_lrate * math.exp(-k * (epoch - 150))\\n    else:\\n        lrate = 10 ** -6\\n\\n    return lrate\\n\\n\\nepochs = [i for i in range(1, 1001, 1)]\\nlrate = [scheduler(i) for i in range(1, 1001, 1)]\\ncallback = tf.keras.callbacks.LearningRateScheduler(scheduler)\\n\\nTrain_X, Train_Y, Test_X, Test_Y = Dataset(asset_data, \\\"2021-10-01\\\")\\n\\n\\nmodel = Model()\\n\\nmodel.compile(\\n    optimizer=tf.keras.optimizers.Adam(),\\n    loss=\\\"mse\\\",\\n    metrics=tf.keras.metrics.RootMeanSquaredError(),\\n)\\n\\nhist = model.fit(\\n    Train_X,\\n    Train_Y,\\n    epochs=1000,\\n    validation_data=(Test_X, Test_Y),\\n    callbacks=[callback],\\n)\";\n",
       "                var nbb_cells = Jupyter.notebook.get_cells();\n",
       "                for (var i = 0; i < nbb_cells.length; ++i) {\n",
       "                    if (nbb_cells[i].input_prompt_number == nbb_cell_id) {\n",
       "                        if (nbb_cells[i].get_text() == nbb_unformatted_code) {\n",
       "                             nbb_cells[i].set_text(nbb_formatted_code);\n",
       "                        }\n",
       "                        break;\n",
       "                    }\n",
       "                }\n",
       "            }, 500);\n",
       "            "
      ],
      "text/plain": [
       "<IPython.core.display.Javascript object>"
      ]
     },
     "metadata": {},
     "output_type": "display_data"
    },
    {
     "data": {
      "application/javascript": [
       "\n",
       "            setTimeout(function() {\n",
       "                var nbb_cell_id = 181;\n",
       "                var nbb_unformatted_code = \"def Dataset(Data, Date):\\n\\n    Train_Data = Data[\\\"Adj Close\\\"][Data[\\\"Date\\\"] < Date].to_numpy()\\n    Data_Train = []\\n    Data_Train_X = []\\n    Data_Train_Y = []\\n    for i in range(0, len(Train_Data), 5):\\n        try:\\n            Data_Train.append(Train_Data[i : i + 5])\\n        except:\\n            pass\\n\\n    if len(Data_Train[-1]) < 5:\\n        Data_Train.pop(-1)\\n\\n    Data_Train_X = Data_Train[0:-1]\\n    Data_Train_X = np.array(Data_Train_X)\\n    Data_Train_X = Data_Train_X.reshape((-1, 5, 1))\\n    Data_Train_Y = Data_Train[1 : len(Data_Train)]\\n    Data_Train_Y = np.array(Data_Train_Y)\\n    Data_Train_Y = Data_Train_Y.reshape((-1, 5, 1))\\n\\n    Test_Data = Data[\\\"Adj Close\\\"][Data[\\\"Date\\\"] >= Date].to_numpy()\\n    Data_Test = []\\n    Data_Test_X = []\\n    Data_Test_Y = []\\n    for i in range(0, len(Test_Data), 5):\\n        try:\\n            Data_Test.append(Test_Data[i : i + 5])\\n        except:\\n            pass\\n\\n    if len(Data_Test[-1]) < 5:\\n        Data_Test.pop(-1)\\n\\n    Data_Test_X = Data_Test[0:-1]\\n    Data_Test_X = np.array(Data_Test_X)\\n    Data_Test_X = Data_Test_X.reshape((-1, 5, 1))\\n    Data_Test_Y = Data_Test[1 : len(Data_Test)]\\n    Data_Test_Y = np.array(Data_Test_Y)\\n    Data_Test_Y = Data_Test_Y.reshape((-1, 5, 1))\\n\\n    return Data_Train_X, Data_Train_Y, Data_Test_X, Data_Test_Y\\n\\n\\ndef Model():\\n    model = tf.keras.models.Sequential(\\n        [\\n            tf.keras.layers.LSTM(\\n                200,\\n                input_shape=(5, 1),\\n                activation=tf.nn.leaky_relu,\\n                return_sequences=True,\\n            ),\\n            tf.keras.layers.LSTM(200, activation=tf.nn.leaky_relu),\\n            tf.keras.layers.Dense(200, activation=tf.nn.leaky_relu),\\n            tf.keras.layers.Dense(100, activation=tf.nn.leaky_relu),\\n            tf.keras.layers.Dense(50, activation=tf.nn.leaky_relu),\\n            tf.keras.layers.Dense(5, activation=tf.nn.leaky_relu),\\n        ]\\n    )\\n    return model\\n\\n\\ndef scheduler(epoch):\\n\\n    if epoch <= 150:\\n        lrate = (10 ** -5) * (epoch / 150)\\n    elif epoch <= 400:\\n        initial_lrate = 10 ** -5\\n        k = 0.01\\n        lrate = initial_lrate * math.exp(-k * (epoch - 150))\\n    else:\\n        lrate = 10 ** -6\\n\\n    return lrate\\n\\n\\nepochs = [i for i in range(1, 1001, 1)]\\nlrate = [scheduler(i) for i in range(1, 1001, 1)]\\ncallback = tf.keras.callbacks.LearningRateScheduler(scheduler)\\n\\nTrain_X, Train_Y, Test_X, Test_Y = Dataset(asset_data, \\\"2021-10-01\\\")\\n\\n\\nmodel = Model()\\n\\nmodel.compile(\\n    optimizer=tf.keras.optimizers.Adam(),\\n    loss=\\\"mse\\\",\\n    metrics=tf.keras.metrics.RootMeanSquaredError(),\\n)\\n\\nhist = model.fit(\\n    Train_X,\\n    Train_Y,\\n    epochs=1000,\\n    validation_data=(Test_X, Test_Y),\\n    callbacks=[callback],\\n)\";\n",
       "                var nbb_formatted_code = \"def Dataset(Data, Date):\\n\\n    Train_Data = Data[\\\"Adj Close\\\"][Data[\\\"Date\\\"] < Date].to_numpy()\\n    Data_Train = []\\n    Data_Train_X = []\\n    Data_Train_Y = []\\n    for i in range(0, len(Train_Data), 5):\\n        try:\\n            Data_Train.append(Train_Data[i : i + 5])\\n        except:\\n            pass\\n\\n    if len(Data_Train[-1]) < 5:\\n        Data_Train.pop(-1)\\n\\n    Data_Train_X = Data_Train[0:-1]\\n    Data_Train_X = np.array(Data_Train_X)\\n    Data_Train_X = Data_Train_X.reshape((-1, 5, 1))\\n    Data_Train_Y = Data_Train[1 : len(Data_Train)]\\n    Data_Train_Y = np.array(Data_Train_Y)\\n    Data_Train_Y = Data_Train_Y.reshape((-1, 5, 1))\\n\\n    Test_Data = Data[\\\"Adj Close\\\"][Data[\\\"Date\\\"] >= Date].to_numpy()\\n    Data_Test = []\\n    Data_Test_X = []\\n    Data_Test_Y = []\\n    for i in range(0, len(Test_Data), 5):\\n        try:\\n            Data_Test.append(Test_Data[i : i + 5])\\n        except:\\n            pass\\n\\n    if len(Data_Test[-1]) < 5:\\n        Data_Test.pop(-1)\\n\\n    Data_Test_X = Data_Test[0:-1]\\n    Data_Test_X = np.array(Data_Test_X)\\n    Data_Test_X = Data_Test_X.reshape((-1, 5, 1))\\n    Data_Test_Y = Data_Test[1 : len(Data_Test)]\\n    Data_Test_Y = np.array(Data_Test_Y)\\n    Data_Test_Y = Data_Test_Y.reshape((-1, 5, 1))\\n\\n    return Data_Train_X, Data_Train_Y, Data_Test_X, Data_Test_Y\\n\\n\\ndef Model():\\n    model = tf.keras.models.Sequential(\\n        [\\n            tf.keras.layers.LSTM(\\n                200,\\n                input_shape=(5, 1),\\n                activation=tf.nn.leaky_relu,\\n                return_sequences=True,\\n            ),\\n            tf.keras.layers.LSTM(200, activation=tf.nn.leaky_relu),\\n            tf.keras.layers.Dense(200, activation=tf.nn.leaky_relu),\\n            tf.keras.layers.Dense(100, activation=tf.nn.leaky_relu),\\n            tf.keras.layers.Dense(50, activation=tf.nn.leaky_relu),\\n            tf.keras.layers.Dense(5, activation=tf.nn.leaky_relu),\\n        ]\\n    )\\n    return model\\n\\n\\ndef scheduler(epoch):\\n\\n    if epoch <= 150:\\n        lrate = (10 ** -5) * (epoch / 150)\\n    elif epoch <= 400:\\n        initial_lrate = 10 ** -5\\n        k = 0.01\\n        lrate = initial_lrate * math.exp(-k * (epoch - 150))\\n    else:\\n        lrate = 10 ** -6\\n\\n    return lrate\\n\\n\\nepochs = [i for i in range(1, 1001, 1)]\\nlrate = [scheduler(i) for i in range(1, 1001, 1)]\\ncallback = tf.keras.callbacks.LearningRateScheduler(scheduler)\\n\\nTrain_X, Train_Y, Test_X, Test_Y = Dataset(asset_data, \\\"2021-10-01\\\")\\n\\n\\nmodel = Model()\\n\\nmodel.compile(\\n    optimizer=tf.keras.optimizers.Adam(),\\n    loss=\\\"mse\\\",\\n    metrics=tf.keras.metrics.RootMeanSquaredError(),\\n)\\n\\nhist = model.fit(\\n    Train_X,\\n    Train_Y,\\n    epochs=1000,\\n    validation_data=(Test_X, Test_Y),\\n    callbacks=[callback],\\n)\";\n",
       "                var nbb_cells = Jupyter.notebook.get_cells();\n",
       "                for (var i = 0; i < nbb_cells.length; ++i) {\n",
       "                    if (nbb_cells[i].input_prompt_number == nbb_cell_id) {\n",
       "                        if (nbb_cells[i].get_text() == nbb_unformatted_code) {\n",
       "                             nbb_cells[i].set_text(nbb_formatted_code);\n",
       "                        }\n",
       "                        break;\n",
       "                    }\n",
       "                }\n",
       "            }, 500);\n",
       "            "
      ],
      "text/plain": [
       "<IPython.core.display.Javascript object>"
      ]
     },
     "metadata": {},
     "output_type": "display_data"
    }
   ],
   "source": [
    "def Dataset(Data, Date):\n",
    "\n",
    "    Train_Data = Data[\"Adj Close\"][Data[\"Date\"] < Date].to_numpy()\n",
    "    Data_Train = []\n",
    "    Data_Train_X = []\n",
    "    Data_Train_Y = []\n",
    "    for i in range(0, len(Train_Data), 5):\n",
    "        try:\n",
    "            Data_Train.append(Train_Data[i : i + 5])\n",
    "        except:\n",
    "            pass\n",
    "\n",
    "    if len(Data_Train[-1]) < 5:\n",
    "        Data_Train.pop(-1)\n",
    "\n",
    "    Data_Train_X = Data_Train[0:-1]\n",
    "    Data_Train_X = np.array(Data_Train_X)\n",
    "    Data_Train_X = Data_Train_X.reshape((-1, 5, 1))\n",
    "    Data_Train_Y = Data_Train[1 : len(Data_Train)]\n",
    "    Data_Train_Y = np.array(Data_Train_Y)\n",
    "    Data_Train_Y = Data_Train_Y.reshape((-1, 5, 1))\n",
    "\n",
    "    Test_Data = Data[\"Adj Close\"][Data[\"Date\"] >= Date].to_numpy()\n",
    "    Data_Test = []\n",
    "    Data_Test_X = []\n",
    "    Data_Test_Y = []\n",
    "    for i in range(0, len(Test_Data), 5):\n",
    "        try:\n",
    "            Data_Test.append(Test_Data[i : i + 5])\n",
    "        except:\n",
    "            pass\n",
    "\n",
    "    if len(Data_Test[-1]) < 5:\n",
    "        Data_Test.pop(-1)\n",
    "\n",
    "    Data_Test_X = Data_Test[0:-1]\n",
    "    Data_Test_X = np.array(Data_Test_X)\n",
    "    Data_Test_X = Data_Test_X.reshape((-1, 5, 1))\n",
    "    Data_Test_Y = Data_Test[1 : len(Data_Test)]\n",
    "    Data_Test_Y = np.array(Data_Test_Y)\n",
    "    Data_Test_Y = Data_Test_Y.reshape((-1, 5, 1))\n",
    "\n",
    "    return Data_Train_X, Data_Train_Y, Data_Test_X, Data_Test_Y\n",
    "\n",
    "\n",
    "def Model():\n",
    "    model = tf.keras.models.Sequential(\n",
    "        [\n",
    "            tf.keras.layers.LSTM(\n",
    "                200,\n",
    "                input_shape=(5, 1),\n",
    "                activation=tf.nn.leaky_relu,\n",
    "                return_sequences=True,\n",
    "            ),\n",
    "            tf.keras.layers.LSTM(200, activation=tf.nn.leaky_relu),\n",
    "            tf.keras.layers.Dense(200, activation=tf.nn.leaky_relu),\n",
    "            tf.keras.layers.Dense(100, activation=tf.nn.leaky_relu),\n",
    "            tf.keras.layers.Dense(50, activation=tf.nn.leaky_relu),\n",
    "            tf.keras.layers.Dense(5, activation=tf.nn.leaky_relu),\n",
    "        ]\n",
    "    )\n",
    "    return model\n",
    "\n",
    "\n",
    "def scheduler(epoch):\n",
    "\n",
    "    if epoch <= 150:\n",
    "        lrate = (10 ** -5) * (epoch / 150)\n",
    "    elif epoch <= 400:\n",
    "        initial_lrate = 10 ** -5\n",
    "        k = 0.01\n",
    "        lrate = initial_lrate * math.exp(-k * (epoch - 150))\n",
    "    else:\n",
    "        lrate = 10 ** -6\n",
    "\n",
    "    return lrate\n",
    "\n",
    "\n",
    "epochs = [i for i in range(1, 1001, 1)]\n",
    "lrate = [scheduler(i) for i in range(1, 1001, 1)]\n",
    "callback = tf.keras.callbacks.LearningRateScheduler(scheduler)\n",
    "\n",
    "Train_X, Train_Y, Test_X, Test_Y = Dataset(asset_data, \"2021-10-01\")\n",
    "\n",
    "\n",
    "model = Model()\n",
    "\n",
    "model.compile(\n",
    "    optimizer=tf.keras.optimizers.Adam(),\n",
    "    loss=\"mse\",\n",
    "    metrics=tf.keras.metrics.RootMeanSquaredError(),\n",
    ")\n",
    "\n",
    "hist = model.fit(\n",
    "    Train_X,\n",
    "    Train_Y,\n",
    "    epochs=1000,\n",
    "    validation_data=(Test_X, Test_Y),\n",
    "    callbacks=[callback],\n",
    ")"
   ]
  },
  {
   "cell_type": "code",
   "execution_count": 182,
   "id": "b116aaf1",
   "metadata": {},
   "outputs": [
    {
     "data": {
      "application/javascript": [
       "\n",
       "            setTimeout(function() {\n",
       "                var nbb_cell_id = 182;\n",
       "                var nbb_unformatted_code = \"prediction = model.predict(Test_X)\";\n",
       "                var nbb_formatted_code = \"prediction = model.predict(Test_X)\";\n",
       "                var nbb_cells = Jupyter.notebook.get_cells();\n",
       "                for (var i = 0; i < nbb_cells.length; ++i) {\n",
       "                    if (nbb_cells[i].input_prompt_number == nbb_cell_id) {\n",
       "                        if (nbb_cells[i].get_text() == nbb_unformatted_code) {\n",
       "                             nbb_cells[i].set_text(nbb_formatted_code);\n",
       "                        }\n",
       "                        break;\n",
       "                    }\n",
       "                }\n",
       "            }, 500);\n",
       "            "
      ],
      "text/plain": [
       "<IPython.core.display.Javascript object>"
      ]
     },
     "metadata": {},
     "output_type": "display_data"
    },
    {
     "data": {
      "application/javascript": [
       "\n",
       "            setTimeout(function() {\n",
       "                var nbb_cell_id = 182;\n",
       "                var nbb_unformatted_code = \"prediction = model.predict(Test_X)\";\n",
       "                var nbb_formatted_code = \"prediction = model.predict(Test_X)\";\n",
       "                var nbb_cells = Jupyter.notebook.get_cells();\n",
       "                for (var i = 0; i < nbb_cells.length; ++i) {\n",
       "                    if (nbb_cells[i].input_prompt_number == nbb_cell_id) {\n",
       "                        if (nbb_cells[i].get_text() == nbb_unformatted_code) {\n",
       "                             nbb_cells[i].set_text(nbb_formatted_code);\n",
       "                        }\n",
       "                        break;\n",
       "                    }\n",
       "                }\n",
       "            }, 500);\n",
       "            "
      ],
      "text/plain": [
       "<IPython.core.display.Javascript object>"
      ]
     },
     "metadata": {},
     "output_type": "display_data"
    },
    {
     "data": {
      "application/javascript": [
       "\n",
       "            setTimeout(function() {\n",
       "                var nbb_cell_id = 182;\n",
       "                var nbb_unformatted_code = \"prediction = model.predict(Test_X)\";\n",
       "                var nbb_formatted_code = \"prediction = model.predict(Test_X)\";\n",
       "                var nbb_cells = Jupyter.notebook.get_cells();\n",
       "                for (var i = 0; i < nbb_cells.length; ++i) {\n",
       "                    if (nbb_cells[i].input_prompt_number == nbb_cell_id) {\n",
       "                        if (nbb_cells[i].get_text() == nbb_unformatted_code) {\n",
       "                             nbb_cells[i].set_text(nbb_formatted_code);\n",
       "                        }\n",
       "                        break;\n",
       "                    }\n",
       "                }\n",
       "            }, 500);\n",
       "            "
      ],
      "text/plain": [
       "<IPython.core.display.Javascript object>"
      ]
     },
     "metadata": {},
     "output_type": "display_data"
    },
    {
     "data": {
      "application/javascript": [
       "\n",
       "            setTimeout(function() {\n",
       "                var nbb_cell_id = 182;\n",
       "                var nbb_unformatted_code = \"prediction = model.predict(Test_X)\";\n",
       "                var nbb_formatted_code = \"prediction = model.predict(Test_X)\";\n",
       "                var nbb_cells = Jupyter.notebook.get_cells();\n",
       "                for (var i = 0; i < nbb_cells.length; ++i) {\n",
       "                    if (nbb_cells[i].input_prompt_number == nbb_cell_id) {\n",
       "                        if (nbb_cells[i].get_text() == nbb_unformatted_code) {\n",
       "                             nbb_cells[i].set_text(nbb_formatted_code);\n",
       "                        }\n",
       "                        break;\n",
       "                    }\n",
       "                }\n",
       "            }, 500);\n",
       "            "
      ],
      "text/plain": [
       "<IPython.core.display.Javascript object>"
      ]
     },
     "metadata": {},
     "output_type": "display_data"
    },
    {
     "data": {
      "application/javascript": [
       "\n",
       "            setTimeout(function() {\n",
       "                var nbb_cell_id = 182;\n",
       "                var nbb_unformatted_code = \"prediction = model.predict(Test_X)\";\n",
       "                var nbb_formatted_code = \"prediction = model.predict(Test_X)\";\n",
       "                var nbb_cells = Jupyter.notebook.get_cells();\n",
       "                for (var i = 0; i < nbb_cells.length; ++i) {\n",
       "                    if (nbb_cells[i].input_prompt_number == nbb_cell_id) {\n",
       "                        if (nbb_cells[i].get_text() == nbb_unformatted_code) {\n",
       "                             nbb_cells[i].set_text(nbb_formatted_code);\n",
       "                        }\n",
       "                        break;\n",
       "                    }\n",
       "                }\n",
       "            }, 500);\n",
       "            "
      ],
      "text/plain": [
       "<IPython.core.display.Javascript object>"
      ]
     },
     "metadata": {},
     "output_type": "display_data"
    },
    {
     "data": {
      "application/javascript": [
       "\n",
       "            setTimeout(function() {\n",
       "                var nbb_cell_id = 182;\n",
       "                var nbb_unformatted_code = \"prediction = model.predict(Test_X)\";\n",
       "                var nbb_formatted_code = \"prediction = model.predict(Test_X)\";\n",
       "                var nbb_cells = Jupyter.notebook.get_cells();\n",
       "                for (var i = 0; i < nbb_cells.length; ++i) {\n",
       "                    if (nbb_cells[i].input_prompt_number == nbb_cell_id) {\n",
       "                        if (nbb_cells[i].get_text() == nbb_unformatted_code) {\n",
       "                             nbb_cells[i].set_text(nbb_formatted_code);\n",
       "                        }\n",
       "                        break;\n",
       "                    }\n",
       "                }\n",
       "            }, 500);\n",
       "            "
      ],
      "text/plain": [
       "<IPython.core.display.Javascript object>"
      ]
     },
     "metadata": {},
     "output_type": "display_data"
    },
    {
     "data": {
      "application/javascript": [
       "\n",
       "            setTimeout(function() {\n",
       "                var nbb_cell_id = 182;\n",
       "                var nbb_unformatted_code = \"prediction = model.predict(Test_X)\";\n",
       "                var nbb_formatted_code = \"prediction = model.predict(Test_X)\";\n",
       "                var nbb_cells = Jupyter.notebook.get_cells();\n",
       "                for (var i = 0; i < nbb_cells.length; ++i) {\n",
       "                    if (nbb_cells[i].input_prompt_number == nbb_cell_id) {\n",
       "                        if (nbb_cells[i].get_text() == nbb_unformatted_code) {\n",
       "                             nbb_cells[i].set_text(nbb_formatted_code);\n",
       "                        }\n",
       "                        break;\n",
       "                    }\n",
       "                }\n",
       "            }, 500);\n",
       "            "
      ],
      "text/plain": [
       "<IPython.core.display.Javascript object>"
      ]
     },
     "metadata": {},
     "output_type": "display_data"
    },
    {
     "data": {
      "application/javascript": [
       "\n",
       "            setTimeout(function() {\n",
       "                var nbb_cell_id = 182;\n",
       "                var nbb_unformatted_code = \"prediction = model.predict(Test_X)\";\n",
       "                var nbb_formatted_code = \"prediction = model.predict(Test_X)\";\n",
       "                var nbb_cells = Jupyter.notebook.get_cells();\n",
       "                for (var i = 0; i < nbb_cells.length; ++i) {\n",
       "                    if (nbb_cells[i].input_prompt_number == nbb_cell_id) {\n",
       "                        if (nbb_cells[i].get_text() == nbb_unformatted_code) {\n",
       "                             nbb_cells[i].set_text(nbb_formatted_code);\n",
       "                        }\n",
       "                        break;\n",
       "                    }\n",
       "                }\n",
       "            }, 500);\n",
       "            "
      ],
      "text/plain": [
       "<IPython.core.display.Javascript object>"
      ]
     },
     "metadata": {},
     "output_type": "display_data"
    },
    {
     "data": {
      "application/javascript": [
       "\n",
       "            setTimeout(function() {\n",
       "                var nbb_cell_id = 182;\n",
       "                var nbb_unformatted_code = \"prediction = model.predict(Test_X)\";\n",
       "                var nbb_formatted_code = \"prediction = model.predict(Test_X)\";\n",
       "                var nbb_cells = Jupyter.notebook.get_cells();\n",
       "                for (var i = 0; i < nbb_cells.length; ++i) {\n",
       "                    if (nbb_cells[i].input_prompt_number == nbb_cell_id) {\n",
       "                        if (nbb_cells[i].get_text() == nbb_unformatted_code) {\n",
       "                             nbb_cells[i].set_text(nbb_formatted_code);\n",
       "                        }\n",
       "                        break;\n",
       "                    }\n",
       "                }\n",
       "            }, 500);\n",
       "            "
      ],
      "text/plain": [
       "<IPython.core.display.Javascript object>"
      ]
     },
     "metadata": {},
     "output_type": "display_data"
    },
    {
     "data": {
      "application/javascript": [
       "\n",
       "            setTimeout(function() {\n",
       "                var nbb_cell_id = 182;\n",
       "                var nbb_unformatted_code = \"prediction = model.predict(Test_X)\";\n",
       "                var nbb_formatted_code = \"prediction = model.predict(Test_X)\";\n",
       "                var nbb_cells = Jupyter.notebook.get_cells();\n",
       "                for (var i = 0; i < nbb_cells.length; ++i) {\n",
       "                    if (nbb_cells[i].input_prompt_number == nbb_cell_id) {\n",
       "                        if (nbb_cells[i].get_text() == nbb_unformatted_code) {\n",
       "                             nbb_cells[i].set_text(nbb_formatted_code);\n",
       "                        }\n",
       "                        break;\n",
       "                    }\n",
       "                }\n",
       "            }, 500);\n",
       "            "
      ],
      "text/plain": [
       "<IPython.core.display.Javascript object>"
      ]
     },
     "metadata": {},
     "output_type": "display_data"
    }
   ],
   "source": [
    "prediction = model.predict(Test_X)"
   ]
  },
  {
   "cell_type": "code",
   "execution_count": 184,
   "id": "30ac06da",
   "metadata": {},
   "outputs": [
    {
     "data": {
      "text/plain": [
       "<matplotlib.legend.Legend at 0x176ba19ff88>"
      ]
     },
     "execution_count": 184,
     "metadata": {},
     "output_type": "execute_result"
    },
    {
     "data": {
      "image/png": "[encoded data removed]",
      "text/plain": [
       "<Figure size 1440x360 with 1 Axes>"
      ]
     },
     "metadata": {},
     "output_type": "display_data"
    },
    {
     "data": {
      "application/javascript": [
       "\n",
       "            setTimeout(function() {\n",
       "                var nbb_cell_id = 184;\n",
       "                var nbb_unformatted_code = \"plt.figure(figsize=(20, 5))\\nplt.plot(\\n    asset_data[\\\"Date\\\"][asset_data[\\\"Date\\\"] < \\\"2021-10-01\\\"],\\n    asset_data[\\\"Adj Close\\\"][asset_data[\\\"Date\\\"] < \\\"2021-10-01\\\"],\\n    label=\\\"Training\\\",\\n)\\nplt.plot(\\n    asset_data[\\\"Date\\\"][asset_data[\\\"Date\\\"] >= \\\"2021-10-01\\\"],\\n    asset_data[\\\"Adj Close\\\"][asset_data[\\\"Date\\\"] >= \\\"2021-10-01\\\"],\\n    label=\\\"Testing\\\",\\n)\\nplt.plot(\\n    asset_data[\\\"Date\\\"][asset_data[\\\"Date\\\"] >= \\\"2021-10-12\\\"],\\n    prediction.reshape(-1),\\n    label=\\\"Predictions\\\",\\n)\\nplt.xlabel(\\\"Time\\\")\\nplt.ylabel(\\\"Closing Price\\\")\\nplt.legend(loc=\\\"best\\\")\";\n",
       "                var nbb_formatted_code = \"plt.figure(figsize=(20, 5))\\nplt.plot(\\n    asset_data[\\\"Date\\\"][asset_data[\\\"Date\\\"] < \\\"2021-10-01\\\"],\\n    asset_data[\\\"Adj Close\\\"][asset_data[\\\"Date\\\"] < \\\"2021-10-01\\\"],\\n    label=\\\"Training\\\",\\n)\\nplt.plot(\\n    asset_data[\\\"Date\\\"][asset_data[\\\"Date\\\"] >= \\\"2021-10-01\\\"],\\n    asset_data[\\\"Adj Close\\\"][asset_data[\\\"Date\\\"] >= \\\"2021-10-01\\\"],\\n    label=\\\"Testing\\\",\\n)\\nplt.plot(\\n    asset_data[\\\"Date\\\"][asset_data[\\\"Date\\\"] >= \\\"2021-10-12\\\"],\\n    prediction.reshape(-1),\\n    label=\\\"Predictions\\\",\\n)\\nplt.xlabel(\\\"Time\\\")\\nplt.ylabel(\\\"Closing Price\\\")\\nplt.legend(loc=\\\"best\\\")\";\n",
       "                var nbb_cells = Jupyter.notebook.get_cells();\n",
       "                for (var i = 0; i < nbb_cells.length; ++i) {\n",
       "                    if (nbb_cells[i].input_prompt_number == nbb_cell_id) {\n",
       "                        if (nbb_cells[i].get_text() == nbb_unformatted_code) {\n",
       "                             nbb_cells[i].set_text(nbb_formatted_code);\n",
       "                        }\n",
       "                        break;\n",
       "                    }\n",
       "                }\n",
       "            }, 500);\n",
       "            "
      ],
      "text/plain": [
       "<IPython.core.display.Javascript object>"
      ]
     },
     "metadata": {},
     "output_type": "display_data"
    },
    {
     "data": {
      "application/javascript": [
       "\n",
       "            setTimeout(function() {\n",
       "                var nbb_cell_id = 184;\n",
       "                var nbb_unformatted_code = \"plt.figure(figsize=(20, 5))\\nplt.plot(\\n    asset_data[\\\"Date\\\"][asset_data[\\\"Date\\\"] < \\\"2021-10-01\\\"],\\n    asset_data[\\\"Adj Close\\\"][asset_data[\\\"Date\\\"] < \\\"2021-10-01\\\"],\\n    label=\\\"Training\\\",\\n)\\nplt.plot(\\n    asset_data[\\\"Date\\\"][asset_data[\\\"Date\\\"] >= \\\"2021-10-01\\\"],\\n    asset_data[\\\"Adj Close\\\"][asset_data[\\\"Date\\\"] >= \\\"2021-10-01\\\"],\\n    label=\\\"Testing\\\",\\n)\\nplt.plot(\\n    asset_data[\\\"Date\\\"][asset_data[\\\"Date\\\"] >= \\\"2021-10-12\\\"],\\n    prediction.reshape(-1),\\n    label=\\\"Predictions\\\",\\n)\\nplt.xlabel(\\\"Time\\\")\\nplt.ylabel(\\\"Closing Price\\\")\\nplt.legend(loc=\\\"best\\\")\";\n",
       "                var nbb_formatted_code = \"plt.figure(figsize=(20, 5))\\nplt.plot(\\n    asset_data[\\\"Date\\\"][asset_data[\\\"Date\\\"] < \\\"2021-10-01\\\"],\\n    asset_data[\\\"Adj Close\\\"][asset_data[\\\"Date\\\"] < \\\"2021-10-01\\\"],\\n    label=\\\"Training\\\",\\n)\\nplt.plot(\\n    asset_data[\\\"Date\\\"][asset_data[\\\"Date\\\"] >= \\\"2021-10-01\\\"],\\n    asset_data[\\\"Adj Close\\\"][asset_data[\\\"Date\\\"] >= \\\"2021-10-01\\\"],\\n    label=\\\"Testing\\\",\\n)\\nplt.plot(\\n    asset_data[\\\"Date\\\"][asset_data[\\\"Date\\\"] >= \\\"2021-10-12\\\"],\\n    prediction.reshape(-1),\\n    label=\\\"Predictions\\\",\\n)\\nplt.xlabel(\\\"Time\\\")\\nplt.ylabel(\\\"Closing Price\\\")\\nplt.legend(loc=\\\"best\\\")\";\n",
       "                var nbb_cells = Jupyter.notebook.get_cells();\n",
       "                for (var i = 0; i < nbb_cells.length; ++i) {\n",
       "                    if (nbb_cells[i].input_prompt_number == nbb_cell_id) {\n",
       "                        if (nbb_cells[i].get_text() == nbb_unformatted_code) {\n",
       "                             nbb_cells[i].set_text(nbb_formatted_code);\n",
       "                        }\n",
       "                        break;\n",
       "                    }\n",
       "                }\n",
       "            }, 500);\n",
       "            "
      ],
      "text/plain": [
       "<IPython.core.display.Javascript object>"
      ]
     },
     "metadata": {},
     "output_type": "display_data"
    },
    {
     "data": {
      "application/javascript": [
       "\n",
       "            setTimeout(function() {\n",
       "                var nbb_cell_id = 184;\n",
       "                var nbb_unformatted_code = \"plt.figure(figsize=(20, 5))\\nplt.plot(\\n    asset_data[\\\"Date\\\"][asset_data[\\\"Date\\\"] < \\\"2021-10-01\\\"],\\n    asset_data[\\\"Adj Close\\\"][asset_data[\\\"Date\\\"] < \\\"2021-10-01\\\"],\\n    label=\\\"Training\\\",\\n)\\nplt.plot(\\n    asset_data[\\\"Date\\\"][asset_data[\\\"Date\\\"] >= \\\"2021-10-01\\\"],\\n    asset_data[\\\"Adj Close\\\"][asset_data[\\\"Date\\\"] >= \\\"2021-10-01\\\"],\\n    label=\\\"Testing\\\",\\n)\\nplt.plot(\\n    asset_data[\\\"Date\\\"][asset_data[\\\"Date\\\"] >= \\\"2021-10-12\\\"],\\n    prediction.reshape(-1),\\n    label=\\\"Predictions\\\",\\n)\\nplt.xlabel(\\\"Time\\\")\\nplt.ylabel(\\\"Closing Price\\\")\\nplt.legend(loc=\\\"best\\\")\";\n",
       "                var nbb_formatted_code = \"plt.figure(figsize=(20, 5))\\nplt.plot(\\n    asset_data[\\\"Date\\\"][asset_data[\\\"Date\\\"] < \\\"2021-10-01\\\"],\\n    asset_data[\\\"Adj Close\\\"][asset_data[\\\"Date\\\"] < \\\"2021-10-01\\\"],\\n    label=\\\"Training\\\",\\n)\\nplt.plot(\\n    asset_data[\\\"Date\\\"][asset_data[\\\"Date\\\"] >= \\\"2021-10-01\\\"],\\n    asset_data[\\\"Adj Close\\\"][asset_data[\\\"Date\\\"] >= \\\"2021-10-01\\\"],\\n    label=\\\"Testing\\\",\\n)\\nplt.plot(\\n    asset_data[\\\"Date\\\"][asset_data[\\\"Date\\\"] >= \\\"2021-10-12\\\"],\\n    prediction.reshape(-1),\\n    label=\\\"Predictions\\\",\\n)\\nplt.xlabel(\\\"Time\\\")\\nplt.ylabel(\\\"Closing Price\\\")\\nplt.legend(loc=\\\"best\\\")\";\n",
       "                var nbb_cells = Jupyter.notebook.get_cells();\n",
       "                for (var i = 0; i < nbb_cells.length; ++i) {\n",
       "                    if (nbb_cells[i].input_prompt_number == nbb_cell_id) {\n",
       "                        if (nbb_cells[i].get_text() == nbb_unformatted_code) {\n",
       "                             nbb_cells[i].set_text(nbb_formatted_code);\n",
       "                        }\n",
       "                        break;\n",
       "                    }\n",
       "                }\n",
       "            }, 500);\n",
       "            "
      ],
      "text/plain": [
       "<IPython.core.display.Javascript object>"
      ]
     },
     "metadata": {},
     "output_type": "display_data"
    },
    {
     "data": {
      "application/javascript": [
       "\n",
       "            setTimeout(function() {\n",
       "                var nbb_cell_id = 184;\n",
       "                var nbb_unformatted_code = \"plt.figure(figsize=(20, 5))\\nplt.plot(\\n    asset_data[\\\"Date\\\"][asset_data[\\\"Date\\\"] < \\\"2021-10-01\\\"],\\n    asset_data[\\\"Adj Close\\\"][asset_data[\\\"Date\\\"] < \\\"2021-10-01\\\"],\\n    label=\\\"Training\\\",\\n)\\nplt.plot(\\n    asset_data[\\\"Date\\\"][asset_data[\\\"Date\\\"] >= \\\"2021-10-01\\\"],\\n    asset_data[\\\"Adj Close\\\"][asset_data[\\\"Date\\\"] >= \\\"2021-10-01\\\"],\\n    label=\\\"Testing\\\",\\n)\\nplt.plot(\\n    asset_data[\\\"Date\\\"][asset_data[\\\"Date\\\"] >= \\\"2021-10-12\\\"],\\n    prediction.reshape(-1),\\n    label=\\\"Predictions\\\",\\n)\\nplt.xlabel(\\\"Time\\\")\\nplt.ylabel(\\\"Closing Price\\\")\\nplt.legend(loc=\\\"best\\\")\";\n",
       "                var nbb_formatted_code = \"plt.figure(figsize=(20, 5))\\nplt.plot(\\n    asset_data[\\\"Date\\\"][asset_data[\\\"Date\\\"] < \\\"2021-10-01\\\"],\\n    asset_data[\\\"Adj Close\\\"][asset_data[\\\"Date\\\"] < \\\"2021-10-01\\\"],\\n    label=\\\"Training\\\",\\n)\\nplt.plot(\\n    asset_data[\\\"Date\\\"][asset_data[\\\"Date\\\"] >= \\\"2021-10-01\\\"],\\n    asset_data[\\\"Adj Close\\\"][asset_data[\\\"Date\\\"] >= \\\"2021-10-01\\\"],\\n    label=\\\"Testing\\\",\\n)\\nplt.plot(\\n    asset_data[\\\"Date\\\"][asset_data[\\\"Date\\\"] >= \\\"2021-10-12\\\"],\\n    prediction.reshape(-1),\\n    label=\\\"Predictions\\\",\\n)\\nplt.xlabel(\\\"Time\\\")\\nplt.ylabel(\\\"Closing Price\\\")\\nplt.legend(loc=\\\"best\\\")\";\n",
       "                var nbb_cells = Jupyter.notebook.get_cells();\n",
       "                for (var i = 0; i < nbb_cells.length; ++i) {\n",
       "                    if (nbb_cells[i].input_prompt_number == nbb_cell_id) {\n",
       "                        if (nbb_cells[i].get_text() == nbb_unformatted_code) {\n",
       "                             nbb_cells[i].set_text(nbb_formatted_code);\n",
       "                        }\n",
       "                        break;\n",
       "                    }\n",
       "                }\n",
       "            }, 500);\n",
       "            "
      ],
      "text/plain": [
       "<IPython.core.display.Javascript object>"
      ]
     },
     "metadata": {},
     "output_type": "display_data"
    },
    {
     "data": {
      "application/javascript": [
       "\n",
       "            setTimeout(function() {\n",
       "                var nbb_cell_id = 184;\n",
       "                var nbb_unformatted_code = \"plt.figure(figsize=(20, 5))\\nplt.plot(\\n    asset_data[\\\"Date\\\"][asset_data[\\\"Date\\\"] < \\\"2021-10-01\\\"],\\n    asset_data[\\\"Adj Close\\\"][asset_data[\\\"Date\\\"] < \\\"2021-10-01\\\"],\\n    label=\\\"Training\\\",\\n)\\nplt.plot(\\n    asset_data[\\\"Date\\\"][asset_data[\\\"Date\\\"] >= \\\"2021-10-01\\\"],\\n    asset_data[\\\"Adj Close\\\"][asset_data[\\\"Date\\\"] >= \\\"2021-10-01\\\"],\\n    label=\\\"Testing\\\",\\n)\\nplt.plot(\\n    asset_data[\\\"Date\\\"][asset_data[\\\"Date\\\"] >= \\\"2021-10-12\\\"],\\n    prediction.reshape(-1),\\n    label=\\\"Predictions\\\",\\n)\\nplt.xlabel(\\\"Time\\\")\\nplt.ylabel(\\\"Closing Price\\\")\\nplt.legend(loc=\\\"best\\\")\";\n",
       "                var nbb_formatted_code = \"plt.figure(figsize=(20, 5))\\nplt.plot(\\n    asset_data[\\\"Date\\\"][asset_data[\\\"Date\\\"] < \\\"2021-10-01\\\"],\\n    asset_data[\\\"Adj Close\\\"][asset_data[\\\"Date\\\"] < \\\"2021-10-01\\\"],\\n    label=\\\"Training\\\",\\n)\\nplt.plot(\\n    asset_data[\\\"Date\\\"][asset_data[\\\"Date\\\"] >= \\\"2021-10-01\\\"],\\n    asset_data[\\\"Adj Close\\\"][asset_data[\\\"Date\\\"] >= \\\"2021-10-01\\\"],\\n    label=\\\"Testing\\\",\\n)\\nplt.plot(\\n    asset_data[\\\"Date\\\"][asset_data[\\\"Date\\\"] >= \\\"2021-10-12\\\"],\\n    prediction.reshape(-1),\\n    label=\\\"Predictions\\\",\\n)\\nplt.xlabel(\\\"Time\\\")\\nplt.ylabel(\\\"Closing Price\\\")\\nplt.legend(loc=\\\"best\\\")\";\n",
       "                var nbb_cells = Jupyter.notebook.get_cells();\n",
       "                for (var i = 0; i < nbb_cells.length; ++i) {\n",
       "                    if (nbb_cells[i].input_prompt_number == nbb_cell_id) {\n",
       "                        if (nbb_cells[i].get_text() == nbb_unformatted_code) {\n",
       "                             nbb_cells[i].set_text(nbb_formatted_code);\n",
       "                        }\n",
       "                        break;\n",
       "                    }\n",
       "                }\n",
       "            }, 500);\n",
       "            "
      ],
      "text/plain": [
       "<IPython.core.display.Javascript object>"
      ]
     },
     "metadata": {},
     "output_type": "display_data"
    },
    {
     "data": {
      "application/javascript": [
       "\n",
       "            setTimeout(function() {\n",
       "                var nbb_cell_id = 184;\n",
       "                var nbb_unformatted_code = \"plt.figure(figsize=(20, 5))\\nplt.plot(\\n    asset_data[\\\"Date\\\"][asset_data[\\\"Date\\\"] < \\\"2021-10-01\\\"],\\n    asset_data[\\\"Adj Close\\\"][asset_data[\\\"Date\\\"] < \\\"2021-10-01\\\"],\\n    label=\\\"Training\\\",\\n)\\nplt.plot(\\n    asset_data[\\\"Date\\\"][asset_data[\\\"Date\\\"] >= \\\"2021-10-01\\\"],\\n    asset_data[\\\"Adj Close\\\"][asset_data[\\\"Date\\\"] >= \\\"2021-10-01\\\"],\\n    label=\\\"Testing\\\",\\n)\\nplt.plot(\\n    asset_data[\\\"Date\\\"][asset_data[\\\"Date\\\"] >= \\\"2021-10-12\\\"],\\n    prediction.reshape(-1),\\n    label=\\\"Predictions\\\",\\n)\\nplt.xlabel(\\\"Time\\\")\\nplt.ylabel(\\\"Closing Price\\\")\\nplt.legend(loc=\\\"best\\\")\";\n",
       "                var nbb_formatted_code = \"plt.figure(figsize=(20, 5))\\nplt.plot(\\n    asset_data[\\\"Date\\\"][asset_data[\\\"Date\\\"] < \\\"2021-10-01\\\"],\\n    asset_data[\\\"Adj Close\\\"][asset_data[\\\"Date\\\"] < \\\"2021-10-01\\\"],\\n    label=\\\"Training\\\",\\n)\\nplt.plot(\\n    asset_data[\\\"Date\\\"][asset_data[\\\"Date\\\"] >= \\\"2021-10-01\\\"],\\n    asset_data[\\\"Adj Close\\\"][asset_data[\\\"Date\\\"] >= \\\"2021-10-01\\\"],\\n    label=\\\"Testing\\\",\\n)\\nplt.plot(\\n    asset_data[\\\"Date\\\"][asset_data[\\\"Date\\\"] >= \\\"2021-10-12\\\"],\\n    prediction.reshape(-1),\\n    label=\\\"Predictions\\\",\\n)\\nplt.xlabel(\\\"Time\\\")\\nplt.ylabel(\\\"Closing Price\\\")\\nplt.legend(loc=\\\"best\\\")\";\n",
       "                var nbb_cells = Jupyter.notebook.get_cells();\n",
       "                for (var i = 0; i < nbb_cells.length; ++i) {\n",
       "                    if (nbb_cells[i].input_prompt_number == nbb_cell_id) {\n",
       "                        if (nbb_cells[i].get_text() == nbb_unformatted_code) {\n",
       "                             nbb_cells[i].set_text(nbb_formatted_code);\n",
       "                        }\n",
       "                        break;\n",
       "                    }\n",
       "                }\n",
       "            }, 500);\n",
       "            "
      ],
      "text/plain": [
       "<IPython.core.display.Javascript object>"
      ]
     },
     "metadata": {},
     "output_type": "display_data"
    },
    {
     "data": {
      "application/javascript": [
       "\n",
       "            setTimeout(function() {\n",
       "                var nbb_cell_id = 184;\n",
       "                var nbb_unformatted_code = \"plt.figure(figsize=(20, 5))\\nplt.plot(\\n    asset_data[\\\"Date\\\"][asset_data[\\\"Date\\\"] < \\\"2021-10-01\\\"],\\n    asset_data[\\\"Adj Close\\\"][asset_data[\\\"Date\\\"] < \\\"2021-10-01\\\"],\\n    label=\\\"Training\\\",\\n)\\nplt.plot(\\n    asset_data[\\\"Date\\\"][asset_data[\\\"Date\\\"] >= \\\"2021-10-01\\\"],\\n    asset_data[\\\"Adj Close\\\"][asset_data[\\\"Date\\\"] >= \\\"2021-10-01\\\"],\\n    label=\\\"Testing\\\",\\n)\\nplt.plot(\\n    asset_data[\\\"Date\\\"][asset_data[\\\"Date\\\"] >= \\\"2021-10-12\\\"],\\n    prediction.reshape(-1),\\n    label=\\\"Predictions\\\",\\n)\\nplt.xlabel(\\\"Time\\\")\\nplt.ylabel(\\\"Closing Price\\\")\\nplt.legend(loc=\\\"best\\\")\";\n",
       "                var nbb_formatted_code = \"plt.figure(figsize=(20, 5))\\nplt.plot(\\n    asset_data[\\\"Date\\\"][asset_data[\\\"Date\\\"] < \\\"2021-10-01\\\"],\\n    asset_data[\\\"Adj Close\\\"][asset_data[\\\"Date\\\"] < \\\"2021-10-01\\\"],\\n    label=\\\"Training\\\",\\n)\\nplt.plot(\\n    asset_data[\\\"Date\\\"][asset_data[\\\"Date\\\"] >= \\\"2021-10-01\\\"],\\n    asset_data[\\\"Adj Close\\\"][asset_data[\\\"Date\\\"] >= \\\"2021-10-01\\\"],\\n    label=\\\"Testing\\\",\\n)\\nplt.plot(\\n    asset_data[\\\"Date\\\"][asset_data[\\\"Date\\\"] >= \\\"2021-10-12\\\"],\\n    prediction.reshape(-1),\\n    label=\\\"Predictions\\\",\\n)\\nplt.xlabel(\\\"Time\\\")\\nplt.ylabel(\\\"Closing Price\\\")\\nplt.legend(loc=\\\"best\\\")\";\n",
       "                var nbb_cells = Jupyter.notebook.get_cells();\n",
       "                for (var i = 0; i < nbb_cells.length; ++i) {\n",
       "                    if (nbb_cells[i].input_prompt_number == nbb_cell_id) {\n",
       "                        if (nbb_cells[i].get_text() == nbb_unformatted_code) {\n",
       "                             nbb_cells[i].set_text(nbb_formatted_code);\n",
       "                        }\n",
       "                        break;\n",
       "                    }\n",
       "                }\n",
       "            }, 500);\n",
       "            "
      ],
      "text/plain": [
       "<IPython.core.display.Javascript object>"
      ]
     },
     "metadata": {},
     "output_type": "display_data"
    },
    {
     "data": {
      "application/javascript": [
       "\n",
       "            setTimeout(function() {\n",
       "                var nbb_cell_id = 184;\n",
       "                var nbb_unformatted_code = \"plt.figure(figsize=(20, 5))\\nplt.plot(\\n    asset_data[\\\"Date\\\"][asset_data[\\\"Date\\\"] < \\\"2021-10-01\\\"],\\n    asset_data[\\\"Adj Close\\\"][asset_data[\\\"Date\\\"] < \\\"2021-10-01\\\"],\\n    label=\\\"Training\\\",\\n)\\nplt.plot(\\n    asset_data[\\\"Date\\\"][asset_data[\\\"Date\\\"] >= \\\"2021-10-01\\\"],\\n    asset_data[\\\"Adj Close\\\"][asset_data[\\\"Date\\\"] >= \\\"2021-10-01\\\"],\\n    label=\\\"Testing\\\",\\n)\\nplt.plot(\\n    asset_data[\\\"Date\\\"][asset_data[\\\"Date\\\"] >= \\\"2021-10-12\\\"],\\n    prediction.reshape(-1),\\n    label=\\\"Predictions\\\",\\n)\\nplt.xlabel(\\\"Time\\\")\\nplt.ylabel(\\\"Closing Price\\\")\\nplt.legend(loc=\\\"best\\\")\";\n",
       "                var nbb_formatted_code = \"plt.figure(figsize=(20, 5))\\nplt.plot(\\n    asset_data[\\\"Date\\\"][asset_data[\\\"Date\\\"] < \\\"2021-10-01\\\"],\\n    asset_data[\\\"Adj Close\\\"][asset_data[\\\"Date\\\"] < \\\"2021-10-01\\\"],\\n    label=\\\"Training\\\",\\n)\\nplt.plot(\\n    asset_data[\\\"Date\\\"][asset_data[\\\"Date\\\"] >= \\\"2021-10-01\\\"],\\n    asset_data[\\\"Adj Close\\\"][asset_data[\\\"Date\\\"] >= \\\"2021-10-01\\\"],\\n    label=\\\"Testing\\\",\\n)\\nplt.plot(\\n    asset_data[\\\"Date\\\"][asset_data[\\\"Date\\\"] >= \\\"2021-10-12\\\"],\\n    prediction.reshape(-1),\\n    label=\\\"Predictions\\\",\\n)\\nplt.xlabel(\\\"Time\\\")\\nplt.ylabel(\\\"Closing Price\\\")\\nplt.legend(loc=\\\"best\\\")\";\n",
       "                var nbb_cells = Jupyter.notebook.get_cells();\n",
       "                for (var i = 0; i < nbb_cells.length; ++i) {\n",
       "                    if (nbb_cells[i].input_prompt_number == nbb_cell_id) {\n",
       "                        if (nbb_cells[i].get_text() == nbb_unformatted_code) {\n",
       "                             nbb_cells[i].set_text(nbb_formatted_code);\n",
       "                        }\n",
       "                        break;\n",
       "                    }\n",
       "                }\n",
       "            }, 500);\n",
       "            "
      ],
      "text/plain": [
       "<IPython.core.display.Javascript object>"
      ]
     },
     "metadata": {},
     "output_type": "display_data"
    },
    {
     "data": {
      "application/javascript": [
       "\n",
       "            setTimeout(function() {\n",
       "                var nbb_cell_id = 184;\n",
       "                var nbb_unformatted_code = \"plt.figure(figsize=(20, 5))\\nplt.plot(\\n    asset_data[\\\"Date\\\"][asset_data[\\\"Date\\\"] < \\\"2021-10-01\\\"],\\n    asset_data[\\\"Adj Close\\\"][asset_data[\\\"Date\\\"] < \\\"2021-10-01\\\"],\\n    label=\\\"Training\\\",\\n)\\nplt.plot(\\n    asset_data[\\\"Date\\\"][asset_data[\\\"Date\\\"] >= \\\"2021-10-01\\\"],\\n    asset_data[\\\"Adj Close\\\"][asset_data[\\\"Date\\\"] >= \\\"2021-10-01\\\"],\\n    label=\\\"Testing\\\",\\n)\\nplt.plot(\\n    asset_data[\\\"Date\\\"][asset_data[\\\"Date\\\"] >= \\\"2021-10-12\\\"],\\n    prediction.reshape(-1),\\n    label=\\\"Predictions\\\",\\n)\\nplt.xlabel(\\\"Time\\\")\\nplt.ylabel(\\\"Closing Price\\\")\\nplt.legend(loc=\\\"best\\\")\";\n",
       "                var nbb_formatted_code = \"plt.figure(figsize=(20, 5))\\nplt.plot(\\n    asset_data[\\\"Date\\\"][asset_data[\\\"Date\\\"] < \\\"2021-10-01\\\"],\\n    asset_data[\\\"Adj Close\\\"][asset_data[\\\"Date\\\"] < \\\"2021-10-01\\\"],\\n    label=\\\"Training\\\",\\n)\\nplt.plot(\\n    asset_data[\\\"Date\\\"][asset_data[\\\"Date\\\"] >= \\\"2021-10-01\\\"],\\n    asset_data[\\\"Adj Close\\\"][asset_data[\\\"Date\\\"] >= \\\"2021-10-01\\\"],\\n    label=\\\"Testing\\\",\\n)\\nplt.plot(\\n    asset_data[\\\"Date\\\"][asset_data[\\\"Date\\\"] >= \\\"2021-10-12\\\"],\\n    prediction.reshape(-1),\\n    label=\\\"Predictions\\\",\\n)\\nplt.xlabel(\\\"Time\\\")\\nplt.ylabel(\\\"Closing Price\\\")\\nplt.legend(loc=\\\"best\\\")\";\n",
       "                var nbb_cells = Jupyter.notebook.get_cells();\n",
       "                for (var i = 0; i < nbb_cells.length; ++i) {\n",
       "                    if (nbb_cells[i].input_prompt_number == nbb_cell_id) {\n",
       "                        if (nbb_cells[i].get_text() == nbb_unformatted_code) {\n",
       "                             nbb_cells[i].set_text(nbb_formatted_code);\n",
       "                        }\n",
       "                        break;\n",
       "                    }\n",
       "                }\n",
       "            }, 500);\n",
       "            "
      ],
      "text/plain": [
       "<IPython.core.display.Javascript object>"
      ]
     },
     "metadata": {},
     "output_type": "display_data"
    },
    {
     "data": {
      "application/javascript": [
       "\n",
       "            setTimeout(function() {\n",
       "                var nbb_cell_id = 184;\n",
       "                var nbb_unformatted_code = \"plt.figure(figsize=(20, 5))\\nplt.plot(\\n    asset_data[\\\"Date\\\"][asset_data[\\\"Date\\\"] < \\\"2021-10-01\\\"],\\n    asset_data[\\\"Adj Close\\\"][asset_data[\\\"Date\\\"] < \\\"2021-10-01\\\"],\\n    label=\\\"Training\\\",\\n)\\nplt.plot(\\n    asset_data[\\\"Date\\\"][asset_data[\\\"Date\\\"] >= \\\"2021-10-01\\\"],\\n    asset_data[\\\"Adj Close\\\"][asset_data[\\\"Date\\\"] >= \\\"2021-10-01\\\"],\\n    label=\\\"Testing\\\",\\n)\\nplt.plot(\\n    asset_data[\\\"Date\\\"][asset_data[\\\"Date\\\"] >= \\\"2021-10-12\\\"],\\n    prediction.reshape(-1),\\n    label=\\\"Predictions\\\",\\n)\\nplt.xlabel(\\\"Time\\\")\\nplt.ylabel(\\\"Closing Price\\\")\\nplt.legend(loc=\\\"best\\\")\";\n",
       "                var nbb_formatted_code = \"plt.figure(figsize=(20, 5))\\nplt.plot(\\n    asset_data[\\\"Date\\\"][asset_data[\\\"Date\\\"] < \\\"2021-10-01\\\"],\\n    asset_data[\\\"Adj Close\\\"][asset_data[\\\"Date\\\"] < \\\"2021-10-01\\\"],\\n    label=\\\"Training\\\",\\n)\\nplt.plot(\\n    asset_data[\\\"Date\\\"][asset_data[\\\"Date\\\"] >= \\\"2021-10-01\\\"],\\n    asset_data[\\\"Adj Close\\\"][asset_data[\\\"Date\\\"] >= \\\"2021-10-01\\\"],\\n    label=\\\"Testing\\\",\\n)\\nplt.plot(\\n    asset_data[\\\"Date\\\"][asset_data[\\\"Date\\\"] >= \\\"2021-10-12\\\"],\\n    prediction.reshape(-1),\\n    label=\\\"Predictions\\\",\\n)\\nplt.xlabel(\\\"Time\\\")\\nplt.ylabel(\\\"Closing Price\\\")\\nplt.legend(loc=\\\"best\\\")\";\n",
       "                var nbb_cells = Jupyter.notebook.get_cells();\n",
       "                for (var i = 0; i < nbb_cells.length; ++i) {\n",
       "                    if (nbb_cells[i].input_prompt_number == nbb_cell_id) {\n",
       "                        if (nbb_cells[i].get_text() == nbb_unformatted_code) {\n",
       "                             nbb_cells[i].set_text(nbb_formatted_code);\n",
       "                        }\n",
       "                        break;\n",
       "                    }\n",
       "                }\n",
       "            }, 500);\n",
       "            "
      ],
      "text/plain": [
       "<IPython.core.display.Javascript object>"
      ]
     },
     "metadata": {},
     "output_type": "display_data"
    }
   ],
   "source": [
    "plt.figure(figsize=(20, 5))\n",
    "plt.plot(\n",
    "    asset_data[\"Date\"][asset_data[\"Date\"] < \"2021-10-01\"],\n",
    "    asset_data[\"Adj Close\"][asset_data[\"Date\"] < \"2021-10-01\"],\n",
    "    label=\"Training\",\n",
    ")\n",
    "plt.plot(\n",
    "    asset_data[\"Date\"][asset_data[\"Date\"] >= \"2021-10-01\"],\n",
    "    asset_data[\"Adj Close\"][asset_data[\"Date\"] >= \"2021-10-01\"],\n",
    "    label=\"Testing\",\n",
    ")\n",
    "plt.plot(\n",
    "    asset_data[\"Date\"][asset_data[\"Date\"] >= \"2021-10-12\"],\n",
    "    prediction.reshape(-1),\n",
    "    label=\"Predictions\",\n",
    ")\n",
    "plt.xlabel(\"Time\")\n",
    "plt.ylabel(\"Closing Price\")\n",
    "plt.legend(loc=\"best\")"
   ]
  },
  {
   "cell_type": "code",
   "execution_count": 185,
   "id": "4eb5f234",
   "metadata": {},
   "outputs": [
    {
     "data": {
      "text/plain": [
       "array([[ 782.83295,  780.40027,  772.82214,  781.2796 ,  783.4527 ],\n",
       "       [ 796.7844 ,  796.83374,  794.7672 ,  803.25543,  805.14307],\n",
       "       [ 882.3149 ,  873.29346,  872.9983 ,  878.527  ,  872.09094],\n",
       "       [1061.1691 , 1044.3762 , 1053.3693 , 1077.0111 , 1059.2255 ],\n",
       "       [1198.8782 , 1192.2046 , 1188.1895 , 1215.4473 , 1191.5388 ],\n",
       "       [1131.0889 , 1088.337  , 1107.8721 , 1075.4036 , 1062.4309 ],\n",
       "       [1044.4567 , 1029.4663 , 1042.7559 , 1055.4695 , 1044.9001 ],\n",
       "       [1100.9436 , 1091.2012 , 1075.6001 , 1071.6323 , 1056.1736 ],\n",
       "       [1067.171  , 1055.8303 , 1045.7952 , 1032.678  , 1042.5194 ],\n",
       "       [ 993.21515,  985.5553 ,  979.0481 ,  994.9059 ,  999.3297 ],\n",
       "       [ 923.8059 ,  916.9507 ,  916.2746 ,  924.7135 ,  916.73865],\n",
       "       [1082.6648 , 1039.4922 , 1049.0791 , 1080.4095 , 1062.2036 ],\n",
       "       [1123.512  , 1081.9463 , 1095.863  , 1108.8939 , 1045.3961 ],\n",
       "       [1089.4805 , 1085.7297 , 1081.0048 , 1094.3165 , 1116.703  ],\n",
       "       [1033.1814 , 1033.6252 , 1012.373  , 1009.4265 ,  999.13116],\n",
       "       [ 947.18616,  938.4418 ,  925.4752 ,  924.246  ,  916.79565],\n",
       "       [ 908.8662 ,  921.2827 ,  923.78955,  939.3288 ,  924.2777 ],\n",
       "       [ 885.0381 ,  884.628  ,  876.0531 ,  889.20166,  895.0244 ],\n",
       "       [ 907.70435,  878.0011 ,  890.286  ,  890.47455,  873.97284],\n",
       "       [ 812.0409 ,  805.8581 ,  806.7717 ,  799.10205,  812.22284],\n",
       "       [ 881.37634,  864.27997,  878.70056,  896.0954 ,  886.0257 ]],\n",
       "      dtype=float32)"
      ]
     },
     "execution_count": 185,
     "metadata": {},
     "output_type": "execute_result"
    },
    {
     "data": {
      "application/javascript": [
       "\n",
       "            setTimeout(function() {\n",
       "                var nbb_cell_id = 185;\n",
       "                var nbb_unformatted_code = \"prediction\";\n",
       "                var nbb_formatted_code = \"prediction\";\n",
       "                var nbb_cells = Jupyter.notebook.get_cells();\n",
       "                for (var i = 0; i < nbb_cells.length; ++i) {\n",
       "                    if (nbb_cells[i].input_prompt_number == nbb_cell_id) {\n",
       "                        if (nbb_cells[i].get_text() == nbb_unformatted_code) {\n",
       "                             nbb_cells[i].set_text(nbb_formatted_code);\n",
       "                        }\n",
       "                        break;\n",
       "                    }\n",
       "                }\n",
       "            }, 500);\n",
       "            "
      ],
      "text/plain": [
       "<IPython.core.display.Javascript object>"
      ]
     },
     "metadata": {},
     "output_type": "display_data"
    },
    {
     "data": {
      "application/javascript": [
       "\n",
       "            setTimeout(function() {\n",
       "                var nbb_cell_id = 185;\n",
       "                var nbb_unformatted_code = \"prediction\";\n",
       "                var nbb_formatted_code = \"prediction\";\n",
       "                var nbb_cells = Jupyter.notebook.get_cells();\n",
       "                for (var i = 0; i < nbb_cells.length; ++i) {\n",
       "                    if (nbb_cells[i].input_prompt_number == nbb_cell_id) {\n",
       "                        if (nbb_cells[i].get_text() == nbb_unformatted_code) {\n",
       "                             nbb_cells[i].set_text(nbb_formatted_code);\n",
       "                        }\n",
       "                        break;\n",
       "                    }\n",
       "                }\n",
       "            }, 500);\n",
       "            "
      ],
      "text/plain": [
       "<IPython.core.display.Javascript object>"
      ]
     },
     "metadata": {},
     "output_type": "display_data"
    },
    {
     "data": {
      "application/javascript": [
       "\n",
       "            setTimeout(function() {\n",
       "                var nbb_cell_id = 185;\n",
       "                var nbb_unformatted_code = \"prediction\";\n",
       "                var nbb_formatted_code = \"prediction\";\n",
       "                var nbb_cells = Jupyter.notebook.get_cells();\n",
       "                for (var i = 0; i < nbb_cells.length; ++i) {\n",
       "                    if (nbb_cells[i].input_prompt_number == nbb_cell_id) {\n",
       "                        if (nbb_cells[i].get_text() == nbb_unformatted_code) {\n",
       "                             nbb_cells[i].set_text(nbb_formatted_code);\n",
       "                        }\n",
       "                        break;\n",
       "                    }\n",
       "                }\n",
       "            }, 500);\n",
       "            "
      ],
      "text/plain": [
       "<IPython.core.display.Javascript object>"
      ]
     },
     "metadata": {},
     "output_type": "display_data"
    },
    {
     "data": {
      "application/javascript": [
       "\n",
       "            setTimeout(function() {\n",
       "                var nbb_cell_id = 185;\n",
       "                var nbb_unformatted_code = \"prediction\";\n",
       "                var nbb_formatted_code = \"prediction\";\n",
       "                var nbb_cells = Jupyter.notebook.get_cells();\n",
       "                for (var i = 0; i < nbb_cells.length; ++i) {\n",
       "                    if (nbb_cells[i].input_prompt_number == nbb_cell_id) {\n",
       "                        if (nbb_cells[i].get_text() == nbb_unformatted_code) {\n",
       "                             nbb_cells[i].set_text(nbb_formatted_code);\n",
       "                        }\n",
       "                        break;\n",
       "                    }\n",
       "                }\n",
       "            }, 500);\n",
       "            "
      ],
      "text/plain": [
       "<IPython.core.display.Javascript object>"
      ]
     },
     "metadata": {},
     "output_type": "display_data"
    },
    {
     "data": {
      "application/javascript": [
       "\n",
       "            setTimeout(function() {\n",
       "                var nbb_cell_id = 185;\n",
       "                var nbb_unformatted_code = \"prediction\";\n",
       "                var nbb_formatted_code = \"prediction\";\n",
       "                var nbb_cells = Jupyter.notebook.get_cells();\n",
       "                for (var i = 0; i < nbb_cells.length; ++i) {\n",
       "                    if (nbb_cells[i].input_prompt_number == nbb_cell_id) {\n",
       "                        if (nbb_cells[i].get_text() == nbb_unformatted_code) {\n",
       "                             nbb_cells[i].set_text(nbb_formatted_code);\n",
       "                        }\n",
       "                        break;\n",
       "                    }\n",
       "                }\n",
       "            }, 500);\n",
       "            "
      ],
      "text/plain": [
       "<IPython.core.display.Javascript object>"
      ]
     },
     "metadata": {},
     "output_type": "display_data"
    },
    {
     "data": {
      "application/javascript": [
       "\n",
       "            setTimeout(function() {\n",
       "                var nbb_cell_id = 185;\n",
       "                var nbb_unformatted_code = \"prediction\";\n",
       "                var nbb_formatted_code = \"prediction\";\n",
       "                var nbb_cells = Jupyter.notebook.get_cells();\n",
       "                for (var i = 0; i < nbb_cells.length; ++i) {\n",
       "                    if (nbb_cells[i].input_prompt_number == nbb_cell_id) {\n",
       "                        if (nbb_cells[i].get_text() == nbb_unformatted_code) {\n",
       "                             nbb_cells[i].set_text(nbb_formatted_code);\n",
       "                        }\n",
       "                        break;\n",
       "                    }\n",
       "                }\n",
       "            }, 500);\n",
       "            "
      ],
      "text/plain": [
       "<IPython.core.display.Javascript object>"
      ]
     },
     "metadata": {},
     "output_type": "display_data"
    },
    {
     "data": {
      "application/javascript": [
       "\n",
       "            setTimeout(function() {\n",
       "                var nbb_cell_id = 185;\n",
       "                var nbb_unformatted_code = \"prediction\";\n",
       "                var nbb_formatted_code = \"prediction\";\n",
       "                var nbb_cells = Jupyter.notebook.get_cells();\n",
       "                for (var i = 0; i < nbb_cells.length; ++i) {\n",
       "                    if (nbb_cells[i].input_prompt_number == nbb_cell_id) {\n",
       "                        if (nbb_cells[i].get_text() == nbb_unformatted_code) {\n",
       "                             nbb_cells[i].set_text(nbb_formatted_code);\n",
       "                        }\n",
       "                        break;\n",
       "                    }\n",
       "                }\n",
       "            }, 500);\n",
       "            "
      ],
      "text/plain": [
       "<IPython.core.display.Javascript object>"
      ]
     },
     "metadata": {},
     "output_type": "display_data"
    },
    {
     "data": {
      "application/javascript": [
       "\n",
       "            setTimeout(function() {\n",
       "                var nbb_cell_id = 185;\n",
       "                var nbb_unformatted_code = \"prediction\";\n",
       "                var nbb_formatted_code = \"prediction\";\n",
       "                var nbb_cells = Jupyter.notebook.get_cells();\n",
       "                for (var i = 0; i < nbb_cells.length; ++i) {\n",
       "                    if (nbb_cells[i].input_prompt_number == nbb_cell_id) {\n",
       "                        if (nbb_cells[i].get_text() == nbb_unformatted_code) {\n",
       "                             nbb_cells[i].set_text(nbb_formatted_code);\n",
       "                        }\n",
       "                        break;\n",
       "                    }\n",
       "                }\n",
       "            }, 500);\n",
       "            "
      ],
      "text/plain": [
       "<IPython.core.display.Javascript object>"
      ]
     },
     "metadata": {},
     "output_type": "display_data"
    },
    {
     "data": {
      "application/javascript": [
       "\n",
       "            setTimeout(function() {\n",
       "                var nbb_cell_id = 185;\n",
       "                var nbb_unformatted_code = \"prediction\";\n",
       "                var nbb_formatted_code = \"prediction\";\n",
       "                var nbb_cells = Jupyter.notebook.get_cells();\n",
       "                for (var i = 0; i < nbb_cells.length; ++i) {\n",
       "                    if (nbb_cells[i].input_prompt_number == nbb_cell_id) {\n",
       "                        if (nbb_cells[i].get_text() == nbb_unformatted_code) {\n",
       "                             nbb_cells[i].set_text(nbb_formatted_code);\n",
       "                        }\n",
       "                        break;\n",
       "                    }\n",
       "                }\n",
       "            }, 500);\n",
       "            "
      ],
      "text/plain": [
       "<IPython.core.display.Javascript object>"
      ]
     },
     "metadata": {},
     "output_type": "display_data"
    },
    {
     "data": {
      "application/javascript": [
       "\n",
       "            setTimeout(function() {\n",
       "                var nbb_cell_id = 185;\n",
       "                var nbb_unformatted_code = \"prediction\";\n",
       "                var nbb_formatted_code = \"prediction\";\n",
       "                var nbb_cells = Jupyter.notebook.get_cells();\n",
       "                for (var i = 0; i < nbb_cells.length; ++i) {\n",
       "                    if (nbb_cells[i].input_prompt_number == nbb_cell_id) {\n",
       "                        if (nbb_cells[i].get_text() == nbb_unformatted_code) {\n",
       "                             nbb_cells[i].set_text(nbb_formatted_code);\n",
       "                        }\n",
       "                        break;\n",
       "                    }\n",
       "                }\n",
       "            }, 500);\n",
       "            "
      ],
      "text/plain": [
       "<IPython.core.display.Javascript object>"
      ]
     },
     "metadata": {},
     "output_type": "display_data"
    }
   ],
   "source": [
    "prediction"
   ]
  },
  {
   "cell_type": "code",
   "execution_count": null,
   "id": "e8b8d3cc",
   "metadata": {},
   "outputs": [],
   "source": [
    "def deep_predict():\n",
    "    \n",
    "    asset_data.reset_index(inplace=True)\n",
    "    \n",
    "    def Dataset(Data, Date):\n",
    "\n",
    "    Train_Data = Data[\"Adj Close\"][Data[\"Date\"] < Date].to_numpy()\n",
    "    Data_Train = []\n",
    "    Data_Train_X = []\n",
    "    Data_Train_Y = []\n",
    "    for i in range(0, len(Train_Data), 5):\n",
    "        try:\n",
    "            Data_Train.append(Train_Data[i : i + 5])\n",
    "        except:\n",
    "            pass\n",
    "\n",
    "    if len(Data_Train[-1]) < 5:\n",
    "        Data_Train.pop(-1)\n",
    "\n",
    "    Data_Train_X = Data_Train[0:-1]\n",
    "    Data_Train_X = np.array(Data_Train_X)\n",
    "    Data_Train_X = Data_Train_X.reshape((-1, 5, 1))\n",
    "    Data_Train_Y = Data_Train[1 : len(Data_Train)]\n",
    "    Data_Train_Y = np.array(Data_Train_Y)\n",
    "    Data_Train_Y = Data_Train_Y.reshape((-1, 5, 1))\n",
    "\n",
    "    Test_Data = Data[\"Adj Close\"][Data[\"Date\"] >= Date].to_numpy()\n",
    "    Data_Test = []\n",
    "    Data_Test_X = []\n",
    "    Data_Test_Y = []\n",
    "    for i in range(0, len(Test_Data), 5):\n",
    "        try:\n",
    "            Data_Test.append(Test_Data[i : i + 5])\n",
    "        except:\n",
    "            pass\n",
    "\n",
    "    if len(Data_Test[-1]) < 5:\n",
    "        Data_Test.pop(-1)\n",
    "\n",
    "    Data_Test_X = Data_Test[0:-1]\n",
    "    Data_Test_X = np.array(Data_Test_X)\n",
    "    Data_Test_X = Data_Test_X.reshape((-1, 5, 1))\n",
    "    Data_Test_Y = Data_Test[1 : len(Data_Test)]\n",
    "    Data_Test_Y = np.array(Data_Test_Y)\n",
    "    Data_Test_Y = Data_Test_Y.reshape((-1, 5, 1))\n",
    "\n",
    "    return Data_Train_X, Data_Train_Y, Data_Test_X, Data_Test_Y\n",
    "\n",
    "\n",
    "    def Model():\n",
    "        model = tf.keras.models.Sequential(\n",
    "            [\n",
    "                tf.keras.layers.LSTM(\n",
    "                    200,\n",
    "                    input_shape=(5, 1),\n",
    "                    activation=tf.nn.leaky_relu,\n",
    "                    return_sequences=True,\n",
    "                ),\n",
    "                tf.keras.layers.LSTM(200, activation=tf.nn.leaky_relu),\n",
    "                tf.keras.layers.Dense(200, activation=tf.nn.leaky_relu),\n",
    "                tf.keras.layers.Dense(100, activation=tf.nn.leaky_relu),\n",
    "                tf.keras.layers.Dense(50, activation=tf.nn.leaky_relu),\n",
    "                tf.keras.layers.Dense(5, activation=tf.nn.leaky_relu),\n",
    "            ]\n",
    "        )\n",
    "        return model\n",
    "\n",
    "\n",
    "    def scheduler(epoch):\n",
    "\n",
    "        if epoch <= 150:\n",
    "            lrate = (10 ** -5) * (epoch / 150)\n",
    "        elif epoch <= 400:\n",
    "            initial_lrate = 10 ** -5\n",
    "            k = 0.01\n",
    "            lrate = initial_lrate * math.exp(-k * (epoch - 150))\n",
    "        else:\n",
    "            lrate = 10 ** -6\n",
    "\n",
    "        return lrate\n",
    "\n",
    "\n",
    "    epochs = [i for i in range(1, 1001, 1)]\n",
    "    lrate = [scheduler(i) for i in range(1, 1001, 1)]\n",
    "    callback = tf.keras.callbacks.LearningRateScheduler(scheduler)\n",
    "\n",
    "    Train_X, Train_Y, Test_X, Test_Y = Dataset(asset_data, \"2021-10-01\")\n",
    "\n",
    "\n",
    "    model = Model()\n",
    "\n",
    "    model.compile(\n",
    "        optimizer=tf.keras.optimizers.Adam(),\n",
    "        loss=\"mse\",\n",
    "        metrics=tf.keras.metrics.RootMeanSquaredError(),\n",
    "    )\n",
    "\n",
    "    hist = model.fit(\n",
    "        Train_X,\n",
    "        Train_Y,\n",
    "        epochs=1000,\n",
    "        validation_data=(Test_X, Test_Y),\n",
    "        callbacks=[callback],\n",
    "    )\n",
    "    \n",
    "    prediction = model.predict(Test_X)\n",
    "    \n",
    "    plt.figure(figsize=(20, 5))\n",
    "    plt.plot(\n",
    "        asset_data[\"Date\"][asset_data[\"Date\"] < \"2021-10-01\"],\n",
    "        asset_data[\"Adj Close\"][asset_data[\"Date\"] < \"2021-10-01\"],\n",
    "        label=\"Training\",\n",
    "    )\n",
    "    plt.plot(\n",
    "        asset_data[\"Date\"][asset_data[\"Date\"] >= \"2021-10-01\"],\n",
    "        asset_data[\"Adj Close\"][asset_data[\"Date\"] >= \"2021-10-01\"],\n",
    "        label=\"Testing\",\n",
    "    )\n",
    "    plt.plot(\n",
    "        asset_data[\"Date\"][asset_data[\"Date\"] >= \"2021-10-12\"],\n",
    "        prediction.reshape(-1),\n",
    "        label=\"Predictions\",\n",
    "    )\n",
    "    plt.xlabel(\"Time\")\n",
    "    plt.ylabel(\"Closing Price\")\n",
    "    plt.legend(loc=\"best\")"
   ]
  }
 ],
 "metadata": {
  "kernelspec": {
   "display_name": "Python 3 (ipykernel)",
   "language": "python",
   "name": "python3"
  },
  "language_info": {
   "codemirror_mode": {
    "name": "ipython",
    "version": 3
   },
   "file_extension": ".py",
   "mimetype": "text/x-python",
   "name": "python",
   "nbconvert_exporter": "python",
   "pygments_lexer": "ipython3",
   "version": "3.7.11"
  }
 },
 "nbformat": 4,
 "nbformat_minor": 5
}
