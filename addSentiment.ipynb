{
 "cells": [
  {
   "cell_type": "code",
   "execution_count": 1,
   "metadata": {},
   "outputs": [],
   "source": [
    "##tickers = ['AMZN', 'TSLA', 'MELI', 'NFLX', 'SHOP', 'SQ'] #GOOG AMZN\n",
    "tickers = ['TSLA'] # Will use TSLA for now"
   ]
  },
  {
   "cell_type": "code",
   "execution_count": 2,
   "metadata": {
    "tags": []
   },
   "outputs": [
    {
     "name": "stderr",
     "output_type": "stream",
     "text": [
      "\n",
      "Bad key text.latex.preview in file /Users/dallolmac/opt/anaconda3/envs/pyvizenv/lib/python3.7/site-packages/matplotlib/mpl-data/stylelib/_classic_test.mplstyle, line 123 ('text.latex.preview : False')\n",
      "You probably need to get an updated matplotlibrc file from\n",
      "https://github.com/matplotlib/matplotlib/blob/v3.5.0/matplotlibrc.template\n",
      "or from the matplotlib source distribution\n",
      "\n",
      "Bad key mathtext.fallback_to_cm in file /Users/dallolmac/opt/anaconda3/envs/pyvizenv/lib/python3.7/site-packages/matplotlib/mpl-data/stylelib/_classic_test.mplstyle, line 155 ('mathtext.fallback_to_cm : True  # When True, use symbols from the Computer Modern')\n",
      "You probably need to get an updated matplotlibrc file from\n",
      "https://github.com/matplotlib/matplotlib/blob/v3.5.0/matplotlibrc.template\n",
      "or from the matplotlib source distribution\n",
      "\n",
      "Bad key savefig.jpeg_quality in file /Users/dallolmac/opt/anaconda3/envs/pyvizenv/lib/python3.7/site-packages/matplotlib/mpl-data/stylelib/_classic_test.mplstyle, line 418 ('savefig.jpeg_quality: 95       # when a jpeg is saved, the default quality parameter.')\n",
      "You probably need to get an updated matplotlibrc file from\n",
      "https://github.com/matplotlib/matplotlib/blob/v3.5.0/matplotlibrc.template\n",
      "or from the matplotlib source distribution\n",
      "\n",
      "Bad key savefig.frameon in file /Users/dallolmac/opt/anaconda3/envs/pyvizenv/lib/python3.7/site-packages/matplotlib/mpl-data/stylelib/_classic_test.mplstyle, line 421 ('savefig.frameon : True')\n",
      "You probably need to get an updated matplotlibrc file from\n",
      "https://github.com/matplotlib/matplotlib/blob/v3.5.0/matplotlibrc.template\n",
      "or from the matplotlib source distribution\n",
      "\n",
      "Bad key verbose.level in file /Users/dallolmac/opt/anaconda3/envs/pyvizenv/lib/python3.7/site-packages/matplotlib/mpl-data/stylelib/_classic_test.mplstyle, line 472 ('verbose.level  : silent      # one of silent, helpful, debug, debug-annoying')\n",
      "You probably need to get an updated matplotlibrc file from\n",
      "https://github.com/matplotlib/matplotlib/blob/v3.5.0/matplotlibrc.template\n",
      "or from the matplotlib source distribution\n",
      "\n",
      "Bad key verbose.fileo in file /Users/dallolmac/opt/anaconda3/envs/pyvizenv/lib/python3.7/site-packages/matplotlib/mpl-data/stylelib/_classic_test.mplstyle, line 473 ('verbose.fileo  : sys.stdout  # a log filename, sys.stdout or sys.stderr')\n",
      "You probably need to get an updated matplotlibrc file from\n",
      "https://github.com/matplotlib/matplotlib/blob/v3.5.0/matplotlibrc.template\n",
      "or from the matplotlib source distribution\n",
      "\n",
      "Bad key keymap.all_axes in file /Users/dallolmac/opt/anaconda3/envs/pyvizenv/lib/python3.7/site-packages/matplotlib/mpl-data/stylelib/_classic_test.mplstyle, line 490 ('keymap.all_axes : a                 # enable all axes')\n",
      "You probably need to get an updated matplotlibrc file from\n",
      "https://github.com/matplotlib/matplotlib/blob/v3.5.0/matplotlibrc.template\n",
      "or from the matplotlib source distribution\n",
      "\n",
      "Bad key animation.avconv_path in file /Users/dallolmac/opt/anaconda3/envs/pyvizenv/lib/python3.7/site-packages/matplotlib/mpl-data/stylelib/_classic_test.mplstyle, line 501 ('animation.avconv_path: avconv     # Path to avconv binary. Without full path')\n",
      "You probably need to get an updated matplotlibrc file from\n",
      "https://github.com/matplotlib/matplotlib/blob/v3.5.0/matplotlibrc.template\n",
      "or from the matplotlib source distribution\n",
      "\n",
      "Bad key animation.avconv_args in file /Users/dallolmac/opt/anaconda3/envs/pyvizenv/lib/python3.7/site-packages/matplotlib/mpl-data/stylelib/_classic_test.mplstyle, line 503 ('animation.avconv_args:            # Additional arguments to pass to avconv')\n",
      "You probably need to get an updated matplotlibrc file from\n",
      "https://github.com/matplotlib/matplotlib/blob/v3.5.0/matplotlibrc.template\n",
      "or from the matplotlib source distribution\n"
     ]
    }
   ],
   "source": [
    "import os \n",
    "import pandas as pd\n",
    "import json\n",
    "import requests\n",
    "import numpy as np\n",
    "import math\n",
    "from pathlib import Path\n",
    "import csv # using Python module\n",
    "from ast import literal_eval\n",
    "\n",
    "import matplotlib.pyplot as plt\n",
    "%matplotlib inline"
   ]
  },
  {
   "cell_type": "code",
   "execution_count": 9,
   "metadata": {},
   "outputs": [],
   "source": [
    "def loadStockData(ticker):\n",
    "    # Read ticker file\n",
    "    #file_path = (f'./Resources/Data/{ticker}.csv')\n",
    "    file_path = (f'./Resources/{ticker}.csv')\n",
    "    df = pd.read_csv(file_path,index_col='timestamp', encoding='utf8')# parse_dates=True, infer_datetime_format=True, )\n",
    "    df.index = pd.to_datetime(df.index, utc=True).tz_convert(tz=\"America/New_York\")\n",
    "\n",
    "    return df\n",
    "    "
   ]
  },
  {
   "cell_type": "code",
   "execution_count": 10,
   "metadata": {},
   "outputs": [],
   "source": [
    "def saveStockData(ticker, df):\n",
    "    # Read ticker file\n",
    "    #file_path = (f'./Resources/Data/{ticker}.csv')\n",
    "    file_path = (f'./Resources/{ticker}.csv')\n",
    "    df.to_csv(file_path)\n",
    "\n",
    "    return True"
   ]
  },
  {
   "cell_type": "code",
   "execution_count": 11,
   "metadata": {},
   "outputs": [],
   "source": [
    "def loadSenti(ticker):\n",
    "    # Read sentiment\n",
    "    file_path = (f'./Resources/{ticker}_news_sent-NEW.csv')\n",
    "    df = pd.read_csv(file_path, index_col='date')# parse_dates=True, infer_datetime_format=True)\n",
    "    df.index = pd.to_datetime(df.index, utc=True).tz_convert(tz=\"America/New_York\")\n",
    "    \n",
    "    # Drop extra columns\n",
    "    df = df.drop(['Unnamed: 0', 'news_url', 'image_url', 'topics'], axis=1)\n",
    "    # Add a column to keep track of which aritcles have already been processed\n",
    "    df['processed'] = False\n",
    "    \n",
    "    # Change negative, neutral and positive ot -1, 0 , 1\n",
    "    df.loc[df.sentiment == 'Negative', 'sentiment']  = -1    \n",
    "    df.loc[df.sentiment == 'Neutral', 'sentiment']   = 0\n",
    "    df.loc[df.sentiment == 'Positive', 'sentiment']  = 1\n",
    "    \n",
    "    # Change tickers to a list from string of values\n",
    "    df.tickers = df.tickers.apply(lambda x: literal_eval(x))    \n",
    "   \n",
    "\n",
    "    \n",
    "    return df"
   ]
  },
  {
   "cell_type": "code",
   "execution_count": 12,
   "metadata": {},
   "outputs": [],
   "source": [
    "def getSentiScore(dfs, timestamp):\n",
    "    \n",
    "    score = 0\n",
    "    num_tickers_weight = .5\n",
    "    sentiment_weight   = .5\n",
    "\n",
    "    \n",
    "    # Get all articles up to the timestamp that have not already been used before\n",
    "    dfs['td'] =  (timestamp.date() - dfs.index.date)\n",
    "    dfs.td    = dfs.td.apply(lambda x: x.days)\n",
    "    sf = dfs[(dfs.index <= timestamp) & (dfs.processed==False) & ( dfs.td < 2)]\n",
    "    \n",
    "    # dro the extra column now\n",
    "    dfs = dfs.drop('td', axis=1)\n",
    "    \n",
    "    # just return if noting came back with a sore of 0\n",
    "    if len(sf) < 1:\n",
    "        return score\n",
    "\n",
    "    # Weight if the news is just about TSLA or among many others\n",
    "    #num_tickers       = sf.tickers.apply(lambda x: len(x)).sum()\n",
    "    num_tickers_score = sf.tickers.apply(lambda x: 1/len(x)).sum()\n",
    "    \n",
    "    sentiment = sf.sentiment.sum()/sf.sentiment.count()\n",
    "    \n",
    "    # Calculat score and multiple by sentiment at the end to keep the negative or positiove\n",
    "    score = ((num_tickers_score * num_tickers_weight) + (abs(sentiment) * sentiment_weight) ) \n",
    "    if sentiment < 0:\n",
    "        score = score * -1\n",
    "    \n",
    "    \n",
    "    return score"
   ]
  },
  {
   "cell_type": "code",
   "execution_count": null,
   "metadata": {},
   "outputs": [],
   "source": []
  },
  {
   "cell_type": "code",
   "execution_count": 13,
   "metadata": {
    "tags": []
   },
   "outputs": [
    {
     "name": "stdout",
     "output_type": "stream",
     "text": [
      "--> TSLA\n",
      "---> Porcessing Sentiment for  2022-03-01\n"
     ]
    }
   ],
   "source": [
    "# Process function. Reads ticker file and sentiment file and tries to add \n",
    "\n",
    "for ticker in tickers:\n",
    "    print(f'--> {ticker}')\n",
    "    \n",
    "    # Load stock and sentiment data\n",
    "    df  = loadStockData(ticker)\n",
    "    dfs = loadSenti(ticker)\n",
    "    \n",
    "    # Create a sentiment score, based on relevance of the sentiment \n",
    "    # A score 0 - 1 represents the rating based on number of artlces about some news within the same period\n",
    "    # future improvment... maybe score certain media outlets more than others\n",
    "    df['senti_score'] = None\n",
    "    \n",
    "    # Loop through each date in the data\n",
    "    dates = df.groupby(by=df.index.date)\n",
    "    first_day = True\n",
    "    for one_day_index, one_day in dates:\n",
    "        print('---> Processing Sentiment for ', one_day.index[0].date())\n",
    "\n",
    "        # Loop thorugh each minute or row within the date provided\n",
    "        for one_min_index, one_min in one_day.iterrows():\n",
    "        \n",
    "            # Set Senti score\n",
    "            df.loc[one_min.name, 'senti_score'] = getSentiScore(dfs, one_min.name)\n",
    "    \n",
    "    \n",
    "    # Update Stock CSV and get new ticker\n",
    "    saveStockData(ticker, df)\n",
    "\n",
    "    \n",
    "    "
   ]
  },
  {
   "cell_type": "code",
   "execution_count": 2,
   "metadata": {},
   "outputs": [
    {
     "name": "stdout",
     "output_type": "stream",
     "text": [
      "---> Getting TSLA news...\n",
      "     -> Quarter 03012022-03012022 - Page 1\n",
      "Error on TSLA - 03012022-03012022 - 1\n",
      "     -> Quarter 03022022-0302022 - Page 1\n",
      "Error on TSLA - 03022022-0302022 - 1\n"
     ]
    }
   ],
   "source": [
    "ticker = 'tsla'\n",
    "ticker = ticker.upper()\n",
    "            \n",
    "        \n",
    "\n",
    "# Registered for Free Trail to get the below API\n",
    "news_api= 'keoee7ujrknal5ci2dpkhlrjddwcqqg9dmyecpgj'\n",
    "date_range = ['03012022-03012022',\n",
    "            '03022022-0302022',\n",
    "        ]\n",
    "\n",
    "df = pd.DataFrame()\n",
    "print(f'---> Getting {ticker} news...')\n",
    "for quarter in date_range:\n",
    "    page_num = 1\n",
    "    keep_going = True\n",
    "    while keep_going:\n",
    "        print(f'     -> Quarter {quarter} - Page {page_num}')\n",
    "        try:\n",
    "            #print('A')\n",
    "            link = requests.get(f'https://stocknewsapi.com/api/v1?tickers={ticker}&items=50&date={quarter}&page={page_num}&token=' + news_api)\n",
    "            link.content\n",
    "            news = link.json()\n",
    "            #print('B')\n",
    "            df = df.append(pd.json_normalize(news['data']))\n",
    "            page_num = page_num + 1\n",
    "                \n",
    "        except:\n",
    "            print(f'Error on {ticker} - {quarter} - {page_num}')\n",
    "            keep_going = False"
   ]
  }
 ],
 "metadata": {
  "kernelspec": {
   "display_name": "Python 3 (ipykernel)",
   "language": "python",
   "name": "python3"
  },
  "language_info": {
   "codemirror_mode": {
    "name": "ipython",
    "version": 3
   },
   "file_extension": ".py",
   "mimetype": "text/x-python",
   "name": "python",
   "nbconvert_exporter": "python",
   "pygments_lexer": "ipython3",
   "version": "3.7.11"
  }
 },
 "nbformat": 4,
 "nbformat_minor": 4
}
