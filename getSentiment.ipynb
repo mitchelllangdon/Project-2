{
 "cells": [
  {
   "cell_type": "code",
   "execution_count": 2,
   "metadata": {},
   "outputs": [],
   "source": [
    "import pandas as pd\n",
    "import json\n",
    "import requests\n",
    "import os"
   ]
  },
  {
   "cell_type": "code",
   "execution_count": 3,
   "metadata": {
    "tags": []
   },
   "outputs": [
    {
     "name": "stdout",
     "output_type": "stream",
     "text": [
      "---> Getting TSLA news...\n",
      "     -> Quarter 03012022-03012022 - Page 1\n",
      "     -> Quarter 03012022-03012022 - Page 2\n",
      "     -> Quarter 03012022-03012022 - Page 3\n",
      "Error on TSLA - 03012022-03012022 - 3\n",
      "     -> Quarter 03022022-0302022 - Page 1\n",
      "Error on TSLA - 03022022-0302022 - 1\n"
     ]
    }
   ],
   "source": [
    "#tickers = ['TSLA', 'NFLX', 'SQ', 'JD', 'MELI']\n",
    "tickers = ['TSLA'] # Will try TSLA first\n",
    "\n",
    "# Registered for Free Trail to get the below API\n",
    "news_api= os.getenv(\"STOCK_NEWS_API\")\n",
    "date_range = ['03012022-03012022',\n",
    "              '03022022-0302022',\n",
    "              ]\n",
    "for ticker in tickers:\n",
    "    df = pd.DataFrame()\n",
    "    print(f'---> Getting {ticker} news...')\n",
    "    for quarter in date_range:\n",
    "        page_num = 1\n",
    "        keep_going = True\n",
    "        while keep_going:\n",
    "            print(f'     -> Quarter {quarter} - Page {page_num}')\n",
    "            try:\n",
    "                #print('A')\n",
    "                link = requests.get(f'https://stocknewsapi.com/api/v1?tickers={ticker}&items=50&date={quarter}&page={page_num}&token=' + news_api)\n",
    "                link.content\n",
    "                news = link.json()\n",
    "                #print('B')\n",
    "                df = df.append(pd.json_normalize(news['data']))\n",
    "                page_num = page_num + 1\n",
    "                \n",
    "            except:\n",
    "                print(f'Error on {ticker} - {quarter} - {page_num}')\n",
    "                keep_going = False"
   ]
  },
  {
   "cell_type": "code",
   "execution_count": 8,
   "metadata": {},
   "outputs": [
    {
     "data": {
      "text/html": [
       "<div><div id=87633710-30c7-4981-80fc-423c6d515eaa style=\"display:none; background-color:#9D6CFF; color:white; width:200px; height:30px; padding-left:5px; border-radius:4px; flex-direction:row; justify-content:space-around; align-items:center;\" onmouseover=\"this.style.backgroundColor='#BA9BF8'\" onmouseout=\"this.style.backgroundColor='#9D6CFF'\" onclick=\"window.commands?.execute('create-mitosheet-from-dataframe-output');\">See Full Dataframe in Mito</div> <script> if (window.commands.hasCommand('create-mitosheet-from-dataframe-output')) document.getElementById('87633710-30c7-4981-80fc-423c6d515eaa').style.display = 'flex' </script> <table border=\"1\" class=\"dataframe\">\n",
       "  <thead>\n",
       "    <tr style=\"text-align: right;\">\n",
       "      <th></th>\n",
       "      <th>Sentiment</th>\n",
       "    </tr>\n",
       "  </thead>\n",
       "  <tbody>\n",
       "    <tr>\n",
       "      <th>Positive</th>\n",
       "      <td>9</td>\n",
       "    </tr>\n",
       "    <tr>\n",
       "      <th>Neutral</th>\n",
       "      <td>4</td>\n",
       "    </tr>\n",
       "    <tr>\n",
       "      <th>Negative</th>\n",
       "      <td>2</td>\n",
       "    </tr>\n",
       "  </tbody>\n",
       "</table></div>"
      ],
      "text/plain": [
       "          Sentiment\n",
       "Positive          9\n",
       "Neutral           4\n",
       "Negative          2"
      ]
     },
     "execution_count": 8,
     "metadata": {},
     "output_type": "execute_result"
    }
   ],
   "source": [
    "df['sentiment'].value_counts().to_frame().rename(columns = {'sentiment' : 'Sentiment'})"
   ]
  },
  {
   "cell_type": "code",
   "execution_count": null,
   "metadata": {},
   "outputs": [],
   "source": []
  }
 ],
 "metadata": {
  "kernelspec": {
   "display_name": "Python 3 (ipykernel)",
   "language": "python",
   "name": "python3"
  },
  "language_info": {
   "codemirror_mode": {
    "name": "ipython",
    "version": 3
   },
   "file_extension": ".py",
   "mimetype": "text/x-python",
   "name": "python",
   "nbconvert_exporter": "python",
   "pygments_lexer": "ipython3",
   "version": "3.7.11"
  }
 },
 "nbformat": 4,
 "nbformat_minor": 4
}
