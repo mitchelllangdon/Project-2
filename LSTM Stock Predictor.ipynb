{
 "cells": [
  {
   "cell_type": "code",
   "execution_count": 1,
   "metadata": {
    "id": "vEr_L4ohAZqy"
   },
   "outputs": [],
   "source": [
    "import os \n",
    "import pandas as pd"
   ]
  },
  {
   "cell_type": "code",
   "execution_count": 2,
   "metadata": {
    "id": "4Q8bL7euAZq2"
   },
   "outputs": [],
   "source": [
    "def loadStockData(ticker):\n",
    "    # Read ticker file\n",
    "    file_path = (f'./Resources/{ticker}.csv')\n",
    "    df = pd.read_csv(file_path,index_col='timestamp')# parse_dates=True, infer_datetime_format=True)\n",
    "    df.index = pd.to_datetime(df.index, utc=True).tz_convert(tz=\"America/New_York\")\n",
    "    return df"
   ]
  },
  {
   "cell_type": "code",
   "execution_count": 3,
   "metadata": {
    "id": "5obRDlBCAZq5"
   },
   "outputs": [],
   "source": [
    "TSLA = loadStockData(\"TSLA\")"
   ]
  },
  {
   "cell_type": "code",
   "execution_count": 4,
   "metadata": {
    "colab": {
     "base_uri": "https://localhost:8080/",
     "height": 497
    },
    "id": "bxCj2QVXAZq8",
    "outputId": "4ba52e62-b2e0-453a-dd53-8c63059782d6"
   },
   "outputs": [
    {
     "data": {
      "text/html": [
       "<div>\n",
       "<style scoped>\n",
       "    .dataframe tbody tr th:only-of-type {\n",
       "        vertical-align: middle;\n",
       "    }\n",
       "\n",
       "    .dataframe tbody tr th {\n",
       "        vertical-align: top;\n",
       "    }\n",
       "\n",
       "    .dataframe thead th {\n",
       "        text-align: right;\n",
       "    }\n",
       "</style>\n",
       "<table border=\"1\" class=\"dataframe\">\n",
       "  <thead>\n",
       "    <tr style=\"text-align: right;\">\n",
       "      <th></th>\n",
       "      <th>open</th>\n",
       "      <th>high</th>\n",
       "      <th>low</th>\n",
       "      <th>close</th>\n",
       "      <th>volume</th>\n",
       "      <th>trade_count</th>\n",
       "      <th>vwap</th>\n",
       "      <th>day_part</th>\n",
       "      <th>day_of_week</th>\n",
       "      <th>cum_vol_all_hours</th>\n",
       "      <th>cum_vol_for_day_part</th>\n",
       "      <th>rvol_1D</th>\n",
       "      <th>rvol_3D</th>\n",
       "      <th>rvol_5D</th>\n",
       "      <th>rvol_14D</th>\n",
       "      <th>rvol_21D</th>\n",
       "      <th>return_15m</th>\n",
       "      <th>senti_score</th>\n",
       "    </tr>\n",
       "    <tr>\n",
       "      <th>timestamp</th>\n",
       "      <th></th>\n",
       "      <th></th>\n",
       "      <th></th>\n",
       "      <th></th>\n",
       "      <th></th>\n",
       "      <th></th>\n",
       "      <th></th>\n",
       "      <th></th>\n",
       "      <th></th>\n",
       "      <th></th>\n",
       "      <th></th>\n",
       "      <th></th>\n",
       "      <th></th>\n",
       "      <th></th>\n",
       "      <th></th>\n",
       "      <th></th>\n",
       "      <th></th>\n",
       "      <th></th>\n",
       "    </tr>\n",
       "  </thead>\n",
       "  <tbody>\n",
       "    <tr>\n",
       "      <th>2022-03-01 04:00:00-05:00</th>\n",
       "      <td>868.00</td>\n",
       "      <td>872.00</td>\n",
       "      <td>868.00</td>\n",
       "      <td>868.79</td>\n",
       "      <td>4272</td>\n",
       "      <td>259</td>\n",
       "      <td>869.799511</td>\n",
       "      <td>pre_market</td>\n",
       "      <td>1</td>\n",
       "      <td>4272</td>\n",
       "      <td>4272</td>\n",
       "      <td>NaN</td>\n",
       "      <td>NaN</td>\n",
       "      <td>NaN</td>\n",
       "      <td>NaN</td>\n",
       "      <td>NaN</td>\n",
       "      <td>NaN</td>\n",
       "      <td>0.0</td>\n",
       "    </tr>\n",
       "    <tr>\n",
       "      <th>2022-03-01 04:01:00-05:00</th>\n",
       "      <td>868.30</td>\n",
       "      <td>869.05</td>\n",
       "      <td>868.00</td>\n",
       "      <td>869.00</td>\n",
       "      <td>2348</td>\n",
       "      <td>137</td>\n",
       "      <td>868.551231</td>\n",
       "      <td>pre_market</td>\n",
       "      <td>1</td>\n",
       "      <td>6620</td>\n",
       "      <td>6620</td>\n",
       "      <td>NaN</td>\n",
       "      <td>NaN</td>\n",
       "      <td>NaN</td>\n",
       "      <td>NaN</td>\n",
       "      <td>NaN</td>\n",
       "      <td>NaN</td>\n",
       "      <td>0.0</td>\n",
       "    </tr>\n",
       "    <tr>\n",
       "      <th>2022-03-01 04:02:00-05:00</th>\n",
       "      <td>868.11</td>\n",
       "      <td>869.30</td>\n",
       "      <td>868.00</td>\n",
       "      <td>869.30</td>\n",
       "      <td>1953</td>\n",
       "      <td>146</td>\n",
       "      <td>868.578740</td>\n",
       "      <td>pre_market</td>\n",
       "      <td>1</td>\n",
       "      <td>8573</td>\n",
       "      <td>8573</td>\n",
       "      <td>NaN</td>\n",
       "      <td>NaN</td>\n",
       "      <td>NaN</td>\n",
       "      <td>NaN</td>\n",
       "      <td>NaN</td>\n",
       "      <td>NaN</td>\n",
       "      <td>0.0</td>\n",
       "    </tr>\n",
       "    <tr>\n",
       "      <th>2022-03-01 04:03:00-05:00</th>\n",
       "      <td>868.00</td>\n",
       "      <td>868.11</td>\n",
       "      <td>868.00</td>\n",
       "      <td>868.11</td>\n",
       "      <td>1552</td>\n",
       "      <td>98</td>\n",
       "      <td>868.162945</td>\n",
       "      <td>pre_market</td>\n",
       "      <td>1</td>\n",
       "      <td>10125</td>\n",
       "      <td>10125</td>\n",
       "      <td>NaN</td>\n",
       "      <td>NaN</td>\n",
       "      <td>NaN</td>\n",
       "      <td>NaN</td>\n",
       "      <td>NaN</td>\n",
       "      <td>NaN</td>\n",
       "      <td>0.0</td>\n",
       "    </tr>\n",
       "    <tr>\n",
       "      <th>2022-03-01 04:05:00-05:00</th>\n",
       "      <td>866.65</td>\n",
       "      <td>866.65</td>\n",
       "      <td>866.65</td>\n",
       "      <td>866.65</td>\n",
       "      <td>1030</td>\n",
       "      <td>76</td>\n",
       "      <td>866.847000</td>\n",
       "      <td>pre_market</td>\n",
       "      <td>1</td>\n",
       "      <td>11155</td>\n",
       "      <td>11155</td>\n",
       "      <td>NaN</td>\n",
       "      <td>NaN</td>\n",
       "      <td>NaN</td>\n",
       "      <td>NaN</td>\n",
       "      <td>NaN</td>\n",
       "      <td>NaN</td>\n",
       "      <td>0.0</td>\n",
       "    </tr>\n",
       "  </tbody>\n",
       "</table>\n",
       "</div>"
      ],
      "text/plain": [
       "                             open    high     low   close  volume  \\\n",
       "timestamp                                                           \n",
       "2022-03-01 04:00:00-05:00  868.00  872.00  868.00  868.79    4272   \n",
       "2022-03-01 04:01:00-05:00  868.30  869.05  868.00  869.00    2348   \n",
       "2022-03-01 04:02:00-05:00  868.11  869.30  868.00  869.30    1953   \n",
       "2022-03-01 04:03:00-05:00  868.00  868.11  868.00  868.11    1552   \n",
       "2022-03-01 04:05:00-05:00  866.65  866.65  866.65  866.65    1030   \n",
       "\n",
       "                           trade_count        vwap    day_part  day_of_week  \\\n",
       "timestamp                                                                     \n",
       "2022-03-01 04:00:00-05:00          259  869.799511  pre_market            1   \n",
       "2022-03-01 04:01:00-05:00          137  868.551231  pre_market            1   \n",
       "2022-03-01 04:02:00-05:00          146  868.578740  pre_market            1   \n",
       "2022-03-01 04:03:00-05:00           98  868.162945  pre_market            1   \n",
       "2022-03-01 04:05:00-05:00           76  866.847000  pre_market            1   \n",
       "\n",
       "                           cum_vol_all_hours  cum_vol_for_day_part  rvol_1D  \\\n",
       "timestamp                                                                     \n",
       "2022-03-01 04:00:00-05:00               4272                  4272      NaN   \n",
       "2022-03-01 04:01:00-05:00               6620                  6620      NaN   \n",
       "2022-03-01 04:02:00-05:00               8573                  8573      NaN   \n",
       "2022-03-01 04:03:00-05:00              10125                 10125      NaN   \n",
       "2022-03-01 04:05:00-05:00              11155                 11155      NaN   \n",
       "\n",
       "                           rvol_3D  rvol_5D  rvol_14D  rvol_21D  return_15m  \\\n",
       "timestamp                                                                     \n",
       "2022-03-01 04:00:00-05:00      NaN      NaN       NaN       NaN         NaN   \n",
       "2022-03-01 04:01:00-05:00      NaN      NaN       NaN       NaN         NaN   \n",
       "2022-03-01 04:02:00-05:00      NaN      NaN       NaN       NaN         NaN   \n",
       "2022-03-01 04:03:00-05:00      NaN      NaN       NaN       NaN         NaN   \n",
       "2022-03-01 04:05:00-05:00      NaN      NaN       NaN       NaN         NaN   \n",
       "\n",
       "                           senti_score  \n",
       "timestamp                               \n",
       "2022-03-01 04:00:00-05:00          0.0  \n",
       "2022-03-01 04:01:00-05:00          0.0  \n",
       "2022-03-01 04:02:00-05:00          0.0  \n",
       "2022-03-01 04:03:00-05:00          0.0  \n",
       "2022-03-01 04:05:00-05:00          0.0  "
      ]
     },
     "execution_count": 4,
     "metadata": {},
     "output_type": "execute_result"
    }
   ],
   "source": [
    "TSLA.head()"
   ]
  },
  {
   "cell_type": "code",
   "execution_count": 5,
   "metadata": {
    "colab": {
     "base_uri": "https://localhost:8080/",
     "height": 497
    },
    "id": "uNgYDGv_AZrA",
    "outputId": "0e64e991-6085-4f25-f016-a63c58361fd7"
   },
   "outputs": [
    {
     "data": {
      "text/html": [
       "<div>\n",
       "<style scoped>\n",
       "    .dataframe tbody tr th:only-of-type {\n",
       "        vertical-align: middle;\n",
       "    }\n",
       "\n",
       "    .dataframe tbody tr th {\n",
       "        vertical-align: top;\n",
       "    }\n",
       "\n",
       "    .dataframe thead th {\n",
       "        text-align: right;\n",
       "    }\n",
       "</style>\n",
       "<table border=\"1\" class=\"dataframe\">\n",
       "  <thead>\n",
       "    <tr style=\"text-align: right;\">\n",
       "      <th></th>\n",
       "      <th>open</th>\n",
       "      <th>high</th>\n",
       "      <th>low</th>\n",
       "      <th>close</th>\n",
       "      <th>volume</th>\n",
       "      <th>trade_count</th>\n",
       "      <th>vwap</th>\n",
       "      <th>cum_vol_all_hours</th>\n",
       "      <th>cum_vol_for_day_part</th>\n",
       "      <th>rvol_1D</th>\n",
       "      <th>rvol_3D</th>\n",
       "      <th>rvol_5D</th>\n",
       "      <th>rvol_14D</th>\n",
       "      <th>rvol_21D</th>\n",
       "      <th>return_15m</th>\n",
       "    </tr>\n",
       "    <tr>\n",
       "      <th>timestamp</th>\n",
       "      <th></th>\n",
       "      <th></th>\n",
       "      <th></th>\n",
       "      <th></th>\n",
       "      <th></th>\n",
       "      <th></th>\n",
       "      <th></th>\n",
       "      <th></th>\n",
       "      <th></th>\n",
       "      <th></th>\n",
       "      <th></th>\n",
       "      <th></th>\n",
       "      <th></th>\n",
       "      <th></th>\n",
       "      <th></th>\n",
       "    </tr>\n",
       "  </thead>\n",
       "  <tbody>\n",
       "    <tr>\n",
       "      <th>2022-03-01 04:00:00-05:00</th>\n",
       "      <td>868.00</td>\n",
       "      <td>872.00</td>\n",
       "      <td>868.00</td>\n",
       "      <td>868.79</td>\n",
       "      <td>4272</td>\n",
       "      <td>259</td>\n",
       "      <td>869.799511</td>\n",
       "      <td>4272</td>\n",
       "      <td>4272</td>\n",
       "      <td>NaN</td>\n",
       "      <td>NaN</td>\n",
       "      <td>NaN</td>\n",
       "      <td>NaN</td>\n",
       "      <td>NaN</td>\n",
       "      <td>NaN</td>\n",
       "    </tr>\n",
       "    <tr>\n",
       "      <th>2022-03-01 04:01:00-05:00</th>\n",
       "      <td>868.30</td>\n",
       "      <td>869.05</td>\n",
       "      <td>868.00</td>\n",
       "      <td>869.00</td>\n",
       "      <td>2348</td>\n",
       "      <td>137</td>\n",
       "      <td>868.551231</td>\n",
       "      <td>6620</td>\n",
       "      <td>6620</td>\n",
       "      <td>NaN</td>\n",
       "      <td>NaN</td>\n",
       "      <td>NaN</td>\n",
       "      <td>NaN</td>\n",
       "      <td>NaN</td>\n",
       "      <td>NaN</td>\n",
       "    </tr>\n",
       "    <tr>\n",
       "      <th>2022-03-01 04:02:00-05:00</th>\n",
       "      <td>868.11</td>\n",
       "      <td>869.30</td>\n",
       "      <td>868.00</td>\n",
       "      <td>869.30</td>\n",
       "      <td>1953</td>\n",
       "      <td>146</td>\n",
       "      <td>868.578740</td>\n",
       "      <td>8573</td>\n",
       "      <td>8573</td>\n",
       "      <td>NaN</td>\n",
       "      <td>NaN</td>\n",
       "      <td>NaN</td>\n",
       "      <td>NaN</td>\n",
       "      <td>NaN</td>\n",
       "      <td>NaN</td>\n",
       "    </tr>\n",
       "    <tr>\n",
       "      <th>2022-03-01 04:03:00-05:00</th>\n",
       "      <td>868.00</td>\n",
       "      <td>868.11</td>\n",
       "      <td>868.00</td>\n",
       "      <td>868.11</td>\n",
       "      <td>1552</td>\n",
       "      <td>98</td>\n",
       "      <td>868.162945</td>\n",
       "      <td>10125</td>\n",
       "      <td>10125</td>\n",
       "      <td>NaN</td>\n",
       "      <td>NaN</td>\n",
       "      <td>NaN</td>\n",
       "      <td>NaN</td>\n",
       "      <td>NaN</td>\n",
       "      <td>NaN</td>\n",
       "    </tr>\n",
       "    <tr>\n",
       "      <th>2022-03-01 04:05:00-05:00</th>\n",
       "      <td>866.65</td>\n",
       "      <td>866.65</td>\n",
       "      <td>866.65</td>\n",
       "      <td>866.65</td>\n",
       "      <td>1030</td>\n",
       "      <td>76</td>\n",
       "      <td>866.847000</td>\n",
       "      <td>11155</td>\n",
       "      <td>11155</td>\n",
       "      <td>NaN</td>\n",
       "      <td>NaN</td>\n",
       "      <td>NaN</td>\n",
       "      <td>NaN</td>\n",
       "      <td>NaN</td>\n",
       "      <td>NaN</td>\n",
       "    </tr>\n",
       "  </tbody>\n",
       "</table>\n",
       "</div>"
      ],
      "text/plain": [
       "                             open    high     low   close  volume  \\\n",
       "timestamp                                                           \n",
       "2022-03-01 04:00:00-05:00  868.00  872.00  868.00  868.79    4272   \n",
       "2022-03-01 04:01:00-05:00  868.30  869.05  868.00  869.00    2348   \n",
       "2022-03-01 04:02:00-05:00  868.11  869.30  868.00  869.30    1953   \n",
       "2022-03-01 04:03:00-05:00  868.00  868.11  868.00  868.11    1552   \n",
       "2022-03-01 04:05:00-05:00  866.65  866.65  866.65  866.65    1030   \n",
       "\n",
       "                           trade_count        vwap  cum_vol_all_hours  \\\n",
       "timestamp                                                               \n",
       "2022-03-01 04:00:00-05:00          259  869.799511               4272   \n",
       "2022-03-01 04:01:00-05:00          137  868.551231               6620   \n",
       "2022-03-01 04:02:00-05:00          146  868.578740               8573   \n",
       "2022-03-01 04:03:00-05:00           98  868.162945              10125   \n",
       "2022-03-01 04:05:00-05:00           76  866.847000              11155   \n",
       "\n",
       "                           cum_vol_for_day_part  rvol_1D  rvol_3D  rvol_5D  \\\n",
       "timestamp                                                                    \n",
       "2022-03-01 04:00:00-05:00                  4272      NaN      NaN      NaN   \n",
       "2022-03-01 04:01:00-05:00                  6620      NaN      NaN      NaN   \n",
       "2022-03-01 04:02:00-05:00                  8573      NaN      NaN      NaN   \n",
       "2022-03-01 04:03:00-05:00                 10125      NaN      NaN      NaN   \n",
       "2022-03-01 04:05:00-05:00                 11155      NaN      NaN      NaN   \n",
       "\n",
       "                           rvol_14D  rvol_21D  return_15m  \n",
       "timestamp                                                  \n",
       "2022-03-01 04:00:00-05:00       NaN       NaN         NaN  \n",
       "2022-03-01 04:01:00-05:00       NaN       NaN         NaN  \n",
       "2022-03-01 04:02:00-05:00       NaN       NaN         NaN  \n",
       "2022-03-01 04:03:00-05:00       NaN       NaN         NaN  \n",
       "2022-03-01 04:05:00-05:00       NaN       NaN         NaN  "
      ]
     },
     "execution_count": 5,
     "metadata": {},
     "output_type": "execute_result"
    }
   ],
   "source": [
    "TSLA = TSLA.drop(columns=[\"day_part\",\"day_of_week\",\"senti_score\"])\n",
    "TSLA.head()"
   ]
  },
  {
   "cell_type": "code",
   "execution_count": 6,
   "metadata": {
    "colab": {
     "base_uri": "https://localhost:8080/",
     "height": 497
    },
    "id": "0FsT9PoqAZrD",
    "outputId": "e915efd6-0327-49fa-9fa8-b3911636c307"
   },
   "outputs": [
    {
     "data": {
      "text/html": [
       "<div>\n",
       "<style scoped>\n",
       "    .dataframe tbody tr th:only-of-type {\n",
       "        vertical-align: middle;\n",
       "    }\n",
       "\n",
       "    .dataframe tbody tr th {\n",
       "        vertical-align: top;\n",
       "    }\n",
       "\n",
       "    .dataframe thead th {\n",
       "        text-align: right;\n",
       "    }\n",
       "</style>\n",
       "<table border=\"1\" class=\"dataframe\">\n",
       "  <thead>\n",
       "    <tr style=\"text-align: right;\">\n",
       "      <th></th>\n",
       "      <th>open</th>\n",
       "      <th>high</th>\n",
       "      <th>low</th>\n",
       "      <th>close</th>\n",
       "      <th>volume</th>\n",
       "      <th>trade_count</th>\n",
       "      <th>vwap</th>\n",
       "      <th>cum_vol_all_hours</th>\n",
       "      <th>cum_vol_for_day_part</th>\n",
       "      <th>rvol_1D</th>\n",
       "      <th>rvol_3D</th>\n",
       "      <th>rvol_5D</th>\n",
       "      <th>rvol_14D</th>\n",
       "      <th>rvol_21D</th>\n",
       "      <th>return_15m</th>\n",
       "      <th>target</th>\n",
       "    </tr>\n",
       "    <tr>\n",
       "      <th>timestamp</th>\n",
       "      <th></th>\n",
       "      <th></th>\n",
       "      <th></th>\n",
       "      <th></th>\n",
       "      <th></th>\n",
       "      <th></th>\n",
       "      <th></th>\n",
       "      <th></th>\n",
       "      <th></th>\n",
       "      <th></th>\n",
       "      <th></th>\n",
       "      <th></th>\n",
       "      <th></th>\n",
       "      <th></th>\n",
       "      <th></th>\n",
       "      <th></th>\n",
       "    </tr>\n",
       "  </thead>\n",
       "  <tbody>\n",
       "    <tr>\n",
       "      <th>2022-03-01 04:00:00-05:00</th>\n",
       "      <td>868.00</td>\n",
       "      <td>872.00</td>\n",
       "      <td>868.00</td>\n",
       "      <td>868.79</td>\n",
       "      <td>4272</td>\n",
       "      <td>259</td>\n",
       "      <td>869.799511</td>\n",
       "      <td>4272</td>\n",
       "      <td>4272</td>\n",
       "      <td>NaN</td>\n",
       "      <td>NaN</td>\n",
       "      <td>NaN</td>\n",
       "      <td>NaN</td>\n",
       "      <td>NaN</td>\n",
       "      <td>NaN</td>\n",
       "      <td>863.00</td>\n",
       "    </tr>\n",
       "    <tr>\n",
       "      <th>2022-03-01 04:01:00-05:00</th>\n",
       "      <td>868.30</td>\n",
       "      <td>869.05</td>\n",
       "      <td>868.00</td>\n",
       "      <td>869.00</td>\n",
       "      <td>2348</td>\n",
       "      <td>137</td>\n",
       "      <td>868.551231</td>\n",
       "      <td>6620</td>\n",
       "      <td>6620</td>\n",
       "      <td>NaN</td>\n",
       "      <td>NaN</td>\n",
       "      <td>NaN</td>\n",
       "      <td>NaN</td>\n",
       "      <td>NaN</td>\n",
       "      <td>NaN</td>\n",
       "      <td>862.80</td>\n",
       "    </tr>\n",
       "    <tr>\n",
       "      <th>2022-03-01 04:02:00-05:00</th>\n",
       "      <td>868.11</td>\n",
       "      <td>869.30</td>\n",
       "      <td>868.00</td>\n",
       "      <td>869.30</td>\n",
       "      <td>1953</td>\n",
       "      <td>146</td>\n",
       "      <td>868.578740</td>\n",
       "      <td>8573</td>\n",
       "      <td>8573</td>\n",
       "      <td>NaN</td>\n",
       "      <td>NaN</td>\n",
       "      <td>NaN</td>\n",
       "      <td>NaN</td>\n",
       "      <td>NaN</td>\n",
       "      <td>NaN</td>\n",
       "      <td>862.36</td>\n",
       "    </tr>\n",
       "    <tr>\n",
       "      <th>2022-03-01 04:03:00-05:00</th>\n",
       "      <td>868.00</td>\n",
       "      <td>868.11</td>\n",
       "      <td>868.00</td>\n",
       "      <td>868.11</td>\n",
       "      <td>1552</td>\n",
       "      <td>98</td>\n",
       "      <td>868.162945</td>\n",
       "      <td>10125</td>\n",
       "      <td>10125</td>\n",
       "      <td>NaN</td>\n",
       "      <td>NaN</td>\n",
       "      <td>NaN</td>\n",
       "      <td>NaN</td>\n",
       "      <td>NaN</td>\n",
       "      <td>NaN</td>\n",
       "      <td>862.27</td>\n",
       "    </tr>\n",
       "    <tr>\n",
       "      <th>2022-03-01 04:05:00-05:00</th>\n",
       "      <td>866.65</td>\n",
       "      <td>866.65</td>\n",
       "      <td>866.65</td>\n",
       "      <td>866.65</td>\n",
       "      <td>1030</td>\n",
       "      <td>76</td>\n",
       "      <td>866.847000</td>\n",
       "      <td>11155</td>\n",
       "      <td>11155</td>\n",
       "      <td>NaN</td>\n",
       "      <td>NaN</td>\n",
       "      <td>NaN</td>\n",
       "      <td>NaN</td>\n",
       "      <td>NaN</td>\n",
       "      <td>NaN</td>\n",
       "      <td>861.26</td>\n",
       "    </tr>\n",
       "  </tbody>\n",
       "</table>\n",
       "</div>"
      ],
      "text/plain": [
       "                             open    high     low   close  volume  \\\n",
       "timestamp                                                           \n",
       "2022-03-01 04:00:00-05:00  868.00  872.00  868.00  868.79    4272   \n",
       "2022-03-01 04:01:00-05:00  868.30  869.05  868.00  869.00    2348   \n",
       "2022-03-01 04:02:00-05:00  868.11  869.30  868.00  869.30    1953   \n",
       "2022-03-01 04:03:00-05:00  868.00  868.11  868.00  868.11    1552   \n",
       "2022-03-01 04:05:00-05:00  866.65  866.65  866.65  866.65    1030   \n",
       "\n",
       "                           trade_count        vwap  cum_vol_all_hours  \\\n",
       "timestamp                                                               \n",
       "2022-03-01 04:00:00-05:00          259  869.799511               4272   \n",
       "2022-03-01 04:01:00-05:00          137  868.551231               6620   \n",
       "2022-03-01 04:02:00-05:00          146  868.578740               8573   \n",
       "2022-03-01 04:03:00-05:00           98  868.162945              10125   \n",
       "2022-03-01 04:05:00-05:00           76  866.847000              11155   \n",
       "\n",
       "                           cum_vol_for_day_part  rvol_1D  rvol_3D  rvol_5D  \\\n",
       "timestamp                                                                    \n",
       "2022-03-01 04:00:00-05:00                  4272      NaN      NaN      NaN   \n",
       "2022-03-01 04:01:00-05:00                  6620      NaN      NaN      NaN   \n",
       "2022-03-01 04:02:00-05:00                  8573      NaN      NaN      NaN   \n",
       "2022-03-01 04:03:00-05:00                 10125      NaN      NaN      NaN   \n",
       "2022-03-01 04:05:00-05:00                 11155      NaN      NaN      NaN   \n",
       "\n",
       "                           rvol_14D  rvol_21D  return_15m  target  \n",
       "timestamp                                                          \n",
       "2022-03-01 04:00:00-05:00       NaN       NaN         NaN  863.00  \n",
       "2022-03-01 04:01:00-05:00       NaN       NaN         NaN  862.80  \n",
       "2022-03-01 04:02:00-05:00       NaN       NaN         NaN  862.36  \n",
       "2022-03-01 04:03:00-05:00       NaN       NaN         NaN  862.27  \n",
       "2022-03-01 04:05:00-05:00       NaN       NaN         NaN  861.26  "
      ]
     },
     "execution_count": 6,
     "metadata": {},
     "output_type": "execute_result"
    }
   ],
   "source": [
    "TSLA[\"target\"] = TSLA[\"close\"].shift(-15)\n",
    "TSLA.head()"
   ]
  },
  {
   "cell_type": "code",
   "execution_count": 7,
   "metadata": {
    "colab": {
     "base_uri": "https://localhost:8080/",
     "height": 286
    },
    "id": "hyH2CSKAAZrG",
    "outputId": "703e71d1-20ab-43c5-fbda-f0f28f8eefa0"
   },
   "outputs": [
    {
     "data": {
      "text/plain": [
       "open                      0\n",
       "high                      0\n",
       "low                       0\n",
       "close                     0\n",
       "volume                    0\n",
       "trade_count               0\n",
       "vwap                      0\n",
       "cum_vol_all_hours         0\n",
       "cum_vol_for_day_part      0\n",
       "rvol_1D                 733\n",
       "rvol_3D                 733\n",
       "rvol_5D                 733\n",
       "rvol_14D                733\n",
       "rvol_21D                733\n",
       "return_15m               15\n",
       "target                   15\n",
       "dtype: int64"
      ]
     },
     "execution_count": 7,
     "metadata": {},
     "output_type": "execute_result"
    }
   ],
   "source": [
    "TSLA.isna().sum()"
   ]
  },
  {
   "cell_type": "code",
   "execution_count": 18,
   "metadata": {
    "colab": {
     "base_uri": "https://localhost:8080/",
     "height": 286
    },
    "id": "ezmQOjydAZrJ",
    "outputId": "45a78285-d493-4987-952b-ee10af23a06a"
   },
   "outputs": [
    {
     "data": {
      "text/plain": [
       "open                    0\n",
       "high                    0\n",
       "low                     0\n",
       "close                   0\n",
       "volume                  0\n",
       "trade_count             0\n",
       "vwap                    0\n",
       "cum_vol_all_hours       0\n",
       "cum_vol_for_day_part    0\n",
       "rvol_1D                 0\n",
       "rvol_3D                 0\n",
       "rvol_5D                 0\n",
       "rvol_14D                0\n",
       "rvol_21D                0\n",
       "return_15m              0\n",
       "target                  0\n",
       "dtype: int64"
      ]
     },
     "execution_count": 18,
     "metadata": {},
     "output_type": "execute_result"
    }
   ],
   "source": [
    "TSLA = TSLA.dropna()\n",
    "TSLA.isna().sum()"
   ]
  },
  {
   "cell_type": "code",
   "execution_count": 9,
   "metadata": {
    "id": "_UuZC73VAZrM"
   },
   "outputs": [],
   "source": [
    "def time_series_to_supervised(data, n_lag=1, n_fut=1, selLag=None, selFut=None, dropnan=True):\n",
    "    \"\"\"\n",
    "    Converts a time series to a supervised learning data set by adding time-shifted prior and future period\n",
    "    data as input or output (i.e., target result) columns for each period\n",
    "    :param data:  a series of periodic attributes as a list or NumPy array\n",
    "    :param n_lag: number of PRIOR periods to lag as input (X); generates: Xa(t-1), Xa(t-2); min= 0 --> nothing lagged\n",
    "    :param n_fut: number of FUTURE periods to add as target output (y); generates Yout(t+1); min= 0 --> no future periods\n",
    "    :param selLag:  only copy these specific PRIOR period attributes; default= None; EX: ['Xa', 'Xb' ]\n",
    "    :param selFut:  only copy these specific FUTURE period attributes; default= None; EX: ['rslt', 'xx']\n",
    "    :param dropnan: True= drop rows with NaN values; default= True\n",
    "    :return: a Pandas DataFrame of time series data organized for supervised learning\n",
    "    NOTES:\n",
    "    (1) The current period's data is always included in the output.\n",
    "    (2) A suffix is added to the original column names to indicate a relative time reference: e.g., (t) is the current\n",
    "        period; (t-2) is from two periods in the past; (t+1) is from the next period\n",
    "    (3) This is an extension of Jason Brownlee's series_to_supervised() function, customized for MFI use\n",
    "    \"\"\"\n",
    "    n_vars = 1 if type(data) is list else data.shape[1]\n",
    "    df = pd.DataFrame(data)\n",
    "    origNames = df.columns\n",
    "    cols, names = list(), list()\n",
    "    # include all current period attributes\n",
    "    cols.append(df.shift(0))\n",
    "    names += [('%s' % origNames[j]) for j in range(n_vars)]\n",
    " \n",
    "    # lag any past period attributes (t-n_lag,...,t-1)\n",
    "    n_lag = max(0, n_lag)  # force valid number of lag periods\n",
    "    for i in range(n_lag, 0, -1):\n",
    "        suffix= '(t-%d)' % i\n",
    "        if (None == selLag):   # copy all attributes from PRIOR periods?\n",
    "            cols.append(df.shift(i))\n",
    "            names += [('%s%s' % (origNames[j], suffix)) for j in range(n_vars)]\n",
    "        else:\n",
    "            for var in (selLag):\n",
    "                cols.append(df[var].shift(i))\n",
    "                names+= [('%s%s' % (var, suffix))]\n",
    " \n",
    "    # include future period attributes (t+1,...,t+n_fut)\n",
    "    n_fut = max(n_fut, 0)  # force valid number of future periods to shift back\n",
    "    for i in range(1, n_fut + 1):\n",
    "        suffix= '(t+%d)' % i\n",
    "        if (None == selFut):  # copy all attributes from future periods?\n",
    "            cols.append(df.shift(-i))\n",
    "            names += [('%s%s' % (origNames[j], suffix)) for j in range(n_vars)]\n",
    "        else:  # copy only selected future attributes\n",
    "            for var in (selFut):\n",
    "                cols.append(df[var].shift(-i))\n",
    "                names += [('%s%s' % (var, suffix))]\n",
    "    # combine everything\n",
    "    agg = pd.concat(cols, axis=1)\n",
    "    agg.columns = names\n",
    "    # drop rows with NaN values introduced by lagging\n",
    "    if dropnan:\n",
    "        agg.dropna(inplace=True)\n",
    "    return agg"
   ]
  },
  {
   "cell_type": "code",
   "execution_count": 10,
   "metadata": {
    "colab": {
     "base_uri": "https://localhost:8080/",
     "height": 177
    },
    "id": "6YeIR_UXAZrP",
    "outputId": "1842b890-da5d-47ed-c05b-17e93999c81c"
   },
   "outputs": [
    {
     "data": {
      "text/html": [
       "<div>\n",
       "<style scoped>\n",
       "    .dataframe tbody tr th:only-of-type {\n",
       "        vertical-align: middle;\n",
       "    }\n",
       "\n",
       "    .dataframe tbody tr th {\n",
       "        vertical-align: top;\n",
       "    }\n",
       "\n",
       "    .dataframe thead th {\n",
       "        text-align: right;\n",
       "    }\n",
       "</style>\n",
       "<table border=\"1\" class=\"dataframe\">\n",
       "  <thead>\n",
       "    <tr style=\"text-align: right;\">\n",
       "      <th></th>\n",
       "      <th>open</th>\n",
       "      <th>high</th>\n",
       "      <th>low</th>\n",
       "      <th>close</th>\n",
       "      <th>volume</th>\n",
       "      <th>trade_count</th>\n",
       "      <th>vwap</th>\n",
       "      <th>cum_vol_all_hours</th>\n",
       "      <th>cum_vol_for_day_part</th>\n",
       "      <th>rvol_1D</th>\n",
       "      <th>rvol_3D</th>\n",
       "      <th>rvol_5D</th>\n",
       "      <th>rvol_14D</th>\n",
       "      <th>rvol_21D</th>\n",
       "      <th>return_15m</th>\n",
       "      <th>target</th>\n",
       "    </tr>\n",
       "    <tr>\n",
       "      <th>timestamp</th>\n",
       "      <th></th>\n",
       "      <th></th>\n",
       "      <th></th>\n",
       "      <th></th>\n",
       "      <th></th>\n",
       "      <th></th>\n",
       "      <th></th>\n",
       "      <th></th>\n",
       "      <th></th>\n",
       "      <th></th>\n",
       "      <th></th>\n",
       "      <th></th>\n",
       "      <th></th>\n",
       "      <th></th>\n",
       "      <th></th>\n",
       "      <th></th>\n",
       "    </tr>\n",
       "  </thead>\n",
       "  <tbody>\n",
       "    <tr>\n",
       "      <th>2022-03-01 19:00:00-05:00</th>\n",
       "      <td>864.5</td>\n",
       "      <td>864.5</td>\n",
       "      <td>864.35</td>\n",
       "      <td>864.35</td>\n",
       "      <td>563</td>\n",
       "      <td>14</td>\n",
       "      <td>864.456181</td>\n",
       "      <td>563</td>\n",
       "      <td>-1</td>\n",
       "      <td>0.000023</td>\n",
       "      <td>0.000023</td>\n",
       "      <td>0.000023</td>\n",
       "      <td>0.000023</td>\n",
       "      <td>0.000023</td>\n",
       "      <td>0.000984</td>\n",
       "      <td>864.5</td>\n",
       "    </tr>\n",
       "  </tbody>\n",
       "</table>\n",
       "</div>"
      ],
      "text/plain": [
       "                            open   high     low   close  volume  trade_count  \\\n",
       "timestamp                                                                      \n",
       "2022-03-01 19:00:00-05:00  864.5  864.5  864.35  864.35     563           14   \n",
       "\n",
       "                                 vwap  cum_vol_all_hours  \\\n",
       "timestamp                                                  \n",
       "2022-03-01 19:00:00-05:00  864.456181                563   \n",
       "\n",
       "                           cum_vol_for_day_part   rvol_1D   rvol_3D   rvol_5D  \\\n",
       "timestamp                                                                       \n",
       "2022-03-01 19:00:00-05:00                    -1  0.000023  0.000023  0.000023   \n",
       "\n",
       "                           rvol_14D  rvol_21D  return_15m  target  \n",
       "timestamp                                                          \n",
       "2022-03-01 19:00:00-05:00  0.000023  0.000023    0.000984   864.5  "
      ]
     },
     "execution_count": 10,
     "metadata": {},
     "output_type": "execute_result"
    }
   ],
   "source": [
    "data = TSLA.copy()\n",
    "data[:1]"
   ]
  },
  {
   "cell_type": "code",
   "execution_count": 11,
   "metadata": {
    "colab": {
     "base_uri": "https://localhost:8080/",
     "height": 34
    },
    "id": "ILDVlTw0AZrS",
    "outputId": "04858c7e-3774-4e50-96b2-7d5f751f2230"
   },
   "outputs": [
    {
     "name": "stdout",
     "output_type": "stream",
     "text": [
      "16\n"
     ]
    }
   ],
   "source": [
    "print(len(data.columns))\n"
   ]
  },
  {
   "cell_type": "code",
   "execution_count": 12,
   "metadata": {
    "id": "Co_4vOQlAZrU"
   },
   "outputs": [],
   "source": [
    "data = time_series_to_supervised(data, n_lag=30, n_fut=1, selFut=['target'])"
   ]
  },
  {
   "cell_type": "code",
   "execution_count": 13,
   "metadata": {
    "colab": {
     "base_uri": "https://localhost:8080/",
     "height": 34
    },
    "id": "CPfny0F9AZrX",
    "outputId": "c96fe26a-37b1-48dd-d61f-d77c1a31d35e"
   },
   "outputs": [
    {
     "data": {
      "text/plain": [
       "(0, 497)"
      ]
     },
     "execution_count": 13,
     "metadata": {},
     "output_type": "execute_result"
    }
   ],
   "source": [
    "data.shape"
   ]
  },
  {
   "cell_type": "code",
   "execution_count": 14,
   "metadata": {
    "colab": {
     "base_uri": "https://localhost:8080/",
     "height": 222
    },
    "id": "wzUPpFfVAZra",
    "outputId": "de950871-14cc-4663-bab2-12a0c1df2ac9"
   },
   "outputs": [
    {
     "data": {
      "text/html": [
       "<div>\n",
       "<style scoped>\n",
       "    .dataframe tbody tr th:only-of-type {\n",
       "        vertical-align: middle;\n",
       "    }\n",
       "\n",
       "    .dataframe tbody tr th {\n",
       "        vertical-align: top;\n",
       "    }\n",
       "\n",
       "    .dataframe thead th {\n",
       "        text-align: right;\n",
       "    }\n",
       "</style>\n",
       "<table border=\"1\" class=\"dataframe\">\n",
       "  <thead>\n",
       "    <tr style=\"text-align: right;\">\n",
       "      <th></th>\n",
       "      <th>open</th>\n",
       "      <th>high</th>\n",
       "      <th>low</th>\n",
       "      <th>close</th>\n",
       "      <th>volume</th>\n",
       "      <th>trade_count</th>\n",
       "      <th>vwap</th>\n",
       "      <th>cum_vol_all_hours</th>\n",
       "      <th>cum_vol_for_day_part</th>\n",
       "      <th>rvol_1D</th>\n",
       "      <th>...</th>\n",
       "      <th>cum_vol_all_hours(t-1)</th>\n",
       "      <th>cum_vol_for_day_part(t-1)</th>\n",
       "      <th>rvol_1D(t-1)</th>\n",
       "      <th>rvol_3D(t-1)</th>\n",
       "      <th>rvol_5D(t-1)</th>\n",
       "      <th>rvol_14D(t-1)</th>\n",
       "      <th>rvol_21D(t-1)</th>\n",
       "      <th>return_15m(t-1)</th>\n",
       "      <th>target(t-1)</th>\n",
       "      <th>target(t+1)</th>\n",
       "    </tr>\n",
       "    <tr>\n",
       "      <th>timestamp</th>\n",
       "      <th></th>\n",
       "      <th></th>\n",
       "      <th></th>\n",
       "      <th></th>\n",
       "      <th></th>\n",
       "      <th></th>\n",
       "      <th></th>\n",
       "      <th></th>\n",
       "      <th></th>\n",
       "      <th></th>\n",
       "      <th></th>\n",
       "      <th></th>\n",
       "      <th></th>\n",
       "      <th></th>\n",
       "      <th></th>\n",
       "      <th></th>\n",
       "      <th></th>\n",
       "      <th></th>\n",
       "      <th></th>\n",
       "      <th></th>\n",
       "      <th></th>\n",
       "    </tr>\n",
       "  </thead>\n",
       "  <tbody>\n",
       "  </tbody>\n",
       "</table>\n",
       "<p>0 rows × 497 columns</p>\n",
       "</div>"
      ],
      "text/plain": [
       "Empty DataFrame\n",
       "Columns: [open, high, low, close, volume, trade_count, vwap, cum_vol_all_hours, cum_vol_for_day_part, rvol_1D, rvol_3D, rvol_5D, rvol_14D, rvol_21D, return_15m, target, open(t-30), high(t-30), low(t-30), close(t-30), volume(t-30), trade_count(t-30), vwap(t-30), cum_vol_all_hours(t-30), cum_vol_for_day_part(t-30), rvol_1D(t-30), rvol_3D(t-30), rvol_5D(t-30), rvol_14D(t-30), rvol_21D(t-30), return_15m(t-30), target(t-30), open(t-29), high(t-29), low(t-29), close(t-29), volume(t-29), trade_count(t-29), vwap(t-29), cum_vol_all_hours(t-29), cum_vol_for_day_part(t-29), rvol_1D(t-29), rvol_3D(t-29), rvol_5D(t-29), rvol_14D(t-29), rvol_21D(t-29), return_15m(t-29), target(t-29), open(t-28), high(t-28), low(t-28), close(t-28), volume(t-28), trade_count(t-28), vwap(t-28), cum_vol_all_hours(t-28), cum_vol_for_day_part(t-28), rvol_1D(t-28), rvol_3D(t-28), rvol_5D(t-28), rvol_14D(t-28), rvol_21D(t-28), return_15m(t-28), target(t-28), open(t-27), high(t-27), low(t-27), close(t-27), volume(t-27), trade_count(t-27), vwap(t-27), cum_vol_all_hours(t-27), cum_vol_for_day_part(t-27), rvol_1D(t-27), rvol_3D(t-27), rvol_5D(t-27), rvol_14D(t-27), rvol_21D(t-27), return_15m(t-27), target(t-27), open(t-26), high(t-26), low(t-26), close(t-26), volume(t-26), trade_count(t-26), vwap(t-26), cum_vol_all_hours(t-26), cum_vol_for_day_part(t-26), rvol_1D(t-26), rvol_3D(t-26), rvol_5D(t-26), rvol_14D(t-26), rvol_21D(t-26), return_15m(t-26), target(t-26), open(t-25), high(t-25), low(t-25), close(t-25), ...]\n",
       "Index: []\n",
       "\n",
       "[0 rows x 497 columns]"
      ]
     },
     "execution_count": 14,
     "metadata": {},
     "output_type": "execute_result"
    }
   ],
   "source": [
    "data[:1]"
   ]
  },
  {
   "cell_type": "code",
   "execution_count": 15,
   "metadata": {
    "colab": {
     "base_uri": "https://localhost:8080/",
     "height": 101
    },
    "id": "tnGl5Sf6AZrc",
    "outputId": "e5ced5d8-e884-4e65-e1b1-033bc9d1f9bf"
   },
   "outputs": [
    {
     "name": "stdout",
     "output_type": "stream",
     "text": [
      "Number of observations in: 510\n",
      "Number of predictions out: 1\n",
      "\n",
      "Shape of X: (0, 497)\n",
      "Shape of y: (0, 1)\n"
     ]
    }
   ],
   "source": [
    "n_features_in = 17\n",
    "n_features_out = 1\n",
    "n_lags_in = 30\n",
    "n_lags_out = 1\n",
    "\n",
    "n_obs_in = (n_features_in * n_lags_in)\n",
    "n_obs_out = (n_features_out * n_lags_out)\n",
    "print ('Number of observations in:',n_obs_in)\n",
    "print ('Number of predictions out:', n_obs_out)\n",
    "\n",
    "# Creating X, y from data_test\n",
    "X = data.drop(columns = ['target'])\n",
    "X = data.values[:, :n_obs_in]\n",
    "y = data.target.values.reshape(-1,1)\n",
    "print ('\\nShape of X:',X.shape)\n",
    "print ('Shape of y:', y.shape)"
   ]
  },
  {
   "cell_type": "code",
   "execution_count": 16,
   "metadata": {
    "colab": {
     "base_uri": "https://localhost:8080/",
     "height": 34
    },
    "id": "2eEgj1QyAZrf",
    "outputId": "fe84696c-d909-41b2-a940-f4792a8096aa"
   },
   "outputs": [
    {
     "ename": "ValueError",
     "evalue": "Found array with 0 sample(s) (shape=(0, 497)) while a minimum of 1 is required by MinMaxScaler.",
     "output_type": "error",
     "traceback": [
      "\u001b[0;31m---------------------------------------------------------------------------\u001b[0m",
      "\u001b[0;31mValueError\u001b[0m                                Traceback (most recent call last)",
      "\u001b[0;32m/var/folders/m5/5frzks254b35y4w72grlx2y00000gn/T/ipykernel_13731/3081931484.py\u001b[0m in \u001b[0;36m<module>\u001b[0;34m\u001b[0m\n\u001b[1;32m      1\u001b[0m \u001b[0;32mfrom\u001b[0m \u001b[0msklearn\u001b[0m\u001b[0;34m.\u001b[0m\u001b[0mpreprocessing\u001b[0m \u001b[0;32mimport\u001b[0m \u001b[0mMinMaxScaler\u001b[0m\u001b[0;34m\u001b[0m\u001b[0;34m\u001b[0m\u001b[0m\n\u001b[1;32m      2\u001b[0m \u001b[0;34m\u001b[0m\u001b[0m\n\u001b[0;32m----> 3\u001b[0;31m \u001b[0mX_scaler\u001b[0m \u001b[0;34m=\u001b[0m \u001b[0mMinMaxScaler\u001b[0m\u001b[0;34m(\u001b[0m\u001b[0mfeature_range\u001b[0m\u001b[0;34m=\u001b[0m\u001b[0;34m(\u001b[0m\u001b[0;34m-\u001b[0m\u001b[0;36m2\u001b[0m\u001b[0;34m,\u001b[0m\u001b[0;36m2\u001b[0m\u001b[0;34m)\u001b[0m\u001b[0;34m)\u001b[0m\u001b[0;34m.\u001b[0m\u001b[0mfit\u001b[0m\u001b[0;34m(\u001b[0m\u001b[0mX\u001b[0m\u001b[0;34m)\u001b[0m\u001b[0;34m\u001b[0m\u001b[0;34m\u001b[0m\u001b[0m\n\u001b[0m\u001b[1;32m      4\u001b[0m \u001b[0my_scaler\u001b[0m \u001b[0;34m=\u001b[0m \u001b[0mMinMaxScaler\u001b[0m\u001b[0;34m(\u001b[0m\u001b[0mfeature_range\u001b[0m\u001b[0;34m=\u001b[0m\u001b[0;34m(\u001b[0m\u001b[0;34m-\u001b[0m\u001b[0;36m2\u001b[0m\u001b[0;34m,\u001b[0m\u001b[0;36m2\u001b[0m\u001b[0;34m)\u001b[0m\u001b[0;34m)\u001b[0m\u001b[0;34m.\u001b[0m\u001b[0mfit\u001b[0m\u001b[0;34m(\u001b[0m\u001b[0my\u001b[0m\u001b[0;34m)\u001b[0m\u001b[0;34m\u001b[0m\u001b[0;34m\u001b[0m\u001b[0m\n\u001b[1;32m      5\u001b[0m \u001b[0;34m\u001b[0m\u001b[0m\n",
      "\u001b[0;32m~/opt/anaconda3/envs/pyvizenv/lib/python3.7/site-packages/sklearn/preprocessing/_data.py\u001b[0m in \u001b[0;36mfit\u001b[0;34m(self, X, y)\u001b[0m\n\u001b[1;32m    414\u001b[0m         \u001b[0;31m# Reset internal state before fitting\u001b[0m\u001b[0;34m\u001b[0m\u001b[0;34m\u001b[0m\u001b[0;34m\u001b[0m\u001b[0m\n\u001b[1;32m    415\u001b[0m         \u001b[0mself\u001b[0m\u001b[0;34m.\u001b[0m\u001b[0m_reset\u001b[0m\u001b[0;34m(\u001b[0m\u001b[0;34m)\u001b[0m\u001b[0;34m\u001b[0m\u001b[0;34m\u001b[0m\u001b[0m\n\u001b[0;32m--> 416\u001b[0;31m         \u001b[0;32mreturn\u001b[0m \u001b[0mself\u001b[0m\u001b[0;34m.\u001b[0m\u001b[0mpartial_fit\u001b[0m\u001b[0;34m(\u001b[0m\u001b[0mX\u001b[0m\u001b[0;34m,\u001b[0m \u001b[0my\u001b[0m\u001b[0;34m)\u001b[0m\u001b[0;34m\u001b[0m\u001b[0;34m\u001b[0m\u001b[0m\n\u001b[0m\u001b[1;32m    417\u001b[0m \u001b[0;34m\u001b[0m\u001b[0m\n\u001b[1;32m    418\u001b[0m     \u001b[0;32mdef\u001b[0m \u001b[0mpartial_fit\u001b[0m\u001b[0;34m(\u001b[0m\u001b[0mself\u001b[0m\u001b[0;34m,\u001b[0m \u001b[0mX\u001b[0m\u001b[0;34m,\u001b[0m \u001b[0my\u001b[0m\u001b[0;34m=\u001b[0m\u001b[0;32mNone\u001b[0m\u001b[0;34m)\u001b[0m\u001b[0;34m:\u001b[0m\u001b[0;34m\u001b[0m\u001b[0;34m\u001b[0m\u001b[0m\n",
      "\u001b[0;32m~/opt/anaconda3/envs/pyvizenv/lib/python3.7/site-packages/sklearn/preprocessing/_data.py\u001b[0m in \u001b[0;36mpartial_fit\u001b[0;34m(self, X, y)\u001b[0m\n\u001b[1;32m    456\u001b[0m             \u001b[0mestimator\u001b[0m\u001b[0;34m=\u001b[0m\u001b[0mself\u001b[0m\u001b[0;34m,\u001b[0m\u001b[0;34m\u001b[0m\u001b[0;34m\u001b[0m\u001b[0m\n\u001b[1;32m    457\u001b[0m             \u001b[0mdtype\u001b[0m\u001b[0;34m=\u001b[0m\u001b[0mFLOAT_DTYPES\u001b[0m\u001b[0;34m,\u001b[0m\u001b[0;34m\u001b[0m\u001b[0;34m\u001b[0m\u001b[0m\n\u001b[0;32m--> 458\u001b[0;31m             \u001b[0mforce_all_finite\u001b[0m\u001b[0;34m=\u001b[0m\u001b[0;34m\"allow-nan\"\u001b[0m\u001b[0;34m,\u001b[0m\u001b[0;34m\u001b[0m\u001b[0;34m\u001b[0m\u001b[0m\n\u001b[0m\u001b[1;32m    459\u001b[0m         )\n\u001b[1;32m    460\u001b[0m \u001b[0;34m\u001b[0m\u001b[0m\n",
      "\u001b[0;32m~/opt/anaconda3/envs/pyvizenv/lib/python3.7/site-packages/sklearn/base.py\u001b[0m in \u001b[0;36m_validate_data\u001b[0;34m(self, X, y, reset, validate_separately, **check_params)\u001b[0m\n\u001b[1;32m    559\u001b[0m             \u001b[0;32mraise\u001b[0m \u001b[0mValueError\u001b[0m\u001b[0;34m(\u001b[0m\u001b[0;34m\"Validation should be done on X, y or both.\"\u001b[0m\u001b[0;34m)\u001b[0m\u001b[0;34m\u001b[0m\u001b[0;34m\u001b[0m\u001b[0m\n\u001b[1;32m    560\u001b[0m         \u001b[0;32melif\u001b[0m \u001b[0;32mnot\u001b[0m \u001b[0mno_val_X\u001b[0m \u001b[0;32mand\u001b[0m \u001b[0mno_val_y\u001b[0m\u001b[0;34m:\u001b[0m\u001b[0;34m\u001b[0m\u001b[0;34m\u001b[0m\u001b[0m\n\u001b[0;32m--> 561\u001b[0;31m             \u001b[0mX\u001b[0m \u001b[0;34m=\u001b[0m \u001b[0mcheck_array\u001b[0m\u001b[0;34m(\u001b[0m\u001b[0mX\u001b[0m\u001b[0;34m,\u001b[0m \u001b[0;34m**\u001b[0m\u001b[0mcheck_params\u001b[0m\u001b[0;34m)\u001b[0m\u001b[0;34m\u001b[0m\u001b[0;34m\u001b[0m\u001b[0m\n\u001b[0m\u001b[1;32m    562\u001b[0m             \u001b[0mout\u001b[0m \u001b[0;34m=\u001b[0m \u001b[0mX\u001b[0m\u001b[0;34m\u001b[0m\u001b[0;34m\u001b[0m\u001b[0m\n\u001b[1;32m    563\u001b[0m         \u001b[0;32melif\u001b[0m \u001b[0mno_val_X\u001b[0m \u001b[0;32mand\u001b[0m \u001b[0;32mnot\u001b[0m \u001b[0mno_val_y\u001b[0m\u001b[0;34m:\u001b[0m\u001b[0;34m\u001b[0m\u001b[0;34m\u001b[0m\u001b[0m\n",
      "\u001b[0;32m~/opt/anaconda3/envs/pyvizenv/lib/python3.7/site-packages/sklearn/utils/validation.py\u001b[0m in \u001b[0;36mcheck_array\u001b[0;34m(array, accept_sparse, accept_large_sparse, dtype, order, copy, force_all_finite, ensure_2d, allow_nd, ensure_min_samples, ensure_min_features, estimator)\u001b[0m\n\u001b[1;32m    798\u001b[0m                 \u001b[0;34m\"Found array with %d sample(s) (shape=%s) while a\"\u001b[0m\u001b[0;34m\u001b[0m\u001b[0;34m\u001b[0m\u001b[0m\n\u001b[1;32m    799\u001b[0m                 \u001b[0;34m\" minimum of %d is required%s.\"\u001b[0m\u001b[0;34m\u001b[0m\u001b[0;34m\u001b[0m\u001b[0m\n\u001b[0;32m--> 800\u001b[0;31m                 \u001b[0;34m%\u001b[0m \u001b[0;34m(\u001b[0m\u001b[0mn_samples\u001b[0m\u001b[0;34m,\u001b[0m \u001b[0marray\u001b[0m\u001b[0;34m.\u001b[0m\u001b[0mshape\u001b[0m\u001b[0;34m,\u001b[0m \u001b[0mensure_min_samples\u001b[0m\u001b[0;34m,\u001b[0m \u001b[0mcontext\u001b[0m\u001b[0;34m)\u001b[0m\u001b[0;34m\u001b[0m\u001b[0;34m\u001b[0m\u001b[0m\n\u001b[0m\u001b[1;32m    801\u001b[0m             )\n\u001b[1;32m    802\u001b[0m \u001b[0;34m\u001b[0m\u001b[0m\n",
      "\u001b[0;31mValueError\u001b[0m: Found array with 0 sample(s) (shape=(0, 497)) while a minimum of 1 is required by MinMaxScaler."
     ]
    }
   ],
   "source": [
    "from sklearn.preprocessing import MinMaxScaler\n",
    "\n",
    "X_scaler = MinMaxScaler(feature_range=(-2,2)).fit(X)\n",
    "y_scaler = MinMaxScaler(feature_range=(-2,2)).fit(y)\n",
    "\n",
    "X_scaled = X_scaler.fit_transform(X)\n",
    "y_scaled = y_scaler.fit_transform(y)\n",
    "\n",
    "print(X_scaled.shape, y_scaled.shape)"
   ]
  },
  {
   "cell_type": "code",
   "execution_count": null,
   "metadata": {
    "colab": {
     "base_uri": "https://localhost:8080/",
     "height": 50
    },
    "id": "jlNVBXWYAZri",
    "outputId": "64dfd7e5-15df-4287-a564-5bdee09eb42f"
   },
   "outputs": [],
   "source": [
    "split = int(0.7 * len(X))\n",
    "\n",
    "X_train = X_scaled[:split]\n",
    "X_test = X_scaled[split:]\n",
    "\n",
    "y_train = y_scaled[:split]\n",
    "y_test = y_scaled[split:]\n",
    "\n",
    "print('Shape of splits:')\n",
    "print(X_train.shape, y_train.shape, X_test.shape, y_test.shape)"
   ]
  },
  {
   "cell_type": "code",
   "execution_count": null,
   "metadata": {
    "id": "g32-FFI_AZrk"
   },
   "outputs": [],
   "source": [
    "n_features = 17\n",
    "n_lag = 30\n",
    "n_in, n_out = 30, 1\n",
    "\n",
    "#Train data\n",
    "#X_train = X_scaler.transform(X_train)\n",
    "#y_train = y_scaler.transform(y_train)\n",
    "#Test Data\n",
    "#X_test = X_scaler.transform(X_test)\n",
    "#y_test = y_scaler.transform(y_test)"
   ]
  },
  {
   "cell_type": "code",
   "execution_count": null,
   "metadata": {
    "colab": {
     "base_uri": "https://localhost:8080/",
     "height": 50
    },
    "id": "SteuRci5AZrm",
    "outputId": "13eacf68-9f17-41aa-a944-42137bd5ad0d"
   },
   "outputs": [],
   "source": [
    "# reshape input to be 3D [samples, timesteps, features] for LSTM\n",
    "\n",
    "X_train = X_train.reshape((X_train.shape[0], n_lag, n_features))\n",
    "X_test = X_test.reshape((X_test.shape[0], n_lag, n_features))\n",
    "print('Re-shaped for LSTM:')\n",
    "print(X_train.shape, y_train.shape, X_test.shape, y_test.shape)\n"
   ]
  },
  {
   "cell_type": "code",
   "execution_count": null,
   "metadata": {
    "colab": {
     "base_uri": "https://localhost:8080/",
     "height": 34
    },
    "id": "aew1JywrAZrp",
    "outputId": "7c3058f1-e791-4985-aeb5-25ff38551b09"
   },
   "outputs": [],
   "source": [
    "print(X_train.shape[0], X_train.shape[1], X_train.shape[2])"
   ]
  },
  {
   "cell_type": "code",
   "execution_count": null,
   "metadata": {
    "colab": {
     "base_uri": "https://localhost:8080/",
     "height": 50
    },
    "id": "9GXjdZboAZrs",
    "outputId": "8f217ea7-613b-4fd0-b1b9-7558f721bc74"
   },
   "outputs": [],
   "source": [
    "from tensorflow.keras.models import Sequential\n",
    "from tensorflow.keras.layers import LSTM\n",
    "from tensorflow.keras.layers import Dense\n",
    "from tensorflow.keras.layers import Dropout\n",
    "dropout_fraction = 0.40\n",
    "model_test = Sequential()\n",
    "\n",
    "model_test.add(LSTM(50, activation='relu', return_sequences=True, input_shape=((X_train.shape[1]), X_train.shape[2])))\n",
    "model_test.add(Dropout(dropout_fraction))\n",
    "model_test.add(LSTM(50, activation='relu'))\n",
    "model_test.add(Dropout(dropout_fraction))\n",
    "model_test.add(Dense(n_out))\n",
    "model_test.compile(optimizer='adam', loss='mse')"
   ]
  },
  {
   "cell_type": "code",
   "execution_count": null,
   "metadata": {
    "colab": {
     "base_uri": "https://localhost:8080/",
     "height": 353
    },
    "id": "xRDeP0ZFAZru",
    "outputId": "ed112455-6a8c-4388-f846-1acd54d6535e"
   },
   "outputs": [],
   "source": [
    "model = model_test.fit(X_train, y_train, \n",
    "                    epochs=50, batch_size=96, \n",
    "                    validation_data=(X_test, y_test), \n",
    "                    verbose=1, shuffle=False)"
   ]
  },
  {
   "cell_type": "code",
   "execution_count": null,
   "metadata": {
    "colab": {
     "base_uri": "https://localhost:8080/",
     "height": 319
    },
    "id": "JAFlVRqLAZrw",
    "outputId": "c3877f8b-e21e-4db5-b40b-1bfad1c667be"
   },
   "outputs": [],
   "source": [
    "model_test.summary()"
   ]
  },
  {
   "cell_type": "code",
   "execution_count": null,
   "metadata": {
    "colab": {
     "base_uri": "https://localhost:8080/",
     "height": 50
    },
    "id": "H5Otoy_qAZry",
    "outputId": "76a80c3a-d0e0-4da0-ab02-d338a0a09dfd"
   },
   "outputs": [],
   "source": [
    "model_test.evaluate(X_test, y_test, verbose=1)"
   ]
  },
  {
   "cell_type": "code",
   "execution_count": null,
   "metadata": {
    "id": "4z2psl_FAZr1"
   },
   "outputs": [],
   "source": [
    "predicted = model_test.predict(X_test)"
   ]
  },
  {
   "cell_type": "code",
   "execution_count": null,
   "metadata": {
    "colab": {
     "base_uri": "https://localhost:8080/",
     "height": 34
    },
    "id": "J1S5c3ZPAZr3",
    "outputId": "28889a13-81e4-480b-b3bf-603f92e82613"
   },
   "outputs": [],
   "source": [
    "inv_predicted = y_scaler.inverse_transform(predicted)\n",
    "inv_predicted.shape"
   ]
  },
  {
   "cell_type": "code",
   "execution_count": null,
   "metadata": {
    "colab": {
     "base_uri": "https://localhost:8080/",
     "height": 34
    },
    "id": "9vPNt9xoAZr6",
    "outputId": "5bce41d6-5ba2-4e79-90c8-ca0934fddff6"
   },
   "outputs": [],
   "source": [
    "inv_y = y_scaler.inverse_transform(y_test)\n",
    "inv_y.shape"
   ]
  },
  {
   "cell_type": "code",
   "execution_count": null,
   "metadata": {
    "colab": {
     "base_uri": "https://localhost:8080/",
     "height": 787
    },
    "id": "gET_56DEAZr8",
    "outputId": "c5ace34a-baa2-499d-93ce-4bd66980e774"
   },
   "outputs": [],
   "source": [
    "predicted_price = inv_predicted\n",
    "real_price = inv_y\n",
    "\n",
    "stocks = pd.DataFrame({\n",
    "    \"Real\": real_price.ravel(),\n",
    "    \"Predicted\": predicted_price.ravel()})\n",
    "\n",
    "stocks.head(25)"
   ]
  },
  {
   "cell_type": "code",
   "execution_count": null,
   "metadata": {
    "colab": {
     "base_uri": "https://localhost:8080/",
     "height": 537
    },
    "id": "8qjH3CIwAZr_",
    "outputId": "4f0f346c-2426-4470-bc3b-e99ce1bc4326"
   },
   "outputs": [],
   "source": [
    "import hvplot.pandas \n",
    "\n",
    "stocks.hvplot(y=[\"Real\",\"Predicted\"],height=500,width=1000)"
   ]
  },
  {
   "cell_type": "code",
   "execution_count": null,
   "metadata": {
    "colab": {
     "base_uri": "https://localhost:8080/",
     "height": 284
    },
    "id": "Nleh9BfbAZsF",
    "outputId": "272a594d-1b65-43b9-946e-795744ba0fd6"
   },
   "outputs": [],
   "source": [
    "stocks.describe()"
   ]
  },
  {
   "cell_type": "code",
   "execution_count": null,
   "metadata": {
    "colab": {
     "base_uri": "https://localhost:8080/",
     "height": 34
    },
    "id": "X-DkDaE4wRGa",
    "outputId": "683eca65-ab11-49b4-f825-c54295ca54d4"
   },
   "outputs": [],
   "source": [
    "X_test.shape"
   ]
  },
  {
   "cell_type": "code",
   "execution_count": null,
   "metadata": {
    "id": "xxB0-fDZzAz8"
   },
   "outputs": [],
   "source": [
    "split = int(0.7 * len(X))\n",
    "X_test_df = GOOG[\"close\"].copy()\n",
    "X_test_df = X_test_df[split:]"
   ]
  },
  {
   "cell_type": "code",
   "execution_count": null,
   "metadata": {
    "colab": {
     "base_uri": "https://localhost:8080/",
     "height": 225
    },
    "id": "Grs3rNo6vip8",
    "outputId": "958695ba-6851-49b2-8332-217081b0e4e6"
   },
   "outputs": [],
   "source": [
    "X_test_df = pd.DataFrame(data=X_test_df, index=GOOG.index)\n",
    "X_test_df = X_test_df.dropna()\n",
    "X_test_df.head()"
   ]
  },
  {
   "cell_type": "code",
   "execution_count": null,
   "metadata": {
    "colab": {
     "base_uri": "https://localhost:8080/",
     "height": 34
    },
    "id": "jleQsMQU1HLF",
    "outputId": "5d598b9a-5975-4767-f2e0-ff2fa619447c"
   },
   "outputs": [],
   "source": [
    "print(X_test_df.shape,stocks.shape)"
   ]
  },
  {
   "cell_type": "code",
   "execution_count": null,
   "metadata": {
    "colab": {
     "base_uri": "https://localhost:8080/",
     "height": 34
    },
    "id": "xLgpA3U82J-T",
    "outputId": "46b85415-4888-48ce-9a6e-c3dae75df59f"
   },
   "outputs": [],
   "source": [
    "X_test_df = X_test_df.iloc[31:]\n",
    "X_test_df.shape"
   ]
  },
  {
   "cell_type": "code",
   "execution_count": null,
   "metadata": {
    "id": "HZj8rkL22g0s"
   },
   "outputs": [],
   "source": [
    "stocks = stocks.set_index(X_test_df.index)"
   ]
  },
  {
   "cell_type": "code",
   "execution_count": null,
   "metadata": {
    "colab": {
     "base_uri": "https://localhost:8080/",
     "height": 225
    },
    "id": "QgaAZxSx2o_7",
    "outputId": "612d9d72-cc3f-45da-beb1-c285594f7a29"
   },
   "outputs": [],
   "source": [
    "stocks.head()"
   ]
  },
  {
   "cell_type": "code",
   "execution_count": null,
   "metadata": {
    "colab": {
     "base_uri": "https://localhost:8080/",
     "height": 225
    },
    "id": "_E0NkRSe3EAc",
    "outputId": "74a4e7bb-e521-4855-ec0e-14d426054c04"
   },
   "outputs": [],
   "source": [
    "stocks = stocks.join(X_test_df)\n",
    "stocks.head()"
   ]
  },
  {
   "cell_type": "code",
   "execution_count": null,
   "metadata": {
    "colab": {
     "base_uri": "https://localhost:8080/",
     "height": 225
    },
    "id": "qw-PKjO23oz3",
    "outputId": "e2d92a46-3336-4c88-dd30-034035a485bf"
   },
   "outputs": [],
   "source": [
    "stocks[\"predicted_pct_change\"] = (((stocks[\"Predicted\"] - stocks[\"close\"]) / stocks[\"close\"]) * 100)\n",
    "stocks[\"real_pct_change\"] = (((stocks[\"Real\"] - stocks[\"close\"]) / stocks[\"close\"]) * 100)\n",
    "\n",
    "stocks.head()"
   ]
  },
  {
   "cell_type": "code",
   "execution_count": null,
   "metadata": {
    "colab": {
     "base_uri": "https://localhost:8080/",
     "height": 225
    },
    "id": "Ha5AkRtr4Yfn",
    "outputId": "97eb84b9-eb3e-4a3f-bf6c-1a6528a67259"
   },
   "outputs": [],
   "source": [
    "stocks_change = stocks[[\"predicted_pct_change\",\"real_pct_change\"]].copy()\n",
    "stocks_change.head()"
   ]
  },
  {
   "cell_type": "code",
   "execution_count": null,
   "metadata": {
    "colab": {
     "base_uri": "https://localhost:8080/",
     "height": 17
    },
    "id": "cKd8_ci25GPG",
    "outputId": "098aeadd-7c76-4ec3-b6dd-dc6961365111"
   },
   "outputs": [],
   "source": [
    "stocks_change.hvplot(y=[\"real_pct_change\",\"predicted_pct_change\"],height=500,width=1000)"
   ]
  },
  {
   "cell_type": "code",
   "execution_count": null,
   "metadata": {},
   "outputs": [],
   "source": [
    "stocks[\"diff\"] = (stocks[\"Real\"]-stocks[\"Predicted\"])\n",
    "stocks.head()"
   ]
  },
  {
   "cell_type": "code",
   "execution_count": null,
   "metadata": {},
   "outputs": [],
   "source": [
    "stocks.hvplot(y=[\"diff\"],height=500,width=1000)"
   ]
  },
  {
   "cell_type": "code",
   "execution_count": null,
   "metadata": {},
   "outputs": [],
   "source": [
    "stocks[\"diff_pct_change\"] = (stocks[\"real_pct_change\"] - stocks[\"predicted_pct_change\"])\n",
    "stocks.head()"
   ]
  },
  {
   "cell_type": "code",
   "execution_count": null,
   "metadata": {},
   "outputs": [],
   "source": [
    "stocks.hvplot(y=[\"diff_pct_change\"],height=500,width=1000)"
   ]
  },
  {
   "cell_type": "code",
   "execution_count": null,
   "metadata": {},
   "outputs": [],
   "source": [
    "stocks[\"diff_pct_change\"].describe()"
   ]
  },
  {
   "cell_type": "code",
   "execution_count": null,
   "metadata": {},
   "outputs": [],
   "source": []
  }
 ],
 "metadata": {
  "accelerator": "GPU",
  "colab": {
   "collapsed_sections": [],
   "name": "pk_lstm_price_GOOG6.ipynb",
   "provenance": []
  },
  "kernelspec": {
   "display_name": "Python 3 (ipykernel)",
   "language": "python",
   "name": "python3"
  },
  "language_info": {
   "codemirror_mode": {
    "name": "ipython",
    "version": 3
   },
   "file_extension": ".py",
   "mimetype": "text/x-python",
   "name": "python",
   "nbconvert_exporter": "python",
   "pygments_lexer": "ipython3",
   "version": "3.7.11"
  }
 },
 "nbformat": 4,
 "nbformat_minor": 4
}
